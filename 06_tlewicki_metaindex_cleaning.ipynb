{
 "cells": [
  {
   "cell_type": "markdown",
   "metadata": {},
   "source": [
    "# Metaindex cleaning\n",
    "\n",
    "This is an itermediate notebook. Full cleaning is at utils/dataset.py"
   ]
  },
  {
   "cell_type": "code",
   "execution_count": 1,
   "metadata": {},
   "outputs": [],
   "source": [
    "import utils.preprocessing \n",
    "import numpy as np"
   ]
  },
  {
   "cell_type": "code",
   "execution_count": 2,
   "metadata": {},
   "outputs": [],
   "source": [
    "df = utils.preprocessing.get_clean_dataframe()"
   ]
  },
  {
   "cell_type": "code",
   "execution_count": 3,
   "metadata": {},
   "outputs": [],
   "source": [
    "# proper typing\n",
    "df = df.astype({\"author\": \"string\", \"language\": \"object\", \"authoryearofbirth\": \"float32\", \"downloads\": \"int32\"})\n",
    "# sort by gut_id\n",
    "df.sort_index(inplace=True)"
   ]
  },
  {
   "cell_type": "markdown",
   "metadata": {},
   "source": [
    "# We need to drop non-english titles"
   ]
  },
  {
   "cell_type": "code",
   "execution_count": 4,
   "metadata": {},
   "outputs": [],
   "source": [
    "df['is_english'] = df.language.apply(lambda x: str(x)).astype('string') == \"['en']\"\n",
    "non_english_idx = df[df['is_english'] == False].index\n",
    "df = df.drop(non_english_idx)"
   ]
  },
  {
   "cell_type": "markdown",
   "metadata": {},
   "source": [
    "# We need to drop 'Various', 'Unknown', 'Anonymous' authors"
   ]
  },
  {
   "cell_type": "code",
   "execution_count": 5,
   "metadata": {},
   "outputs": [],
   "source": [
    "AUTHORS_TO_DROP = ['Various', 'Unknown', 'Anonymous']\n",
    "\n",
    "for a in AUTHORS_TO_DROP:\n",
    "    idx_to_drop = (df[df.author == a]).index\n",
    "    df.drop(idx_to_drop, inplace=True)"
   ]
  },
  {
   "cell_type": "markdown",
   "metadata": {},
   "source": [
    "# Drop all non-text entries (e.g. audio)"
   ]
  },
  {
   "cell_type": "code",
   "execution_count": 6,
   "metadata": {},
   "outputs": [],
   "source": [
    "df = df.drop(df[df.type != 'Text'].index)"
   ]
  },
  {
   "cell_type": "code",
   "execution_count": 7,
   "metadata": {},
   "outputs": [
    {
     "data": {
      "text/plain": [
       "Lytton, Edward Bulwer Lytton, Baron    216\n",
       "Shakespeare, William                   180\n",
       "Ebers, Georg                           164\n",
       "Twain, Mark                            152\n",
       "Parker, Gilbert                        134\n",
       "Kingston, William Henry Giles          133\n",
       "Fenn, George Manville                  128\n",
       "Balzac, Honoré de                      122\n",
       "Meredith, George                       111\n",
       "Jacobs, W. W. (William Wymark)         110\n",
       "Name: author, dtype: Int64"
      ]
     },
     "execution_count": 7,
     "metadata": {},
     "output_type": "execute_result"
    }
   ],
   "source": [
    "df.author.value_counts()[:10]"
   ]
  },
  {
   "cell_type": "code",
   "execution_count": 8,
   "metadata": {},
   "outputs": [
    {
     "data": {
      "text/html": [
       "<div>\n",
       "<style scoped>\n",
       "    .dataframe tbody tr th:only-of-type {\n",
       "        vertical-align: middle;\n",
       "    }\n",
       "\n",
       "    .dataframe tbody tr th {\n",
       "        vertical-align: top;\n",
       "    }\n",
       "\n",
       "    .dataframe thead th {\n",
       "        text-align: right;\n",
       "    }\n",
       "</style>\n",
       "<table border=\"1\" class=\"dataframe\">\n",
       "  <thead>\n",
       "    <tr style=\"text-align: right;\">\n",
       "      <th></th>\n",
       "      <th>author</th>\n",
       "      <th>title</th>\n",
       "      <th>downloads</th>\n",
       "      <th>formats</th>\n",
       "      <th>type</th>\n",
       "      <th>LCC</th>\n",
       "      <th>subjects</th>\n",
       "      <th>authoryearofbirth</th>\n",
       "      <th>authoryearofdeath</th>\n",
       "      <th>language</th>\n",
       "      <th>is_english</th>\n",
       "    </tr>\n",
       "    <tr>\n",
       "      <th>id</th>\n",
       "      <th></th>\n",
       "      <th></th>\n",
       "      <th></th>\n",
       "      <th></th>\n",
       "      <th></th>\n",
       "      <th></th>\n",
       "      <th></th>\n",
       "      <th></th>\n",
       "      <th></th>\n",
       "      <th></th>\n",
       "      <th></th>\n",
       "    </tr>\n",
       "  </thead>\n",
       "  <tbody>\n",
       "    <tr>\n",
       "      <th>1</th>\n",
       "      <td>Jefferson, Thomas</td>\n",
       "      <td>The Declaration of Independence of the United ...</td>\n",
       "      <td>446</td>\n",
       "      <td>{'application/epub+zip': 'https://www.gutenber...</td>\n",
       "      <td>Text</td>\n",
       "      <td>{JK, E201}</td>\n",
       "      <td>{United States -- History -- Revolution, 1775-...</td>\n",
       "      <td>1743.0</td>\n",
       "      <td>1826.0</td>\n",
       "      <td>[en]</td>\n",
       "      <td>True</td>\n",
       "    </tr>\n",
       "    <tr>\n",
       "      <th>1112</th>\n",
       "      <td>Shakespeare, William</td>\n",
       "      <td>The Tragedy of Romeo and Juliet</td>\n",
       "      <td>3526</td>\n",
       "      <td>{'text/plain; charset=us-ascii': 'https://www....</td>\n",
       "      <td>Text</td>\n",
       "      <td>{PR}</td>\n",
       "      <td>{Juliet (Fictitious character) -- Drama, Veron...</td>\n",
       "      <td>1564.0</td>\n",
       "      <td>1616.0</td>\n",
       "      <td>[en]</td>\n",
       "      <td>True</td>\n",
       "    </tr>\n",
       "    <tr>\n",
       "      <th>1213</th>\n",
       "      <td>Twain, Mark</td>\n",
       "      <td>The Man That Corrupted Hadleyburg</td>\n",
       "      <td>697</td>\n",
       "      <td>{'application/x-mobipocket-ebook': 'https://ww...</td>\n",
       "      <td>Text</td>\n",
       "      <td>{PS}</td>\n",
       "      <td>{United States -- Social life and customs -- 1...</td>\n",
       "      <td>1835.0</td>\n",
       "      <td>1910.0</td>\n",
       "      <td>[en]</td>\n",
       "      <td>True</td>\n",
       "    </tr>\n",
       "    <tr>\n",
       "      <th>7849</th>\n",
       "      <td>Kafka, Franz</td>\n",
       "      <td>The Trial</td>\n",
       "      <td>2850</td>\n",
       "      <td>{'application/epub+zip': 'https://www.gutenber...</td>\n",
       "      <td>Text</td>\n",
       "      <td>{PT}</td>\n",
       "      <td>{Social problems -- Fiction}</td>\n",
       "      <td>1883.0</td>\n",
       "      <td>1924.0</td>\n",
       "      <td>[en]</td>\n",
       "      <td>True</td>\n",
       "    </tr>\n",
       "    <tr>\n",
       "      <th>10001</th>\n",
       "      <td>Seneca, Lucius Annaeus</td>\n",
       "      <td>Apocolocyntosis</td>\n",
       "      <td>379</td>\n",
       "      <td>{'application/epub+zip': 'https://www.gutenber...</td>\n",
       "      <td>Text</td>\n",
       "      <td>{PA}</td>\n",
       "      <td>{Claudius, Emperor of Rome, 10 B.C.-54 A.D. --...</td>\n",
       "      <td>NaN</td>\n",
       "      <td>65.0</td>\n",
       "      <td>[en]</td>\n",
       "      <td>True</td>\n",
       "    </tr>\n",
       "    <tr>\n",
       "      <th>22222</th>\n",
       "      <td>Crowther, Mary Owens</td>\n",
       "      <td>How to Write Letters (Formerly The Book of Let...</td>\n",
       "      <td>292</td>\n",
       "      <td>{'text/plain; charset=iso-8859-1': 'http://www...</td>\n",
       "      <td>Text</td>\n",
       "      <td>{PE}</td>\n",
       "      <td>{Etiquette, Letter writing}</td>\n",
       "      <td>NaN</td>\n",
       "      <td>NaN</td>\n",
       "      <td>[en]</td>\n",
       "      <td>True</td>\n",
       "    </tr>\n",
       "    <tr>\n",
       "      <th>33331</th>\n",
       "      <td>Harris, Joseph Theodore</td>\n",
       "      <td>An Example of Communal Currency: The facts abo...</td>\n",
       "      <td>7</td>\n",
       "      <td>{'text/html; charset=iso-8859-1': 'http://www....</td>\n",
       "      <td>Text</td>\n",
       "      <td>{HG}</td>\n",
       "      <td>{Finance -- Guernsey, Paper money -- Guernsey}</td>\n",
       "      <td>NaN</td>\n",
       "      <td>NaN</td>\n",
       "      <td>[en]</td>\n",
       "      <td>True</td>\n",
       "    </tr>\n",
       "  </tbody>\n",
       "</table>\n",
       "</div>"
      ],
      "text/plain": [
       "                        author  \\\n",
       "id                               \n",
       "1            Jefferson, Thomas   \n",
       "1112      Shakespeare, William   \n",
       "1213               Twain, Mark   \n",
       "7849              Kafka, Franz   \n",
       "10001   Seneca, Lucius Annaeus   \n",
       "22222     Crowther, Mary Owens   \n",
       "33331  Harris, Joseph Theodore   \n",
       "\n",
       "                                                   title  downloads  \\\n",
       "id                                                                    \n",
       "1      The Declaration of Independence of the United ...        446   \n",
       "1112                     The Tragedy of Romeo and Juliet       3526   \n",
       "1213                   The Man That Corrupted Hadleyburg        697   \n",
       "7849                                           The Trial       2850   \n",
       "10001                                    Apocolocyntosis        379   \n",
       "22222  How to Write Letters (Formerly The Book of Let...        292   \n",
       "33331  An Example of Communal Currency: The facts abo...          7   \n",
       "\n",
       "                                                 formats  type         LCC  \\\n",
       "id                                                                           \n",
       "1      {'application/epub+zip': 'https://www.gutenber...  Text  {JK, E201}   \n",
       "1112   {'text/plain; charset=us-ascii': 'https://www....  Text        {PR}   \n",
       "1213   {'application/x-mobipocket-ebook': 'https://ww...  Text        {PS}   \n",
       "7849   {'application/epub+zip': 'https://www.gutenber...  Text        {PT}   \n",
       "10001  {'application/epub+zip': 'https://www.gutenber...  Text        {PA}   \n",
       "22222  {'text/plain; charset=iso-8859-1': 'http://www...  Text        {PE}   \n",
       "33331  {'text/html; charset=iso-8859-1': 'http://www....  Text        {HG}   \n",
       "\n",
       "                                                subjects  authoryearofbirth  \\\n",
       "id                                                                            \n",
       "1      {United States -- History -- Revolution, 1775-...             1743.0   \n",
       "1112   {Juliet (Fictitious character) -- Drama, Veron...             1564.0   \n",
       "1213   {United States -- Social life and customs -- 1...             1835.0   \n",
       "7849                        {Social problems -- Fiction}             1883.0   \n",
       "10001  {Claudius, Emperor of Rome, 10 B.C.-54 A.D. --...                NaN   \n",
       "22222                        {Etiquette, Letter writing}                NaN   \n",
       "33331     {Finance -- Guernsey, Paper money -- Guernsey}                NaN   \n",
       "\n",
       "       authoryearofdeath language  is_english  \n",
       "id                                             \n",
       "1                 1826.0     [en]        True  \n",
       "1112              1616.0     [en]        True  \n",
       "1213              1910.0     [en]        True  \n",
       "7849              1924.0     [en]        True  \n",
       "10001               65.0     [en]        True  \n",
       "22222                NaN     [en]        True  \n",
       "33331                NaN     [en]        True  "
      ]
     },
     "execution_count": 8,
     "metadata": {},
     "output_type": "execute_result"
    }
   ],
   "source": [
    "df.loc[[1, 1112, 1213, 7849, 10001, 22222, 33331,],:]"
   ]
  },
  {
   "cell_type": "markdown",
   "metadata": {},
   "source": [
    "# We still have 43k books to choose from!"
   ]
  },
  {
   "cell_type": "code",
   "execution_count": 9,
   "metadata": {},
   "outputs": [
    {
     "data": {
      "text/plain": [
       "Text    43174\n",
       "Name: type, dtype: Int64"
      ]
     },
     "execution_count": 9,
     "metadata": {},
     "output_type": "execute_result"
    }
   ],
   "source": [
    "df.type.value_counts()"
   ]
  }
 ],
 "metadata": {
  "kernelspec": {
   "display_name": "255-data-mining",
   "language": "python",
   "name": "255-data-mining"
  },
  "language_info": {
   "codemirror_mode": {
    "name": "ipython",
    "version": 3
   },
   "file_extension": ".py",
   "mimetype": "text/x-python",
   "name": "python",
   "nbconvert_exporter": "python",
   "pygments_lexer": "ipython3",
   "version": "3.7.7"
  }
 },
 "nbformat": 4,
 "nbformat_minor": 2
}
