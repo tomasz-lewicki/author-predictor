{
 "cells": [
  {
   "cell_type": "code",
   "execution_count": 2,
   "metadata": {},
   "outputs": [],
   "source": [
    "import sklearn\n",
    "import keras\n",
    "import pandas as pd\n",
    "import numpy as np\n",
    "import matplotlib.pyplot as plt\n",
    "\n",
    "from keras import layers\n",
    "from sklearn.feature_extraction.text import TfidfVectorizer, CountVectorizer\n",
    "from sklearn.preprocessing import LabelEncoder\n",
    "from utils.dataset import get_sentences, get_corpora, get_top_author_gut_idx\n",
    "\n",
    "import os\n",
    "os.environ['TF_CPP_MIN_LOG_LEVEL'] = '3' # surpress tensorflow warnings"
   ]
  },
  {
   "cell_type": "markdown",
   "metadata": {},
   "source": [
    "# Acquire the dataset\n",
    "First time this process takes around 10 minutes with fast internet connection.\n",
    "Later the texts are taken from a local mysql cache and the process is much faster (~1m)`"
   ]
  },
  {
   "cell_type": "code",
   "execution_count": 3,
   "metadata": {},
   "outputs": [
    {
     "name": "stdout",
     "output_type": "stream",
     "text": [
      "Book 001 -- Acquiring Following the Equator: A Journey Around the World. Part 3 by Twain, Mark\n",
      "Book 002 -- Acquiring Roughing It, Part 7. by Twain, Mark\n",
      "Book 003 -- Acquiring The Prince and the Pauper, Part 1. by Twain, Mark\n",
      "Book 004 -- Acquiring Sketches New and Old, Part 6. by Twain, Mark\n",
      "Book 005 -- Acquiring Life on the Mississippi, Part 11. by Twain, Mark\n",
      "Book 006 -- Acquiring Eve's Diary, Part 2 by Twain, Mark\n",
      "Book 007 -- Acquiring A Double Barrelled Detective Story by Twain, Mark\n",
      "Book 008 -- Acquiring On the Decay of the Art of Lying by Twain, Mark\n",
      "Book 009 -- Acquiring Fenimore Cooper's Literary Offences by Twain, Mark\n",
      "Book 010 -- Acquiring The Works of Mark Twain: An Index of all Project Gutenberg Editions by Twain, Mark\n",
      "Book 011 -- Acquiring Life on the Mississippi, Part 10. by Twain, Mark\n",
      "Book 012 -- Acquiring Life on the Mississippi, Part 4. by Twain, Mark\n",
      "Book 013 -- Acquiring The Adventures of Tom Sawyer, Part 4. by Twain, Mark\n",
      "Book 014 -- Acquiring Essays on Paul Bourget by Twain, Mark\n",
      "Book 015 -- Acquiring Following the Equator: A Journey Around the World. Part 4 by Twain, Mark\n",
      "Book 016 -- Acquiring Chapters from My Autobiography by Twain, Mark\n",
      "Book 017 -- Acquiring A Tramp Abroad — Volume 07 by Twain, Mark\n",
      "Book 018 -- Acquiring Alonzo Fitz, and Other Stories by Twain, Mark\n",
      "Book 019 -- Acquiring Life on the Mississippi, Part 2. by Twain, Mark\n",
      "Book 020 -- Acquiring A Connecticut Yankee in King Arthur's Court, Part 3. by Twain, Mark\n",
      "Book 021 -- Acquiring A Connecticut Yankee in King Arthur's Court, Part 1. by Twain, Mark\n",
      "Book 022 -- Acquiring Those Extraordinary Twins by Twain, Mark\n",
      "Book 023 -- Acquiring The Innocents Abroad — Volume 04 by Twain, Mark\n",
      "Book 024 -- Acquiring Following the Equator: A Journey Around the World. Part 2 by Twain, Mark\n",
      "Book 025 -- Acquiring A Tramp Abroad — Volume 02 by Twain, Mark\n",
      "Book 026 -- Acquiring Eve's Diary, Part 1 by Twain, Mark\n",
      "Book 027 -- Acquiring 1601: Conversation as it was by the Social Fireside in the Time of the Tudors by Twain, Mark\n",
      "Book 028 -- Acquiring The £1,000,000 bank-note, and other new stories by Twain, Mark\n",
      "Book 029 -- Acquiring The Adventures of Tom Sawyer, Part 8. by Twain, Mark\n",
      "Book 030 -- Acquiring Mark Twain's Letters — Volume 4 (1886-1900) by Twain, Mark\n",
      "Book 031 -- Acquiring Moments with Mark Twain by Twain, Mark\n",
      "Book 032 -- Acquiring The Facts Concerning the Recent Carnival of Crime in Connecticut by Twain, Mark\n",
      "Book 033 -- Acquiring The Innocents Abroad by Twain, Mark\n",
      "Book 034 -- Acquiring Quotations from the Project Gutenberg Editions of the Works of Mark Twain by Twain, Mark\n",
      "Book 035 -- Acquiring The Gilded Age, Part 6. by Twain, Mark\n",
      "Book 036 -- Acquiring Life on the Mississippi by Twain, Mark\n",
      "Book 037 -- Acquiring Life on the Mississippi, Part 3. by Twain, Mark\n",
      "Book 038 -- Acquiring A Connecticut Yankee in King Arthur's Court, Part 2. by Twain, Mark\n",
      "Book 039 -- Acquiring The Innocents Abroad — Volume 03 by Twain, Mark\n",
      "Book 040 -- Acquiring The Stolen White Elephant by Twain, Mark\n",
      "Book 041 -- Acquiring Roughing It, Part 8. by Twain, Mark\n",
      "Book 042 -- Acquiring Life on the Mississippi, Part 1. by Twain, Mark\n",
      "Book 043 -- Acquiring The Man That Corrupted Hadleyburg by Twain, Mark\n",
      "Book 044 -- Acquiring The Mysterious Stranger, and Other Stories by Twain, Mark\n",
      "Book 045 -- Acquiring Mark Twain's Letters — Complete (1853-1910) by Twain, Mark\n",
      "Book 046 -- Acquiring Eve's Diary, Part 3 by Twain, Mark\n",
      "Book 047 -- Acquiring The Adventures of Tom Sawyer, Part 6. by Twain, Mark\n",
      "Book 048 -- Acquiring Following the Equator: A Journey Around the World by Twain, Mark\n",
      "Book 049 -- Acquiring Is Shakespeare Dead?: From My Autobiography by Twain, Mark\n",
      "Book 050 -- Acquiring The Adventures of Tom Sawyer by Twain, Mark\n",
      "Book 051 -- Acquiring Adventures of Huckleberry Finn, Chapters 36 to the Last by Twain, Mark\n",
      "Book 052 -- Acquiring Carnac's Folly, Volume 1. by Parker, Gilbert\n",
      "Book 053 -- Acquiring The Battle of the Strong: A Romance of Two Kingdoms — Volume 6 by Parker, Gilbert\n",
      "Book 054 -- Acquiring A Lover's Diary, Volume 2. by Parker, Gilbert\n",
      "Book 055 -- Acquiring Northern Lights, Volume 2. by Parker, Gilbert\n",
      "Book 056 -- Acquiring The Translation of a Savage, Volume 1 by Parker, Gilbert\n",
      "Book 057 -- Acquiring The Seats of the Mighty, Complete by Parker, Gilbert\n",
      "Book 058 -- Acquiring A Romany of the Snows, vol. 1: Being a Continuation of the Personal Histories of \"Pierre and His People\" and the Last Existing Records of Pretty Pierre by Parker, Gilbert\n",
      "Book 059 -- Acquiring The Money Master, Volume 4. by Parker, Gilbert\n",
      "Book 060 -- Acquiring Embers, Volume 2. by Parker, Gilbert\n",
      "Book 061 -- Acquiring Embers, Volume 3. by Parker, Gilbert\n",
      "Book 062 -- Acquiring The Translation of a Savage, Volume 3 by Parker, Gilbert\n",
      "Book 063 -- Acquiring The Trail of the Sword, Volume 4 by Parker, Gilbert\n",
      "Book 064 -- Acquiring Cumner's Son and Other South Sea Folk — Volume 01 by Parker, Gilbert\n",
      "Book 065 -- Acquiring The Pomp of the Lavilettes, Volume 2 by Parker, Gilbert\n",
      "Book 066 -- Acquiring Parables of a Province by Parker, Gilbert\n",
      "Book 067 -- Acquiring Cumner's Son and Other South Sea Folk — Volume 05 by Parker, Gilbert\n",
      "Book 068 -- Acquiring Michel and Angele [A Ladder of Swords] — Volume 3 by Parker, Gilbert\n",
      "Book 069 -- Acquiring The Judgment House by Parker, Gilbert\n",
      "Book 070 -- Acquiring The Battle of the Strong: A Romance of Two Kingdoms — Volume 4 by Parker, Gilbert\n",
      "Book 071 -- Acquiring The Weavers: a tale of England and Egypt of fifty years ago - Volume 6 by Parker, Gilbert\n",
      "Book 072 -- Acquiring Michel and Angele [A Ladder of Swords] — Complete by Parker, Gilbert\n",
      "Book 073 -- Acquiring Mrs. Falchion, Complete by Parker, Gilbert\n",
      "Book 074 -- Acquiring A Romany of the Snows, vol. 5: Being a Continuation of the Personal Histories of \"Pierre and His People\" and the Last Existing Records of Pretty Pierre by Parker, Gilbert\n",
      "Book 075 -- Acquiring Northern Lights, Volume 1. by Parker, Gilbert\n",
      "Book 076 -- Acquiring Pierre and His People: Tales of the Far North. Volume 5. by Parker, Gilbert\n",
      "Book 077 -- Acquiring The Money Master, Volume 5. by Parker, Gilbert\n",
      "Book 078 -- Acquiring The Translation of a Savage, Complete by Parker, Gilbert\n",
      "Book 079 -- Acquiring Pierre and His People: Tales of the Far North. Complete by Parker, Gilbert\n",
      "Book 080 -- Acquiring The Trespasser, Volume 2 by Parker, Gilbert\n",
      "Book 081 -- Acquiring The Weavers: a tale of England and Egypt of fifty years ago - Volume 2 by Parker, Gilbert\n",
      "Book 082 -- Acquiring Wild Youth, Complete by Parker, Gilbert\n",
      "Book 083 -- Acquiring No Defense, Volume 3. by Parker, Gilbert\n",
      "Book 084 -- Acquiring When Valmond Came to Pontiac: The Story of a Lost Napoleon. Complete by Parker, Gilbert\n",
      "Book 085 -- Acquiring An Unpardonable Liar by Parker, Gilbert\n",
      "Book 086 -- Acquiring The Battle of the Strong: A Romance of Two Kingdoms — Complete by Parker, Gilbert\n",
      "Book 087 -- Acquiring The Seats of the Mighty, Volume 1 by Parker, Gilbert\n",
      "Book 088 -- Acquiring Mrs. Falchion, Volume 1. by Parker, Gilbert\n",
      "Book 089 -- Acquiring The Seats of the Mighty, Volume 2 by Parker, Gilbert\n",
      "Book 090 -- Acquiring You Never Know Your Luck; being the story of a matrimonial deserter. Volume 2. by Parker, Gilbert\n",
      "Book 091 -- Acquiring No Defense, Volume 2. by Parker, Gilbert\n",
      "Book 092 -- Acquiring A Romany of the Snows, vol. 4: Being a Continuation of the Personal Histories of \"Pierre and His People\" and the Last Existing Records of Pretty Pierre by Parker, Gilbert\n",
      "Book 093 -- Acquiring Michel and Angele [A Ladder of Swords] — Volume 1 by Parker, Gilbert\n",
      "Book 094 -- Acquiring John Enderby by Parker, Gilbert\n",
      "Book 095 -- Acquiring Northern Lights, Volume 5. by Parker, Gilbert\n",
      "Book 096 -- Acquiring You Never Know Your Luck; being the story of a matrimonial deserter. Complete by Parker, Gilbert\n",
      "Book 097 -- Acquiring The Lane That Had No Turning, Volume 1 by Parker, Gilbert\n",
      "Book 098 -- Acquiring Quotations from the PG Collected Works of Gilbert Parker by Parker, Gilbert\n",
      "Book 099 -- Acquiring Cumner's Son and Other South Sea Folk — Volume 04 by Parker, Gilbert\n",
      "Book 100 -- Acquiring You Never Know Your Luck; being the story of a matrimonial deserter. Volume 3. by Parker, Gilbert\n",
      "Book 101 -- Acquiring The Battle of the Strong: A Romance of Two Kingdoms — Volume 5 by Parker, Gilbert\n",
      "Book 102 -- Acquiring Pierre and His People: Tales of the Far North. Volume 4. by Parker, Gilbert\n",
      "Book 103 -- Acquiring When Valmond Came to Pontiac: The Story of a Lost Napoleon. Volume 1. by Parker, Gilbert\n",
      "Book 104 -- Acquiring The Lane That Had No Turning, Volume 2 by Parker, Gilbert\n",
      "Book 105 -- Acquiring Mrs. Falchion, Volume 2. by Parker, Gilbert\n"
     ]
    },
    {
     "name": "stdout",
     "output_type": "stream",
     "text": [
      "Book 106 -- Acquiring The Right of Way — Volume 05 by Parker, Gilbert\n",
      "Book 107 -- Acquiring Cumner's Son and Other South Sea Folk — Volume 02 by Parker, Gilbert\n",
      "Book 108 -- Acquiring Carnac's Folly, Volume 3. by Parker, Gilbert\n",
      "Book 109 -- Acquiring The Battle of the Strong: A Romance of Two Kingdoms — Volume 2 by Parker, Gilbert\n",
      "Book 110 -- Acquiring Leila or, the Siege of Granada, Book V. by Lytton, Edward Bulwer Lytton, Baron\n",
      "Book 111 -- Acquiring Alice, or the Mysteries — Book 10 by Lytton, Edward Bulwer Lytton, Baron\n",
      "Book 112 -- Acquiring \"My Novel\" — Volume 11 by Lytton, Edward Bulwer Lytton, Baron\n",
      "Book 113 -- Acquiring Godolphin, Volume 2. by Lytton, Edward Bulwer Lytton, Baron\n",
      "Book 114 -- Acquiring The Caxtons: A Family Picture — Volume 02 by Lytton, Edward Bulwer Lytton, Baron\n",
      "Book 115 -- Acquiring Harold : the Last of the Saxon Kings — Complete by Lytton, Edward Bulwer Lytton, Baron\n",
      "Book 116 -- Acquiring Godolphin, Complete by Lytton, Edward Bulwer Lytton, Baron\n",
      "Book 117 -- Acquiring Ernest Maltravers — Volume 07 by Lytton, Edward Bulwer Lytton, Baron\n",
      "Book 118 -- Acquiring Alice, or the Mysteries — Book 02 by Lytton, Edward Bulwer Lytton, Baron\n",
      "Book 119 -- Acquiring \"My Novel\" — Volume 12 by Lytton, Edward Bulwer Lytton, Baron\n",
      "Book 120 -- Acquiring Paul Clifford — Volume 06 by Lytton, Edward Bulwer Lytton, Baron\n",
      "Book 121 -- Acquiring The Caxtons: A Family Picture — Volume 17 by Lytton, Edward Bulwer Lytton, Baron\n",
      "Book 122 -- Acquiring The Fallen Star, or, the History of a False Religion by E.L. Bulwer; And, A Dissertation on the Origin of Evil by Lord Brougham by Lytton, Edward Bulwer Lytton, Baron\n",
      "Book 123 -- Acquiring Athens: Its Rise and Fall, Book II by Lytton, Edward Bulwer Lytton, Baron\n",
      "Book 124 -- Acquiring Ernest Maltravers — Volume 01 by Lytton, Edward Bulwer Lytton, Baron\n",
      "Book 125 -- Acquiring Godolphin, Volume 1. by Lytton, Edward Bulwer Lytton, Baron\n",
      "Book 126 -- Acquiring The Parisians — Volume 10 by Lytton, Edward Bulwer Lytton, Baron\n",
      "Book 127 -- Acquiring The Caxtons: A Family Picture — Volume 05 by Lytton, Edward Bulwer Lytton, Baron\n",
      "Book 128 -- Acquiring Paul Clifford — Volume 01 by Lytton, Edward Bulwer Lytton, Baron\n",
      "Book 129 -- Acquiring The Disowned — Complete by Lytton, Edward Bulwer Lytton, Baron\n",
      "Book 130 -- Acquiring Falkland, Book 4. by Lytton, Edward Bulwer Lytton, Baron\n",
      "Book 131 -- Acquiring The Last of the Barons — Volume 02 by Lytton, Edward Bulwer Lytton, Baron\n",
      "Book 132 -- Acquiring Kenelm Chillingly — Volume 03 by Lytton, Edward Bulwer Lytton, Baron\n",
      "Book 133 -- Acquiring The Caxtons: A Family Picture — Volume 12 by Lytton, Edward Bulwer Lytton, Baron\n",
      "Book 134 -- Acquiring Harold : the Last of the Saxon Kings — Volume 06 by Lytton, Edward Bulwer Lytton, Baron\n",
      "Book 135 -- Acquiring The Last of the Barons — Volume 06 by Lytton, Edward Bulwer Lytton, Baron\n",
      "Book 136 -- Acquiring Paul Clifford — Complete by Lytton, Edward Bulwer Lytton, Baron\n",
      "Book 137 -- Acquiring The Caxtons: A Family Picture — Volume 03 by Lytton, Edward Bulwer Lytton, Baron\n",
      "Book 138 -- Acquiring Pelham — Volume 04 by Lytton, Edward Bulwer Lytton, Baron\n",
      "Book 139 -- Acquiring Leila or, the Siege of Granada, Book III. by Lytton, Edward Bulwer Lytton, Baron\n",
      "Book 140 -- Acquiring Harold : the Last of the Saxon Kings — Volume 10 by Lytton, Edward Bulwer Lytton, Baron\n",
      "Book 141 -- Acquiring Devereux — Volume 05 by Lytton, Edward Bulwer Lytton, Baron\n",
      "Book 142 -- Acquiring Lucretia — Volume 01 by Lytton, Edward Bulwer Lytton, Baron\n",
      "Book 143 -- Acquiring Night and Morning, Volume 2 by Lytton, Edward Bulwer Lytton, Baron\n",
      "Book 144 -- Acquiring A Strange Story — Volume 06 by Lytton, Edward Bulwer Lytton, Baron\n",
      "Book 145 -- Acquiring \"My Novel\" — Volume 01 by Lytton, Edward Bulwer Lytton, Baron\n",
      "Book 146 -- Acquiring Ernest Maltravers — Volume 09 by Lytton, Edward Bulwer Lytton, Baron\n",
      "Book 147 -- Acquiring \"My Novel\" — Volume 08 by Lytton, Edward Bulwer Lytton, Baron\n",
      "Book 148 -- Acquiring Lucretia — Complete by Lytton, Edward Bulwer Lytton, Baron\n",
      "Book 149 -- Acquiring What Will He Do with It? — Complete by Lytton, Edward Bulwer Lytton, Baron\n",
      "Book 150 -- Acquiring A Young Hero by Fenn, George Manville\n",
      "Book 151 -- Acquiring Quicksilver: The Boy With No Skid to His Wheel by Fenn, George Manville\n",
      "Book 152 -- Acquiring Featherland: How the Birds lived at Greenlawn by Fenn, George Manville\n",
      "Book 153 -- Acquiring Menhardoc by Fenn, George Manville\n",
      "Book 154 -- Acquiring The Man with a Shadow by Fenn, George Manville\n",
      "Book 155 -- Acquiring Son Philip by Fenn, George Manville\n",
      "Book 156 -- Acquiring The Queen's Scarlet: The Adventures and Misadventures of Sir Richard Frayne by Fenn, George Manville\n",
      "Book 157 -- Acquiring Cursed by a Fortune by Fenn, George Manville\n",
      "Book 158 -- Acquiring Fix Bay'nets: The Regiment in the Hills by Fenn, George Manville\n",
      "Book 159 -- Acquiring A Life's Eclipse by Fenn, George Manville\n",
      "Book 160 -- Acquiring A Little World by Fenn, George Manville\n",
      "Book 161 -- Acquiring The Lost Middy: Being the Secret of the Smugglers' Gap by Fenn, George Manville\n",
      "Book 162 -- Acquiring In the King's Name: The Cruise of the \"Kestrel\" by Fenn, George Manville\n",
      "Book 163 -- Acquiring Burr Junior by Fenn, George Manville\n",
      "Book 164 -- Acquiring The Khedive's Country by Fenn, George Manville\n",
      "Book 165 -- Acquiring The Haute Noblesse: A Novel by Fenn, George Manville\n",
      "Book 166 -- Acquiring Off to the Wilds: Being the Adventures of Two Brothers by Fenn, George Manville\n",
      "Book 167 -- Acquiring Hunting the Skipper: The Cruise of the \"Seafowl\" Sloop by Fenn, George Manville\n",
      "Book 168 -- Acquiring Nurse Elisia by Fenn, George Manville\n",
      "Book 169 -- Acquiring Sir Hilton's Sin by Fenn, George Manville\n",
      "Book 170 -- Acquiring Fitz the Filibuster by Fenn, George Manville\n",
      "Book 171 -- Acquiring Bunyip Land: A Story of Adventure in New Guinea by Fenn, George Manville\n",
      "Book 172 -- Acquiring The Country Doctor by Balzac, Honoré de\n",
      "Book 173 -- Acquiring Gaudissart II by Balzac, Honoré de\n",
      "Book 174 -- Acquiring Modeste Mignon by Balzac, Honoré de\n",
      "Book 175 -- Acquiring Christ in Flanders by Balzac, Honoré de\n",
      "Book 176 -- Acquiring Ursula by Balzac, Honoré de\n",
      "Book 177 -- Acquiring The Alkahest by Balzac, Honoré de\n",
      "Book 178 -- Acquiring Scenes from a Courtesan's Life by Balzac, Honoré de\n",
      "Book 179 -- Acquiring The Physiology of Marriage, Part 1 by Balzac, Honoré de\n",
      "Book 180 -- Acquiring Mercadet: A Comedy in Three Acts by Balzac, Honoré de\n",
      "Book 181 -- Acquiring Petty Troubles of Married Life, Complete by Balzac, Honoré de\n",
      "Book 182 -- Acquiring The Lily of the Valley by Balzac, Honoré de\n",
      "Book 183 -- Acquiring The Napoleon of the People by Balzac, Honoré de\n",
      "Book 184 -- Acquiring The Firm of Nucingen by Balzac, Honoré de\n",
      "Book 185 -- Acquiring Letters of Two Brides by Balzac, Honoré de\n",
      "Book 186 -- Acquiring The Physiology of Marriage, Part 2 by Balzac, Honoré de\n",
      "Book 187 -- Acquiring The Ball at Sceaux by Balzac, Honoré de\n",
      "Book 188 -- Acquiring A Man of Business by Balzac, Honoré de\n",
      "Book 189 -- Acquiring The Physiology of Marriage, Complete by Balzac, Honoré de\n",
      "Book 190 -- Acquiring The Resources of Quinola: A Comedy in a Prologue and Five Acts by Balzac, Honoré de\n",
      "Book 191 -- Acquiring The Message by Balzac, Honoré de\n",
      "Book 192 -- Acquiring A Start in Life by Balzac, Honoré de\n",
      "Book 193 -- Acquiring The Illustrious Gaudissart by Balzac, Honoré de\n",
      "Book 194 -- Acquiring Pierrette by Balzac, Honoré de\n",
      "Book 195 -- Acquiring The Unknown Masterpiece: 1845 by Balzac, Honoré de\n",
      "Book 196 -- Acquiring The Two Brothers by Balzac, Honoré de\n",
      "Book 197 -- Acquiring The Hated Son by Balzac, Honoré de\n",
      "Book 198 -- Acquiring Honoré de Balzac by Balzac, Honoré de\n",
      "Book 199 -- Acquiring A Woman of Thirty by Balzac, Honoré de\n",
      "Book 200 -- Acquiring Seraphita by Balzac, Honoré de\n",
      "Book 201 -- Acquiring Droll Stories — Volume 3 by Balzac, Honoré de\n",
      "Book 202 -- Acquiring The Magic Skin by Balzac, Honoré de\n",
      "Book 203 -- Acquiring Bureaucracy by Balzac, Honoré de\n",
      "Book 204 -- Acquiring Diary of Samuel Pepys — Volume 68: September/October 1668 by Pepys, Samuel\n",
      "Book 205 -- Acquiring The Diary of Samuel Pepys by Pepys, Samuel\n",
      "Book 206 -- Acquiring Diary of Samuel Pepys — Volume 23: July/August 1663 by Pepys, Samuel\n",
      "Book 207 -- Acquiring Diary of Samuel Pepys — Complete 1662 N.S. by Pepys, Samuel\n",
      "Book 208 -- Acquiring Diary of Samuel Pepys — Volume 11: June/July/August 1661 by Pepys, Samuel\n",
      "Book 209 -- Acquiring Diary of Samuel Pepys — Volume 60: December 1667 by Pepys, Samuel\n",
      "Book 210 -- Acquiring Diary of Samuel Pepys — Volume 09: January/February/March 1660-61 by Pepys, Samuel\n"
     ]
    },
    {
     "name": "stdout",
     "output_type": "stream",
     "text": [
      "Book 211 -- Acquiring Diary of Samuel Pepys — Volume 16: May/June 1662 by Pepys, Samuel\n",
      "Book 212 -- Acquiring Diary of Samuel Pepys — Volume 04: March/April 1659-1660 by Pepys, Samuel\n",
      "Book 213 -- Acquiring Diary of Samuel Pepys — Complete 1667 N.S. by Pepys, Samuel\n",
      "Book 214 -- Acquiring The Diary of Samuel Pepys — Complete by Pepys, Samuel\n",
      "Book 215 -- Acquiring A Cousin's Conspiracy; Or, A Boy's Struggle for an Inheritance by Alger, Horatio, Jr.\n",
      "Book 216 -- Acquiring Charlie Codman's Cruise: A Story for Boys by Alger, Horatio, Jr.\n",
      "Book 217 -- Acquiring Luck and Pluck; or, John Oakley's Inheritance by Alger, Horatio, Jr.\n",
      "Book 218 -- Acquiring Driven from Home; Or, Carl Crawford's Experience by Alger, Horatio, Jr.\n",
      "Book 219 -- Acquiring A Boy's Fortune; Or, The Strange Adventures of Ben Baker by Alger, Horatio, Jr.\n",
      "Book 220 -- Acquiring Index of the Project Gutenberg Works of Horatio Alger, Jr. by Alger, Horatio, Jr.\n",
      "Book 221 -- Acquiring Brave and Bold; Or, The Fortunes of Robert Rushton by Alger, Horatio, Jr.\n",
      "Book 222 -- Acquiring Andy Gordon; Or, The Fortunes of A Young Janitor by Alger, Horatio, Jr.\n",
      "Book 223 -- Acquiring Grand'ther Baldwin's Thanksgiving, with Other Ballads and Poems by Alger, Horatio, Jr.\n",
      "Book 224 -- Acquiring The Store Boy by Alger, Horatio, Jr.\n",
      "Book 225 -- Acquiring Chester Rand; or, The New Path to Fortune by Alger, Horatio, Jr.\n",
      "Book 226 -- Acquiring The Tin Box, and What it Contained by Alger, Horatio, Jr.\n",
      "Book 227 -- Acquiring Adrift in the City; or, Oliver Conrad's Plucky Fight by Alger, Horatio, Jr.\n",
      "Book 228 -- Acquiring Bound to Rise; Or, Up the Ladder by Alger, Horatio, Jr.\n",
      "Book 229 -- Acquiring Dean Dunham; Or, the Waterford Mystery by Alger, Horatio, Jr.\n",
      "Book 230 -- Acquiring Joe's Luck; Or, Always Wide Awake by Alger, Horatio, Jr.\n",
      "Book 231 -- Acquiring The Young Explorer; Or, Claiming His Fortune by Alger, Horatio, Jr.\n",
      "Book 232 -- Acquiring Ben, the Luggage Boy; Or, Among the Wharves by Alger, Horatio, Jr.\n",
      "Book 233 -- Acquiring Five Hundred Dollars; or, Jacob Marlowe's Secret by Alger, Horatio, Jr.\n",
      "Book 234 -- Acquiring The Erie Train Boy by Alger, Horatio, Jr.\n",
      "Book 235 -- Acquiring Ben Bruce: Scenes in the Life of a Bowery Newsboy by Alger, Horatio, Jr.\n",
      "Book 236 -- Acquiring From Farm Boy to Senator: Being the History of the Boyhood and Manhood of Daniel Webster by Alger, Horatio, Jr.\n",
      "Book 237 -- Acquiring Ben's Nugget; Or, A Boy's Search For Fortune by Alger, Horatio, Jr.\n",
      "Book 238 -- Acquiring The Train Boy by Alger, Horatio, Jr.\n",
      "Book 239 -- Acquiring A Debt of Honor: The Story of Gerald Lane's Success in the Far West by Alger, Horatio, Jr.\n",
      "Book 240 -- Acquiring Strong and Steady; Or, Paddle Your Own Canoe by Alger, Horatio, Jr.\n",
      "Book 241 -- Acquiring The Young Acrobat of the Great North American Circus by Alger, Horatio, Jr.\n",
      "Book 242 -- Acquiring The Errand Boy; Or, How Phil Brent Won Success by Alger, Horatio, Jr.\n",
      "Book 243 -- Acquiring Cast Upon the Breakers by Alger, Horatio, Jr.\n",
      "Book 244 -- Acquiring Adrift in New York: Tom and Florence Braving the World by Alger, Horatio, Jr.\n",
      "Book 245 -- Acquiring Hector's Inheritance, Or, the Boys of Smith Institute by Alger, Horatio, Jr.\n",
      "Book 246 -- Acquiring Frank and Fearless; or, The Fortunes of Jasper Kent by Alger, Horatio, Jr.\n",
      "Book 247 -- Acquiring Phil, the Fiddler by Alger, Horatio, Jr.\n",
      "Book 248 -- Acquiring Strive and Succeed; or, The Progress of Walter Conrad by Alger, Horatio, Jr.\n",
      "Book 249 -- Acquiring In A New World; or, Among The Gold Fields Of Australia by Alger, Horatio, Jr.\n",
      "Book 250 -- Acquiring Bertha's Christmas Vision: An Autumn Sheaf by Alger, Horatio, Jr.\n",
      "Book 251 -- Acquiring Making His Way; Or, Frank Courtney's Struggle Upward by Alger, Horatio, Jr.\n",
      "Book 252 -- Acquiring Struggling Upward, or Luke Larkin's Luck by Alger, Horatio, Jr.\n",
      "Book 253 -- Acquiring A Foregone Conclusion by Howells, William Dean\n",
      "Book 254 -- Acquiring The Coast of Bohemia by Howells, William Dean\n",
      "Book 255 -- Acquiring A Little Swiss Sojourn by Howells, William Dean\n",
      "Book 256 -- Acquiring My Year in a Log Cabin by Howells, William Dean\n",
      "Book 257 -- Acquiring Annie Kilburn : a Novel by Howells, William Dean\n",
      "Book 258 -- Acquiring The Elevator by Howells, William Dean\n",
      "Book 259 -- Acquiring A Hazard of New Fortunes — Volume 1 by Howells, William Dean\n",
      "Book 260 -- Acquiring A Hazard of New Fortunes — Volume 4 by Howells, William Dean\n",
      "Book 261 -- Acquiring The Albany Depot : a Farce by Howells, William Dean\n",
      "Book 262 -- Acquiring Christmas Every Day and Other Stories by Howells, William Dean\n",
      "Book 263 -- Acquiring Spanish Prisoners of War (from Literature and Life) by Howells, William Dean\n",
      "Book 264 -- Acquiring My Literary Passions by Howells, William Dean\n",
      "Book 265 -- Acquiring Between the Dark and the Daylight by Howells, William Dean\n",
      "Book 266 -- Acquiring Years of My Youth by Howells, William Dean\n",
      "Book 267 -- Acquiring A Boy's Town by Howells, William Dean\n",
      "Book 268 -- Acquiring Complete Project Gutenberg William Dean Howells Works by Howells, William Dean\n",
      "Book 269 -- Acquiring The Register by Howells, William Dean\n",
      "Book 270 -- Acquiring A Confession of St. Augustine by Howells, William Dean\n",
      "Book 271 -- Acquiring A Belated Guest (from Literary Friends and Acquaintance) by Howells, William Dean\n",
      "Book 272 -- Acquiring Staccato Notes of a Vanished Summer (from Literature and Life) by Howells, William Dean\n",
      "Book 273 -- Acquiring Buying a Horse by Howells, William Dean\n",
      "Book 274 -- Acquiring Mrs. Farrell by Howells, William Dean\n",
      "Book 275 -- Acquiring My First Visit to New England, and Others (from Literary Friends and Acquaintance) by Howells, William Dean\n",
      "Book 276 -- Acquiring The Kentons by Howells, William Dean\n",
      "Book 277 -- Acquiring The Quality of Mercy by Howells, William Dean\n",
      "Book 278 -- Acquiring A Hazard of New Fortunes — Volume 2 by Howells, William Dean\n",
      "Book 279 -- Acquiring The Standard Household-Effect Company (from Literature and Life) by Howells, William Dean\n",
      "Book 280 -- Acquiring Ragged Lady — Complete by Howells, William Dean\n",
      "Book 281 -- Acquiring Five O'Clock Tea: Farce by Howells, William Dean\n",
      "Book 282 -- Acquiring Their Silver Wedding Journey — Complete by Howells, William Dean\n",
      "Book 283 -- Acquiring Their Silver Wedding Journey — Volume 2 by Howells, William Dean\n",
      "Book 284 -- Acquiring The Man of Letters as a Man of Business by Howells, William Dean\n",
      "Book 285 -- Acquiring The Flight of Pony Baker: A Boy's Town Story by Howells, William Dean\n",
      "Book 286 -- Acquiring Literature and Life (Complete) by Howells, William Dean\n",
      "Book 287 -- Acquiring Roman Holidays, and Others by Howells, William Dean\n",
      "Book 288 -- Acquiring Dr. Breen's Practice by Howells, William Dean\n",
      "Book 289 -- Acquiring The Landlord at Lion's Head — Volume 2 by Howells, William Dean\n",
      "Book 290 -- Acquiring A Pair of Patient Lovers by Howells, William Dean\n",
      "Book 291 -- Acquiring A Traveler from Altruria: Romance by Howells, William Dean\n",
      "Book 292 -- Acquiring Stepping Backwards: Night Watches, Part 5. by Jacobs, W. W. (William Wymark)\n",
      "Book 293 -- Acquiring The Old Man of the Sea: Ship's Company, Part 11. by Jacobs, W. W. (William Wymark)\n",
      "Book 294 -- Acquiring Watch-Dogs: Ship's Company, Part 5. by Jacobs, W. W. (William Wymark)\n",
      "Book 295 -- Acquiring Night Watches: Complete Series by Jacobs, W. W. (William Wymark)\n",
      "Book 296 -- Acquiring The Well: The Lady of the Barge and Others, Part 4. by Jacobs, W. W. (William Wymark)\n",
      "Book 297 -- Acquiring A Tiger's Skin: The Lady of the Barge and Others, Part 8. by Jacobs, W. W. (William Wymark)\n",
      "Book 298 -- Acquiring At Sunwich Port, Part 5.: Contents: Chapters 21-25 by Jacobs, W. W. (William Wymark)\n",
      "Book 299 -- Acquiring Made to Measure: Deep Waters, Part 3. by Jacobs, W. W. (William Wymark)\n",
      "Book 300 -- Acquiring The Third String: Odd Craft, Part 12. by Jacobs, W. W. (William Wymark)\n",
      "Book 301 -- Acquiring Manners Makyth Man: Ship's Company, Part 12. by Jacobs, W. W. (William Wymark)\n",
      "Book 302 -- Acquiring The Three Sisters: Night Watches, Part 6. by Jacobs, W. W. (William Wymark)\n",
      "Book 303 -- Acquiring The Unknown: Night Watches, Part 7. by Jacobs, W. W. (William Wymark)\n",
      "Book 304 -- Acquiring Fine Feathers: Ship's Company, Part 1. by Jacobs, W. W. (William Wymark)\n",
      "Book 305 -- Acquiring The Vigil: Night Watches, Part 8. by Jacobs, W. W. (William Wymark)\n",
      "Book 306 -- Acquiring Odd Man Out: Sailor's Knots, Part 6. by Jacobs, W. W. (William Wymark)\n",
      "Book 307 -- Acquiring An Adulteration Act: The Lady of the Barge and Others, Part 10. by Jacobs, W. W. (William Wymark)\n"
     ]
    },
    {
     "name": "stdout",
     "output_type": "stream",
     "text": [
      "Book 308 -- Acquiring Dialstone Lane, Part 2. by Jacobs, W. W. (William Wymark)\n",
      "Book 309 -- Acquiring Three at Table: The Lady of the Barge and Others, Part 12. by Jacobs, W. W. (William Wymark)\n",
      "Book 310 -- Acquiring Many Cargoes by Jacobs, W. W. (William Wymark)\n",
      "Book 311 -- Acquiring Captains All and Others by Jacobs, W. W. (William Wymark)\n",
      "Book 312 -- Acquiring Ship's Company, the Entire Collection by Jacobs, W. W. (William Wymark)\n",
      "Book 313 -- Acquiring Bob's Redemption: Captains All, Book 5. by Jacobs, W. W. (William Wymark)\n",
      "Book 314 -- Acquiring Cupboard Love: The Lady of the Barge and Others, Part 5. by Jacobs, W. W. (William Wymark)\n",
      "Book 315 -- Acquiring At Sunwich Port, Part 1.: Contents: Chapters 1-5 by Jacobs, W. W. (William Wymark)\n",
      "Book 316 -- Acquiring Prize Money: Sailor's Knots, Part 10. by Jacobs, W. W. (William Wymark)\n",
      "Book 317 -- Acquiring At Sunwich Port, Complete by Jacobs, W. W. (William Wymark)\n",
      "Book 318 -- Acquiring The Convert: Deep Waters, Part 5. by Jacobs, W. W. (William Wymark)\n",
      "Book 319 -- Acquiring The Understudy: Night Watches, Part 3. by Jacobs, W. W. (William Wymark)\n",
      "Book 320 -- Acquiring Self-Help: Sailor's Knots, Part 3. by Jacobs, W. W. (William Wymark)\n",
      "Book 321 -- Acquiring Paying Off: Deep Waters, Part 2. by Jacobs, W. W. (William Wymark)\n",
      "Book 322 -- Acquiring Lawyer Quince: Odd Craft, Part 5. by Jacobs, W. W. (William Wymark)\n",
      "Book 323 -- Acquiring Breaking a Spell: Odd Craft, Part 6. by Jacobs, W. W. (William Wymark)\n",
      "Book 324 -- Acquiring For Better or Worse: Ship's Company, Part 10. by Jacobs, W. W. (William Wymark)\n",
      "Book 325 -- Acquiring The Boatswain's Mate: Captains All, Book 2. by Jacobs, W. W. (William Wymark)\n",
      "Book 326 -- Acquiring Dialstone Lane, Part 1. by Jacobs, W. W. (William Wymark)\n",
      "Book 327 -- Acquiring A Mixed Proposal: The Lady of the Barge and Others, Part 9. by Jacobs, W. W. (William Wymark)\n",
      "Book 328 -- Acquiring At Sunwich Port, Part 3.: Contents: Chapters 11-15 by Jacobs, W. W. (William Wymark)\n",
      "Book 329 -- Acquiring The Madness of Mr. Lister: Captains All, Book 9. by Jacobs, W. W. (William Wymark)\n",
      "Book 330 -- Acquiring The Bequest: Ship's Company, Part 6. by Jacobs, W. W. (William Wymark)\n",
      "Book 331 -- Acquiring Dirty Work: Deep Waters, Part 11. by Jacobs, W. W. (William Wymark)\n",
      "Book 332 -- Acquiring The Monkey's Paw: The Lady of the Barge and Others, Part 2. by Jacobs, W. W. (William Wymark)\n",
      "Book 333 -- Acquiring The Temptation of Samuel Burge: Captains All, Book 8. by Jacobs, W. W. (William Wymark)\n",
      "Book 334 -- Acquiring The Constable's Move: Captains All, Book 4. by Jacobs, W. W. (William Wymark)\n",
      "Book 335 -- Acquiring Sentence Deferred: Sailor's Knots, Part 4. by Jacobs, W. W. (William Wymark)\n",
      "Book 336 -- Acquiring Salthaven by Jacobs, W. W. (William Wymark)\n",
      "Book 337 -- Acquiring The Nest Egg: Captains All, Book 3. by Jacobs, W. W. (William Wymark)\n",
      "Book 338 -- Acquiring Captain Rogers: The Lady of the Barge and Others, Part 7. by Jacobs, W. W. (William Wymark)\n",
      "Book 339 -- Acquiring Dual Control: Ship's Company, Part 8. by Jacobs, W. W. (William Wymark)\n",
      "Book 340 -- Acquiring Shareholders: Deep Waters, Part 1. by Jacobs, W. W. (William Wymark)\n",
      "Book 341 -- Acquiring In the Library: The Lady of the Barge and Others, Part 6. by Jacobs, W. W. (William Wymark)\n",
      "Book 342 -- Acquiring The Lady of the Barge and Others, Entire Collection by Jacobs, W. W. (William Wymark)\n",
      "Book 343 -- Acquiring At Sunwich Port, Part 2.: Contents: Chapters 6-10 by Jacobs, W. W. (William Wymark)\n",
      "Book 344 -- Acquiring The Toll-House: Sailor's Knots, Part 7. by Jacobs, W. W. (William Wymark)\n",
      "Book 345 -- Acquiring Bill's Lapse: Odd Craft, Part 4. by Jacobs, W. W. (William Wymark)\n",
      "Book 346 -- Acquiring The Persecution of Bob Pretty: Odd Craft, Part 9. by Jacobs, W. W. (William Wymark)\n",
      "Book 347 -- Acquiring Sailors' Knots (Entire Collection) by Jacobs, W. W. (William Wymark)\n",
      "Book 348 -- Acquiring Skilled Assistance: Ship's Company, Part 9. by Jacobs, W. W. (William Wymark)\n",
      "Book 349 -- Acquiring Short Cruises by Jacobs, W. W. (William Wymark)\n",
      "Book 350 -- Acquiring Family Cares: Deep Waters, Part 7. by Jacobs, W. W. (William Wymark)\n",
      "Book 351 -- Acquiring Deserted: Sailor's Knots, Part 1. by Jacobs, W. W. (William Wymark)\n",
      "Book 352 -- Acquiring The Weaker Vessel: Night Watches, Part 4. by Jacobs, W. W. (William Wymark)\n",
      "Book 353 -- Acquiring Keeping Up Appearances: Sailor's Knots, Part 12. by Jacobs, W. W. (William Wymark)\n",
      "Book 354 -- Acquiring Fairy Gold: Ship's Company, Part 4. by Jacobs, W. W. (William Wymark)\n",
      "Book 355 -- Acquiring Matrimonial Openings: Sailor's Knots, Part 5. by Jacobs, W. W. (William Wymark)\n",
      "Book 356 -- Acquiring Four Pigeons: Captains All, Book 7. by Jacobs, W. W. (William Wymark)\n",
      "Book 357 -- Acquiring The Money Box: Odd Craft, Part 1. by Jacobs, W. W. (William Wymark)\n",
      "Book 358 -- Acquiring The Guardian Angel: Ship's Company, Part 7. by Jacobs, W. W. (William Wymark)\n",
      "Book 359 -- Acquiring Sea Urchins by Jacobs, W. W. (William Wymark)\n",
      "Book 360 -- Acquiring A Spirit of Avarice: Odd Craft, Part 11. by Jacobs, W. W. (William Wymark)\n",
      "Book 361 -- Acquiring Establishing Relations: Odd Craft, Part 7. by Jacobs, W. W. (William Wymark)\n",
      "Book 362 -- Acquiring Deep Waters, the Entire Collection by Jacobs, W. W. (William Wymark)\n",
      "Book 363 -- Acquiring Bedridden and the Winter Offensive: Deep Waters, Part 8. by Jacobs, W. W. (William Wymark)\n",
      "Book 364 -- Acquiring Admiral Peters: Odd Craft, Part 14. by Jacobs, W. W. (William Wymark)\n",
      "Book 365 -- Acquiring Sam's Ghost: Deep Waters, Part 4. by Jacobs, W. W. (William Wymark)\n",
      "Book 366 -- Acquiring His Other Self: Night Watches, Part 10. by Jacobs, W. W. (William Wymark)\n",
      "Book 367 -- Acquiring The Lady of the Barge: The Lady of the Barge and Others, Part 1. by Jacobs, W. W. (William Wymark)\n",
      "Book 368 -- Acquiring More Cargoes: 1897 by Jacobs, W. W. (William Wymark)\n",
      "Book 369 -- Acquiring The Skipper's Wooing, and The Brown Man's Servant by Jacobs, W. W. (William Wymark)\n",
      "Book 370 -- Acquiring The White Cat: Captains All, Book 10. by Jacobs, W. W. (William Wymark)\n",
      "Book 371 -- Acquiring Dialstone Lane, Part 4. by Jacobs, W. W. (William Wymark)\n",
      "Book 372 -- Acquiring Husbandry: Deep Waters, Part 6. by Jacobs, W. W. (William Wymark)\n",
      "Book 373 -- Acquiring Dixon's Return: Odd Craft, Part 10. by Jacobs, W. W. (William Wymark)\n",
      "Book 374 -- Acquiring Dialstone Lane, Part 3. by Jacobs, W. W. (William Wymark)\n",
      "Book 375 -- Acquiring Keeping Watch: Night Watches, Part 2. by Jacobs, W. W. (William Wymark)\n",
      "Book 376 -- Acquiring Captains All: Captains All, Part 1. by Jacobs, W. W. (William Wymark)\n",
      "Book 377 -- Acquiring A Master Of Craft by Jacobs, W. W. (William Wymark)\n",
      "Book 378 -- Acquiring Dialstone Lane, Part 5. by Jacobs, W. W. (William Wymark)\n",
      "Book 379 -- Acquiring Bill's Paper Chase: Lady of the Barge and Others, Part 3. by Jacobs, W. W. (William Wymark)\n",
      "Book 380 -- Acquiring Stories of W.W. Jacobs: An Index to All Volumes and Stories by Jacobs, W. W. (William Wymark)\n",
      "Book 381 -- Acquiring Over the Side: Captains All, Book 6. by Jacobs, W. W. (William Wymark)\n",
      "Book 382 -- Acquiring At Sunwich Port, Part 4.: Contents: Chapters 16-20 by Jacobs, W. W. (William Wymark)\n",
      "Book 383 -- Acquiring Odd Charges: Odd Craft, Part 13. by Jacobs, W. W. (William Wymark)\n",
      "Book 384 -- Acquiring Friends in Need: Ship's Company, Part 2. by Jacobs, W. W. (William Wymark)\n",
      "Book 385 -- Acquiring Striking Hard: Deep Waters, Part 10. by Jacobs, W. W. (William Wymark)\n",
      "Book 386 -- Acquiring The Head of the Family: Sailor's Knots, Part 9. by Jacobs, W. W. (William Wymark)\n",
      "Book 387 -- Acquiring Good Intentions: Ship's Company, Part 3. by Jacobs, W. W. (William Wymark)\n",
      "Book 388 -- Acquiring Double Dealing: Sailor's Knots, Part 11. by Jacobs, W. W. (William Wymark)\n",
      "Book 389 -- Acquiring Blundell's Improvement: Odd Craft, Part 3. by Jacobs, W. W. (William Wymark)\n",
      "Book 390 -- Acquiring Odd Craft, Complete by Jacobs, W. W. (William Wymark)\n",
      "Book 391 -- Acquiring Back to Back: Night Watches, Part 1. by Jacobs, W. W. (William Wymark)\n",
      "Book 392 -- Acquiring The Castaway: Odd Craft, Part 2. by Jacobs, W. W. (William Wymark)\n",
      "Book 393 -- Acquiring Easy Money: Night Watches, Part 9. by Jacobs, W. W. (William Wymark)\n",
      "Book 394 -- Acquiring Short Cruises by Jacobs, W. W. (William Wymark)\n",
      "Book 395 -- Acquiring Peter's Pence: Sailor's Knots, Part 8. by Jacobs, W. W. (William Wymark)\n",
      "Book 396 -- Acquiring Dialstone Lane, Complete by Jacobs, W. W. (William Wymark)\n"
     ]
    },
    {
     "name": "stdout",
     "output_type": "stream",
     "text": [
      "Book 397 -- Acquiring A Golden Venture: The Lady of the Barge and Others, Part 11. by Jacobs, W. W. (William Wymark)\n",
      "Book 398 -- Acquiring Homeward Bound: Sailor's Knots, Part 2. by Jacobs, W. W. (William Wymark)\n",
      "Book 399 -- Acquiring The Changing Numbers: Odd Craft, Part 8. by Jacobs, W. W. (William Wymark)\n",
      "Book 400 -- Acquiring The Substitute: Deep Waters, Part 9. by Jacobs, W. W. (William Wymark)\n",
      "Book 401 -- Acquiring Light Freights by Jacobs, W. W. (William Wymark)\n",
      "Book 402 -- Acquiring Prayers Written At Vailima, and A Lowden Sabbath Morn by Stevenson, Robert Louis\n",
      "Book 403 -- Acquiring The Wrecker by Stevenson, Robert Louis\n",
      "Book 404 -- Acquiring A Footnote to History: Eight Years of Trouble in Samoa by Stevenson, Robert Louis\n",
      "Book 405 -- Acquiring The Works of Robert Louis Stevenson - Swanston Edition, Vol. 09 by Stevenson, Robert Louis\n",
      "Book 406 -- Acquiring A Child's Garden of Verses by Stevenson, Robert Louis\n",
      "Book 407 -- Acquiring Kidnapped by Stevenson, Robert Louis\n",
      "Book 408 -- Acquiring The Pocket R.L.S.: Being Favourite Passages from the Works of Stevenson by Stevenson, Robert Louis\n",
      "Book 409 -- Acquiring Father Damien: An Open Letter to the Reverend Dr. Hyde of Honolulu by Stevenson, Robert Louis\n",
      "Book 410 -- Acquiring David Balfour: Being Memoirs Of His Adventures At Home And Abroad, The Second Part: In Which Are Set Forth His Misfortunes Anent The Appin Murder; His Troubles With Lord Advocate Grant; Captivity On The Bass Rock; Journey Into Holland And France; And Singular Relations With James More Drummond Or Macgregor, A Son Of The Notorious Rob Roy, And His Daughter Catriona by Stevenson, Robert Louis\n",
      "Book 411 -- Acquiring The Sea Fogs by Stevenson, Robert Louis\n",
      "Book 412 -- Acquiring The Strange Case of Dr. Jekyll and Mr. Hyde by Stevenson, Robert Louis\n",
      "Book 413 -- Acquiring Songs of Travel, and Other Verses by Stevenson, Robert Louis\n",
      "Book 414 -- Acquiring Virginibus Puerisque, and Other Papers by Stevenson, Robert Louis\n",
      "Book 415 -- Acquiring Catriona by Stevenson, Robert Louis\n",
      "Book 416 -- Acquiring New Poems, and Variant Readings by Stevenson, Robert Louis\n",
      "Book 417 -- Acquiring The Silverado Squatters by Stevenson, Robert Louis\n",
      "Book 418 -- Acquiring The Works of Robert Louis Stevenson - Swanston Edition, Vol. 23 by Stevenson, Robert Louis\n",
      "Book 419 -- Acquiring The Letters of Robert Louis Stevenson — Volume 2 by Stevenson, Robert Louis\n",
      "Book 420 -- Acquiring Vailima Letters: Being Correspondence Addressed by Robert Louis Stevenson to Sidney Colvin, November 1890-October 1894 by Stevenson, Robert Louis\n",
      "Book 421 -- Acquiring Index of the Project Gutenberg works of Robert Louis Stevenson by Stevenson, Robert Louis\n",
      "Book 422 -- Acquiring A Child's Garden of Verses by Stevenson, Robert Louis\n",
      "Book 423 -- Acquiring The Works of Robert Louis Stevenson - Swanston Edition, Vol. 07 by Stevenson, Robert Louis\n",
      "Book 424 -- Acquiring The Works of Robert Louis Stevenson - Swanston Edition, Vol. 24 by Stevenson, Robert Louis\n",
      "Book 425 -- Acquiring The Works of Robert Louis Stevenson - Swanston Edition, Vol. 03 by Stevenson, Robert Louis\n",
      "Book 426 -- Acquiring The Works of Robert Louis Stevenson - Swanston Edition, Vol. 01 by Stevenson, Robert Louis\n",
      "Book 427 -- Acquiring Essays in the Art of Writing by Stevenson, Robert Louis\n",
      "Book 428 -- Acquiring A Christmas Sermon by Stevenson, Robert Louis\n",
      "Book 429 -- Acquiring The Works of Robert Louis Stevenson - Swanston Edition, Vol. 18 by Stevenson, Robert Louis\n",
      "Book 430 -- Acquiring The Works of Robert Louis Stevenson - Swanston Edition, Vol. 20 by Stevenson, Robert Louis\n",
      "Book 431 -- Acquiring Martin Rattler by Ballantyne, R. M. (Robert Michael)\n",
      "Book 432 -- Acquiring The Dog Crusoe and his Master by Ballantyne, R. M. (Robert Michael)\n",
      "Book 433 -- Acquiring The Wild Man of the West: A Tale of the Rocky Mountains by Ballantyne, R. M. (Robert Michael)\n",
      "Book 434 -- Acquiring Silver Lake by Ballantyne, R. M. (Robert Michael)\n",
      "Book 435 -- Acquiring The Buffalo Runners: A Tale of the Red River Plains by Ballantyne, R. M. (Robert Michael)\n",
      "Book 436 -- Acquiring The Lively Poll: A Tale of the North Sea by Ballantyne, R. M. (Robert Michael)\n",
      "Book 437 -- Acquiring My Doggie and I by Ballantyne, R. M. (Robert Michael)\n",
      "Book 438 -- Acquiring Erling the Bold by Ballantyne, R. M. (Robert Michael)\n",
      "Book 439 -- Acquiring The Prairie Chief by Ballantyne, R. M. (Robert Michael)\n",
      "Book 440 -- Acquiring The Dog Crusoe and His Master: A Story of Adventure in the Western Prairies by Ballantyne, R. M. (Robert Michael)\n",
      "Book 441 -- Acquiring The Battery and the Boiler: Adventures in Laying of Submarine Electric Cables by Ballantyne, R. M. (Robert Michael)\n",
      "Book 442 -- Acquiring The Cannibal Islands: Captain Cook's Adventure in the South Seas by Ballantyne, R. M. (Robert Michael)\n",
      "Book 443 -- Acquiring The Floating Light of the Goodwin Sands by Ballantyne, R. M. (Robert Michael)\n",
      "Book 444 -- Acquiring The World of Ice by Ballantyne, R. M. (Robert Michael)\n",
      "Book 445 -- Acquiring Fort Desolation: Red Indians and Fur Traders of Rupert's Land by Ballantyne, R. M. (Robert Michael)\n",
      "Book 446 -- Acquiring Blown to Bits; or, The Lonely Man of Rakata by Ballantyne, R. M. (Robert Michael)\n",
      "Book 447 -- Acquiring Ungava by Ballantyne, R. M. (Robert Michael)\n",
      "Book 448 -- Acquiring Red Rooney: The Last of the Crew by Ballantyne, R. M. (Robert Michael)\n",
      "Book 449 -- Acquiring Fast in the Ice: Adventures in the Polar Regions by Ballantyne, R. M. (Robert Michael)\n",
      "Book 450 -- Acquiring Chasing the Sun by Ballantyne, R. M. (Robert Michael)\n",
      "Book 451 -- Acquiring The Garret and the Garden; Or, Low Life High Up by Ballantyne, R. M. (Robert Michael)\n",
      "Book 452 -- Acquiring Hudson Bay by Ballantyne, R. M. (Robert Michael)\n",
      "Book 453 -- Acquiring Philosopher Jack by Ballantyne, R. M. (Robert Michael)\n",
      "Book 454 -- Acquiring The Rover of the Andes: A Tale of Adventure on South America by Ballantyne, R. M. (Robert Michael)\n",
      "Book 455 -- Acquiring Digging for Gold: Adventures in California by Ballantyne, R. M. (Robert Michael)\n",
      "Book 456 -- Acquiring The Big Otter by Ballantyne, R. M. (Robert Michael)\n",
      "Book 457 -- Acquiring Post Haste by Ballantyne, R. M. (Robert Michael)\n",
      "Book 458 -- Acquiring The Ladies Lindores, Vol. 1 (of 3) by Oliphant, Mrs. (Margaret)\n",
      "Book 459 -- Acquiring A House in Bloomsbury by Oliphant, Mrs. (Margaret)\n",
      "Book 460 -- Acquiring Madam: A Novel by Oliphant, Mrs. (Margaret)\n",
      "Book 461 -- Acquiring The Laird of Norlaw; A Scottish Story by Oliphant, Mrs. (Margaret)\n",
      "Book 462 -- Acquiring The Cuckoo in the Nest, v. 1/2 by Oliphant, Mrs. (Margaret)\n",
      "Book 463 -- Acquiring Joyce by Oliphant, Mrs. (Margaret)\n",
      "Book 464 -- Acquiring The Story of a Governess by Oliphant, Mrs. (Margaret)\n",
      "Book 465 -- Acquiring The Cuckoo in the Nest, v. 2/2 by Oliphant, Mrs. (Margaret)\n",
      "Book 466 -- Acquiring The Marriage of Elinor by Oliphant, Mrs. (Margaret)\n",
      "Book 467 -- Acquiring Old Lady Mary: A Story of the Seen and the Unseen by Oliphant, Mrs. (Margaret)\n",
      "Book 468 -- Acquiring Salem Chapel, v. 2/2 by Oliphant, Mrs. (Margaret)\n",
      "Book 469 -- Acquiring The Ladies Lindores, Vol. 2 (of 3) by Oliphant, Mrs. (Margaret)\n",
      "Book 470 -- Acquiring The Son of His Father; vol. 1/3 by Oliphant, Mrs. (Margaret)\n",
      "Book 471 -- Acquiring A House Divided Against Itself; vol. 2 of 3 by Oliphant, Mrs. (Margaret)\n",
      "Book 472 -- Acquiring The Three Brothers; Complete by Oliphant, Mrs. (Margaret)\n",
      "Book 473 -- Acquiring A Beleaguered City: Being a Narrative of Certain Recent Events in the City of Semur, in the Department of the Haute Bourgogne. A Story of the Seen and the Unseen by Oliphant, Mrs. (Margaret)\n",
      "Book 474 -- Acquiring The Story of Valentine and His Brother by Oliphant, Mrs. (Margaret)\n",
      "Book 475 -- Acquiring A Word, Only a Word — Volume 03 by Ebers, Georg\n",
      "Book 476 -- Acquiring Margery (Gred): A Tale Of Old Nuremberg — Volume 03 by Ebers, Georg\n",
      "Book 477 -- Acquiring Barbara Blomberg — Volume 10 by Ebers, Georg\n",
      "Book 478 -- Acquiring The Emperor — Complete by Ebers, Georg\n",
      "Book 479 -- Acquiring A Thorny Path — Volume 05 by Ebers, Georg\n",
      "Book 480 -- Acquiring Joshua — Volume 1 by Ebers, Georg\n",
      "Book 481 -- Acquiring The Story of My Life — Volume 04 by Ebers, Georg\n",
      "Book 482 -- Acquiring The Emperor — Volume 07 by Ebers, Georg\n",
      "Book 483 -- Acquiring A Thorny Path — Volume 11 by Ebers, Georg\n",
      "Book 484 -- Acquiring In the Blue Pike — Volume 01 by Ebers, Georg\n",
      "Book 485 -- Acquiring An Egyptian Princess — Volume 08 by Ebers, Georg\n",
      "Book 486 -- Acquiring The Bride of the Nile — Volume 08 by Ebers, Georg\n"
     ]
    },
    {
     "name": "stdout",
     "output_type": "stream",
     "text": [
      "Book 487 -- Acquiring An Egyptian Princess — Volume 04 by Ebers, Georg\n",
      "Book 488 -- Acquiring Serapis — Volume 05 by Ebers, Georg\n",
      "Book 489 -- Acquiring The Sisters — Volume 2 by Ebers, Georg\n",
      "Book 490 -- Acquiring Joshua — Volume 2 by Ebers, Georg\n",
      "Book 491 -- Acquiring Barbara Blomberg — Complete by Ebers, Georg\n",
      "Book 492 -- Acquiring In the Fire of the Forge: A Romance of Old Nuremberg — Volume 02 by Ebers, Georg\n",
      "Book 493 -- Acquiring The Nuts: A Christmas Story for my Children and Grandchildren by Ebers, Georg\n",
      "Book 494 -- Acquiring An Egyptian Princess — Volume 05 by Ebers, Georg\n",
      "Book 495 -- Acquiring Arachne — Volume 07 by Ebers, Georg\n",
      "Book 496 -- Acquiring An Egyptian Princess — Volume 07 by Ebers, Georg\n",
      "Book 497 -- Acquiring An Egyptian Princess — Volume 01 by Ebers, Georg\n",
      "Book 498 -- Acquiring Uarda : a Romance of Ancient Egypt — Volume 09 by Ebers, Georg\n",
      "Book 499 -- Acquiring Joshua — Volume 3 by Ebers, Georg\n",
      "Book 500 -- Acquiring The Story of My Life — Volume 02 by Ebers, Georg\n",
      "Book 501 -- Acquiring A Thorny Path — Volume 08 by Ebers, Georg\n",
      "Book 502 -- Acquiring Homo Sum — Volume 01 by Ebers, Georg\n",
      "Book 503 -- Acquiring A Word, Only a Word — Volume 02 by Ebers, Georg\n",
      "Book 504 -- Acquiring The Story of My Life — Complete by Ebers, Georg\n",
      "Book 505 -- Acquiring The Burgomaster's Wife — Volume 01 by Ebers, Georg\n",
      "Book 506 -- Acquiring The Bride of the Nile — Volume 01 by Ebers, Georg\n",
      "Book 507 -- Acquiring Homo Sum — Volume 05 by Ebers, Georg\n",
      "Book 508 -- Acquiring The Bride of the Nile — Volume 07 by Ebers, Georg\n",
      "Book 509 -- Acquiring Uarda : a Romance of Ancient Egypt — Volume 02 by Ebers, Georg\n",
      "Book 510 -- Acquiring A Thorny Path — Volume 04 by Ebers, Georg\n",
      "Book 511 -- Acquiring The Emperor — Volume 01 by Ebers, Georg\n",
      "Book 512 -- Acquiring Cleopatra — Volume 08 by Ebers, Georg\n",
      "Book 513 -- Acquiring Arachne — Volume 01 by Ebers, Georg\n",
      "Book 514 -- Acquiring The Complete Short Works of Georg Ebers by Ebers, Georg\n",
      "Book 515 -- Acquiring The Sisters — Volume 4 by Ebers, Georg\n",
      "Book 516 -- Acquiring The Burgomaster's Wife — Volume 03 by Ebers, Georg\n",
      "Book 517 -- Acquiring Margery (Gred): A Tale Of Old Nuremberg — Volume 05 by Ebers, Georg\n",
      "Book 518 -- Acquiring A Thorny Path — Volume 03 by Ebers, Georg\n",
      "Book 519 -- Acquiring A Word, Only a Word — Volume 01 by Ebers, Georg\n",
      "Book 520 -- Acquiring Cleopatra — Volume 02 by Ebers, Georg\n",
      "Book 521 -- Acquiring The Bride of the Nile — Volume 05 by Ebers, Georg\n",
      "Book 522 -- Acquiring An Egyptian Princess — Complete by Ebers, Georg\n",
      "Book 523 -- Acquiring Barbara Blomberg — Volume 05 by Ebers, Georg\n",
      "Book 524 -- Acquiring Serapis — Volume 06 by Ebers, Georg\n",
      "Book 525 -- Acquiring A Thorny Path — Volume 07 by Ebers, Georg\n",
      "Book 526 -- Acquiring Uarda : a Romance of Ancient Egypt — Complete by Ebers, Georg\n",
      "Book 527 -- Acquiring Serapis — Volume 04 by Ebers, Georg\n",
      "Book 528 -- Acquiring One of Our Conquerors — Volume 1 by Meredith, George\n",
      "Book 529 -- Acquiring The Shaving of Shagpat; an Arabian entertainment — Volume 3 by Meredith, George\n",
      "Book 530 -- Acquiring Poems — Volume 3 by Meredith, George\n",
      "Book 531 -- Acquiring Lord Ormont and His Aminta — Volume 1 by Meredith, George\n",
      "Book 532 -- Acquiring Beauchamp's Career — Volume 5 by Meredith, George\n",
      "Book 533 -- Acquiring The Tragic Comedians: A Study in a Well-known Story — Volume 1 by Meredith, George\n",
      "Book 534 -- Acquiring Rhoda Fleming — Volume 3 by Meredith, George\n",
      "Book 535 -- Acquiring Vittoria — Volume 4 by Meredith, George\n",
      "Book 536 -- Acquiring Celt and Saxon — Volume 1 by Meredith, George\n",
      "Book 537 -- Acquiring The Shaving of Shagpat; an Arabian entertainment — Volume 4 by Meredith, George\n",
      "Book 538 -- Acquiring One of Our Conquerors — Volume 2 by Meredith, George\n",
      "Book 539 -- Acquiring One of Our Conquerors — Volume 3 by Meredith, George\n",
      "Book 540 -- Acquiring A Reading of Life, with Other Poems by Meredith, George\n",
      "Book 541 -- Acquiring One of Our Conquerors — Volume 4 by Meredith, George\n",
      "Book 542 -- Acquiring The Ordeal of Richard Feverel — Volume 6 by Meredith, George\n",
      "Book 543 -- Acquiring The Tragic Comedians: A Study in a Well-known Story — Volume 3 by Meredith, George\n",
      "Book 544 -- Acquiring The Adventures of Harry Richmond — Volume 6 by Meredith, George\n",
      "Book 545 -- Acquiring Diana of the Crossways — Volume 1 by Meredith, George\n",
      "Book 546 -- Acquiring Quotations from the Project Gutenberg Editions of the Collected Works of George Meredith by Meredith, George\n",
      "Book 547 -- Acquiring Vittoria — Volume 1 by Meredith, George\n",
      "Book 548 -- Acquiring The Shaving of Shagpat; an Arabian entertainment — Complete by Meredith, George\n",
      "Book 549 -- Acquiring Evan Harrington — Volume 3 by Meredith, George\n",
      "Book 550 -- Acquiring Beauchamp's Career — Volume 6 by Meredith, George\n",
      "Book 551 -- Acquiring Sandra Belloni — Volume 7 by Meredith, George\n",
      "Book 552 -- Acquiring Sandra Belloni — Volume 3 by Meredith, George\n",
      "Book 553 -- Acquiring Rhoda Fleming — Volume 4 by Meredith, George\n",
      "Book 554 -- Acquiring Vittoria — Volume 6 by Meredith, George\n",
      "Book 555 -- Acquiring Diana of the Crossways — Volume 5 by Meredith, George\n",
      "Book 556 -- Acquiring The Ordeal of Richard Feverel — Volume 3 by Meredith, George\n",
      "Book 557 -- Acquiring Vittoria — Volume 3 by Meredith, George\n",
      "Book 558 -- Acquiring Lord Ormont and His Aminta — Complete by Meredith, George\n",
      "Book 559 -- Acquiring The Amazing Marriage — Volume 1 by Meredith, George\n",
      "Book 560 -- Acquiring The Shaving of Shagpat; an Arabian entertainment — Volume 2 by Meredith, George\n",
      "Book 561 -- Acquiring Rhoda Fleming — Complete by Meredith, George\n",
      "Book 562 -- Acquiring The Adventures of Harry Richmond — Volume 5 by Meredith, George\n",
      "Book 563 -- Acquiring The Tragic Comedians: A Study in a Well-known Story — Volume 2 by Meredith, George\n",
      "Book 564 -- Acquiring Rhoda Fleming — Volume 1 by Meredith, George\n",
      "Book 565 -- Acquiring Evan Harrington — Volume 7 by Meredith, George\n",
      "Book 566 -- Acquiring The Egoist: A Comedy in Narrative by Meredith, George\n",
      "Book 567 -- Acquiring The Adventures of Harry Richmond — Volume 3 by Meredith, George\n",
      "Book 568 -- Acquiring Beauchamp's Career — Volume 3 by Meredith, George\n",
      "Book 569 -- Acquiring Evan Harrington — Volume 6 by Meredith, George\n",
      "Book 570 -- Acquiring Evan Harrington — Volume 2 by Meredith, George\n",
      "Book 571 -- Acquiring The Ordeal of Richard Feverel — Volume 4 by Meredith, George\n",
      "Book 572 -- Acquiring The Sentimentalists by Meredith, George\n",
      "Book 573 -- Acquiring Evan Harrington — Volume 1 by Meredith, George\n",
      "Book 574 -- Acquiring Beauchamp's Career — Complete by Meredith, George\n",
      "Book 575 -- Acquiring Little Daffydowndilly: (From: \"The Snow Image and Other Twice-Told Tales\") by Hawthorne, Nathaniel\n",
      "Book 576 -- Acquiring John Inglefield's Thanksgiving: (From: \"The Snow Image and Other Twice-Told Tales\") by Hawthorne, Nathaniel\n",
      "Book 577 -- Acquiring A Bell's Biography by Hawthorne, Nathaniel\n",
      "Book 578 -- Acquiring The Miraculous Pitcher: (From: \"A Wonder-Book for Girls and Boys\") by Hawthorne, Nathaniel\n",
      "Book 579 -- Acquiring Passages from the American Notebooks, Volume 2. by Hawthorne, Nathaniel\n",
      "Book 580 -- Acquiring The Wives of the Dead: (From: \"The Snow Image and Other Twice-Told Tales\") by Hawthorne, Nathaniel\n",
      "Book 581 -- Acquiring Sketches from Memory (From \"Mosses from an Old Manse\") by Hawthorne, Nathaniel\n",
      "Book 582 -- Acquiring The Toll Gatherer's Day (From \"Twice Told Tales\") by Hawthorne, Nathaniel\n",
      "Book 583 -- Acquiring Twice Told Tales by Hawthorne, Nathaniel\n",
      "Book 584 -- Acquiring The Scarlet Letter by Hawthorne, Nathaniel\n",
      "Book 585 -- Acquiring The Christmas Banquet (From \"Mosses from an Old Manse\") by Hawthorne, Nathaniel\n",
      "Book 586 -- Acquiring Passages from the French and Italian Notebooks, Volume 2. by Hawthorne, Nathaniel\n",
      "Book 587 -- Acquiring The Snow Image by Hawthorne, Nathaniel\n",
      "Book 588 -- Acquiring The Blithedale Romance by Hawthorne, Nathaniel\n",
      "Book 589 -- Acquiring Passages from the French and Italian Notebooks, Complete by Hawthorne, Nathaniel\n",
      "Book 590 -- Acquiring Passages from the English Notebooks, Volume 1. by Hawthorne, Nathaniel\n",
      "Book 591 -- Acquiring Our Old Home, Vol. 2: Annotated with Passages from the Author's Notebook by Hawthorne, Nathaniel\n",
      "Book 592 -- Acquiring The Dolliver Romance by Hawthorne, Nathaniel\n",
      "Book 593 -- Acquiring The Lily's Quest (From \"Twice Told Tales\") by Hawthorne, Nathaniel\n",
      "Book 594 -- Acquiring Dr. Bullivant: (From: \"The Doliver Romance and Other Pieces: Tales and Sketches\") by Hawthorne, Nathaniel\n",
      "Book 595 -- Acquiring The Prophetic Pictures (From \"Twice Told Tales\") by Hawthorne, Nathaniel\n",
      "Book 596 -- Acquiring Earth's Holocaust (From \"Mosses from an Old Manse\") by Hawthorne, Nathaniel\n",
      "Book 597 -- Acquiring Love Letters of Nathaniel Hawthorne, Volume 2 (of 2) by Hawthorne, Nathaniel\n",
      "Book 598 -- Acquiring Passages from a Relinquished Work (From \"Mosses from an Old Manse\") by Hawthorne, Nathaniel\n",
      "Book 599 -- Acquiring Time's Portraiture: (From: \"The Doliver Romance and Other Pieces: Tales and Sketches\") by Hawthorne, Nathaniel\n",
      "Book 600 -- Acquiring A Wonder Book for Girls & Boys by Hawthorne, Nathaniel\n"
     ]
    },
    {
     "name": "stdout",
     "output_type": "stream",
     "text": [
      "Book 601 -- Acquiring A Rill from the Town Pump by Hawthorne, Nathaniel\n",
      "Book 602 -- Acquiring A Wonder Book and Tanglewood Tales, for Girls and Boys by Hawthorne, Nathaniel\n",
      "Book 603 -- Acquiring The Haunted Mind (From \"Twice Told Tales\") by Hawthorne, Nathaniel\n",
      "Book 604 -- Acquiring Edward Fane's Rosebud (From \"Twice Told Tales\") by Hawthorne, Nathaniel\n",
      "Book 605 -- Acquiring Passages from the English Notebooks, Complete by Hawthorne, Nathaniel\n",
      "Book 606 -- Acquiring Main Street: (From: \"The Snow Image and Other Twice-Told Tales\") by Hawthorne, Nathaniel\n",
      "Book 607 -- Acquiring The Old Apple Dealer (From \"Mosses from an Old Manse\") by Hawthorne, Nathaniel\n",
      "Book 608 -- Acquiring The Marble Faun; Or, The Romance of Monte Beni - Volume 1 by Hawthorne, Nathaniel\n",
      "Book 609 -- Acquiring Fancy's Show-Box (From \"Twice Told Tales\") by Hawthorne, Nathaniel\n",
      "Book 610 -- Acquiring The Seven Vagabonds (From \"Twice Told Tales\") by Hawthorne, Nathaniel\n",
      "Book 611 -- Acquiring Sketches and Studies by Hawthorne, Nathaniel\n",
      "Book 612 -- Acquiring Twice-Told Tales by Hawthorne, Nathaniel\n",
      "Book 613 -- Acquiring The Sister Years (From \"Twice Told Tales\") by Hawthorne, Nathaniel\n",
      "Book 614 -- Acquiring Our Old Home: A Series of English Sketches by Hawthorne, Nathaniel\n",
      "Book 615 -- Acquiring The Scarlet Letter by Hawthorne, Nathaniel\n",
      "Book 616 -- Acquiring Sunday Under Three Heads by Dickens, Charles\n",
      "Book 617 -- Acquiring Bleak House by Dickens, Charles\n",
      "Book 618 -- Acquiring Dombey and Son by Dickens, Charles\n",
      "Book 619 -- Acquiring Captain Boldheart & the Latin-Grammar Master: A Holiday Romance from the Pen of Lieut-Col. Robin Redforth, aged 9 by Dickens, Charles\n",
      "Book 620 -- Acquiring Mrs. Lirriper's Legacy by Dickens, Charles\n",
      "Book 621 -- Acquiring Nicholas Nickleby by Dickens, Charles\n",
      "Book 622 -- Acquiring Mrs. Lirriper's Lodgings by Dickens, Charles\n",
      "Book 623 -- Acquiring A Christmas Carol by Dickens, Charles\n",
      "Book 624 -- Acquiring Great Expectations by Dickens, Charles\n",
      "Book 625 -- Acquiring Holiday Romance by Dickens, Charles\n",
      "Book 626 -- Acquiring Oliver Twist; or, The Parish Boy's Progress. Illustrated by Dickens, Charles\n",
      "Book 627 -- Acquiring Pearl-Fishing; Choice Stories from Dickens' Household Words; First Series by Dickens, Charles\n",
      "Book 628 -- Acquiring \"Old Scrooge\": A Christmas Carol in Five Staves.: Dramatized from Charles Dickens' Celebrated Christmas Story. by Dickens, Charles\n",
      "Book 629 -- Acquiring Our Mutual Friend by Dickens, Charles\n",
      "Book 630 -- Acquiring The Rise of the Dutch Republic — Volume 28: 1578, part II by Motley, John Lothrop\n",
      "Book 631 -- Acquiring History of the United Netherlands, 1595 by Motley, John Lothrop\n",
      "Book 632 -- Acquiring History of the United Netherlands, 1590b by Motley, John Lothrop\n",
      "Book 633 -- Acquiring History of the United Netherlands from the Death of William the Silent to the Twelve Year's Truce — Complete (1584-86) by Motley, John Lothrop\n",
      "Book 634 -- Acquiring History of the United Netherlands from the Death of William the Silent to the Twelve Year's Truce, 1585e by Motley, John Lothrop\n",
      "Book 635 -- Acquiring History of the United Netherlands from the Death of William the Silent to the Twelve Year's Truce, 1585c by Motley, John Lothrop\n",
      "Book 636 -- Acquiring Life and Death of John of Barneveld, Advocate of Holland : with a view of the primary causes and movements of the Thirty Years' War, 1609-14 by Motley, John Lothrop\n",
      "Book 637 -- Acquiring History of the United Netherlands from the Death of William the Silent to the Twelve Year's Truce, 1586b by Motley, John Lothrop\n",
      "Book 638 -- Acquiring The Rise of the Dutch Republic — Volume 10: 1566, part I by Motley, John Lothrop\n",
      "Book 639 -- Acquiring The Project Gutenberg Works of John Lothrop Motley: A Linked Index for: The Rise of the Dutch Republic; The History of the United Netherlands; The Life and Death of John of Barneveld by Motley, John Lothrop\n",
      "Book 640 -- Acquiring The Rise of the Dutch Republic — Volume 17: 1570-72 by Motley, John Lothrop\n",
      "Book 641 -- Acquiring The Rise of the Dutch Republic — Volume 29: 1578, part III by Motley, John Lothrop\n",
      "Book 642 -- Acquiring Life and Death of John of Barneveld, Advocate of Holland : with a view of the primary causes and movements of the Thirty Years' War, 1619-23 by Motley, John Lothrop\n",
      "Book 643 -- Acquiring History of the United Netherlands from the Death of William the Silent to the Twelve Year's Truce — Complete (1584-1609) by Motley, John Lothrop\n",
      "Book 644 -- Acquiring History of the United Netherlands from the Death of William the Silent to the Twelve Year's Truce, 1603-04 by Motley, John Lothrop\n",
      "Book 645 -- Acquiring The Rise of the Dutch Republic — Volume 04: 1555-59 by Motley, John Lothrop\n",
      "Book 646 -- Acquiring History of the United Netherlands from the Death of William the Silent to the Twelve Year's Truce, 1607a by Motley, John Lothrop\n",
      "Book 647 -- Acquiring The Rise of the Dutch Republic — Volume 31: 1580-82 by Motley, John Lothrop\n",
      "Book 648 -- Acquiring The Rise of the Dutch Republic — Volume 11: 1566, part II by Motley, John Lothrop\n",
      "Book 649 -- Acquiring The Rise of the Dutch Republic — Volume 24: 1576-77 by Motley, John Lothrop\n",
      "Book 650 -- Acquiring PG Edition of Netherlands series — Complete by Motley, John Lothrop\n",
      "Book 651 -- Acquiring The First Part of King Henry the Fourth by Shakespeare, William\n",
      "Book 652 -- Acquiring Shakespeare's play of the Merchant of Venice: Arranged for Representation at the Princess's Theatre, with Historical and Explanatory Notes by Charles Kean, F.S.A. by Shakespeare, William\n",
      "Book 653 -- Acquiring Hamlet by Shakespeare, William\n",
      "Book 654 -- Acquiring Antony and Cleopatra by Shakespeare, William\n",
      "Book 655 -- Acquiring Richard III by Shakespeare, William\n",
      "Book 656 -- Acquiring King Richard the Second by Shakespeare, William\n",
      "Book 657 -- Acquiring The Tragedy of Julius Caesar by Shakespeare, William\n",
      "Book 658 -- Acquiring Hamlet, Prince of Denmark by Shakespeare, William\n",
      "Book 659 -- Acquiring Othello by Shakespeare, William\n",
      "Book 660 -- Acquiring Timon of Athens by Shakespeare, William\n",
      "Book 661 -- Acquiring Titus Andronicus by Shakespeare, William\n",
      "Book 662 -- Acquiring King Henry the Fifth: Arranged for Representation at the Princess's Theatre by Shakespeare, William\n",
      "Book 663 -- Acquiring The Phoenix and the Turtle by Shakespeare, William\n",
      "Book 664 -- Acquiring Henry VI, Part 1 by Shakespeare, William\n",
      "Book 665 -- Acquiring History of King Henry the Sixth, Second Part by Shakespeare, William\n",
      "Book 666 -- Acquiring The Tragedy of Romeo and Juliet by Shakespeare, William\n",
      "Book 667 -- Acquiring The Tragedy of Titus Andronicus by Shakespeare, William\n",
      "Book 668 -- Acquiring The Merry Wives of Windsor by Shakespeare, William\n",
      "Book 669 -- Acquiring Love's Labour's Lost by Shakespeare, William\n",
      "Book 670 -- Acquiring The Tragedy of King Richard the Second by Shakespeare, William\n",
      "Book 671 -- Acquiring King John by Shakespeare, William\n",
      "Book 672 -- Acquiring The Winter's Tale by Shakespeare, William\n",
      "Book 673 -- Acquiring Henry VI, Part 2 by Shakespeare, William\n",
      "Book 674 -- Acquiring Measure for Measure by Shakespeare, William\n",
      "Book 675 -- Acquiring The Sonnets by Shakespeare, William\n",
      "Book 676 -- Acquiring Shakespeare's Tragedy of Romeo and Juliet by Shakespeare, William\n",
      "Book 677 -- Acquiring King Henry IV, the First Part by Shakespeare, William\n",
      "Book 678 -- Acquiring The Merchant of Venice by Shakespeare, William\n",
      "Book 679 -- Acquiring Titus Andronicus by Shakespeare, William\n",
      "Book 680 -- Acquiring The Works of William Shakespeare [Cambridge Edition] [Vol. 6 of 9] by Shakespeare, William\n",
      "Book 681 -- Acquiring Hamlet by Shakespeare, William\n",
      "Book 682 -- Acquiring King John by Shakespeare, William\n",
      "Book 683 -- Acquiring Much Ado About Nothing by Shakespeare, William\n",
      "Book 684 -- Acquiring Measure for Measure by Shakespeare, William\n",
      "Book 685 -- Acquiring Julius Caesar by Shakespeare, William\n",
      "Book 686 -- Acquiring All's Well That Ends Well by Shakespeare, William\n",
      "Book 687 -- Acquiring Coriolanus by Shakespeare, William\n",
      "Book 688 -- Acquiring The Life of King Henry V by Shakespeare, William\n",
      "Book 689 -- Acquiring As You Like It by Shakespeare, William\n",
      "Book 690 -- Acquiring The Tragedy of Othello, Moor of Venice by Shakespeare, William\n",
      "Book 691 -- Acquiring The Two Gentlemen of Verona by Shakespeare, William\n",
      "Book 692 -- Acquiring A Lover's Complaint by Shakespeare, William\n",
      "Book 693 -- Acquiring The Two Gentlemen of Verona by Shakespeare, William\n",
      "Book 694 -- Acquiring A Midsummer Night's Dream by Shakespeare, William\n",
      "Book 695 -- Acquiring The Tempest: The Works of William Shakespeare [Cambridge Edition] [9 vols.] by Shakespeare, William\n",
      "Book 696 -- Acquiring As You Like It by Shakespeare, William\n"
     ]
    },
    {
     "name": "stdout",
     "output_type": "stream",
     "text": [
      "Book 697 -- Acquiring Henry VI, Part 1 by Shakespeare, William\n",
      "Book 698 -- Acquiring The Winter's Tale by Shakespeare, William\n",
      "Book 699 -- Acquiring The Works of William Shakespeare [Cambridge Edition] [Vol. 2 of 9] by Shakespeare, William\n",
      "Book 700 -- Acquiring Macbeth by Shakespeare, William\n",
      "Book 701 -- Acquiring The Works of William Shakespeare [Cambridge Edition] [Vol. 7 of 9] by Shakespeare, William\n",
      "Book 702 -- Acquiring Antony and Cleopatra by Shakespeare, William\n",
      "Book 703 -- Acquiring Venus and Adonis by Shakespeare, William\n",
      "Book 704 -- Acquiring The Works of William Shakespeare [Cambridge Edition] [Vol. 4 of 9] by Shakespeare, William\n",
      "Book 705 -- Acquiring Snow Shoes and Canoes: Or, The Early Days of a Fur-Trader in the Hudson Bay Territory by Kingston, William Henry Giles\n",
      "Book 706 -- Acquiring Paul Gerrard, the Cabin Boy by Kingston, William Henry Giles\n",
      "Book 707 -- Acquiring Charley Laurel: A Story of Adventure by Sea and Land by Kingston, William Henry Giles\n",
      "Book 708 -- Acquiring The Mate of the \"Lily\"; Or, Notes from Harry Musgrave's Log Book by Kingston, William Henry Giles\n",
      "Book 709 -- Acquiring The Circassian Chief: A Romance of Russia by Kingston, William Henry Giles\n",
      "Book 710 -- Acquiring Stories of Animal Sagacity by Kingston, William Henry Giles\n",
      "Book 711 -- Acquiring The School Friends; Or, Nothing New by Kingston, William Henry Giles\n",
      "Book 712 -- Acquiring The Wanderers; Or, Adventures in the Wilds of Trinidad and Orinoco by Kingston, William Henry Giles\n",
      "Book 713 -- Acquiring The Log House by the Lake: A Tale of Canada by Kingston, William Henry Giles\n",
      "Book 714 -- Acquiring The Last Look: A Tale of the Spanish Inquisition by Kingston, William Henry Giles\n",
      "Book 715 -- Acquiring The Rival Crusoes by Kingston, William Henry Giles\n",
      "Book 716 -- Acquiring Captain Mugford: Our Salt and Fresh Water Tutors by Kingston, William Henry Giles\n",
      "Book 717 -- Acquiring Captain Cook: His Life, Voyages, and Discoveries by Kingston, William Henry Giles\n",
      "Book 718 -- Acquiring Taking Tales: Instructive and Entertaining Reading by Kingston, William Henry Giles\n",
      "Book 719 -- Acquiring My First Voyage to Southern Seas by Kingston, William Henry Giles\n",
      "Book 720 -- Acquiring Villegagnon: A Tale of the Huguenot Persecution by Kingston, William Henry Giles\n",
      "Book 721 -- Acquiring James Braithwaite, the Supercargo: The Story of his Adventures Ashore and Afloat by Kingston, William Henry Giles\n",
      "Book 722 -- Acquiring The Seven Champions of Christendom by Kingston, William Henry Giles\n",
      "Book 723 -- Acquiring The Loss of the Royal George by Kingston, William Henry Giles\n",
      "Book 724 -- Acquiring Rob Nixon, the Old White Trader: A Tale of Central British North America by Kingston, William Henry Giles\n",
      "Book 725 -- Acquiring Voyages and Travels of Count Funnibos and Baron Stilkin by Kingston, William Henry Giles\n",
      "Book 726 -- Acquiring Our Sailors: Gallant Deeds of the British Navy during Victoria's Reign by Kingston, William Henry Giles\n",
      "Book 727 -- Acquiring From Powder Monkey to Admiral: A Story of Naval Adventure by Kingston, William Henry Giles\n",
      "Book 728 -- Acquiring Happy Jack, and Other Tales of the Sea by Kingston, William Henry Giles\n",
      "Book 729 -- Acquiring Twice Lost by Kingston, William Henry Giles\n",
      "Book 730 -- Acquiring Mountain Moggy: The Stoning of the Witch by Kingston, William Henry Giles\n",
      "Book 731 -- Acquiring Hendricks the Hunter; Or, The Border Farm: A Tale of Zululand by Kingston, William Henry Giles\n",
      "Book 732 -- Acquiring All But Lost: A Novel. Vol. 1 of 3 by Henty, G. A. (George Alfred)\n",
      "Book 733 -- Acquiring In the Irish Brigade: A Tale of War in Flanders and Spain by Henty, G. A. (George Alfred)\n",
      "Book 734 -- Acquiring The Boy Knight: A Tale of the Crusades by Henty, G. A. (George Alfred)\n",
      "Book 735 -- Acquiring All But Lost: A Novel. Vol. 3 of 3 by Henty, G. A. (George Alfred)\n",
      "Book 736 -- Acquiring In the Hands of the Malays, and Other Stories by Henty, G. A. (George Alfred)\n",
      "Book 737 -- Acquiring With the Allies to Pekin: A Tale of the Relief of the Legations by Henty, G. A. (George Alfred)\n",
      "Book 738 -- Acquiring For Name and Fame; Or, Through Afghan Passes by Henty, G. A. (George Alfred)\n",
      "Book 739 -- Acquiring The Young Colonists: A Story of the Zulu and Boer Wars by Henty, G. A. (George Alfred)\n",
      "Book 740 -- Acquiring With Buller in Natal, Or, a Born Leader by Henty, G. A. (George Alfred)\n",
      "Book 741 -- Acquiring Orange and Green: A Tale of the Boyne and Limerick by Henty, G. A. (George Alfred)\n",
      "Book 742 -- Acquiring Those Other Animals by Henty, G. A. (George Alfred)\n",
      "Book 743 -- Acquiring With Roberts to Pretoria: A Tale of The South African War by Henty, G. A. (George Alfred)\n",
      "Book 744 -- Acquiring Jack Archer: A Tale of the Crimea by Henty, G. A. (George Alfred)\n",
      "Book 745 -- Acquiring All But Lost: A Novel. Vol. 2 of 3 by Henty, G. A. (George Alfred)\n",
      "Book 746 -- Acquiring Under Drake's Flag: A Tale of the Spanish Main by Henty, G. A. (George Alfred)\n",
      "Book 747 -- Acquiring A Soldier's Daughter, and Other Stories by Henty, G. A. (George Alfred)\n",
      "Book 748 -- Acquiring The Dragon and the Raven; Or, The Days of King Alfred by Henty, G. A. (George Alfred)\n",
      "Book 749 -- Acquiring With the British Legion: A Story of the Carlist Wars by Henty, G. A. (George Alfred)\n",
      "Book 750 -- Acquiring True to the Old Flag: A Tale of the American War of Independence by Henty, G. A. (George Alfred)\n",
      "Book 751 -- Acquiring Out on the Pampas; Or, The Young Settlers by Henty, G. A. (George Alfred)\n",
      "Book 752 -- Acquiring A Jacobite Exile: Being the Adventures of a Young Englishman in the Service of Charles the Twelfth of Sweden by Henty, G. A. (George Alfred)\n"
     ]
    }
   ],
   "source": [
    "corpora = get_corpora(max_chars_per_author = 1e7, random_seed=42)"
   ]
  },
  {
   "cell_type": "markdown",
   "metadata": {},
   "source": [
    "# Tokenize the input"
   ]
  },
  {
   "cell_type": "code",
   "execution_count": 4,
   "metadata": {},
   "outputs": [],
   "source": [
    "VOCAB = 30000\n",
    "t = keras.preprocessing.text.Tokenizer(\n",
    "    num_words=VOCAB, filters='!\"#$%&()*+,-./:;<=>?@[\\\\]^_`{|}~\\t\\n', lower=True,\n",
    "    split=' ', char_level=False, oov_token=None, document_count=0)"
   ]
  },
  {
   "cell_type": "code",
   "execution_count": 5,
   "metadata": {},
   "outputs": [],
   "source": [
    "t.fit_on_texts(list(corpora.values()))"
   ]
  },
  {
   "cell_type": "markdown",
   "metadata": {},
   "source": [
    "# Convert corpora into sequences"
   ]
  },
  {
   "cell_type": "code",
   "execution_count": 6,
   "metadata": {},
   "outputs": [],
   "source": [
    "corpora_seq = {}\n",
    "SEQ_LEN = 100\n",
    "for author in corpora:\n",
    "    s = t.texts_to_sequences([corpora[author]])\n",
    "    corpus_seq = np.array(s).squeeze()\n",
    "    \n",
    "    # reject last corp_len%seq_len words\n",
    "    corp_len = corpus_seq.shape[0]\n",
    "    aligned_len = corp_len - corp_len%SEQ_LEN \n",
    "    sequences = corpus_seq[:aligned_len].reshape(-1,100)\n",
    "    \n",
    "    corpora_seq[author] = sequences"
   ]
  },
  {
   "cell_type": "markdown",
   "metadata": {},
   "source": [
    "# Make vectors X, y\n",
    "X - array of shape (n_samples, seq_len)\n",
    "\n",
    "y - array of lables (n_samples, n_classes)"
   ]
  },
  {
   "cell_type": "code",
   "execution_count": 7,
   "metadata": {},
   "outputs": [],
   "source": [
    "X, y = [], []\n",
    "for author, sequence in corpora_seq.items():\n",
    "    X.append(sequence)\n",
    "    y.append(len(sequence)*[author])\n",
    "X = np.vstack(X)\n",
    "y = np.concatenate(y)"
   ]
  },
  {
   "cell_type": "code",
   "execution_count": 8,
   "metadata": {},
   "outputs": [],
   "source": [
    "le = sklearn.preprocessing.LabelEncoder()\n",
    "le.fit(y)\n",
    "y = le.transform(y)\n",
    "y = keras.utils.to_categorical(y)"
   ]
  },
  {
   "cell_type": "markdown",
   "metadata": {},
   "source": [
    "# Train, test split"
   ]
  },
  {
   "cell_type": "code",
   "execution_count": 9,
   "metadata": {},
   "outputs": [],
   "source": [
    "X, X_test, y, y_test = sklearn.model_selection.train_test_split(X, y, test_size=0.1, stratify=y)"
   ]
  },
  {
   "cell_type": "markdown",
   "metadata": {},
   "source": [
    "# 1D CNN Neural Net Classifier"
   ]
  },
  {
   "cell_type": "code",
   "execution_count": 10,
   "metadata": {},
   "outputs": [],
   "source": [
    "def make_model(VOCAB, BATCH_SIZE, SEQ_LEN, N_CLASSSES, LR):\n",
    "    model = keras.Sequential()\n",
    "    model.add(layers.Embedding(VOCAB, BATCH_SIZE, input_length=SEQ_LEN))\n",
    "\n",
    "    model.add(layers.Conv1D(filters=250,\n",
    "                            kernel_size=3,\n",
    "                            padding='valid',\n",
    "                            activation='relu',\n",
    "                            strides=1))\n",
    "\n",
    "    # we use max pooling:\n",
    "    model.add(layers.GlobalMaxPooling1D())\n",
    "\n",
    "    # We add a vanilla hidden layer:\n",
    "    model.add(layers.Dense(250, activation='relu'))\n",
    "    # model.add(layers.Dropout(0.2))\n",
    "    model.add(layers.Dense(N_CLASSSES, activation='sigmoid'))\n",
    "    \n",
    "    optim = keras.optimizers.adam(lr=LR)\n",
    "    model.compile(loss='binary_crossentropy',\n",
    "                  optimizer=optim,\n",
    "                  metrics=['accuracy', keras.metrics.categorical_accuracy])\n",
    "    \n",
    "    return model"
   ]
  },
  {
   "cell_type": "markdown",
   "metadata": {},
   "source": [
    "# Hyperparameter tuning with k-fold validation"
   ]
  },
  {
   "cell_type": "code",
   "execution_count": 11,
   "metadata": {},
   "outputs": [
    {
     "name": "stdout",
     "output_type": "stream",
     "text": [
      "Testing lr=10.0\n"
     ]
    },
    {
     "name": "stderr",
     "output_type": "stream",
     "text": [
      "/home/tomek/anaconda3/envs/cmpe255/lib/python3.7/site-packages/tensorflow_core/python/framework/indexed_slices.py:433: UserWarning: Converting sparse IndexedSlices to a dense Tensor of unknown shape. This may consume a large amount of memory.\n",
      "  \"Converting sparse IndexedSlices to a dense Tensor of unknown shape. \"\n"
     ]
    },
    {
     "name": "stdout",
     "output_type": "stream",
     "text": [
      "Train on 273440 samples, validate on 68361 samples\n",
      "Epoch 1/1\n",
      "273440/273440 [==============================] - 44s 160us/step - loss: 82643.6124 - accuracy: 0.9484 - categorical_accuracy: 0.0522 - val_loss: 0.2546 - val_accuracy: 0.9500 - val_categorical_accuracy: 0.0547\n"
     ]
    },
    {
     "name": "stderr",
     "output_type": "stream",
     "text": [
      "/home/tomek/anaconda3/envs/cmpe255/lib/python3.7/site-packages/tensorflow_core/python/framework/indexed_slices.py:433: UserWarning: Converting sparse IndexedSlices to a dense Tensor of unknown shape. This may consume a large amount of memory.\n",
      "  \"Converting sparse IndexedSlices to a dense Tensor of unknown shape. \"\n"
     ]
    },
    {
     "name": "stdout",
     "output_type": "stream",
     "text": [
      "Train on 273440 samples, validate on 68361 samples\n",
      "Epoch 1/1\n",
      "273440/273440 [==============================] - 40s 147us/step - loss: 113113.4557 - accuracy: 0.9483 - categorical_accuracy: 0.0514 - val_loss: 0.2504 - val_accuracy: 0.9500 - val_categorical_accuracy: 0.0470\n"
     ]
    },
    {
     "name": "stderr",
     "output_type": "stream",
     "text": [
      "/home/tomek/anaconda3/envs/cmpe255/lib/python3.7/site-packages/tensorflow_core/python/framework/indexed_slices.py:433: UserWarning: Converting sparse IndexedSlices to a dense Tensor of unknown shape. This may consume a large amount of memory.\n",
      "  \"Converting sparse IndexedSlices to a dense Tensor of unknown shape. \"\n"
     ]
    },
    {
     "name": "stdout",
     "output_type": "stream",
     "text": [
      "Train on 273440 samples, validate on 68361 samples\n",
      "Epoch 1/1\n",
      "273440/273440 [==============================] - 41s 149us/step - loss: 120122.2532 - accuracy: 0.9484 - categorical_accuracy: 0.0519 - val_loss: 0.2614 - val_accuracy: 0.9500 - val_categorical_accuracy: 0.0497\n",
      "Testing lr=3.79269019073225\n"
     ]
    },
    {
     "name": "stderr",
     "output_type": "stream",
     "text": [
      "/home/tomek/anaconda3/envs/cmpe255/lib/python3.7/site-packages/tensorflow_core/python/framework/indexed_slices.py:433: UserWarning: Converting sparse IndexedSlices to a dense Tensor of unknown shape. This may consume a large amount of memory.\n",
      "  \"Converting sparse IndexedSlices to a dense Tensor of unknown shape. \"\n"
     ]
    },
    {
     "name": "stdout",
     "output_type": "stream",
     "text": [
      "Train on 273440 samples, validate on 68361 samples\n",
      "Epoch 1/1\n",
      "273440/273440 [==============================] - 40s 147us/step - loss: 1710.8388 - accuracy: 0.9495 - categorical_accuracy: 0.0531 - val_loss: 0.2164 - val_accuracy: 0.9500 - val_categorical_accuracy: 0.0471\n"
     ]
    },
    {
     "name": "stderr",
     "output_type": "stream",
     "text": [
      "/home/tomek/anaconda3/envs/cmpe255/lib/python3.7/site-packages/tensorflow_core/python/framework/indexed_slices.py:433: UserWarning: Converting sparse IndexedSlices to a dense Tensor of unknown shape. This may consume a large amount of memory.\n",
      "  \"Converting sparse IndexedSlices to a dense Tensor of unknown shape. \"\n"
     ]
    },
    {
     "name": "stdout",
     "output_type": "stream",
     "text": [
      "Train on 273440 samples, validate on 68361 samples\n",
      "Epoch 1/1\n",
      "273440/273440 [==============================] - 40s 145us/step - loss: 3089.6484 - accuracy: 0.9495 - categorical_accuracy: 0.0526 - val_loss: 0.2312 - val_accuracy: 0.9500 - val_categorical_accuracy: 0.0492\n"
     ]
    },
    {
     "name": "stderr",
     "output_type": "stream",
     "text": [
      "/home/tomek/anaconda3/envs/cmpe255/lib/python3.7/site-packages/tensorflow_core/python/framework/indexed_slices.py:433: UserWarning: Converting sparse IndexedSlices to a dense Tensor of unknown shape. This may consume a large amount of memory.\n",
      "  \"Converting sparse IndexedSlices to a dense Tensor of unknown shape. \"\n"
     ]
    },
    {
     "name": "stdout",
     "output_type": "stream",
     "text": [
      "Train on 273440 samples, validate on 68361 samples\n",
      "Epoch 1/1\n",
      "273440/273440 [==============================] - 40s 147us/step - loss: 620.7418 - accuracy: 0.9492 - categorical_accuracy: 0.0528 - val_loss: 0.2163 - val_accuracy: 0.9500 - val_categorical_accuracy: 0.0501\n",
      "Testing lr=1.438449888287663\n"
     ]
    },
    {
     "name": "stderr",
     "output_type": "stream",
     "text": [
      "/home/tomek/anaconda3/envs/cmpe255/lib/python3.7/site-packages/tensorflow_core/python/framework/indexed_slices.py:433: UserWarning: Converting sparse IndexedSlices to a dense Tensor of unknown shape. This may consume a large amount of memory.\n",
      "  \"Converting sparse IndexedSlices to a dense Tensor of unknown shape. \"\n"
     ]
    },
    {
     "name": "stdout",
     "output_type": "stream",
     "text": [
      "Train on 273440 samples, validate on 68361 samples\n",
      "Epoch 1/1\n",
      "273440/273440 [==============================] - 40s 146us/step - loss: 43.6062 - accuracy: 0.9494 - categorical_accuracy: 0.0546 - val_loss: 0.2155 - val_accuracy: 0.9500 - val_categorical_accuracy: 0.0477\n"
     ]
    },
    {
     "name": "stderr",
     "output_type": "stream",
     "text": [
      "/home/tomek/anaconda3/envs/cmpe255/lib/python3.7/site-packages/tensorflow_core/python/framework/indexed_slices.py:433: UserWarning: Converting sparse IndexedSlices to a dense Tensor of unknown shape. This may consume a large amount of memory.\n",
      "  \"Converting sparse IndexedSlices to a dense Tensor of unknown shape. \"\n"
     ]
    },
    {
     "name": "stdout",
     "output_type": "stream",
     "text": [
      "Train on 273440 samples, validate on 68361 samples\n",
      "Epoch 1/1\n",
      "273440/273440 [==============================] - 40s 145us/step - loss: 10.3439 - accuracy: 0.9494 - categorical_accuracy: 0.0545 - val_loss: 0.2276 - val_accuracy: 0.9500 - val_categorical_accuracy: 0.0497\n"
     ]
    },
    {
     "name": "stderr",
     "output_type": "stream",
     "text": [
      "/home/tomek/anaconda3/envs/cmpe255/lib/python3.7/site-packages/tensorflow_core/python/framework/indexed_slices.py:433: UserWarning: Converting sparse IndexedSlices to a dense Tensor of unknown shape. This may consume a large amount of memory.\n",
      "  \"Converting sparse IndexedSlices to a dense Tensor of unknown shape. \"\n"
     ]
    },
    {
     "name": "stdout",
     "output_type": "stream",
     "text": [
      "Train on 273440 samples, validate on 68361 samples\n",
      "Epoch 1/1\n",
      "273440/273440 [==============================] - 40s 147us/step - loss: 39.6684 - accuracy: 0.9495 - categorical_accuracy: 0.0550 - val_loss: 0.2050 - val_accuracy: 0.9500 - val_categorical_accuracy: 0.0497\n",
      "Testing lr=0.545559478116852\n"
     ]
    },
    {
     "name": "stderr",
     "output_type": "stream",
     "text": [
      "/home/tomek/anaconda3/envs/cmpe255/lib/python3.7/site-packages/tensorflow_core/python/framework/indexed_slices.py:433: UserWarning: Converting sparse IndexedSlices to a dense Tensor of unknown shape. This may consume a large amount of memory.\n",
      "  \"Converting sparse IndexedSlices to a dense Tensor of unknown shape. \"\n"
     ]
    },
    {
     "name": "stdout",
     "output_type": "stream",
     "text": [
      "Train on 273440 samples, validate on 68361 samples\n",
      "Epoch 1/1\n",
      "273440/273440 [==============================] - 40s 146us/step - loss: 0.9701 - accuracy: 0.9495 - categorical_accuracy: 0.0574 - val_loss: 0.2022 - val_accuracy: 0.9500 - val_categorical_accuracy: 0.0360\n"
     ]
    },
    {
     "name": "stderr",
     "output_type": "stream",
     "text": [
      "/home/tomek/anaconda3/envs/cmpe255/lib/python3.7/site-packages/tensorflow_core/python/framework/indexed_slices.py:433: UserWarning: Converting sparse IndexedSlices to a dense Tensor of unknown shape. This may consume a large amount of memory.\n",
      "  \"Converting sparse IndexedSlices to a dense Tensor of unknown shape. \"\n"
     ]
    },
    {
     "name": "stdout",
     "output_type": "stream",
     "text": [
      "Train on 273440 samples, validate on 68361 samples\n",
      "Epoch 1/1\n",
      "273440/273440 [==============================] - 40s 146us/step - loss: 1.6767 - accuracy: 0.9495 - categorical_accuracy: 0.0580 - val_loss: 0.2028 - val_accuracy: 0.9500 - val_categorical_accuracy: 0.0497\n"
     ]
    },
    {
     "name": "stderr",
     "output_type": "stream",
     "text": [
      "/home/tomek/anaconda3/envs/cmpe255/lib/python3.7/site-packages/tensorflow_core/python/framework/indexed_slices.py:433: UserWarning: Converting sparse IndexedSlices to a dense Tensor of unknown shape. This may consume a large amount of memory.\n",
      "  \"Converting sparse IndexedSlices to a dense Tensor of unknown shape. \"\n"
     ]
    },
    {
     "name": "stdout",
     "output_type": "stream",
     "text": [
      "Train on 273440 samples, validate on 68361 samples\n",
      "Epoch 1/1\n",
      "273440/273440 [==============================] - 40s 145us/step - loss: 1.3528 - accuracy: 0.9495 - categorical_accuracy: 0.0564 - val_loss: 0.2035 - val_accuracy: 0.9500 - val_categorical_accuracy: 0.0470\n",
      "Testing lr=0.20691380811147903\n"
     ]
    },
    {
     "name": "stderr",
     "output_type": "stream",
     "text": [
      "/home/tomek/anaconda3/envs/cmpe255/lib/python3.7/site-packages/tensorflow_core/python/framework/indexed_slices.py:433: UserWarning: Converting sparse IndexedSlices to a dense Tensor of unknown shape. This may consume a large amount of memory.\n",
      "  \"Converting sparse IndexedSlices to a dense Tensor of unknown shape. \"\n"
     ]
    },
    {
     "name": "stdout",
     "output_type": "stream",
     "text": [
      "Train on 273440 samples, validate on 68361 samples\n",
      "Epoch 1/1\n",
      "273440/273440 [==============================] - 40s 146us/step - loss: 0.2221 - accuracy: 0.9496 - categorical_accuracy: 0.0634 - val_loss: 0.1991 - val_accuracy: 0.9500 - val_categorical_accuracy: 0.0547\n"
     ]
    },
    {
     "name": "stderr",
     "output_type": "stream",
     "text": [
      "/home/tomek/anaconda3/envs/cmpe255/lib/python3.7/site-packages/tensorflow_core/python/framework/indexed_slices.py:433: UserWarning: Converting sparse IndexedSlices to a dense Tensor of unknown shape. This may consume a large amount of memory.\n",
      "  \"Converting sparse IndexedSlices to a dense Tensor of unknown shape. \"\n"
     ]
    },
    {
     "name": "stdout",
     "output_type": "stream",
     "text": [
      "Train on 273440 samples, validate on 68361 samples\n",
      "Epoch 1/1\n",
      "273440/273440 [==============================] - 40s 147us/step - loss: 0.2222 - accuracy: 0.9496 - categorical_accuracy: 0.0635 - val_loss: 0.1995 - val_accuracy: 0.9500 - val_categorical_accuracy: 0.0738\n"
     ]
    },
    {
     "name": "stderr",
     "output_type": "stream",
     "text": [
      "/home/tomek/anaconda3/envs/cmpe255/lib/python3.7/site-packages/tensorflow_core/python/framework/indexed_slices.py:433: UserWarning: Converting sparse IndexedSlices to a dense Tensor of unknown shape. This may consume a large amount of memory.\n",
      "  \"Converting sparse IndexedSlices to a dense Tensor of unknown shape. \"\n"
     ]
    },
    {
     "name": "stdout",
     "output_type": "stream",
     "text": [
      "Train on 273440 samples, validate on 68361 samples\n",
      "Epoch 1/1\n",
      "273440/273440 [==============================] - 40s 147us/step - loss: 0.2041 - accuracy: 0.9497 - categorical_accuracy: 0.0632 - val_loss: 0.1994 - val_accuracy: 0.9500 - val_categorical_accuracy: 0.0497\n",
      "Testing lr=0.07847599703514614\n"
     ]
    },
    {
     "name": "stderr",
     "output_type": "stream",
     "text": [
      "/home/tomek/anaconda3/envs/cmpe255/lib/python3.7/site-packages/tensorflow_core/python/framework/indexed_slices.py:433: UserWarning: Converting sparse IndexedSlices to a dense Tensor of unknown shape. This may consume a large amount of memory.\n",
      "  \"Converting sparse IndexedSlices to a dense Tensor of unknown shape. \"\n"
     ]
    },
    {
     "name": "stdout",
     "output_type": "stream",
     "text": [
      "Train on 273440 samples, validate on 68361 samples\n",
      "Epoch 1/1\n",
      "273440/273440 [==============================] - 40s 147us/step - loss: 0.1997 - accuracy: 0.9498 - categorical_accuracy: 0.0702 - val_loss: 0.1984 - val_accuracy: 0.9500 - val_categorical_accuracy: 0.0738\n"
     ]
    },
    {
     "name": "stderr",
     "output_type": "stream",
     "text": [
      "/home/tomek/anaconda3/envs/cmpe255/lib/python3.7/site-packages/tensorflow_core/python/framework/indexed_slices.py:433: UserWarning: Converting sparse IndexedSlices to a dense Tensor of unknown shape. This may consume a large amount of memory.\n",
      "  \"Converting sparse IndexedSlices to a dense Tensor of unknown shape. \"\n"
     ]
    },
    {
     "name": "stdout",
     "output_type": "stream",
     "text": [
      "Train on 273440 samples, validate on 68361 samples\n",
      "Epoch 1/1\n",
      "273440/273440 [==============================] - 39s 144us/step - loss: 0.1998 - accuracy: 0.9499 - categorical_accuracy: 0.0707 - val_loss: 0.1989 - val_accuracy: 0.9500 - val_categorical_accuracy: 0.0738\n"
     ]
    },
    {
     "name": "stderr",
     "output_type": "stream",
     "text": [
      "/home/tomek/anaconda3/envs/cmpe255/lib/python3.7/site-packages/tensorflow_core/python/framework/indexed_slices.py:433: UserWarning: Converting sparse IndexedSlices to a dense Tensor of unknown shape. This may consume a large amount of memory.\n",
      "  \"Converting sparse IndexedSlices to a dense Tensor of unknown shape. \"\n"
     ]
    },
    {
     "name": "stdout",
     "output_type": "stream",
     "text": [
      "Train on 273440 samples, validate on 68361 samples\n",
      "Epoch 1/1\n",
      "273440/273440 [==============================] - 39s 144us/step - loss: 0.1996 - accuracy: 0.9498 - categorical_accuracy: 0.0701 - val_loss: 0.1987 - val_accuracy: 0.9500 - val_categorical_accuracy: 0.0738\n",
      "Testing lr=0.029763514416313194\n"
     ]
    },
    {
     "name": "stderr",
     "output_type": "stream",
     "text": [
      "/home/tomek/anaconda3/envs/cmpe255/lib/python3.7/site-packages/tensorflow_core/python/framework/indexed_slices.py:433: UserWarning: Converting sparse IndexedSlices to a dense Tensor of unknown shape. This may consume a large amount of memory.\n",
      "  \"Converting sparse IndexedSlices to a dense Tensor of unknown shape. \"\n"
     ]
    },
    {
     "name": "stdout",
     "output_type": "stream",
     "text": [
      "Train on 273440 samples, validate on 68361 samples\n",
      "Epoch 1/1\n",
      "273440/273440 [==============================] - 39s 144us/step - loss: 0.1843 - accuracy: 0.9504 - categorical_accuracy: 0.1498 - val_loss: 0.1844 - val_accuracy: 0.9494 - val_categorical_accuracy: 0.1194\n"
     ]
    },
    {
     "name": "stderr",
     "output_type": "stream",
     "text": [
      "/home/tomek/anaconda3/envs/cmpe255/lib/python3.7/site-packages/tensorflow_core/python/framework/indexed_slices.py:433: UserWarning: Converting sparse IndexedSlices to a dense Tensor of unknown shape. This may consume a large amount of memory.\n",
      "  \"Converting sparse IndexedSlices to a dense Tensor of unknown shape. \"\n"
     ]
    },
    {
     "name": "stdout",
     "output_type": "stream",
     "text": [
      "Train on 273440 samples, validate on 68361 samples\n",
      "Epoch 1/1\n",
      "273440/273440 [==============================] - 40s 147us/step - loss: 0.1815 - accuracy: 0.9512 - categorical_accuracy: 0.1574 - val_loss: 0.1855 - val_accuracy: 0.9501 - val_categorical_accuracy: 0.1171\n"
     ]
    },
    {
     "name": "stderr",
     "output_type": "stream",
     "text": [
      "/home/tomek/anaconda3/envs/cmpe255/lib/python3.7/site-packages/tensorflow_core/python/framework/indexed_slices.py:433: UserWarning: Converting sparse IndexedSlices to a dense Tensor of unknown shape. This may consume a large amount of memory.\n",
      "  \"Converting sparse IndexedSlices to a dense Tensor of unknown shape. \"\n"
     ]
    },
    {
     "name": "stdout",
     "output_type": "stream",
     "text": [
      "Train on 273440 samples, validate on 68361 samples\n",
      "Epoch 1/1\n",
      "273440/273440 [==============================] - 39s 144us/step - loss: 0.1918 - accuracy: 0.9512 - categorical_accuracy: 0.1165 - val_loss: 0.1982 - val_accuracy: 0.9500 - val_categorical_accuracy: 0.0738\n",
      "Testing lr=0.011288378916846895\n"
     ]
    },
    {
     "name": "stderr",
     "output_type": "stream",
     "text": [
      "/home/tomek/anaconda3/envs/cmpe255/lib/python3.7/site-packages/tensorflow_core/python/framework/indexed_slices.py:433: UserWarning: Converting sparse IndexedSlices to a dense Tensor of unknown shape. This may consume a large amount of memory.\n",
      "  \"Converting sparse IndexedSlices to a dense Tensor of unknown shape. \"\n"
     ]
    },
    {
     "name": "stdout",
     "output_type": "stream",
     "text": [
      "Train on 273440 samples, validate on 68361 samples\n",
      "Epoch 1/1\n",
      "273440/273440 [==============================] - 40s 145us/step - loss: 0.0825 - accuracy: 0.9757 - categorical_accuracy: 0.6963 - val_loss: 0.0730 - val_accuracy: 0.9792 - val_categorical_accuracy: 0.7525\n"
     ]
    },
    {
     "name": "stderr",
     "output_type": "stream",
     "text": [
      "/home/tomek/anaconda3/envs/cmpe255/lib/python3.7/site-packages/tensorflow_core/python/framework/indexed_slices.py:433: UserWarning: Converting sparse IndexedSlices to a dense Tensor of unknown shape. This may consume a large amount of memory.\n",
      "  \"Converting sparse IndexedSlices to a dense Tensor of unknown shape. \"\n"
     ]
    },
    {
     "name": "stdout",
     "output_type": "stream",
     "text": [
      "Train on 273440 samples, validate on 68361 samples\n",
      "Epoch 1/1\n",
      "273440/273440 [==============================] - 40s 146us/step - loss: 0.0830 - accuracy: 0.9758 - categorical_accuracy: 0.6934 - val_loss: 0.0668 - val_accuracy: 0.9813 - val_categorical_accuracy: 0.7654\n"
     ]
    },
    {
     "name": "stderr",
     "output_type": "stream",
     "text": [
      "/home/tomek/anaconda3/envs/cmpe255/lib/python3.7/site-packages/tensorflow_core/python/framework/indexed_slices.py:433: UserWarning: Converting sparse IndexedSlices to a dense Tensor of unknown shape. This may consume a large amount of memory.\n",
      "  \"Converting sparse IndexedSlices to a dense Tensor of unknown shape. \"\n"
     ]
    },
    {
     "name": "stdout",
     "output_type": "stream",
     "text": [
      "Train on 273440 samples, validate on 68361 samples\n",
      "Epoch 1/1\n",
      "273440/273440 [==============================] - 39s 144us/step - loss: 0.0824 - accuracy: 0.9758 - categorical_accuracy: 0.6959 - val_loss: 0.0655 - val_accuracy: 0.9817 - val_categorical_accuracy: 0.7744\n",
      "Testing lr=0.004281332398719396\n"
     ]
    },
    {
     "name": "stderr",
     "output_type": "stream",
     "text": [
      "/home/tomek/anaconda3/envs/cmpe255/lib/python3.7/site-packages/tensorflow_core/python/framework/indexed_slices.py:433: UserWarning: Converting sparse IndexedSlices to a dense Tensor of unknown shape. This may consume a large amount of memory.\n",
      "  \"Converting sparse IndexedSlices to a dense Tensor of unknown shape. \"\n"
     ]
    },
    {
     "name": "stdout",
     "output_type": "stream",
     "text": [
      "Train on 273440 samples, validate on 68361 samples\n",
      "Epoch 1/1\n",
      "273440/273440 [==============================] - 40s 145us/step - loss: 0.0607 - accuracy: 0.9807 - categorical_accuracy: 0.7682 - val_loss: 0.0397 - val_accuracy: 0.9870 - val_categorical_accuracy: 0.8566\n"
     ]
    },
    {
     "name": "stderr",
     "output_type": "stream",
     "text": [
      "/home/tomek/anaconda3/envs/cmpe255/lib/python3.7/site-packages/tensorflow_core/python/framework/indexed_slices.py:433: UserWarning: Converting sparse IndexedSlices to a dense Tensor of unknown shape. This may consume a large amount of memory.\n",
      "  \"Converting sparse IndexedSlices to a dense Tensor of unknown shape. \"\n"
     ]
    },
    {
     "name": "stdout",
     "output_type": "stream",
     "text": [
      "Train on 273440 samples, validate on 68361 samples\n",
      "Epoch 1/1\n",
      "273440/273440 [==============================] - 40s 144us/step - loss: 0.0611 - accuracy: 0.9806 - categorical_accuracy: 0.7664 - val_loss: 0.0399 - val_accuracy: 0.9867 - val_categorical_accuracy: 0.8542\n"
     ]
    },
    {
     "name": "stderr",
     "output_type": "stream",
     "text": [
      "/home/tomek/anaconda3/envs/cmpe255/lib/python3.7/site-packages/tensorflow_core/python/framework/indexed_slices.py:433: UserWarning: Converting sparse IndexedSlices to a dense Tensor of unknown shape. This may consume a large amount of memory.\n",
      "  \"Converting sparse IndexedSlices to a dense Tensor of unknown shape. \"\n"
     ]
    },
    {
     "name": "stdout",
     "output_type": "stream",
     "text": [
      "Train on 273440 samples, validate on 68361 samples\n",
      "Epoch 1/1\n",
      "273440/273440 [==============================] - 40s 145us/step - loss: 0.0609 - accuracy: 0.9807 - categorical_accuracy: 0.7664 - val_loss: 0.0404 - val_accuracy: 0.9866 - val_categorical_accuracy: 0.8519\n",
      "Testing lr=0.0016237767391887226\n"
     ]
    },
    {
     "name": "stderr",
     "output_type": "stream",
     "text": [
      "/home/tomek/anaconda3/envs/cmpe255/lib/python3.7/site-packages/tensorflow_core/python/framework/indexed_slices.py:433: UserWarning: Converting sparse IndexedSlices to a dense Tensor of unknown shape. This may consume a large amount of memory.\n",
      "  \"Converting sparse IndexedSlices to a dense Tensor of unknown shape. \"\n"
     ]
    },
    {
     "name": "stdout",
     "output_type": "stream",
     "text": [
      "Train on 273440 samples, validate on 68361 samples\n",
      "Epoch 1/1\n",
      "273440/273440 [==============================] - 40s 144us/step - loss: 0.0661 - accuracy: 0.9795 - categorical_accuracy: 0.7441 - val_loss: 0.0355 - val_accuracy: 0.9879 - val_categorical_accuracy: 0.8723\n"
     ]
    },
    {
     "name": "stderr",
     "output_type": "stream",
     "text": [
      "/home/tomek/anaconda3/envs/cmpe255/lib/python3.7/site-packages/tensorflow_core/python/framework/indexed_slices.py:433: UserWarning: Converting sparse IndexedSlices to a dense Tensor of unknown shape. This may consume a large amount of memory.\n",
      "  \"Converting sparse IndexedSlices to a dense Tensor of unknown shape. \"\n"
     ]
    },
    {
     "name": "stdout",
     "output_type": "stream",
     "text": [
      "Train on 273440 samples, validate on 68361 samples\n",
      "Epoch 1/1\n",
      "273440/273440 [==============================] - 39s 144us/step - loss: 0.0642 - accuracy: 0.9799 - categorical_accuracy: 0.7529 - val_loss: 0.0342 - val_accuracy: 0.9883 - val_categorical_accuracy: 0.8765\n"
     ]
    },
    {
     "name": "stderr",
     "output_type": "stream",
     "text": [
      "/home/tomek/anaconda3/envs/cmpe255/lib/python3.7/site-packages/tensorflow_core/python/framework/indexed_slices.py:433: UserWarning: Converting sparse IndexedSlices to a dense Tensor of unknown shape. This may consume a large amount of memory.\n",
      "  \"Converting sparse IndexedSlices to a dense Tensor of unknown shape. \"\n"
     ]
    },
    {
     "name": "stdout",
     "output_type": "stream",
     "text": [
      "Train on 273440 samples, validate on 68361 samples\n",
      "Epoch 1/1\n",
      "273440/273440 [==============================] - 40s 147us/step - loss: 0.0653 - accuracy: 0.9796 - categorical_accuracy: 0.7485 - val_loss: 0.0354 - val_accuracy: 0.9880 - val_categorical_accuracy: 0.8735\n",
      "Testing lr=0.0006158482110660267\n"
     ]
    },
    {
     "name": "stderr",
     "output_type": "stream",
     "text": [
      "/home/tomek/anaconda3/envs/cmpe255/lib/python3.7/site-packages/tensorflow_core/python/framework/indexed_slices.py:433: UserWarning: Converting sparse IndexedSlices to a dense Tensor of unknown shape. This may consume a large amount of memory.\n",
      "  \"Converting sparse IndexedSlices to a dense Tensor of unknown shape. \"\n"
     ]
    },
    {
     "name": "stdout",
     "output_type": "stream",
     "text": [
      "Train on 273440 samples, validate on 68361 samples\n",
      "Epoch 1/1\n",
      "273440/273440 [==============================] - 39s 143us/step - loss: 0.0891 - accuracy: 0.9733 - categorical_accuracy: 0.6543 - val_loss: 0.0413 - val_accuracy: 0.9863 - val_categorical_accuracy: 0.8544\n"
     ]
    },
    {
     "name": "stderr",
     "output_type": "stream",
     "text": [
      "/home/tomek/anaconda3/envs/cmpe255/lib/python3.7/site-packages/tensorflow_core/python/framework/indexed_slices.py:433: UserWarning: Converting sparse IndexedSlices to a dense Tensor of unknown shape. This may consume a large amount of memory.\n",
      "  \"Converting sparse IndexedSlices to a dense Tensor of unknown shape. \"\n"
     ]
    },
    {
     "name": "stdout",
     "output_type": "stream",
     "text": [
      "Train on 273440 samples, validate on 68361 samples\n",
      "Epoch 1/1\n",
      "273440/273440 [==============================] - 39s 144us/step - loss: 0.0902 - accuracy: 0.9728 - categorical_accuracy: 0.6490 - val_loss: 0.0413 - val_accuracy: 0.9863 - val_categorical_accuracy: 0.8552\n"
     ]
    },
    {
     "name": "stderr",
     "output_type": "stream",
     "text": [
      "/home/tomek/anaconda3/envs/cmpe255/lib/python3.7/site-packages/tensorflow_core/python/framework/indexed_slices.py:433: UserWarning: Converting sparse IndexedSlices to a dense Tensor of unknown shape. This may consume a large amount of memory.\n",
      "  \"Converting sparse IndexedSlices to a dense Tensor of unknown shape. \"\n"
     ]
    },
    {
     "name": "stdout",
     "output_type": "stream",
     "text": [
      "Train on 273440 samples, validate on 68361 samples\n",
      "Epoch 1/1\n",
      "273440/273440 [==============================] - 39s 143us/step - loss: 0.0916 - accuracy: 0.9726 - categorical_accuracy: 0.6427 - val_loss: 0.0427 - val_accuracy: 0.9860 - val_categorical_accuracy: 0.8483\n",
      "Testing lr=0.00023357214690901214\n"
     ]
    },
    {
     "name": "stderr",
     "output_type": "stream",
     "text": [
      "/home/tomek/anaconda3/envs/cmpe255/lib/python3.7/site-packages/tensorflow_core/python/framework/indexed_slices.py:433: UserWarning: Converting sparse IndexedSlices to a dense Tensor of unknown shape. This may consume a large amount of memory.\n",
      "  \"Converting sparse IndexedSlices to a dense Tensor of unknown shape. \"\n"
     ]
    },
    {
     "name": "stdout",
     "output_type": "stream",
     "text": [
      "Train on 273440 samples, validate on 68361 samples\n",
      "Epoch 1/1\n",
      "273440/273440 [==============================] - 40s 145us/step - loss: 0.1412 - accuracy: 0.9596 - categorical_accuracy: 0.4282 - val_loss: 0.0782 - val_accuracy: 0.9743 - val_categorical_accuracy: 0.7251\n"
     ]
    },
    {
     "name": "stderr",
     "output_type": "stream",
     "text": [
      "/home/tomek/anaconda3/envs/cmpe255/lib/python3.7/site-packages/tensorflow_core/python/framework/indexed_slices.py:433: UserWarning: Converting sparse IndexedSlices to a dense Tensor of unknown shape. This may consume a large amount of memory.\n",
      "  \"Converting sparse IndexedSlices to a dense Tensor of unknown shape. \"\n"
     ]
    },
    {
     "name": "stdout",
     "output_type": "stream",
     "text": [
      "Train on 273440 samples, validate on 68361 samples\n",
      "Epoch 1/1\n",
      "273440/273440 [==============================] - 39s 141us/step - loss: 0.1407 - accuracy: 0.9595 - categorical_accuracy: 0.4304 - val_loss: 0.0800 - val_accuracy: 0.9742 - val_categorical_accuracy: 0.7163\n"
     ]
    },
    {
     "name": "stderr",
     "output_type": "stream",
     "text": [
      "/home/tomek/anaconda3/envs/cmpe255/lib/python3.7/site-packages/tensorflow_core/python/framework/indexed_slices.py:433: UserWarning: Converting sparse IndexedSlices to a dense Tensor of unknown shape. This may consume a large amount of memory.\n",
      "  \"Converting sparse IndexedSlices to a dense Tensor of unknown shape. \"\n"
     ]
    },
    {
     "name": "stdout",
     "output_type": "stream",
     "text": [
      "Train on 273440 samples, validate on 68361 samples\n",
      "Epoch 1/1\n",
      "273440/273440 [==============================] - 39s 144us/step - loss: 0.1413 - accuracy: 0.9595 - categorical_accuracy: 0.4273 - val_loss: 0.0787 - val_accuracy: 0.9744 - val_categorical_accuracy: 0.7234\n",
      "Testing lr=8.858667904100833e-05\n"
     ]
    },
    {
     "name": "stderr",
     "output_type": "stream",
     "text": [
      "/home/tomek/anaconda3/envs/cmpe255/lib/python3.7/site-packages/tensorflow_core/python/framework/indexed_slices.py:433: UserWarning: Converting sparse IndexedSlices to a dense Tensor of unknown shape. This may consume a large amount of memory.\n",
      "  \"Converting sparse IndexedSlices to a dense Tensor of unknown shape. \"\n"
     ]
    },
    {
     "name": "stdout",
     "output_type": "stream",
     "text": [
      "Train on 273440 samples, validate on 68361 samples\n",
      "Epoch 1/1\n",
      "273440/273440 [==============================] - 40s 145us/step - loss: 0.1896 - accuracy: 0.9497 - categorical_accuracy: 0.2098 - val_loss: 0.1447 - val_accuracy: 0.9565 - val_categorical_accuracy: 0.3835\n"
     ]
    },
    {
     "name": "stderr",
     "output_type": "stream",
     "text": [
      "/home/tomek/anaconda3/envs/cmpe255/lib/python3.7/site-packages/tensorflow_core/python/framework/indexed_slices.py:433: UserWarning: Converting sparse IndexedSlices to a dense Tensor of unknown shape. This may consume a large amount of memory.\n",
      "  \"Converting sparse IndexedSlices to a dense Tensor of unknown shape. \"\n"
     ]
    },
    {
     "name": "stdout",
     "output_type": "stream",
     "text": [
      "Train on 273440 samples, validate on 68361 samples\n",
      "Epoch 1/1\n",
      "273440/273440 [==============================] - 40s 146us/step - loss: 0.1900 - accuracy: 0.9502 - categorical_accuracy: 0.2058 - val_loss: 0.1468 - val_accuracy: 0.9561 - val_categorical_accuracy: 0.3775\n"
     ]
    },
    {
     "name": "stderr",
     "output_type": "stream",
     "text": [
      "/home/tomek/anaconda3/envs/cmpe255/lib/python3.7/site-packages/tensorflow_core/python/framework/indexed_slices.py:433: UserWarning: Converting sparse IndexedSlices to a dense Tensor of unknown shape. This may consume a large amount of memory.\n",
      "  \"Converting sparse IndexedSlices to a dense Tensor of unknown shape. \"\n"
     ]
    },
    {
     "name": "stdout",
     "output_type": "stream",
     "text": [
      "Train on 273440 samples, validate on 68361 samples\n",
      "Epoch 1/1\n",
      "273440/273440 [==============================] - 40s 146us/step - loss: 0.1893 - accuracy: 0.9501 - categorical_accuracy: 0.2104 - val_loss: 0.1440 - val_accuracy: 0.9563 - val_categorical_accuracy: 0.3893\n",
      "Testing lr=3.359818286283788e-05\n"
     ]
    },
    {
     "name": "stderr",
     "output_type": "stream",
     "text": [
      "/home/tomek/anaconda3/envs/cmpe255/lib/python3.7/site-packages/tensorflow_core/python/framework/indexed_slices.py:433: UserWarning: Converting sparse IndexedSlices to a dense Tensor of unknown shape. This may consume a large amount of memory.\n",
      "  \"Converting sparse IndexedSlices to a dense Tensor of unknown shape. \"\n"
     ]
    },
    {
     "name": "stdout",
     "output_type": "stream",
     "text": [
      "Train on 273440 samples, validate on 68361 samples\n",
      "Epoch 1/1\n",
      "273440/273440 [==============================] - 39s 144us/step - loss: 0.2264 - accuracy: 0.9459 - categorical_accuracy: 0.0940 - val_loss: 0.1876 - val_accuracy: 0.9500 - val_categorical_accuracy: 0.1778\n"
     ]
    },
    {
     "name": "stderr",
     "output_type": "stream",
     "text": [
      "/home/tomek/anaconda3/envs/cmpe255/lib/python3.7/site-packages/tensorflow_core/python/framework/indexed_slices.py:433: UserWarning: Converting sparse IndexedSlices to a dense Tensor of unknown shape. This may consume a large amount of memory.\n",
      "  \"Converting sparse IndexedSlices to a dense Tensor of unknown shape. \"\n"
     ]
    },
    {
     "name": "stdout",
     "output_type": "stream",
     "text": [
      "Train on 273440 samples, validate on 68361 samples\n",
      "Epoch 1/1\n",
      "273440/273440 [==============================] - 40s 145us/step - loss: 0.2246 - accuracy: 0.9477 - categorical_accuracy: 0.0916 - val_loss: 0.1885 - val_accuracy: 0.9500 - val_categorical_accuracy: 0.1655\n"
     ]
    },
    {
     "name": "stderr",
     "output_type": "stream",
     "text": [
      "/home/tomek/anaconda3/envs/cmpe255/lib/python3.7/site-packages/tensorflow_core/python/framework/indexed_slices.py:433: UserWarning: Converting sparse IndexedSlices to a dense Tensor of unknown shape. This may consume a large amount of memory.\n",
      "  \"Converting sparse IndexedSlices to a dense Tensor of unknown shape. \"\n"
     ]
    },
    {
     "name": "stdout",
     "output_type": "stream",
     "text": [
      "Train on 273440 samples, validate on 68361 samples\n",
      "Epoch 1/1\n",
      "273440/273440 [==============================] - 40s 146us/step - loss: 0.2272 - accuracy: 0.9473 - categorical_accuracy: 0.0866 - val_loss: 0.1917 - val_accuracy: 0.9500 - val_categorical_accuracy: 0.1655\n",
      "Testing lr=1.2742749857031348e-05\n"
     ]
    },
    {
     "name": "stderr",
     "output_type": "stream",
     "text": [
      "/home/tomek/anaconda3/envs/cmpe255/lib/python3.7/site-packages/tensorflow_core/python/framework/indexed_slices.py:433: UserWarning: Converting sparse IndexedSlices to a dense Tensor of unknown shape. This may consume a large amount of memory.\n",
      "  \"Converting sparse IndexedSlices to a dense Tensor of unknown shape. \"\n"
     ]
    },
    {
     "name": "stdout",
     "output_type": "stream",
     "text": [
      "Train on 273440 samples, validate on 68361 samples\n",
      "Epoch 1/1\n",
      "273440/273440 [==============================] - 40s 147us/step - loss: 0.2740 - accuracy: 0.9439 - categorical_accuracy: 0.0632 - val_loss: 0.1978 - val_accuracy: 0.9500 - val_categorical_accuracy: 0.0738\n"
     ]
    },
    {
     "name": "stderr",
     "output_type": "stream",
     "text": [
      "/home/tomek/anaconda3/envs/cmpe255/lib/python3.7/site-packages/tensorflow_core/python/framework/indexed_slices.py:433: UserWarning: Converting sparse IndexedSlices to a dense Tensor of unknown shape. This may consume a large amount of memory.\n",
      "  \"Converting sparse IndexedSlices to a dense Tensor of unknown shape. \"\n"
     ]
    },
    {
     "name": "stdout",
     "output_type": "stream",
     "text": [
      "Train on 273440 samples, validate on 68361 samples\n",
      "Epoch 1/1\n",
      "273440/273440 [==============================] - 39s 144us/step - loss: 0.2795 - accuracy: 0.9395 - categorical_accuracy: 0.0618 - val_loss: 0.1979 - val_accuracy: 0.9500 - val_categorical_accuracy: 0.0738\n"
     ]
    },
    {
     "name": "stderr",
     "output_type": "stream",
     "text": [
      "/home/tomek/anaconda3/envs/cmpe255/lib/python3.7/site-packages/tensorflow_core/python/framework/indexed_slices.py:433: UserWarning: Converting sparse IndexedSlices to a dense Tensor of unknown shape. This may consume a large amount of memory.\n",
      "  \"Converting sparse IndexedSlices to a dense Tensor of unknown shape. \"\n"
     ]
    },
    {
     "name": "stdout",
     "output_type": "stream",
     "text": [
      "Train on 273440 samples, validate on 68361 samples\n",
      "Epoch 1/1\n",
      "273440/273440 [==============================] - 39s 144us/step - loss: 0.2766 - accuracy: 0.9390 - categorical_accuracy: 0.0627 - val_loss: 0.1980 - val_accuracy: 0.9500 - val_categorical_accuracy: 0.0738\n",
      "Testing lr=4.832930238571752e-06\n"
     ]
    },
    {
     "name": "stderr",
     "output_type": "stream",
     "text": [
      "/home/tomek/anaconda3/envs/cmpe255/lib/python3.7/site-packages/tensorflow_core/python/framework/indexed_slices.py:433: UserWarning: Converting sparse IndexedSlices to a dense Tensor of unknown shape. This may consume a large amount of memory.\n",
      "  \"Converting sparse IndexedSlices to a dense Tensor of unknown shape. \"\n"
     ]
    },
    {
     "name": "stdout",
     "output_type": "stream",
     "text": [
      "Train on 273440 samples, validate on 68361 samples\n",
      "Epoch 1/1\n",
      "273440/273440 [==============================] - 40s 144us/step - loss: 0.4262 - accuracy: 0.9191 - categorical_accuracy: 0.0475 - val_loss: 0.2078 - val_accuracy: 0.9500 - val_categorical_accuracy: 0.0470\n"
     ]
    },
    {
     "name": "stderr",
     "output_type": "stream",
     "text": [
      "/home/tomek/anaconda3/envs/cmpe255/lib/python3.7/site-packages/tensorflow_core/python/framework/indexed_slices.py:433: UserWarning: Converting sparse IndexedSlices to a dense Tensor of unknown shape. This may consume a large amount of memory.\n",
      "  \"Converting sparse IndexedSlices to a dense Tensor of unknown shape. \"\n"
     ]
    },
    {
     "name": "stdout",
     "output_type": "stream",
     "text": [
      "Train on 273440 samples, validate on 68361 samples\n",
      "Epoch 1/1\n",
      "273440/273440 [==============================] - 40s 148us/step - loss: 0.4112 - accuracy: 0.9245 - categorical_accuracy: 0.0500 - val_loss: 0.2038 - val_accuracy: 0.9500 - val_categorical_accuracy: 0.0501\n"
     ]
    },
    {
     "name": "stderr",
     "output_type": "stream",
     "text": [
      "/home/tomek/anaconda3/envs/cmpe255/lib/python3.7/site-packages/tensorflow_core/python/framework/indexed_slices.py:433: UserWarning: Converting sparse IndexedSlices to a dense Tensor of unknown shape. This may consume a large amount of memory.\n",
      "  \"Converting sparse IndexedSlices to a dense Tensor of unknown shape. \"\n"
     ]
    },
    {
     "name": "stdout",
     "output_type": "stream",
     "text": [
      "Train on 273440 samples, validate on 68361 samples\n",
      "Epoch 1/1\n",
      "273440/273440 [==============================] - 41s 151us/step - loss: 0.4103 - accuracy: 0.9242 - categorical_accuracy: 0.0532 - val_loss: 0.2030 - val_accuracy: 0.9500 - val_categorical_accuracy: 0.0587\n",
      "Testing lr=1.8329807108324375e-06\n"
     ]
    },
    {
     "name": "stderr",
     "output_type": "stream",
     "text": [
      "/home/tomek/anaconda3/envs/cmpe255/lib/python3.7/site-packages/tensorflow_core/python/framework/indexed_slices.py:433: UserWarning: Converting sparse IndexedSlices to a dense Tensor of unknown shape. This may consume a large amount of memory.\n",
      "  \"Converting sparse IndexedSlices to a dense Tensor of unknown shape. \"\n"
     ]
    },
    {
     "name": "stdout",
     "output_type": "stream",
     "text": [
      "Train on 273440 samples, validate on 68361 samples\n",
      "Epoch 1/1\n",
      "273440/273440 [==============================] - 41s 151us/step - loss: 0.6167 - accuracy: 0.8996 - categorical_accuracy: 0.0476 - val_loss: 0.5140 - val_accuracy: 0.9500 - val_categorical_accuracy: 0.0491\n"
     ]
    },
    {
     "name": "stderr",
     "output_type": "stream",
     "text": [
      "/home/tomek/anaconda3/envs/cmpe255/lib/python3.7/site-packages/tensorflow_core/python/framework/indexed_slices.py:433: UserWarning: Converting sparse IndexedSlices to a dense Tensor of unknown shape. This may consume a large amount of memory.\n",
      "  \"Converting sparse IndexedSlices to a dense Tensor of unknown shape. \"\n"
     ]
    },
    {
     "name": "stdout",
     "output_type": "stream",
     "text": [
      "Train on 273440 samples, validate on 68361 samples\n",
      "Epoch 1/1\n",
      "273440/273440 [==============================] - 40s 145us/step - loss: 0.6162 - accuracy: 0.8331 - categorical_accuracy: 0.0480 - val_loss: 0.5053 - val_accuracy: 0.9184 - val_categorical_accuracy: 0.0480\n"
     ]
    },
    {
     "name": "stderr",
     "output_type": "stream",
     "text": [
      "/home/tomek/anaconda3/envs/cmpe255/lib/python3.7/site-packages/tensorflow_core/python/framework/indexed_slices.py:433: UserWarning: Converting sparse IndexedSlices to a dense Tensor of unknown shape. This may consume a large amount of memory.\n",
      "  \"Converting sparse IndexedSlices to a dense Tensor of unknown shape. \"\n"
     ]
    },
    {
     "name": "stdout",
     "output_type": "stream",
     "text": [
      "Train on 273440 samples, validate on 68361 samples\n",
      "Epoch 1/1\n",
      "273440/273440 [==============================] - 39s 144us/step - loss: 0.6031 - accuracy: 0.9136 - categorical_accuracy: 0.0517 - val_loss: 0.4932 - val_accuracy: 0.9500 - val_categorical_accuracy: 0.0504\n",
      "Testing lr=6.95192796177562e-07\n"
     ]
    },
    {
     "name": "stderr",
     "output_type": "stream",
     "text": [
      "/home/tomek/anaconda3/envs/cmpe255/lib/python3.7/site-packages/tensorflow_core/python/framework/indexed_slices.py:433: UserWarning: Converting sparse IndexedSlices to a dense Tensor of unknown shape. This may consume a large amount of memory.\n",
      "  \"Converting sparse IndexedSlices to a dense Tensor of unknown shape. \"\n"
     ]
    },
    {
     "name": "stdout",
     "output_type": "stream",
     "text": [
      "Train on 273440 samples, validate on 68361 samples\n",
      "Epoch 1/1\n",
      "273440/273440 [==============================] - 41s 150us/step - loss: 0.6764 - accuracy: 0.6929 - categorical_accuracy: 0.0364 - val_loss: 0.6477 - val_accuracy: 0.9034 - val_categorical_accuracy: 0.0381\n"
     ]
    },
    {
     "name": "stderr",
     "output_type": "stream",
     "text": [
      "/home/tomek/anaconda3/envs/cmpe255/lib/python3.7/site-packages/tensorflow_core/python/framework/indexed_slices.py:433: UserWarning: Converting sparse IndexedSlices to a dense Tensor of unknown shape. This may consume a large amount of memory.\n",
      "  \"Converting sparse IndexedSlices to a dense Tensor of unknown shape. \"\n"
     ]
    },
    {
     "name": "stdout",
     "output_type": "stream",
     "text": [
      "Train on 273440 samples, validate on 68361 samples\n",
      "Epoch 1/1\n",
      "273440/273440 [==============================] - 42s 153us/step - loss: 0.6647 - accuracy: 0.8174 - categorical_accuracy: 0.0497 - val_loss: 0.6366 - val_accuracy: 0.9486 - val_categorical_accuracy: 0.0516\n"
     ]
    },
    {
     "name": "stderr",
     "output_type": "stream",
     "text": [
      "/home/tomek/anaconda3/envs/cmpe255/lib/python3.7/site-packages/tensorflow_core/python/framework/indexed_slices.py:433: UserWarning: Converting sparse IndexedSlices to a dense Tensor of unknown shape. This may consume a large amount of memory.\n",
      "  \"Converting sparse IndexedSlices to a dense Tensor of unknown shape. \"\n"
     ]
    },
    {
     "name": "stdout",
     "output_type": "stream",
     "text": [
      "Train on 273440 samples, validate on 68361 samples\n",
      "Epoch 1/1\n",
      "273440/273440 [==============================] - 40s 147us/step - loss: 0.6681 - accuracy: 0.8148 - categorical_accuracy: 0.0507 - val_loss: 0.6428 - val_accuracy: 0.9051 - val_categorical_accuracy: 0.0507\n",
      "Testing lr=2.6366508987303607e-07\n"
     ]
    },
    {
     "name": "stderr",
     "output_type": "stream",
     "text": [
      "/home/tomek/anaconda3/envs/cmpe255/lib/python3.7/site-packages/tensorflow_core/python/framework/indexed_slices.py:433: UserWarning: Converting sparse IndexedSlices to a dense Tensor of unknown shape. This may consume a large amount of memory.\n",
      "  \"Converting sparse IndexedSlices to a dense Tensor of unknown shape. \"\n"
     ]
    },
    {
     "name": "stdout",
     "output_type": "stream",
     "text": [
      "Train on 273440 samples, validate on 68361 samples\n",
      "Epoch 1/1\n",
      "273440/273440 [==============================] - 39s 144us/step - loss: 0.6878 - accuracy: 0.6393 - categorical_accuracy: 0.0514 - val_loss: 0.6791 - val_accuracy: 0.8283 - val_categorical_accuracy: 0.0508\n"
     ]
    },
    {
     "name": "stderr",
     "output_type": "stream",
     "text": [
      "/home/tomek/anaconda3/envs/cmpe255/lib/python3.7/site-packages/tensorflow_core/python/framework/indexed_slices.py:433: UserWarning: Converting sparse IndexedSlices to a dense Tensor of unknown shape. This may consume a large amount of memory.\n",
      "  \"Converting sparse IndexedSlices to a dense Tensor of unknown shape. \"\n"
     ]
    },
    {
     "name": "stdout",
     "output_type": "stream",
     "text": [
      "Train on 273440 samples, validate on 68361 samples\n",
      "Epoch 1/1\n",
      "273440/273440 [==============================] - 40s 147us/step - loss: 0.6871 - accuracy: 0.5481 - categorical_accuracy: 0.0498 - val_loss: 0.6776 - val_accuracy: 0.6998 - val_categorical_accuracy: 0.0506\n"
     ]
    },
    {
     "name": "stderr",
     "output_type": "stream",
     "text": [
      "/home/tomek/anaconda3/envs/cmpe255/lib/python3.7/site-packages/tensorflow_core/python/framework/indexed_slices.py:433: UserWarning: Converting sparse IndexedSlices to a dense Tensor of unknown shape. This may consume a large amount of memory.\n",
      "  \"Converting sparse IndexedSlices to a dense Tensor of unknown shape. \"\n"
     ]
    },
    {
     "name": "stdout",
     "output_type": "stream",
     "text": [
      "Train on 273440 samples, validate on 68361 samples\n",
      "Epoch 1/1\n",
      "273440/273440 [==============================] - 41s 149us/step - loss: 0.6872 - accuracy: 0.6342 - categorical_accuracy: 0.0527 - val_loss: 0.6777 - val_accuracy: 0.7914 - val_categorical_accuracy: 0.0500\n",
      "Testing lr=1e-07\n"
     ]
    },
    {
     "name": "stderr",
     "output_type": "stream",
     "text": [
      "/home/tomek/anaconda3/envs/cmpe255/lib/python3.7/site-packages/tensorflow_core/python/framework/indexed_slices.py:433: UserWarning: Converting sparse IndexedSlices to a dense Tensor of unknown shape. This may consume a large amount of memory.\n",
      "  \"Converting sparse IndexedSlices to a dense Tensor of unknown shape. \"\n"
     ]
    },
    {
     "name": "stdout",
     "output_type": "stream",
     "text": [
      "Train on 273440 samples, validate on 68361 samples\n",
      "Epoch 1/1\n",
      "273440/273440 [==============================] - 41s 151us/step - loss: 0.6897 - accuracy: 0.5706 - categorical_accuracy: 0.0511 - val_loss: 0.6860 - val_accuracy: 0.6705 - val_categorical_accuracy: 0.0500\n"
     ]
    },
    {
     "name": "stderr",
     "output_type": "stream",
     "text": [
      "/home/tomek/anaconda3/envs/cmpe255/lib/python3.7/site-packages/tensorflow_core/python/framework/indexed_slices.py:433: UserWarning: Converting sparse IndexedSlices to a dense Tensor of unknown shape. This may consume a large amount of memory.\n",
      "  \"Converting sparse IndexedSlices to a dense Tensor of unknown shape. \"\n"
     ]
    },
    {
     "name": "stdout",
     "output_type": "stream",
     "text": [
      "Train on 273440 samples, validate on 68361 samples\n",
      "Epoch 1/1\n",
      "273440/273440 [==============================] - 41s 149us/step - loss: 0.6941 - accuracy: 0.4949 - categorical_accuracy: 0.0499 - val_loss: 0.6908 - val_accuracy: 0.5505 - val_categorical_accuracy: 0.0497\n"
     ]
    },
    {
     "name": "stderr",
     "output_type": "stream",
     "text": [
      "/home/tomek/anaconda3/envs/cmpe255/lib/python3.7/site-packages/tensorflow_core/python/framework/indexed_slices.py:433: UserWarning: Converting sparse IndexedSlices to a dense Tensor of unknown shape. This may consume a large amount of memory.\n",
      "  \"Converting sparse IndexedSlices to a dense Tensor of unknown shape. \"\n"
     ]
    },
    {
     "name": "stdout",
     "output_type": "stream",
     "text": [
      "Train on 273440 samples, validate on 68361 samples\n",
      "Epoch 1/1\n",
      "273440/273440 [==============================] - 40s 145us/step - loss: 0.6921 - accuracy: 0.4525 - categorical_accuracy: 0.0498 - val_loss: 0.6889 - val_accuracy: 0.5837 - val_categorical_accuracy: 0.0497\n"
     ]
    }
   ],
   "source": [
    "FOLDS = 3    \n",
    "BATCH_SIZE = 64\n",
    "N_CLASSSES = len(np.unique(np.argmax(y, axis=1)))\n",
    "l_rates = np.logspace(1,-7,20)\n",
    "\n",
    "sss = sklearn.model_selection.StratifiedShuffleSplit(n_splits=FOLDS, test_size=0.2, random_state=None)\n",
    "\n",
    "models = {l: [] for l in l_rates}\n",
    "\n",
    "for LR in l_rates:\n",
    "    print(f'Testing lr={LR}')\n",
    "    for train_index, test_index in sss.split(X, y):\n",
    "        X_train, X_val = X[train_index], X[test_index]\n",
    "        y_train, y_val = y[train_index], y[test_index]\n",
    "\n",
    "        model = make_model(VOCAB, BATCH_SIZE, SEQ_LEN, N_CLASSSES, LR)\n",
    "        model.fit(X_train, y_train,\n",
    "                  batch_size=BATCH_SIZE,\n",
    "                  epochs=1,\n",
    "                  validation_data=(X_val, y_val)\n",
    "                 )\n",
    "        models[LR].append(model)"
   ]
  },
  {
   "cell_type": "markdown",
   "metadata": {},
   "source": [
    "# Plot val losses and val accuracies after 1 epoch"
   ]
  },
  {
   "cell_type": "code",
   "execution_count": 12,
   "metadata": {},
   "outputs": [],
   "source": [
    "k_fold_accs, k_fold_losses = {}, {}\n",
    "for lr in models:\n",
    "    acc = []\n",
    "    loss = []\n",
    "    for m in models[lr]:\n",
    "        acc.append(*m.history.history['val_categorical_accuracy'])\n",
    "        loss.append(*m.history.history['val_loss'])\n",
    "    \n",
    "    k_fold_accs[lr] = np.mean(acc)\n",
    "    k_fold_losses[lr] = np.mean(loss)"
   ]
  },
  {
   "cell_type": "code",
   "execution_count": 1,
   "metadata": {},
   "outputs": [
    {
     "ename": "NameError",
     "evalue": "name 'plt' is not defined",
     "output_type": "error",
     "traceback": [
      "\u001b[0;31m---------------------------------------------------------------------------\u001b[0m",
      "\u001b[0;31mNameError\u001b[0m                                 Traceback (most recent call last)",
      "\u001b[0;32m<ipython-input-1-37f12387a50a>\u001b[0m in \u001b[0;36m<module>\u001b[0;34m\u001b[0m\n\u001b[0;32m----> 1\u001b[0;31m \u001b[0mplt\u001b[0m\u001b[0;34m.\u001b[0m\u001b[0mfigure\u001b[0m\u001b[0;34m(\u001b[0m\u001b[0mfigsize\u001b[0m\u001b[0;34m=\u001b[0m\u001b[0;34m(\u001b[0m\u001b[0;36m10\u001b[0m\u001b[0;34m,\u001b[0m\u001b[0;36m5\u001b[0m\u001b[0;34m)\u001b[0m\u001b[0;34m)\u001b[0m\u001b[0;34m\u001b[0m\u001b[0;34m\u001b[0m\u001b[0m\n\u001b[0m\u001b[1;32m      2\u001b[0m \u001b[0max\u001b[0m \u001b[0;34m=\u001b[0m \u001b[0mplt\u001b[0m\u001b[0;34m.\u001b[0m\u001b[0mgca\u001b[0m\u001b[0;34m(\u001b[0m\u001b[0;34m)\u001b[0m\u001b[0;34m\u001b[0m\u001b[0;34m\u001b[0m\u001b[0m\n\u001b[1;32m      3\u001b[0m \u001b[0max\u001b[0m\u001b[0;34m.\u001b[0m\u001b[0mset_xscale\u001b[0m\u001b[0;34m(\u001b[0m\u001b[0;34m'log'\u001b[0m\u001b[0;34m)\u001b[0m\u001b[0;34m\u001b[0m\u001b[0;34m\u001b[0m\u001b[0m\n\u001b[1;32m      4\u001b[0m \u001b[0mplt\u001b[0m\u001b[0;34m.\u001b[0m\u001b[0mxlabel\u001b[0m\u001b[0;34m(\u001b[0m\u001b[0;34m\"learning rate\"\u001b[0m\u001b[0;34m)\u001b[0m\u001b[0;34m\u001b[0m\u001b[0;34m\u001b[0m\u001b[0m\n\u001b[1;32m      5\u001b[0m \u001b[0mplt\u001b[0m\u001b[0;34m.\u001b[0m\u001b[0mylabel\u001b[0m\u001b[0;34m(\u001b[0m\u001b[0;34m\"k-fold val loss after 1 epoch\"\u001b[0m\u001b[0;34m)\u001b[0m\u001b[0;34m\u001b[0m\u001b[0;34m\u001b[0m\u001b[0m\n",
      "\u001b[0;31mNameError\u001b[0m: name 'plt' is not defined"
     ]
    }
   ],
   "source": [
    "plt.figure(figsize=(10,5))\n",
    "ax = plt.gca()\n",
    "ax.set_xscale('log')\n",
    "plt.xlabel(\"learning rate\")\n",
    "plt.ylabel(\"k-fold val loss after 1 epoch\")\n",
    "plt.plot(list(k_fold_losses.keys()), list(k_fold_losses.values()))"
   ]
  },
  {
   "cell_type": "code",
   "execution_count": 23,
   "metadata": {},
   "outputs": [
    {
     "data": {
      "text/plain": [
       "[<matplotlib.lines.Line2D at 0x7f617f2bdd10>]"
      ]
     },
     "execution_count": 23,
     "metadata": {},
     "output_type": "execute_result"
    },
    {
     "data": {
      "image/png": "[encoded data removed]",
      "text/plain": [
       "<Figure size 720x360 with 1 Axes>"
      ]
     },
     "metadata": {
      "needs_background": "light"
     },
     "output_type": "display_data"
    }
   ],
   "source": [
    "plt.figure(figsize=(10,5))\n",
    "ax = plt.gca()\n",
    "ax.set_xscale('log')\n",
    "plt.xlabel(\"learning rate\")\n",
    "plt.ylabel(\"k-fold val acc after 1 epoch\")\n",
    "plt.plot(list(k_fold_accs.keys()), list(k_fold_accs.values()))"
   ]
  },
  {
   "cell_type": "code",
   "execution_count": 29,
   "metadata": {},
   "outputs": [
    {
     "data": {
      "text/plain": [
       "9"
      ]
     },
     "execution_count": 29,
     "metadata": {},
     "output_type": "execute_result"
    }
   ],
   "source": [
    "best_acc_idx = np.argmax(list(k_fold_accs.values()))\n",
    "best_acc_idx"
   ]
  },
  {
   "cell_type": "code",
   "execution_count": 30,
   "metadata": {},
   "outputs": [
    {
     "data": {
      "text/plain": [
       "9"
      ]
     },
     "execution_count": 30,
     "metadata": {},
     "output_type": "execute_result"
    }
   ],
   "source": [
    "best_loss_idx = np.argmin(list(k_fold_losses.values()))\n",
    "best_loss_idx"
   ]
  },
  {
   "cell_type": "code",
   "execution_count": 2,
   "metadata": {},
   "outputs": [
    {
     "ename": "NameError",
     "evalue": "name 'models' is not defined",
     "output_type": "error",
     "traceback": [
      "\u001b[0;31m---------------------------------------------------------------------------\u001b[0m",
      "\u001b[0;31mNameError\u001b[0m                                 Traceback (most recent call last)",
      "\u001b[0;32m<ipython-input-2-9bc060a9a7e2>\u001b[0m in \u001b[0;36m<module>\u001b[0;34m\u001b[0m\n\u001b[0;32m----> 1\u001b[0;31m \u001b[0mlist\u001b[0m\u001b[0;34m(\u001b[0m\u001b[0mmodels\u001b[0m\u001b[0;34m.\u001b[0m\u001b[0mvalues\u001b[0m\u001b[0;34m(\u001b[0m\u001b[0;34m)\u001b[0m\u001b[0;34m)\u001b[0m\u001b[0;34m[\u001b[0m\u001b[0mbest_loss_idx\u001b[0m\u001b[0;34m]\u001b[0m\u001b[0;34m[\u001b[0m\u001b[0;34m-\u001b[0m\u001b[0;36m1\u001b[0m\u001b[0;34m]\u001b[0m\u001b[0;34m.\u001b[0m\u001b[0moptimizer\u001b[0m\u001b[0;34m.\u001b[0m\u001b[0mlr\u001b[0m\u001b[0;34m\u001b[0m\u001b[0;34m\u001b[0m\u001b[0m\n\u001b[0m",
      "\u001b[0;31mNameError\u001b[0m: name 'models' is not defined"
     ]
    }
   ],
   "source": [
    "list(models.values())[best_loss_idx][-1].optimizer.lr"
   ]
  },
  {
   "cell_type": "markdown",
   "metadata": {},
   "source": [
    "### That's the best lr!"
   ]
  },
  {
   "cell_type": "code",
   "execution_count": 42,
   "metadata": {},
   "outputs": [
    {
     "data": {
      "text/plain": [
       "True"
      ]
     },
     "execution_count": 42,
     "metadata": {},
     "output_type": "execute_result"
    }
   ],
   "source": [
    "0.001623776 == 1.623776e-3"
   ]
  }
 ],
 "metadata": {
  "kernelspec": {
   "display_name": "255-data-mining",
   "language": "python",
   "name": "255-data-mining"
  },
  "language_info": {
   "codemirror_mode": {
    "name": "ipython",
    "version": 3
   },
   "file_extension": ".py",
   "mimetype": "text/x-python",
   "name": "python",
   "nbconvert_exporter": "python",
   "pygments_lexer": "ipython3",
   "version": "3.7.7"
  }
 },
 "nbformat": 4,
 "nbformat_minor": 2
}
