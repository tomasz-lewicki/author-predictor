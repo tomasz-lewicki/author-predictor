{
 "cells": [
  {
   "cell_type": "markdown",
   "metadata": {},
   "source": [
    "# This notebook showcases dealing with Gutenberg meta-index"
   ]
  },
  {
   "cell_type": "code",
   "execution_count": 23,
   "metadata": {},
   "outputs": [],
   "source": [
    "from utils.gutenberg_metadata import gutenberg_to_dict"
   ]
  },
  {
   "cell_type": "code",
   "execution_count": 24,
   "metadata": {},
   "outputs": [],
   "source": [
    "gutenberg = gutenberg_to_dict()"
   ]
  },
  {
   "cell_type": "code",
   "execution_count": 25,
   "metadata": {},
   "outputs": [],
   "source": [
    "import pandas as pd\n",
    "df = pd.DataFrame.from_dict(gutenberg, orient='index')"
   ]
  },
  {
   "cell_type": "code",
   "execution_count": 26,
   "metadata": {},
   "outputs": [],
   "source": [
    "df = df.astype({'author': 'string'})"
   ]
  },
  {
   "cell_type": "markdown",
   "metadata": {},
   "source": [
    "# Let's see who has Gutenberg Index of 1!"
   ]
  },
  {
   "cell_type": "code",
   "execution_count": 27,
   "metadata": {},
   "outputs": [
    {
     "data": {
      "text/plain": [
       "'Jefferson, Thomas'"
      ]
     },
     "execution_count": 27,
     "metadata": {},
     "output_type": "execute_result"
    }
   ],
   "source": [
    "gutenberg[1]['author']"
   ]
  },
  {
   "cell_type": "code",
   "execution_count": 28,
   "metadata": {},
   "outputs": [
    {
     "data": {
      "text/plain": [
       "'The Declaration of Independence of the United States of America'"
      ]
     },
     "execution_count": 28,
     "metadata": {},
     "output_type": "execute_result"
    }
   ],
   "source": [
    "gutenberg[1]['title']"
   ]
  },
  {
   "cell_type": "markdown",
   "metadata": {},
   "source": [
    "# Obtaining Gut. Index for particular author\n",
    "Let's see the results for Franz Kafka"
   ]
  },
  {
   "cell_type": "code",
   "execution_count": 29,
   "metadata": {},
   "outputs": [
    {
     "data": {
      "text/plain": [
       "14"
      ]
     },
     "execution_count": 29,
     "metadata": {},
     "output_type": "execute_result"
    }
   ],
   "source": [
    "df.author.str.contains('Kafka').sum()"
   ]
  },
  {
   "cell_type": "code",
   "execution_count": 30,
   "metadata": {},
   "outputs": [],
   "source": [
    "df = df.set_index('id')"
   ]
  },
  {
   "cell_type": "code",
   "execution_count": 31,
   "metadata": {},
   "outputs": [
    {
     "data": {
      "text/html": [
       "<div>\n",
       "<style scoped>\n",
       "    .dataframe tbody tr th:only-of-type {\n",
       "        vertical-align: middle;\n",
       "    }\n",
       "\n",
       "    .dataframe tbody tr th {\n",
       "        vertical-align: top;\n",
       "    }\n",
       "\n",
       "    .dataframe thead th {\n",
       "        text-align: right;\n",
       "    }\n",
       "</style>\n",
       "<table border=\"1\" class=\"dataframe\">\n",
       "  <thead>\n",
       "    <tr style=\"text-align: right;\">\n",
       "      <th></th>\n",
       "      <th>author</th>\n",
       "      <th>title</th>\n",
       "      <th>downloads</th>\n",
       "      <th>formats</th>\n",
       "      <th>type</th>\n",
       "      <th>LCC</th>\n",
       "      <th>subjects</th>\n",
       "      <th>authoryearofbirth</th>\n",
       "      <th>authoryearofdeath</th>\n",
       "      <th>language</th>\n",
       "    </tr>\n",
       "    <tr>\n",
       "      <th>id</th>\n",
       "      <th></th>\n",
       "      <th></th>\n",
       "      <th></th>\n",
       "      <th></th>\n",
       "      <th></th>\n",
       "      <th></th>\n",
       "      <th></th>\n",
       "      <th></th>\n",
       "      <th></th>\n",
       "      <th></th>\n",
       "    </tr>\n",
       "  </thead>\n",
       "  <tbody>\n",
       "    <tr>\n",
       "      <th>16304</th>\n",
       "      <td>Kafka, Franz</td>\n",
       "      <td>Der Heizer: Ein Fragment</td>\n",
       "      <td>89.0</td>\n",
       "      <td>{'application/epub+zip': 'http://www.gutenberg...</td>\n",
       "      <td>Text</td>\n",
       "      <td>{PT}</td>\n",
       "      <td>{Immigrants -- Fiction}</td>\n",
       "      <td>1883.0</td>\n",
       "      <td>1924.0</td>\n",
       "      <td>[de]</td>\n",
       "    </tr>\n",
       "    <tr>\n",
       "      <th>19638</th>\n",
       "      <td>Kafka, Franz</td>\n",
       "      <td>Auf der Galerie</td>\n",
       "      <td>30.0</td>\n",
       "      <td>{'application/zip': 'http://www.gutenberg.org/...</td>\n",
       "      <td>Sound</td>\n",
       "      <td>{PT}</td>\n",
       "      <td>{Short stories}</td>\n",
       "      <td>1883.0</td>\n",
       "      <td>1924.0</td>\n",
       "      <td>[de]</td>\n",
       "    </tr>\n",
       "    <tr>\n",
       "      <th>20045</th>\n",
       "      <td>Kafka, Franz</td>\n",
       "      <td>Großer Lärm</td>\n",
       "      <td>23.0</td>\n",
       "      <td>{'audio/mp4': 'http://www.gutenberg.org/files/...</td>\n",
       "      <td>Sound</td>\n",
       "      <td>{PT}</td>\n",
       "      <td>{Autobiographies}</td>\n",
       "      <td>1883.0</td>\n",
       "      <td>1924.0</td>\n",
       "      <td>[de]</td>\n",
       "    </tr>\n",
       "    <tr>\n",
       "      <th>21593</th>\n",
       "      <td>Kafka, Franz</td>\n",
       "      <td>Das Urteil: Eine Geschichte</td>\n",
       "      <td>710.0</td>\n",
       "      <td>{'text/html; charset=iso-8859-1': 'http://www....</td>\n",
       "      <td>Text</td>\n",
       "      <td>{PT}</td>\n",
       "      <td>{Conflict of generations -- Fiction, Fathers a...</td>\n",
       "      <td>1883.0</td>\n",
       "      <td>1924.0</td>\n",
       "      <td>[de]</td>\n",
       "    </tr>\n",
       "    <tr>\n",
       "      <th>21989</th>\n",
       "      <td>Kafka, Franz</td>\n",
       "      <td>Ein Landarzt: Kleine Erzählungen</td>\n",
       "      <td>387.0</td>\n",
       "      <td>{'text/plain; charset=utf-8': 'http://www.gute...</td>\n",
       "      <td>Text</td>\n",
       "      <td>{PT}</td>\n",
       "      <td>{Short stories}</td>\n",
       "      <td>1883.0</td>\n",
       "      <td>1924.0</td>\n",
       "      <td>[de]</td>\n",
       "    </tr>\n",
       "    <tr>\n",
       "      <th>22367</th>\n",
       "      <td>Kafka, Franz</td>\n",
       "      <td>Die Verwandlung</td>\n",
       "      <td>3493.0</td>\n",
       "      <td>{'text/plain': 'http://www.gutenberg.org/ebook...</td>\n",
       "      <td>Text</td>\n",
       "      <td>{PT}</td>\n",
       "      <td>{Psychological fiction, Metamorphosis -- Fiction}</td>\n",
       "      <td>1883.0</td>\n",
       "      <td>1924.0</td>\n",
       "      <td>[de]</td>\n",
       "    </tr>\n",
       "    <tr>\n",
       "      <th>23532</th>\n",
       "      <td>Kafka, Franz</td>\n",
       "      <td>Betrachtung</td>\n",
       "      <td>125.0</td>\n",
       "      <td>{'text/plain; charset=iso-8859-1': 'http://www...</td>\n",
       "      <td>Text</td>\n",
       "      <td>{PT}</td>\n",
       "      <td>{Short stories}</td>\n",
       "      <td>1883.0</td>\n",
       "      <td>1924.0</td>\n",
       "      <td>[de]</td>\n",
       "    </tr>\n",
       "    <tr>\n",
       "      <th>25791</th>\n",
       "      <td>Kafka, Franz</td>\n",
       "      <td>In der Strafkolonie</td>\n",
       "      <td>265.0</td>\n",
       "      <td>{'image/jpeg': 'http://www.gutenberg.org/cache...</td>\n",
       "      <td>Text</td>\n",
       "      <td>{PT}</td>\n",
       "      <td>{Short stories, Torture -- Fiction}</td>\n",
       "      <td>1883.0</td>\n",
       "      <td>1924.0</td>\n",
       "      <td>[de]</td>\n",
       "    </tr>\n",
       "    <tr>\n",
       "      <th>26298</th>\n",
       "      <td>Kafka, Franz</td>\n",
       "      <td>The Metamorphosis</td>\n",
       "      <td>126.0</td>\n",
       "      <td>{'audio/ogg': 'http://www.gutenberg.org/files/...</td>\n",
       "      <td>Sound</td>\n",
       "      <td>{PT}</td>\n",
       "      <td>{Psychological fiction, Metamorphosis -- Fiction}</td>\n",
       "      <td>1883.0</td>\n",
       "      <td>1924.0</td>\n",
       "      <td>[en]</td>\n",
       "    </tr>\n",
       "    <tr>\n",
       "      <th>30570</th>\n",
       "      <td>Kafka, Franz</td>\n",
       "      <td>Grosser Lärm</td>\n",
       "      <td>65.0</td>\n",
       "      <td>{'application/epub+zip': 'http://www.gutenberg...</td>\n",
       "      <td>Text</td>\n",
       "      <td>{PT}</td>\n",
       "      <td>{German literature}</td>\n",
       "      <td>1883.0</td>\n",
       "      <td>1924.0</td>\n",
       "      <td>[de]</td>\n",
       "    </tr>\n",
       "    <tr>\n",
       "      <th>30655</th>\n",
       "      <td>Kafka, Franz</td>\n",
       "      <td>Ein Hungerkünstler</td>\n",
       "      <td>368.0</td>\n",
       "      <td>{'application/rdf+xml': 'http://www.gutenberg....</td>\n",
       "      <td>Text</td>\n",
       "      <td>{PT}</td>\n",
       "      <td>{Short stories, Fiction}</td>\n",
       "      <td>1883.0</td>\n",
       "      <td>1924.0</td>\n",
       "      <td>[de]</td>\n",
       "    </tr>\n",
       "    <tr>\n",
       "      <th>30753</th>\n",
       "      <td>Kafka, Franz</td>\n",
       "      <td>Der Mord</td>\n",
       "      <td>100.0</td>\n",
       "      <td>{'application/epub+zip': 'http://www.gutenberg...</td>\n",
       "      <td>Text</td>\n",
       "      <td>{PT}</td>\n",
       "      <td>{Short stories}</td>\n",
       "      <td>1883.0</td>\n",
       "      <td>1924.0</td>\n",
       "      <td>[de]</td>\n",
       "    </tr>\n",
       "    <tr>\n",
       "      <th>5200</th>\n",
       "      <td>Kafka, Franz</td>\n",
       "      <td>Metamorphosis</td>\n",
       "      <td>22821.0</td>\n",
       "      <td>{'text/plain': 'https://www.gutenberg.org/eboo...</td>\n",
       "      <td>Text</td>\n",
       "      <td>{PT}</td>\n",
       "      <td>{Psychological fiction, Metamorphosis -- Fiction}</td>\n",
       "      <td>1883.0</td>\n",
       "      <td>1924.0</td>\n",
       "      <td>[en]</td>\n",
       "    </tr>\n",
       "    <tr>\n",
       "      <th>7849</th>\n",
       "      <td>Kafka, Franz</td>\n",
       "      <td>The Trial</td>\n",
       "      <td>2850.0</td>\n",
       "      <td>{'application/epub+zip': 'https://www.gutenber...</td>\n",
       "      <td>Text</td>\n",
       "      <td>{PT}</td>\n",
       "      <td>{Social problems -- Fiction}</td>\n",
       "      <td>1883.0</td>\n",
       "      <td>1924.0</td>\n",
       "      <td>[en]</td>\n",
       "    </tr>\n",
       "  </tbody>\n",
       "</table>\n",
       "</div>"
      ],
      "text/plain": [
       "             author                             title  downloads  \\\n",
       "id                                                                 \n",
       "16304  Kafka, Franz          Der Heizer: Ein Fragment       89.0   \n",
       "19638  Kafka, Franz                   Auf der Galerie       30.0   \n",
       "20045  Kafka, Franz                       Großer Lärm       23.0   \n",
       "21593  Kafka, Franz       Das Urteil: Eine Geschichte      710.0   \n",
       "21989  Kafka, Franz  Ein Landarzt: Kleine Erzählungen      387.0   \n",
       "22367  Kafka, Franz                   Die Verwandlung     3493.0   \n",
       "23532  Kafka, Franz                       Betrachtung      125.0   \n",
       "25791  Kafka, Franz               In der Strafkolonie      265.0   \n",
       "26298  Kafka, Franz                 The Metamorphosis      126.0   \n",
       "30570  Kafka, Franz                      Grosser Lärm       65.0   \n",
       "30655  Kafka, Franz                Ein Hungerkünstler      368.0   \n",
       "30753  Kafka, Franz                          Der Mord      100.0   \n",
       "5200   Kafka, Franz                     Metamorphosis    22821.0   \n",
       "7849   Kafka, Franz                         The Trial     2850.0   \n",
       "\n",
       "                                                 formats   type   LCC  \\\n",
       "id                                                                      \n",
       "16304  {'application/epub+zip': 'http://www.gutenberg...   Text  {PT}   \n",
       "19638  {'application/zip': 'http://www.gutenberg.org/...  Sound  {PT}   \n",
       "20045  {'audio/mp4': 'http://www.gutenberg.org/files/...  Sound  {PT}   \n",
       "21593  {'text/html; charset=iso-8859-1': 'http://www....   Text  {PT}   \n",
       "21989  {'text/plain; charset=utf-8': 'http://www.gute...   Text  {PT}   \n",
       "22367  {'text/plain': 'http://www.gutenberg.org/ebook...   Text  {PT}   \n",
       "23532  {'text/plain; charset=iso-8859-1': 'http://www...   Text  {PT}   \n",
       "25791  {'image/jpeg': 'http://www.gutenberg.org/cache...   Text  {PT}   \n",
       "26298  {'audio/ogg': 'http://www.gutenberg.org/files/...  Sound  {PT}   \n",
       "30570  {'application/epub+zip': 'http://www.gutenberg...   Text  {PT}   \n",
       "30655  {'application/rdf+xml': 'http://www.gutenberg....   Text  {PT}   \n",
       "30753  {'application/epub+zip': 'http://www.gutenberg...   Text  {PT}   \n",
       "5200   {'text/plain': 'https://www.gutenberg.org/eboo...   Text  {PT}   \n",
       "7849   {'application/epub+zip': 'https://www.gutenber...   Text  {PT}   \n",
       "\n",
       "                                                subjects  authoryearofbirth  \\\n",
       "id                                                                            \n",
       "16304                            {Immigrants -- Fiction}             1883.0   \n",
       "19638                                    {Short stories}             1883.0   \n",
       "20045                                  {Autobiographies}             1883.0   \n",
       "21593  {Conflict of generations -- Fiction, Fathers a...             1883.0   \n",
       "21989                                    {Short stories}             1883.0   \n",
       "22367  {Psychological fiction, Metamorphosis -- Fiction}             1883.0   \n",
       "23532                                    {Short stories}             1883.0   \n",
       "25791                {Short stories, Torture -- Fiction}             1883.0   \n",
       "26298  {Psychological fiction, Metamorphosis -- Fiction}             1883.0   \n",
       "30570                                {German literature}             1883.0   \n",
       "30655                           {Short stories, Fiction}             1883.0   \n",
       "30753                                    {Short stories}             1883.0   \n",
       "5200   {Psychological fiction, Metamorphosis -- Fiction}             1883.0   \n",
       "7849                        {Social problems -- Fiction}             1883.0   \n",
       "\n",
       "       authoryearofdeath language  \n",
       "id                                 \n",
       "16304             1924.0     [de]  \n",
       "19638             1924.0     [de]  \n",
       "20045             1924.0     [de]  \n",
       "21593             1924.0     [de]  \n",
       "21989             1924.0     [de]  \n",
       "22367             1924.0     [de]  \n",
       "23532             1924.0     [de]  \n",
       "25791             1924.0     [de]  \n",
       "26298             1924.0     [en]  \n",
       "30570             1924.0     [de]  \n",
       "30655             1924.0     [de]  \n",
       "30753             1924.0     [de]  \n",
       "5200              1924.0     [en]  \n",
       "7849              1924.0     [en]  "
      ]
     },
     "execution_count": 31,
     "metadata": {},
     "output_type": "execute_result"
    }
   ],
   "source": [
    "df[df.author.str.contains('Kafka')]"
   ]
  }
 ],
 "metadata": {
  "kernelspec": {
   "display_name": "Python 3",
   "language": "python",
   "name": "python3"
  },
  "language_info": {
   "codemirror_mode": {
    "name": "ipython",
    "version": 3
   },
   "file_extension": ".py",
   "mimetype": "text/x-python",
   "name": "python",
   "nbconvert_exporter": "python",
   "pygments_lexer": "ipython3",
   "version": "3.6.9"
  }
 },
 "nbformat": 4,
 "nbformat_minor": 2
}
