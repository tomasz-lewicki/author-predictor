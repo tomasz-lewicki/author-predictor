{
  "nbformat": 4,
  "nbformat_minor": 0,
  "metadata": {
    "colab": {
      "name": "Video Mining",
      "provenance": [],
      "collapsed_sections": [],
      "include_colab_link": true
    },
    "kernelspec": {
      "name": "python3",
      "display_name": "Python 3"
    },
    "accelerator": "GPU"
  },
  "cells": [
    {
      "cell_type": "markdown",
      "metadata": {
        "id": "view-in-github",
        "colab_type": "text"
      },
      "source": [
        "<a href=\"https://colab.research.google.com/github/tomek-l/video-mining/blob/master/Video_Mining.ipynb\" target=\"_parent\"><img src=\"https://colab.research.google.com/assets/colab-badge.svg\" alt=\"Open In Colab\"/></a>"
      ]
    },
    {
      "cell_type": "code",
      "metadata": {
        "id": "8dPVSb2ZOhx8",
        "colab_type": "code",
        "colab": {}
      },
      "source": [
        "import torch\n",
        "import torchvision\n",
        "from torchvision import models\n",
        "from torchvision import transforms"
      ],
      "execution_count": 0,
      "outputs": []
    },
    {
      "cell_type": "code",
      "metadata": {
        "id": "q-jdH6Z8hJn5",
        "colab_type": "code",
        "colab": {
          "base_uri": "https://localhost:8080/",
          "height": 69
        },
        "outputId": "ed946fb7-2bf6-405a-e8c1-219872a641ef"
      },
      "source": [
        "import numpy as np\n",
        "from keras.datasets import cifar10\n",
        "(X_train, y_train), (X_test, y_test) = cifar10.load_data()\n",
        "\n",
        "# Move channel axes - go from (N,H,W,C) convention to (N,C,H,W)\n",
        "X_train = np.moveaxis(X_train, 3, 1)\n",
        "X_test = np.moveaxis(X_test, 3, 1)\n",
        "\n",
        "# Convert Feature Vectors to FP32\n",
        "X_train = X_train.astype(np.float32)\n",
        "X_test = X_test.astype(np.float32)\n",
        "\n",
        "y_train = y_train.astype(np.int)\n",
        "y_test = y_test.astype(np.int)\n",
        "\n",
        "y_train = np.squeeze(y_train)\n",
        "y_test = np.squeeze(y_test)"
      ],
      "execution_count": 2,
      "outputs": [
        {
          "output_type": "stream",
          "text": [
            "Using TensorFlow backend.\n"
          ],
          "name": "stderr"
        },
        {
          "output_type": "stream",
          "text": [
            "Downloading data from https://www.cs.toronto.edu/~kriz/cifar-10-python.tar.gz\n",
            "170500096/170498071 [==============================] - 2s 0us/step\n"
          ],
          "name": "stdout"
        }
      ]
    },
    {
      "cell_type": "code",
      "metadata": {
        "id": "V4EO71auOqdC",
        "colab_type": "code",
        "outputId": "14349509-4ee7-496c-f79a-264650235b7e",
        "colab": {
          "base_uri": "https://localhost:8080/",
          "height": 34
        }
      },
      "source": [
        "X_train[0].shape"
      ],
      "execution_count": 3,
      "outputs": [
        {
          "output_type": "execute_result",
          "data": {
            "text/plain": [
              "(3, 32, 32)"
            ]
          },
          "metadata": {
            "tags": []
          },
          "execution_count": 3
        }
      ]
    },
    {
      "cell_type": "code",
      "metadata": {
        "id": "aaku1svfvQC-",
        "colab_type": "code",
        "colab": {}
      },
      "source": [
        "from torch.utils.data.dataset import Dataset\n",
        " \n",
        "class CIFAR10_custom_ds(Dataset):\n",
        "    def __init__(self, feature_vec, labels, device):\n",
        "        self._device = device\n",
        "        self.x = feature_vec\n",
        "        self.y = labels \n",
        "\n",
        "        # I only do eager conversion to CUDA memory since CIFAR10 is relatively small\n",
        "        # (will only take some ~200MB of memory)\n",
        "        self.x = torch.tensor(self.x).to(self._device)\n",
        "        self.y = torch.tensor(self.y).to(self._device)\n",
        "         \n",
        "    def __getitem__(self, index):\n",
        "        return (self.x[index], self.y[index])\n",
        " \n",
        "    def __len__(self):\n",
        "        return len(self.x)"
      ],
      "execution_count": 0,
      "outputs": []
    },
    {
      "cell_type": "code",
      "metadata": {
        "id": "rtzZDhjlR0T0",
        "colab_type": "code",
        "colab": {}
      },
      "source": [
        "# pytorch way to use CIFAR-10\n",
        "# (with DataLoader class)\n",
        "\n",
        "# transform = transforms.Compose(\n",
        "#     [transforms.ToTensor(),\n",
        "#      transforms.Normalize((0.5, 0.5, 0.5), (0.5, 0.5, 0.5))])\n",
        "\n",
        "# trainset = torchvision.datasets.CIFAR10(root='./data', train=True,\n",
        "#                                         download=True, transform=transform)\n",
        "# trainloader = torch.utils.data.DataLoader(trainset, batch_size=4,\n",
        "#                                           shuffle=True, num_workers=2)\n",
        "\n",
        "# testset = torchvision.datasets.CIFAR10(root='./data', train=False,\n",
        "#                                        download=True, transform=transform)\n",
        "# testloader = torch.utils.data.DataLoader(testset, batch_size=4,\n",
        "#                                          shuffle=False, num_workers=2)\n",
        "\n",
        "# classes = ('plane', 'car', 'bird', 'cat',\n",
        "#            'deer', 'dog', 'frog', 'horse', 'ship', 'truck')"
      ],
      "execution_count": 0,
      "outputs": []
    },
    {
      "cell_type": "code",
      "metadata": {
        "id": "MKqKBwaLSDFs",
        "colab_type": "code",
        "colab": {}
      },
      "source": [
        "import torch.nn as nn\n",
        "\n",
        "# Let's define a simple NN based of resnet18\n",
        "class Net(nn.Module):\n",
        "    def __init__(self, n_classes):\n",
        "        super(Net, self).__init__()\n",
        "        self.backbone = models.resnet18(pretrained=False)\n",
        "        self.backbone.fc = torch.nn.Linear(512, n_classes)\n",
        "        self.sigmoid = torch.nn.Sigmoid()\n",
        "\n",
        "    def forward(self, x):\n",
        "        x = self.backbone(x)\n",
        "        x = self.sigmoid(x)\n",
        "        return x\n"
      ],
      "execution_count": 0,
      "outputs": []
    },
    {
      "cell_type": "code",
      "metadata": {
        "id": "DX-7_NAU0KYX",
        "colab_type": "code",
        "colab": {}
      },
      "source": [
        "from torch.utils.data import DataLoader\n",
        "\n",
        "# import torch.multiprocessing as mp\n",
        "# try:\n",
        "#     mp.set_start_method(\"spawn\")\n",
        "# except RuntimeError as e:\n",
        "#     print(e)\n",
        "#     pass\n",
        "\n",
        "GPU = torch.device(\"cuda:0\" if torch.cuda.is_available() else \"cpu\")\n",
        "trainset = CIFAR10_custom_ds(X_train, y_train, GPU)\n",
        "assert trainset[0:4] \n",
        "trainloader = DataLoader(trainset, batch_size=64, shuffle=True, num_workers=0)"
      ],
      "execution_count": 0,
      "outputs": []
    },
    {
      "cell_type": "code",
      "metadata": {
        "id": "TZi1-GvGTrL6",
        "colab_type": "code",
        "outputId": "cd27ea94-7746-4544-d838-5918ea1abde4",
        "colab": {
          "base_uri": "https://localhost:8080/",
          "height": 1000
        }
      },
      "source": [
        "from torch import optim \n",
        "\n",
        "net = Net(10).to(GPU)\n",
        "\n",
        "criterion = nn.CrossEntropyLoss()\n",
        "optimizer = optim.SGD(net.parameters(), lr=0.001, momentum=0.9)\n",
        "print_every = 100\n",
        "for epoch in range(20):  # loop over the dataset multiple times\n",
        "\n",
        "    running_loss = 0.0\n",
        "    for i, data in enumerate(trainloader, 0):\n",
        "        # get the inputs\n",
        "        inputs, labels = data\n",
        "\n",
        "        # zero the parameter gradients\n",
        "        optimizer.zero_grad()\n",
        "\n",
        "        # forward + backward + optimize\n",
        "        outputs = net(inputs)\n",
        "        loss = criterion(outputs, labels)\n",
        "        loss.backward()\n",
        "        optimizer.step()\n",
        "\n",
        "        # print statistics\n",
        "        running_loss += loss.item()\n",
        "        if i % print_every == print_every-1:    # print every 100 mini-batches\n",
        "            print(f'epoch {epoch+1} batch {i+1} loss: {(running_loss / print_every):.4f}')\n",
        "            running_loss = 0.0\n",
        "\n",
        "print('Finished Training')"
      ],
      "execution_count": 12,
      "outputs": [
        {
          "output_type": "stream",
          "text": [
            "epoch 1 batch 100 loss: 2.2282\n",
            "epoch 1 batch 200 loss: 2.1144\n",
            "epoch 1 batch 300 loss: 2.0518\n",
            "epoch 1 batch 400 loss: 2.0111\n",
            "epoch 1 batch 500 loss: 1.9868\n",
            "epoch 1 batch 600 loss: 1.9710\n",
            "epoch 1 batch 700 loss: 1.9514\n",
            "epoch 2 batch 100 loss: 1.9158\n",
            "epoch 2 batch 200 loss: 1.9051\n",
            "epoch 2 batch 300 loss: 1.9037\n",
            "epoch 2 batch 400 loss: 1.8992\n",
            "epoch 2 batch 500 loss: 1.8843\n",
            "epoch 2 batch 600 loss: 1.8871\n",
            "epoch 2 batch 700 loss: 1.8846\n",
            "epoch 3 batch 100 loss: 1.8629\n",
            "epoch 3 batch 200 loss: 1.8601\n",
            "epoch 3 batch 300 loss: 1.8578\n",
            "epoch 3 batch 400 loss: 1.8502\n",
            "epoch 3 batch 500 loss: 1.8462\n",
            "epoch 3 batch 600 loss: 1.8485\n",
            "epoch 3 batch 700 loss: 1.8417\n",
            "epoch 4 batch 100 loss: 1.8251\n",
            "epoch 4 batch 200 loss: 1.8209\n",
            "epoch 4 batch 300 loss: 1.8215\n",
            "epoch 4 batch 400 loss: 1.8232\n",
            "epoch 4 batch 500 loss: 1.8125\n",
            "epoch 4 batch 600 loss: 1.8209\n",
            "epoch 4 batch 700 loss: 1.8151\n",
            "epoch 5 batch 100 loss: 1.7934\n",
            "epoch 5 batch 200 loss: 1.7891\n",
            "epoch 5 batch 300 loss: 1.7919\n",
            "epoch 5 batch 400 loss: 1.7904\n",
            "epoch 5 batch 500 loss: 1.7924\n",
            "epoch 5 batch 600 loss: 1.7884\n",
            "epoch 5 batch 700 loss: 1.7883\n",
            "epoch 6 batch 100 loss: 1.7640\n",
            "epoch 6 batch 200 loss: 1.7722\n",
            "epoch 6 batch 300 loss: 1.7692\n",
            "epoch 6 batch 400 loss: 1.7697\n",
            "epoch 6 batch 500 loss: 1.7657\n",
            "epoch 6 batch 600 loss: 1.7637\n",
            "epoch 6 batch 700 loss: 1.7658\n",
            "epoch 7 batch 100 loss: 1.7470\n",
            "epoch 7 batch 200 loss: 1.7470\n",
            "epoch 7 batch 300 loss: 1.7447\n",
            "epoch 7 batch 400 loss: 1.7383\n",
            "epoch 7 batch 500 loss: 1.7447\n",
            "epoch 7 batch 600 loss: 1.7546\n",
            "epoch 7 batch 700 loss: 1.7496\n",
            "epoch 8 batch 100 loss: 1.7217\n",
            "epoch 8 batch 200 loss: 1.7174\n",
            "epoch 8 batch 300 loss: 1.7180\n",
            "epoch 8 batch 400 loss: 1.7258\n",
            "epoch 8 batch 500 loss: 1.7299\n",
            "epoch 8 batch 600 loss: 1.7259\n",
            "epoch 8 batch 700 loss: 1.7277\n",
            "epoch 9 batch 100 loss: 1.7015\n",
            "epoch 9 batch 200 loss: 1.6999\n",
            "epoch 9 batch 300 loss: 1.7016\n",
            "epoch 9 batch 400 loss: 1.7084\n",
            "epoch 9 batch 500 loss: 1.7062\n",
            "epoch 9 batch 600 loss: 1.7145\n",
            "epoch 9 batch 700 loss: 1.7114\n",
            "epoch 10 batch 100 loss: 1.6836\n",
            "epoch 10 batch 200 loss: 1.6852\n",
            "epoch 10 batch 300 loss: 1.6914\n",
            "epoch 10 batch 400 loss: 1.6796\n",
            "epoch 10 batch 500 loss: 1.6903\n",
            "epoch 10 batch 600 loss: 1.6915\n",
            "epoch 10 batch 700 loss: 1.6975\n",
            "epoch 11 batch 100 loss: 1.6739\n",
            "epoch 11 batch 200 loss: 1.6630\n",
            "epoch 11 batch 300 loss: 1.6805\n",
            "epoch 11 batch 400 loss: 1.6738\n",
            "epoch 11 batch 500 loss: 1.6793\n",
            "epoch 11 batch 600 loss: 1.6674\n",
            "epoch 11 batch 700 loss: 1.6688\n",
            "epoch 12 batch 100 loss: 1.6486\n",
            "epoch 12 batch 200 loss: 1.6507\n",
            "epoch 12 batch 300 loss: 1.6577\n",
            "epoch 12 batch 400 loss: 1.6594\n",
            "epoch 12 batch 500 loss: 1.6535\n",
            "epoch 12 batch 600 loss: 1.6560\n",
            "epoch 12 batch 700 loss: 1.6632\n",
            "epoch 13 batch 100 loss: 1.6444\n",
            "epoch 13 batch 200 loss: 1.6466\n",
            "epoch 13 batch 300 loss: 1.6433\n",
            "epoch 13 batch 400 loss: 1.6465\n",
            "epoch 13 batch 500 loss: 1.6476\n",
            "epoch 13 batch 600 loss: 1.6423\n",
            "epoch 13 batch 700 loss: 1.6454\n",
            "epoch 14 batch 100 loss: 1.6269\n",
            "epoch 14 batch 200 loss: 1.6255\n",
            "epoch 14 batch 300 loss: 1.6291\n",
            "epoch 14 batch 400 loss: 1.6335\n",
            "epoch 14 batch 500 loss: 1.6298\n",
            "epoch 14 batch 600 loss: 1.6282\n",
            "epoch 14 batch 700 loss: 1.6287\n",
            "epoch 15 batch 100 loss: 1.6102\n",
            "epoch 15 batch 200 loss: 1.6152\n",
            "epoch 15 batch 300 loss: 1.6119\n",
            "epoch 15 batch 400 loss: 1.6157\n",
            "epoch 15 batch 500 loss: 1.6221\n",
            "epoch 15 batch 600 loss: 1.6215\n",
            "epoch 15 batch 700 loss: 1.6201\n",
            "epoch 16 batch 100 loss: 1.6030\n",
            "epoch 16 batch 200 loss: 1.6053\n",
            "epoch 16 batch 300 loss: 1.6022\n",
            "epoch 16 batch 400 loss: 1.6042\n",
            "epoch 16 batch 500 loss: 1.6068\n",
            "epoch 16 batch 600 loss: 1.6086\n",
            "epoch 16 batch 700 loss: 1.6131\n",
            "epoch 17 batch 100 loss: 1.5940\n",
            "epoch 17 batch 200 loss: 1.5916\n",
            "epoch 17 batch 300 loss: 1.5942\n",
            "epoch 17 batch 400 loss: 1.5898\n",
            "epoch 17 batch 500 loss: 1.5989\n",
            "epoch 17 batch 600 loss: 1.6001\n",
            "epoch 17 batch 700 loss: 1.6003\n",
            "epoch 18 batch 100 loss: 1.5865\n",
            "epoch 18 batch 200 loss: 1.5813\n",
            "epoch 18 batch 300 loss: 1.5821\n",
            "epoch 18 batch 400 loss: 1.5936\n",
            "epoch 18 batch 500 loss: 1.5829\n",
            "epoch 18 batch 600 loss: 1.5822\n",
            "epoch 18 batch 700 loss: 1.5906\n",
            "epoch 19 batch 100 loss: 1.5721\n",
            "epoch 19 batch 200 loss: 1.5804\n",
            "epoch 19 batch 300 loss: 1.5763\n",
            "epoch 19 batch 400 loss: 1.5782\n",
            "epoch 19 batch 500 loss: 1.5776\n",
            "epoch 19 batch 600 loss: 1.5821\n",
            "epoch 19 batch 700 loss: 1.5818\n",
            "epoch 20 batch 100 loss: 1.5721\n",
            "epoch 20 batch 200 loss: 1.5656\n",
            "epoch 20 batch 300 loss: 1.5689\n",
            "epoch 20 batch 400 loss: 1.5638\n",
            "epoch 20 batch 500 loss: 1.5726\n",
            "epoch 20 batch 600 loss: 1.5759\n",
            "epoch 20 batch 700 loss: 1.5780\n",
            "Finished Training\n"
          ],
          "name": "stdout"
        }
      ]
    },
    {
      "cell_type": "code",
      "metadata": {
        "id": "Ql1vOS_HM_g6",
        "colab_type": "code",
        "colab": {
          "base_uri": "https://localhost:8080/",
          "height": 34
        },
        "outputId": "8d9dde73-f6b2-4c7e-dee5-86e1947af20c"
      },
      "source": [
        "testset = CIFAR10_custom_ds(X_test, y_test, GPU)\n",
        "testloader = DataLoader(testset, batch_size=64, shuffle=True, num_workers=0)\n",
        "\n",
        "correct = 0\n",
        "total = 0\n",
        "with torch.no_grad():\n",
        "    for data in testloader:\n",
        "        images, labels = data\n",
        "        outputs = net(images)\n",
        "        _, predicted = torch.max(outputs.data, 1)\n",
        "        total += labels.size(0)\n",
        "        correct += (predicted == labels).sum().item()\n",
        "\n",
        "print(f'Accuracy of the network on the  {len(y_test)} test images is {100 * correct / total} %')"
      ],
      "execution_count": 13,
      "outputs": [
        {
          "output_type": "stream",
          "text": [
            "Accuracy of the network on the  10000 test images is 62.6 %\n"
          ],
          "name": "stdout"
        }
      ]
    },
    {
      "cell_type": "code",
      "metadata": {
        "id": "uvNzWn0lM63F",
        "colab_type": "code",
        "colab": {}
      },
      "source": [
        "trainset = CIFAR10_custom_ds(X_train[:10000], y_train[:10000], GPU)\n",
        "assert trainset[0:4] \n",
        "trainloader = DataLoader(trainset, batch_size=64, shuffle=True, num_workers=0)"
      ],
      "execution_count": 0,
      "outputs": []
    },
    {
      "cell_type": "code",
      "metadata": {
        "id": "aE2UzlWROTvF",
        "colab_type": "code",
        "colab": {
          "base_uri": "https://localhost:8080/",
          "height": 382
        },
        "outputId": "1b89abdd-5988-4a33-a1be-f9913d739b2a"
      },
      "source": [
        "from torch import optim \n",
        "\n",
        "net_small = Net(10).to(GPU)\n",
        "\n",
        "criterion = nn.CrossEntropyLoss()\n",
        "optimizer = optim.SGD(net_small.parameters(), lr=0.001, momentum=0.9)\n",
        "print_every = 100\n",
        "for epoch in range(20):  # loop over the dataset multiple times\n",
        "\n",
        "    running_loss = 0.0\n",
        "    for i, data in enumerate(trainloader, 0):\n",
        "        # get the inputs\n",
        "        inputs, labels = data\n",
        "\n",
        "        # zero the parameter gradients\n",
        "        optimizer.zero_grad()\n",
        "\n",
        "        # forward + backward + optimize\n",
        "        outputs = net_small(inputs)\n",
        "        loss = criterion(outputs, labels)\n",
        "        loss.backward()\n",
        "        optimizer.step()\n",
        "\n",
        "        # print statistics\n",
        "        running_loss += loss.item()\n",
        "        if i % print_every == print_every-1:    # print every 100 mini-batches\n",
        "            print(f'epoch {epoch+1} batch {i+1} loss: {(running_loss / print_every):.4f}')\n",
        "            running_loss = 0.0\n",
        "\n",
        "print('Finished Training')"
      ],
      "execution_count": 29,
      "outputs": [
        {
          "output_type": "stream",
          "text": [
            "epoch 1 batch 100 loss: 2.2341\n",
            "epoch 2 batch 100 loss: 2.0524\n",
            "epoch 3 batch 100 loss: 1.9779\n",
            "epoch 4 batch 100 loss: 1.9228\n",
            "epoch 5 batch 100 loss: 1.8896\n",
            "epoch 6 batch 100 loss: 1.8490\n",
            "epoch 7 batch 100 loss: 1.8268\n",
            "epoch 8 batch 100 loss: 1.7940\n",
            "epoch 9 batch 100 loss: 1.7714\n",
            "epoch 10 batch 100 loss: 1.7443\n",
            "epoch 11 batch 100 loss: 1.7289\n",
            "epoch 12 batch 100 loss: 1.7046\n",
            "epoch 13 batch 100 loss: 1.6881\n",
            "epoch 14 batch 100 loss: 1.6686\n",
            "epoch 15 batch 100 loss: 1.6514\n",
            "epoch 16 batch 100 loss: 1.6365\n",
            "epoch 17 batch 100 loss: 1.6217\n",
            "epoch 18 batch 100 loss: 1.6060\n",
            "epoch 19 batch 100 loss: 1.5958\n",
            "epoch 20 batch 100 loss: 1.5874\n",
            "Finished Training\n"
          ],
          "name": "stdout"
        }
      ]
    },
    {
      "cell_type": "code",
      "metadata": {
        "id": "6Lz9tDL1PIr5",
        "colab_type": "code",
        "colab": {
          "base_uri": "https://localhost:8080/",
          "height": 34
        },
        "outputId": "1e85e697-ab0e-4ab9-ce19-73a3db4172e5"
      },
      "source": [
        "testset = CIFAR10_custom_ds(X_test, y_test, GPU)\n",
        "testloader = DataLoader(testset, batch_size=64, shuffle=True, num_workers=0)\n",
        "\n",
        "correct = 0\n",
        "total = 0\n",
        "with torch.no_grad():\n",
        "    for data in testloader:\n",
        "        images, labels = data\n",
        "        outputs = net_small(images)\n",
        "        _, predicted = torch.max(outputs.data, 1)\n",
        "        total += labels.size(0)\n",
        "        correct += (predicted == labels).sum().item()\n",
        "\n",
        "print(f'Accuracy of the network on the  {len(y_test)} test images is {100 * correct / total} %')"
      ],
      "execution_count": 30,
      "outputs": [
        {
          "output_type": "stream",
          "text": [
            "Accuracy of the network on the  10000 test images is 46.66 %\n"
          ],
          "name": "stdout"
        }
      ]
    },
    {
      "cell_type": "code",
      "metadata": {
        "id": "KNkLtu9xd9_A",
        "colab_type": "code",
        "colab": {}
      },
      "source": [
        "trainset = CIFAR10_custom_ds(X_train[:20000], y_train[:20000], GPU)\n",
        "assert trainset[0:4] \n",
        "trainloader = DataLoader(trainset, batch_size=64, shuffle=True, num_workers=0)"
      ],
      "execution_count": 0,
      "outputs": []
    },
    {
      "cell_type": "code",
      "metadata": {
        "id": "zwBS5ij0Nw-M",
        "colab_type": "code",
        "colab": {
          "base_uri": "https://localhost:8080/",
          "height": 1000
        },
        "outputId": "67dfd43f-b29a-4408-e710-cb4bcdf66ff8"
      },
      "source": [
        "from torch import optim \n",
        "\n",
        "net_random = Net(10).to(GPU)\n",
        "\n",
        "criterion = nn.CrossEntropyLoss()\n",
        "optimizer = optim.SGD(net_random.parameters(), lr=0.001, momentum=0.9)\n",
        "print_every = 100\n",
        "for epoch in range(20):  # loop over the dataset multiple times\n",
        "\n",
        "    running_loss = 0.0\n",
        "    for i, data in enumerate(trainloader, 0):\n",
        "        # get the inputs\n",
        "        inputs, labels = data\n",
        "\n",
        "        # zero the parameter gradients\n",
        "        optimizer.zero_grad()\n",
        "\n",
        "        # forward + backward + optimize\n",
        "        outputs = net_random(inputs)\n",
        "        loss = criterion(outputs, labels)\n",
        "        loss.backward()\n",
        "        optimizer.step()\n",
        "\n",
        "        # print statistics\n",
        "        running_loss += loss.item()\n",
        "        if i % print_every == print_every-1:    # print every 100 mini-batches\n",
        "            print(f'epoch {epoch+1} batch {i+1} loss: {(running_loss / print_every):.4f}')\n",
        "            running_loss = 0.0\n",
        "\n",
        "print('Finished Training')"
      ],
      "execution_count": 33,
      "outputs": [
        {
          "output_type": "stream",
          "text": [
            "epoch 1 batch 100 loss: 2.2281\n",
            "epoch 1 batch 200 loss: 2.1055\n",
            "epoch 1 batch 300 loss: 2.0514\n",
            "epoch 2 batch 100 loss: 1.9960\n",
            "epoch 2 batch 200 loss: 1.9796\n",
            "epoch 2 batch 300 loss: 1.9518\n",
            "epoch 3 batch 100 loss: 1.9238\n",
            "epoch 3 batch 200 loss: 1.9164\n",
            "epoch 3 batch 300 loss: 1.9044\n",
            "epoch 4 batch 100 loss: 1.8794\n",
            "epoch 4 batch 200 loss: 1.8786\n",
            "epoch 4 batch 300 loss: 1.8740\n",
            "epoch 5 batch 100 loss: 1.8481\n",
            "epoch 5 batch 200 loss: 1.8495\n",
            "epoch 5 batch 300 loss: 1.8466\n",
            "epoch 6 batch 100 loss: 1.8235\n",
            "epoch 6 batch 200 loss: 1.8245\n",
            "epoch 6 batch 300 loss: 1.8247\n",
            "epoch 7 batch 100 loss: 1.7969\n",
            "epoch 7 batch 200 loss: 1.8011\n",
            "epoch 7 batch 300 loss: 1.7956\n",
            "epoch 8 batch 100 loss: 1.7758\n",
            "epoch 8 batch 200 loss: 1.7786\n",
            "epoch 8 batch 300 loss: 1.7747\n",
            "epoch 9 batch 100 loss: 1.7516\n",
            "epoch 9 batch 200 loss: 1.7544\n",
            "epoch 9 batch 300 loss: 1.7536\n",
            "epoch 10 batch 100 loss: 1.7387\n",
            "epoch 10 batch 200 loss: 1.7313\n",
            "epoch 10 batch 300 loss: 1.7325\n",
            "epoch 11 batch 100 loss: 1.7138\n",
            "epoch 11 batch 200 loss: 1.7104\n",
            "epoch 11 batch 300 loss: 1.7150\n",
            "epoch 12 batch 100 loss: 1.6938\n",
            "epoch 12 batch 200 loss: 1.6925\n",
            "epoch 12 batch 300 loss: 1.6985\n",
            "epoch 13 batch 100 loss: 1.6745\n",
            "epoch 13 batch 200 loss: 1.6793\n",
            "epoch 13 batch 300 loss: 1.6762\n",
            "epoch 14 batch 100 loss: 1.6578\n",
            "epoch 14 batch 200 loss: 1.6637\n",
            "epoch 14 batch 300 loss: 1.6606\n",
            "epoch 15 batch 100 loss: 1.6409\n",
            "epoch 15 batch 200 loss: 1.6388\n",
            "epoch 15 batch 300 loss: 1.6503\n",
            "epoch 16 batch 100 loss: 1.6244\n",
            "epoch 16 batch 200 loss: 1.6317\n",
            "epoch 16 batch 300 loss: 1.6296\n",
            "epoch 17 batch 100 loss: 1.6118\n",
            "epoch 17 batch 200 loss: 1.6152\n",
            "epoch 17 batch 300 loss: 1.6169\n",
            "epoch 18 batch 100 loss: 1.5977\n",
            "epoch 18 batch 200 loss: 1.6028\n",
            "epoch 18 batch 300 loss: 1.6081\n",
            "epoch 19 batch 100 loss: 1.5863\n",
            "epoch 19 batch 200 loss: 1.5948\n",
            "epoch 19 batch 300 loss: 1.5939\n",
            "epoch 20 batch 100 loss: 1.5754\n",
            "epoch 20 batch 200 loss: 1.5804\n",
            "epoch 20 batch 300 loss: 1.5888\n",
            "Finished Training\n"
          ],
          "name": "stdout"
        }
      ]
    },
    {
      "cell_type": "code",
      "metadata": {
        "id": "PHlX7VOSQpXq",
        "colab_type": "code",
        "colab": {
          "base_uri": "https://localhost:8080/",
          "height": 34
        },
        "outputId": "9953fe4b-575d-412e-af91-271c6a39269f"
      },
      "source": [
        "testset = CIFAR10_custom_ds(X_test, y_test, GPU)\n",
        "testloader = DataLoader(testset, batch_size=64, shuffle=True, num_workers=0)\n",
        "\n",
        "correct = 0\n",
        "total = 0\n",
        "with torch.no_grad():\n",
        "    for data in testloader:\n",
        "        images, labels = data\n",
        "        outputs = net_random(images)\n",
        "        _, predicted = torch.max(outputs.data, 1)\n",
        "        total += labels.size(0)\n",
        "        correct += (predicted == labels).sum().item()\n",
        "\n",
        "print(f'Accuracy of the network on the  {len(y_test)} test images is {100 * correct / total} %')"
      ],
      "execution_count": 36,
      "outputs": [
        {
          "output_type": "stream",
          "text": [
            "Accuracy of the network on the  10000 test images is 54.07 %\n"
          ],
          "name": "stdout"
        }
      ]
    },
    {
      "cell_type": "code",
      "metadata": {
        "id": "2ob4vjjiR1t0",
        "colab_type": "code",
        "colab": {}
      },
      "source": [
        "metrics.euc"
      ],
      "execution_count": 0,
      "outputs": []
    },
    {
      "cell_type": "code",
      "metadata": {
        "id": "GqR3TcbMSSg6",
        "colab_type": "code",
        "colab": {
          "base_uri": "https://localhost:8080/",
          "height": 34
        },
        "outputId": "f2f73ac3-ec1e-45b6-9927-e2069afef02e"
      },
      "source": [
        ".shape"
      ],
      "execution_count": 40,
      "outputs": [
        {
          "output_type": "execute_result",
          "data": {
            "text/plain": [
              "(10000, 3072)"
            ]
          },
          "metadata": {
            "tags": []
          },
          "execution_count": 40
        }
      ]
    },
    {
      "cell_type": "code",
      "metadata": {
        "id": "YYVMxaD6QPnB",
        "colab_type": "code",
        "colab": {}
      },
      "source": [
        "from sklearn import metrics\n",
        "\n",
        "X_baseline = X_train[:10000]\n",
        "X_to_sample = X_train[10000:]\n",
        "\n",
        "dist = metrics.euclidean_distances(X_baseline.reshape(10000, -1).squeeze(), X_to_sample.reshape(40000, -1).squeeze())"
      ],
      "execution_count": 0,
      "outputs": []
    },
    {
      "cell_type": "code",
      "metadata": {
        "id": "3hMbovFlSnB9",
        "colab_type": "code",
        "colab": {}
      },
      "source": [
        "sort_idx = np.argsort(dist.sum(axis=0))"
      ],
      "execution_count": 0,
      "outputs": []
    },
    {
      "cell_type": "code",
      "metadata": {
        "id": "QA-kbU8NTQJm",
        "colab_type": "code",
        "colab": {}
      },
      "source": [
        "our_pick = sort_idx[-10000:] # we pick thees to append X_baseline"
      ],
      "execution_count": 0,
      "outputs": []
    },
    {
      "cell_type": "code",
      "metadata": {
        "id": "Xw8U9bpgTlxv",
        "colab_type": "code",
        "colab": {}
      },
      "source": [
        "X_new = np.concatenate([X_baseline, X_to_sample[our_pick]], axis=0)\n",
        "y_new = np.concatenate([y_train[:10000], y_train[10000:][our_pick]], axis=0)"
      ],
      "execution_count": 0,
      "outputs": []
    },
    {
      "cell_type": "code",
      "metadata": {
        "id": "gtI2spQaQGal",
        "colab_type": "code",
        "colab": {}
      },
      "source": [
        "trainset = CIFAR10_custom_ds(X_new, y_new, GPU)\n",
        "assert trainset[0:4] \n",
        "trainloader = DataLoader(trainset, batch_size=64, shuffle=True, num_workers=0)"
      ],
      "execution_count": 0,
      "outputs": []
    },
    {
      "cell_type": "code",
      "metadata": {
        "id": "DmkzWRkVUCJt",
        "colab_type": "code",
        "colab": {
          "base_uri": "https://localhost:8080/",
          "height": 1000
        },
        "outputId": "49ec6441-d8f5-41fd-d667-bec467b46767"
      },
      "source": [
        "from torch import optim \n",
        "\n",
        "net_l2 = Net(10).to(GPU)\n",
        "\n",
        "criterion = nn.CrossEntropyLoss()\n",
        "optimizer = optim.SGD(net_l2.parameters(), lr=0.001, momentum=0.9)\n",
        "print_every = 100\n",
        "for epoch in range(20):  # loop over the dataset multiple times\n",
        "\n",
        "    running_loss = 0.0\n",
        "    for i, data in enumerate(trainloader, 0):\n",
        "        # get the inputs\n",
        "        inputs, labels = data\n",
        "\n",
        "        # zero the parameter gradients\n",
        "        optimizer.zero_grad()\n",
        "\n",
        "        # forward + backward + optimize\n",
        "        outputs = net_l2(inputs)\n",
        "        loss = criterion(outputs, labels)\n",
        "        loss.backward()\n",
        "        optimizer.step()\n",
        "\n",
        "        # print statistics\n",
        "        running_loss += loss.item()\n",
        "        if i % print_every == print_every-1:    # print every 100 mini-batches\n",
        "            print(f'epoch {epoch+1} batch {i+1} loss: {(running_loss / print_every):.4f}')\n",
        "            running_loss = 0.0\n",
        "\n",
        "print('Finished Training')"
      ],
      "execution_count": 73,
      "outputs": [
        {
          "output_type": "stream",
          "text": [
            "epoch 1 batch 100 loss: 2.2312\n",
            "epoch 1 batch 200 loss: 2.1214\n",
            "epoch 1 batch 300 loss: 2.0528\n",
            "epoch 2 batch 100 loss: 1.9960\n",
            "epoch 2 batch 200 loss: 1.9740\n",
            "epoch 2 batch 300 loss: 1.9526\n",
            "epoch 3 batch 100 loss: 1.9170\n",
            "epoch 3 batch 200 loss: 1.9108\n",
            "epoch 3 batch 300 loss: 1.9022\n",
            "epoch 4 batch 100 loss: 1.8726\n",
            "epoch 4 batch 200 loss: 1.8694\n",
            "epoch 4 batch 300 loss: 1.8695\n",
            "epoch 5 batch 100 loss: 1.8403\n",
            "epoch 5 batch 200 loss: 1.8441\n",
            "epoch 5 batch 300 loss: 1.8406\n",
            "epoch 6 batch 100 loss: 1.8111\n",
            "epoch 6 batch 200 loss: 1.8159\n",
            "epoch 6 batch 300 loss: 1.8122\n",
            "epoch 7 batch 100 loss: 1.7864\n",
            "epoch 7 batch 200 loss: 1.7912\n",
            "epoch 7 batch 300 loss: 1.7900\n",
            "epoch 8 batch 100 loss: 1.7666\n",
            "epoch 8 batch 200 loss: 1.7704\n",
            "epoch 8 batch 300 loss: 1.7729\n",
            "epoch 9 batch 100 loss: 1.7469\n",
            "epoch 9 batch 200 loss: 1.7457\n",
            "epoch 9 batch 300 loss: 1.7475\n",
            "epoch 10 batch 100 loss: 1.7245\n",
            "epoch 10 batch 200 loss: 1.7277\n",
            "epoch 10 batch 300 loss: 1.7301\n",
            "epoch 11 batch 100 loss: 1.7068\n",
            "epoch 11 batch 200 loss: 1.7079\n",
            "epoch 11 batch 300 loss: 1.7078\n",
            "epoch 12 batch 100 loss: 1.6796\n",
            "epoch 12 batch 200 loss: 1.6919\n",
            "epoch 12 batch 300 loss: 1.6972\n",
            "epoch 13 batch 100 loss: 1.6674\n",
            "epoch 13 batch 200 loss: 1.6733\n",
            "epoch 13 batch 300 loss: 1.6673\n",
            "epoch 14 batch 100 loss: 1.6545\n",
            "epoch 14 batch 200 loss: 1.6512\n",
            "epoch 14 batch 300 loss: 1.6589\n",
            "epoch 15 batch 100 loss: 1.6328\n",
            "epoch 15 batch 200 loss: 1.6381\n",
            "epoch 15 batch 300 loss: 1.6462\n",
            "epoch 16 batch 100 loss: 1.6228\n",
            "epoch 16 batch 200 loss: 1.6226\n",
            "epoch 16 batch 300 loss: 1.6304\n",
            "epoch 17 batch 100 loss: 1.6138\n",
            "epoch 17 batch 200 loss: 1.6137\n",
            "epoch 17 batch 300 loss: 1.6105\n",
            "epoch 18 batch 100 loss: 1.5976\n",
            "epoch 18 batch 200 loss: 1.6057\n",
            "epoch 18 batch 300 loss: 1.6076\n",
            "epoch 19 batch 100 loss: 1.5870\n",
            "epoch 19 batch 200 loss: 1.5921\n",
            "epoch 19 batch 300 loss: 1.5995\n",
            "epoch 20 batch 100 loss: 1.5787\n",
            "epoch 20 batch 200 loss: 1.5827\n",
            "epoch 20 batch 300 loss: 1.5869\n",
            "Finished Training\n"
          ],
          "name": "stdout"
        }
      ]
    },
    {
      "cell_type": "code",
      "metadata": {
        "id": "MuwPgSDgUB4I",
        "colab_type": "code",
        "colab": {
          "base_uri": "https://localhost:8080/",
          "height": 34
        },
        "outputId": "10390a97-e669-4622-a750-646af5171fcf"
      },
      "source": [
        "testset = CIFAR10_custom_ds(X_test, y_test, GPU)\n",
        "testloader = DataLoader(testset, batch_size=64, shuffle=True, num_workers=0)\n",
        "\n",
        "correct = 0\n",
        "total = 0\n",
        "with torch.no_grad():\n",
        "    for data in testloader:\n",
        "        images, labels = data\n",
        "        outputs = net_l2(images)\n",
        "        _, predicted = torch.max(outputs.data, 1)\n",
        "        total += labels.size(0)\n",
        "        correct += (predicted == labels).sum().item()\n",
        "\n",
        "print(f'Accuracy of the network on the  {len(y_test)} test images is {100 * correct / total} %')"
      ],
      "execution_count": 74,
      "outputs": [
        {
          "output_type": "stream",
          "text": [
            "Accuracy of the network on the  10000 test images is 52.32 %\n"
          ],
          "name": "stdout"
        }
      ]
    },
    {
      "cell_type": "code",
      "metadata": {
        "id": "jenzRJxSWKVU",
        "colab_type": "code",
        "colab": {
          "base_uri": "https://localhost:8080/",
          "height": 34
        },
        "outputId": "4164cbdc-03a3-4d34-a67a-1999ba9a9185"
      },
      "source": [
        "np.argsort(dist[:,0])"
      ],
      "execution_count": 102,
      "outputs": [
        {
          "output_type": "execute_result",
          "data": {
            "text/plain": [
              "array([ 521, 6965, 3949, ..., 5867, 6400, 9522])"
            ]
          },
          "metadata": {
            "tags": []
          },
          "execution_count": 102
        }
      ]
    },
    {
      "cell_type": "code",
      "metadata": {
        "id": "KH8GuNgyWtYk",
        "colab_type": "code",
        "colab": {
          "base_uri": "https://localhost:8080/",
          "height": 283
        },
        "outputId": "19dd06a2-99e5-4edf-d290-28a3c40efe80"
      },
      "source": [
        "plt.imshow(np.rollaxis(X_to_sample[0], 0, 3).astype(np.uint8))"
      ],
      "execution_count": 100,
      "outputs": [
        {
          "output_type": "execute_result",
          "data": {
            "text/plain": [
              "<matplotlib.image.AxesImage at 0x7f6fb151a748>"
            ]
          },
          "metadata": {
            "tags": []
          },
          "execution_count": 100
        },
        {
          "output_type": "display_data",
          "data": {
            "image/png": "[encoded data removed]",
            "text/plain": [
              "<Figure size 432x288 with 1 Axes>"
            ]
          },
          "metadata": {
            "tags": [],
            "needs_background": "light"
          }
        }
      ]
    },
    {
      "cell_type": "code",
      "metadata": {
        "id": "s8BMW1X6X2JB",
        "colab_type": "code",
        "colab": {
          "base_uri": "https://localhost:8080/",
          "height": 283
        },
        "outputId": "a8d79ec8-f7cf-4752-b70b-26050379e8ff"
      },
      "source": [
        "plt.imshow(np.rollaxis(X_baseline[521], 0, 3).astype(np.uint8))"
      ],
      "execution_count": 103,
      "outputs": [
        {
          "output_type": "execute_result",
          "data": {
            "text/plain": [
              "<matplotlib.image.AxesImage at 0x7f6fb14fa320>"
            ]
          },
          "metadata": {
            "tags": []
          },
          "execution_count": 103
        },
        {
          "output_type": "display_data",
          "data": {
            "image/png": "[encoded data removed]",
            "text/plain": [
              "<Figure size 432x288 with 1 Axes>"
            ]
          },
          "metadata": {
            "tags": [],
            "needs_background": "light"
          }
        }
      ]
    },
    {
      "cell_type": "code",
      "metadata": {
        "id": "g3Y7gOGYX_U6",
        "colab_type": "code",
        "colab": {
          "base_uri": "https://localhost:8080/",
          "height": 283
        },
        "outputId": "6ad403af-8863-4dbe-ea6f-c576b41bc66a"
      },
      "source": [
        "plt.imshow(np.rollaxis(X_baseline[9522], 0, 3).astype(np.uint8))"
      ],
      "execution_count": 106,
      "outputs": [
        {
          "output_type": "execute_result",
          "data": {
            "text/plain": [
              "<matplotlib.image.AxesImage at 0x7f6fb1398b70>"
            ]
          },
          "metadata": {
            "tags": []
          },
          "execution_count": 106
        },
        {
          "output_type": "display_data",
          "data": {
            "image/png": "[encoded data removed]",
            "text/plain": [
              "<Figure size 432x288 with 1 Axes>"
            ]
          },
          "metadata": {
            "tags": [],
            "needs_background": "light"
          }
        }
      ]
    }
  ]
}