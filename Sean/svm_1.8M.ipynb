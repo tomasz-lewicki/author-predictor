{
 "cells": [
  {
   "cell_type": "code",
   "execution_count": 1,
   "metadata": {},
   "outputs": [],
   "source": [
    "import pickle\n",
    "import re\n",
    "from nltk import PorterStemmer\n",
    "from nltk.corpus import stopwords\n",
    "import numpy as np\n",
    "from sklearn.feature_extraction.text import TfidfVectorizer\n",
    "from sklearn.model_selection import train_test_split\n",
    "from sklearn.decomposition import TruncatedSVD\n",
    "from sklearn.svm import SVC\n",
    "import random\n",
    "from sklearn.utils import shuffle\n",
    "import time\n",
    "from sklearn.linear_model import LogisticRegression"
   ]
  },
  {
   "cell_type": "code",
   "execution_count": 2,
   "metadata": {},
   "outputs": [
    {
     "data": {
      "text/html": [
       "<div>\n",
       "<style scoped>\n",
       "    .dataframe tbody tr th:only-of-type {\n",
       "        vertical-align: middle;\n",
       "    }\n",
       "\n",
       "    .dataframe tbody tr th {\n",
       "        vertical-align: top;\n",
       "    }\n",
       "\n",
       "    .dataframe thead th {\n",
       "        text-align: right;\n",
       "    }\n",
       "</style>\n",
       "<table border=\"1\" class=\"dataframe\">\n",
       "  <thead>\n",
       "    <tr style=\"text-align: right;\">\n",
       "      <th></th>\n",
       "      <th>sentence</th>\n",
       "      <th>author</th>\n",
       "    </tr>\n",
       "  </thead>\n",
       "  <tbody>\n",
       "    <tr>\n",
       "      <th>0</th>\n",
       "      <td>[eugenie, grandet, by, honore, de, balzac, tra...</td>\n",
       "      <td>Balzac, Honoré de</td>\n",
       "    </tr>\n",
       "    <tr>\n",
       "      <th>1</th>\n",
       "      <td>[may, your, name, that, of, one, whose, portra...</td>\n",
       "      <td>Balzac, Honoré de</td>\n",
       "    </tr>\n",
       "    <tr>\n",
       "      <th>2</th>\n",
       "      <td>[de, balzac]</td>\n",
       "      <td>Balzac, Honoré de</td>\n",
       "    </tr>\n",
       "    <tr>\n",
       "      <th>3</th>\n",
       "      <td>[eugenie, grandet, i, there, are, houses, in, ...</td>\n",
       "      <td>Balzac, Honoré de</td>\n",
       "    </tr>\n",
       "    <tr>\n",
       "      <th>4</th>\n",
       "      <td>[within, these, houses, there, is, perhaps, th...</td>\n",
       "      <td>Balzac, Honoré de</td>\n",
       "    </tr>\n",
       "  </tbody>\n",
       "</table>\n",
       "</div>"
      ],
      "text/plain": [
       "                                            sentence             author\n",
       "0  [eugenie, grandet, by, honore, de, balzac, tra...  Balzac, Honoré de\n",
       "1  [may, your, name, that, of, one, whose, portra...  Balzac, Honoré de\n",
       "2                                       [de, balzac]  Balzac, Honoré de\n",
       "3  [eugenie, grandet, i, there, are, houses, in, ...  Balzac, Honoré de\n",
       "4  [within, these, houses, there, is, perhaps, th...  Balzac, Honoré de"
      ]
     },
     "execution_count": 2,
     "metadata": {},
     "output_type": "execute_result"
    }
   ],
   "source": [
    "f = open(\"clean_text.pickle\",\"rb\")\n",
    "df = pickle.load(f)\n",
    "f.close()\n",
    "df.head()"
   ]
  },
  {
   "cell_type": "code",
   "execution_count": 3,
   "metadata": {},
   "outputs": [],
   "source": [
    "a_l = list(set(df['author'].values))\n",
    "author = {i:a_l.index(i) for i in a_l}\n",
    "y = []\n",
    "for i in df['author']:\n",
    "    y.append(author[i])\n",
    "    \n",
    "# turn author into binary \n",
    "# author_list = list(set(df['author']))\n",
    "# y = []\n",
    "# for i in df['author']:\n",
    "#     y.append([1 if author_list[j] == i else 0 for j in range(len(author_list))])"
   ]
  },
  {
   "cell_type": "code",
   "execution_count": 4,
   "metadata": {},
   "outputs": [],
   "source": [
    "train = []\n",
    "for i in df['sentence'].values:\n",
    "    k = ' '.join(i)\n",
    "    train.append(k)"
   ]
  },
  {
   "cell_type": "code",
   "execution_count": 5,
   "metadata": {},
   "outputs": [
    {
     "name": "stdout",
     "output_type": "stream",
     "text": [
      "Length of label: 1904848\n",
      "Length of training set: 1904848\n"
     ]
    }
   ],
   "source": [
    "print(\"Length of label:\",len(train))\n",
    "print(\"Length of training set:\",len(y))"
   ]
  },
  {
   "cell_type": "code",
   "execution_count": 6,
   "metadata": {},
   "outputs": [
    {
     "data": {
      "text/plain": [
       "'the conductor will collect your fare over again every few miles and give you a ticket which he hasnt apparently kept any record of and you keep it till an inspector comes aboard byandby and tears a corner off it which he does not keep then you throw the ticket away and get ready to buy another'"
      ]
     },
     "execution_count": 6,
     "metadata": {},
     "output_type": "execute_result"
    }
   ],
   "source": [
    "random.seed(time.ctime())\n",
    "train, y = shuffle(train, y)\n",
    "train = train\n",
    "y = y\n",
    "train[0]"
   ]
  },
  {
   "cell_type": "code",
   "execution_count": 7,
   "metadata": {},
   "outputs": [],
   "source": [
    "vectorizer = TfidfVectorizer()\n",
    "X = vectorizer.fit_transform(train)\n",
    "svd = TruncatedSVD(n_components=120, n_iter=7, random_state=42)\n",
    "train = svd.fit_transform(X)"
   ]
  },
  {
   "cell_type": "code",
   "execution_count": 8,
   "metadata": {},
   "outputs": [],
   "source": [
    "X_train, X_test, y_train, y_test = train_test_split(train, y, test_size=0.2, random_state=42)"
   ]
  },
  {
   "cell_type": "code",
   "execution_count": 17,
   "metadata": {},
   "outputs": [],
   "source": [
    "lg = LogisticRegression(max_iter=500).fit(X_train, y_train)\n",
    "#svc = SVC().fit(X_train, y_train)"
   ]
  },
  {
   "cell_type": "code",
   "execution_count": 18,
   "metadata": {},
   "outputs": [],
   "source": [
    "tst_y = lg.predict(X_test)\n",
    "#tst_y = svc.predict(X_test)"
   ]
  },
  {
   "cell_type": "code",
   "execution_count": 19,
   "metadata": {},
   "outputs": [
    {
     "data": {
      "text/plain": [
       "0.3360477227535271"
      ]
     },
     "execution_count": 19,
     "metadata": {},
     "output_type": "execute_result"
    }
   ],
   "source": [
    "right, wrong = 0, 0\n",
    "for i,j in zip(tst_y,y_test):\n",
    "    if i == j:\n",
    "        right += 1\n",
    "    else:\n",
    "        wrong += 1\n",
    "right/wrong # accuracy"
   ]
  },
  {
   "cell_type": "code",
   "execution_count": 20,
   "metadata": {},
   "outputs": [],
   "source": [
    "# save model\n",
    "# f = open(\"svc_tfidf_model.pickle\",\"wb\")\n",
    "# pickle.dump(svc, f)\n",
    "\n",
    "# save model\n",
    "f = open(\"lg_tfidf_model.pickle\",\"wb\")\n",
    "pickle.dump(lg, f)"
   ]
  },
  {
   "cell_type": "code",
   "execution_count": 21,
   "metadata": {},
   "outputs": [],
   "source": [
    "f.close()"
   ]
  },
  {
   "cell_type": "code",
   "execution_count": null,
   "metadata": {},
   "outputs": [],
   "source": []
  }
 ],
 "metadata": {
  "kernelspec": {
   "display_name": "Python 3",
   "language": "python",
   "name": "python3"
  },
  "language_info": {
   "codemirror_mode": {
    "name": "ipython",
    "version": 3
   },
   "file_extension": ".py",
   "mimetype": "text/x-python",
   "name": "python",
   "nbconvert_exporter": "python",
   "pygments_lexer": "ipython3",
   "version": "3.7.6"
  }
 },
 "nbformat": 4,
 "nbformat_minor": 2
}
