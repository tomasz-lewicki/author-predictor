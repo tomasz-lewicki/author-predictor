{
 "cells": [
  {
   "cell_type": "code",
   "execution_count": 4,
   "metadata": {},
   "outputs": [
    {
     "ename": "ModuleNotFoundError",
     "evalue": "No module named 'utils'",
     "output_type": "error",
     "traceback": [
      "\u001b[1;31m---------------------------------------------------------------------------\u001b[0m",
      "\u001b[1;31mModuleNotFoundError\u001b[0m                       Traceback (most recent call last)",
      "\u001b[1;32m<ipython-input-4-bec973d0f52a>\u001b[0m in \u001b[0;36m<module>\u001b[1;34m\u001b[0m\n\u001b[1;32m----> 1\u001b[1;33m \u001b[1;32mimport\u001b[0m \u001b[0mutils\u001b[0m\u001b[1;33m.\u001b[0m\u001b[0mpreprocessing\u001b[0m\u001b[1;33m\u001b[0m\u001b[1;33m\u001b[0m\u001b[0m\n\u001b[0m\u001b[0;32m      2\u001b[0m \u001b[1;32mimport\u001b[0m \u001b[0mnumpy\u001b[0m \u001b[1;32mas\u001b[0m \u001b[0mnp\u001b[0m\u001b[1;33m\u001b[0m\u001b[1;33m\u001b[0m\u001b[0m\n\u001b[0;32m      3\u001b[0m \u001b[1;32mimport\u001b[0m \u001b[0mpandas\u001b[0m \u001b[1;32mas\u001b[0m \u001b[0mpd\u001b[0m\u001b[1;33m\u001b[0m\u001b[1;33m\u001b[0m\u001b[0m\n\u001b[0;32m      4\u001b[0m \u001b[1;32mimport\u001b[0m \u001b[0mnltk\u001b[0m\u001b[1;33m\u001b[0m\u001b[1;33m\u001b[0m\u001b[0m\n",
      "\u001b[1;31mModuleNotFoundError\u001b[0m: No module named 'utils'"
     ]
    }
   ],
   "source": [
    "import utils.preprocessing \n",
    "import numpy as np\n",
    "import pandas as pd\n",
    "import nltk"
   ]
  },
  {
   "cell_type": "code",
   "execution_count": null,
   "metadata": {},
   "outputs": [],
   "source": [
    "meta = utils.preprocessing.get_clean_dataframe()"
   ]
  },
  {
   "cell_type": "code",
   "execution_count": null,
   "metadata": {},
   "outputs": [],
   "source": [
    "top_authors = set(meta.author.value_counts()[:20].index)"
   ]
  },
  {
   "cell_type": "code",
   "execution_count": null,
   "metadata": {},
   "outputs": [],
   "source": [
    "sample_by_author = {}\n",
    "for a in top_authors:\n",
    "    gut_idx = np.array(meta[meta.author == a].index)\n",
    "    np.random.shuffle(gut_idx)\n",
    "    sample_by_author[a] = gut_idx"
   ]
  },
  {
   "cell_type": "code",
   "execution_count": null,
   "metadata": {},
   "outputs": [],
   "source": [
    "from gutenberg.acquire import load_etext\n",
    "from gutenberg.cleanup import strip_headers"
   ]
  },
  {
   "cell_type": "code",
   "execution_count": null,
   "metadata": {},
   "outputs": [],
   "source": [
    "MAX_CHARS_PER_AUTHOR = 1e7\n",
    "corpuses = {}\n",
    "it = 0\n",
    "for a in sample_by_author:\n",
    "    author_corpus = \"\"\n",
    "    for idx in sample_by_author[a]:\n",
    "        it += 1\n",
    "        print(f'Book {it:03} -- Acquiring {meta.loc[idx].title} by {a}')\n",
    "        raw_text = load_etext(int(idx))\n",
    "        book_str = strip_headers(raw_text)\n",
    "        author_corpus += book_str\n",
    "        if len(author_corpus) > MAX_CHARS_PER_AUTHOR:\n",
    "            break\n",
    "    corpuses[a] = author_corpus"
   ]
  },
  {
   "cell_type": "code",
   "execution_count": null,
   "metadata": {},
   "outputs": [],
   "source": [
    "import re\n",
    "\n",
    "REGEX_MULT_SPACES = re.compile(r\"\\s+\")\n",
    "\n",
    "df_big = pd.DataFrame(columns=['sentence', 'author'])\n",
    "\n",
    "for idx, author in enumerate(corpuses):\n",
    "    print(f\"Creating corpuses {(idx+1):02}/{len(corpuses)}\")\n",
    "    c = corpuses[author]\n",
    "    c = c.replace('\\n', ' ')\n",
    "    # c = c.replace('  ', '') <-- sub 2 spaces to \n",
    "    c = REGEX_MULT_SPACES.sub(\" \", c)\n",
    "    sentences = nltk.tokenize.sent_tokenize(c)\n",
    "    df = pd.DataFrame(columns=['sentence', 'author'])\n",
    "    df.sentence = sentences\n",
    "    df.author = author\n",
    "    \n",
    "    df_big = df_big.append(df, ignore_index=True)"
   ]
  },
  {
   "cell_type": "code",
   "execution_count": null,
   "metadata": {},
   "outputs": [],
   "source": [
    "rand_idx = np.random.randint(low=0, high=len(df_big), size=100)"
   ]
  },
  {
   "cell_type": "code",
   "execution_count": null,
   "metadata": {},
   "outputs": [],
   "source": [
    "len(df_big)"
   ]
  },
  {
   "cell_type": "code",
   "execution_count": null,
   "metadata": {},
   "outputs": [],
   "source": [
    "df_big.loc[rand_idx]"
   ]
  }
 ],
 "metadata": {
  "kernelspec": {
   "display_name": "Python 3",
   "language": "python",
   "name": "python3"
  },
  "language_info": {
   "codemirror_mode": {
    "name": "ipython",
    "version": 3
   },
   "file_extension": ".py",
   "mimetype": "text/x-python",
   "name": "python",
   "nbconvert_exporter": "python",
   "pygments_lexer": "ipython3",
   "version": "3.7.6"
  }
 },
 "nbformat": 4,
 "nbformat_minor": 2
}
