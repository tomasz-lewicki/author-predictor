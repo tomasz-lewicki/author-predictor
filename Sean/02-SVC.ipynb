{
 "cells": [
  {
   "cell_type": "code",
   "execution_count": 1,
   "metadata": {},
   "outputs": [],
   "source": [
    "import pickle"
   ]
  },
  {
   "cell_type": "code",
   "execution_count": 2,
   "metadata": {},
   "outputs": [],
   "source": [
    "f = open(\"./pickles/wv_X.pickle\",\"rb\")\n",
    "X = pickle.load(f)\n",
    "f.close()"
   ]
  },
  {
   "cell_type": "code",
   "execution_count": 3,
   "metadata": {},
   "outputs": [
    {
     "data": {
      "text/html": [
       "<div>\n",
       "<style scoped>\n",
       "    .dataframe tbody tr th:only-of-type {\n",
       "        vertical-align: middle;\n",
       "    }\n",
       "\n",
       "    .dataframe tbody tr th {\n",
       "        vertical-align: top;\n",
       "    }\n",
       "\n",
       "    .dataframe thead th {\n",
       "        text-align: right;\n",
       "    }\n",
       "</style>\n",
       "<table border=\"1\" class=\"dataframe\">\n",
       "  <thead>\n",
       "    <tr style=\"text-align: right;\">\n",
       "      <th></th>\n",
       "      <th>sentence</th>\n",
       "      <th>author</th>\n",
       "    </tr>\n",
       "  </thead>\n",
       "  <tbody>\n",
       "    <tr>\n",
       "      <th>0</th>\n",
       "      <td>EUGENIE GRANDET By Honore De Balzac Translate...</td>\n",
       "      <td>Balzac, Honoré de</td>\n",
       "    </tr>\n",
       "    <tr>\n",
       "      <th>1</th>\n",
       "      <td>May your name, that of one whose portrait is t...</td>\n",
       "      <td>Balzac, Honoré de</td>\n",
       "    </tr>\n",
       "    <tr>\n",
       "      <th>2</th>\n",
       "      <td>De Balzac.</td>\n",
       "      <td>Balzac, Honoré de</td>\n",
       "    </tr>\n",
       "    <tr>\n",
       "      <th>3</th>\n",
       "      <td>EUGENIE GRANDET I There are houses in certain ...</td>\n",
       "      <td>Balzac, Honoré de</td>\n",
       "    </tr>\n",
       "    <tr>\n",
       "      <th>4</th>\n",
       "      <td>Within these houses there is, perhaps, the sil...</td>\n",
       "      <td>Balzac, Honoré de</td>\n",
       "    </tr>\n",
       "  </tbody>\n",
       "</table>\n",
       "</div>"
      ],
      "text/plain": [
       "                                            sentence             author\n",
       "0   EUGENIE GRANDET By Honore De Balzac Translate...  Balzac, Honoré de\n",
       "1  May your name, that of one whose portrait is t...  Balzac, Honoré de\n",
       "2                                         De Balzac.  Balzac, Honoré de\n",
       "3  EUGENIE GRANDET I There are houses in certain ...  Balzac, Honoré de\n",
       "4  Within these houses there is, perhaps, the sil...  Balzac, Honoré de"
      ]
     },
     "execution_count": 3,
     "metadata": {},
     "output_type": "execute_result"
    }
   ],
   "source": [
    "f = open(\"./pickles/author_sentence.pickle\",\"rb\")\n",
    "df = pickle.load(f)\n",
    "f.close()\n",
    "df.head()"
   ]
  },
  {
   "cell_type": "code",
   "execution_count": 4,
   "metadata": {},
   "outputs": [],
   "source": [
    "# turn author binerize\n",
    "#[0,0,0,1,0,0,0,0,.....]\n",
    "# author_list = list(set(df['author']))\n",
    "# label = []\n",
    "# for i in df['author']:\n",
    "#     label.append([1 if author_list[j] == i else 0 for j in range(len(author_list))])\n",
    "\n",
    "# [0,15,13,7,3,...]\n",
    "author_list = list(set(df['author']))\n",
    "label = []\n",
    "for i in df['author']:\n",
    "    label.append(author_list.index(i))"
   ]
  },
  {
   "cell_type": "markdown",
   "metadata": {},
   "source": [
    "## Test SCV"
   ]
  },
  {
   "cell_type": "code",
   "execution_count": 5,
   "metadata": {},
   "outputs": [],
   "source": [
    "from sklearn import svm\n",
    "from sklearn.kernel_approximation import Nystroem"
   ]
  },
  {
   "cell_type": "code",
   "execution_count": 6,
   "metadata": {},
   "outputs": [],
   "source": [
    "clf = svm.LinearSVC()"
   ]
  },
  {
   "cell_type": "code",
   "execution_count": 7,
   "metadata": {},
   "outputs": [],
   "source": [
    "breaks = []\n",
    "for i in range(len(label)-1):\n",
    "    if label[i] != label[i+1]:\n",
    "        breaks.append(i)"
   ]
  },
  {
   "cell_type": "code",
   "execution_count": 8,
   "metadata": {},
   "outputs": [
    {
     "data": {
      "text/plain": [
       "[82623,\n",
       " 258888,\n",
       " 315029,\n",
       " 424742,\n",
       " 500036,\n",
       " 585677,\n",
       " 674274,\n",
       " 758273,\n",
       " 839654,\n",
       " 910398,\n",
       " 995015,\n",
       " 1172958,\n",
       " 1252179,\n",
       " 1334049,\n",
       " 1411109,\n",
       " 1545376,\n",
       " 1631822,\n",
       " 1757397,\n",
       " 1823025]"
      ]
     },
     "execution_count": 8,
     "metadata": {},
     "output_type": "execute_result"
    }
   ],
   "source": [
    "# TODO: Down Sample the data...\n",
    "breaks"
   ]
  },
  {
   "cell_type": "code",
   "execution_count": 9,
   "metadata": {},
   "outputs": [],
   "source": [
    "from sklearn.utils.random import sample_without_replacement\n",
    "new_X = []\n",
    "new_y = []\n",
    "for i in breaks:\n",
    "    for j in sample_without_replacement(i, 30000):\n",
    "        new_X.append(X[j])\n",
    "        new_y.append(label[j])"
   ]
  },
  {
   "cell_type": "code",
   "execution_count": 10,
   "metadata": {},
   "outputs": [],
   "source": [
    "feature_map_nystroem = Nystroem(gamma=.2,random_state=1,n_components=300)\n",
    "data_transformed = feature_map_nystroem.fit_transform(new_X)"
   ]
  },
  {
   "cell_type": "code",
   "execution_count": 11,
   "metadata": {},
   "outputs": [
    {
     "data": {
      "text/plain": [
       "'rbf'"
      ]
     },
     "execution_count": 11,
     "metadata": {},
     "output_type": "execute_result"
    }
   ],
   "source": [
    "feature_map_nystroem.kernel"
   ]
  },
  {
   "cell_type": "code",
   "execution_count": 12,
   "metadata": {},
   "outputs": [
    {
     "data": {
      "text/plain": [
       "LinearSVC(C=1.0, class_weight=None, dual=True, fit_intercept=True,\n",
       "          intercept_scaling=1, loss='squared_hinge', max_iter=1000,\n",
       "          multi_class='ovr', penalty='l2', random_state=None, tol=0.0001,\n",
       "          verbose=0)"
      ]
     },
     "execution_count": 12,
     "metadata": {},
     "output_type": "execute_result"
    }
   ],
   "source": [
    "clf.fit(data_transformed, new_y)"
   ]
  },
  {
   "cell_type": "markdown",
   "metadata": {},
   "source": [
    "### Get accuracy"
   ]
  },
  {
   "cell_type": "code",
   "execution_count": 13,
   "metadata": {},
   "outputs": [],
   "source": [
    "test_X = []\n",
    "test_y = []\n",
    "for i in breaks:\n",
    "    for j in sample_without_replacement(1823024, 3000):\n",
    "        test_X.append(X[j])\n",
    "        test_y.append(label[j])"
   ]
  },
  {
   "cell_type": "code",
   "execution_count": 14,
   "metadata": {},
   "outputs": [],
   "source": [
    "feature_map_nystroem = Nystroem(gamma=.2,random_state=1,n_components=300)\n",
    "data_transformed = feature_map_nystroem.fit_transform(test_X)"
   ]
  },
  {
   "cell_type": "code",
   "execution_count": 15,
   "metadata": {},
   "outputs": [
    {
     "data": {
      "text/plain": [
       "0.037263157894736845"
      ]
     },
     "execution_count": 15,
     "metadata": {},
     "output_type": "execute_result"
    }
   ],
   "source": [
    "clf.score(data_transformed,test_y)"
   ]
  },
  {
   "cell_type": "code",
   "execution_count": null,
   "metadata": {},
   "outputs": [],
   "source": []
  }
 ],
 "metadata": {
  "kernelspec": {
   "display_name": "Python 3",
   "language": "python",
   "name": "python3"
  },
  "language_info": {
   "codemirror_mode": {
    "name": "ipython",
    "version": 3
   },
   "file_extension": ".py",
   "mimetype": "text/x-python",
   "name": "python",
   "nbconvert_exporter": "python",
   "pygments_lexer": "ipython3",
   "version": "3.7.6"
  }
 },
 "nbformat": 4,
 "nbformat_minor": 4
}
