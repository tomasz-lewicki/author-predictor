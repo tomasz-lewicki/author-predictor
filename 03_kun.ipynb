{
 "cells": [
  {
   "cell_type": "code",
   "execution_count": 1,
   "metadata": {},
   "outputs": [],
   "source": [
    "# reference: https://www.kaggle.com/abhishek/approaching-almost-any-nlp-problem-on-kaggle/notebook\n",
    "import matplotlib.pyplot as plt\n",
    "import re\n",
    "import pickle\n",
    "import numpy as np\n",
    "import pandas as pd\n",
    "from time import time\n",
    "from pprint import pprint\n",
    "\n",
    "from nltk.corpus import stopwords\n",
    "\n",
    "from sklearn import preprocessing\n",
    "from sklearn.pipeline import Pipeline\n",
    "from sklearn.metrics import accuracy_score\n",
    "from sklearn.naive_bayes import MultinomialNB\n",
    "from sklearn.model_selection import GridSearchCV\n",
    "from sklearn.model_selection import train_test_split\n",
    "from sklearn.model_selection import KFold, cross_val_score\n",
    "from sklearn.feature_selection import SelectKBest, f_classif\n",
    "from sklearn.feature_extraction.text import CountVectorizer\n",
    "from sklearn.feature_extraction.text import TfidfVectorizer\n",
    "from sklearn import preprocessing, decomposition, model_selection, metrics, pipeline\n",
    "\n",
    "stop_word = set(stopwords.words('english')) "
   ]
  },
  {
   "cell_type": "code",
   "execution_count": 2,
   "metadata": {},
   "outputs": [
    {
     "data": {
      "text/html": [
       "<div>\n",
       "<style scoped>\n",
       "    .dataframe tbody tr th:only-of-type {\n",
       "        vertical-align: middle;\n",
       "    }\n",
       "\n",
       "    .dataframe tbody tr th {\n",
       "        vertical-align: top;\n",
       "    }\n",
       "\n",
       "    .dataframe thead th {\n",
       "        text-align: right;\n",
       "    }\n",
       "</style>\n",
       "<table border=\"1\" class=\"dataframe\">\n",
       "  <thead>\n",
       "    <tr style=\"text-align: right;\">\n",
       "      <th></th>\n",
       "      <th>sentence</th>\n",
       "      <th>author</th>\n",
       "    </tr>\n",
       "  </thead>\n",
       "  <tbody>\n",
       "    <tr>\n",
       "      <th>0</th>\n",
       "      <td>EUGENIE GRANDET By Honore De Balzac Translate...</td>\n",
       "      <td>Balzac, Honoré de</td>\n",
       "    </tr>\n",
       "    <tr>\n",
       "      <th>1</th>\n",
       "      <td>May your name, that of one whose portrait is t...</td>\n",
       "      <td>Balzac, Honoré de</td>\n",
       "    </tr>\n",
       "    <tr>\n",
       "      <th>2</th>\n",
       "      <td>De Balzac.</td>\n",
       "      <td>Balzac, Honoré de</td>\n",
       "    </tr>\n",
       "    <tr>\n",
       "      <th>3</th>\n",
       "      <td>EUGENIE GRANDET I There are houses in certain ...</td>\n",
       "      <td>Balzac, Honoré de</td>\n",
       "    </tr>\n",
       "    <tr>\n",
       "      <th>4</th>\n",
       "      <td>Within these houses there is, perhaps, the sil...</td>\n",
       "      <td>Balzac, Honoré de</td>\n",
       "    </tr>\n",
       "  </tbody>\n",
       "</table>\n",
       "</div>"
      ],
      "text/plain": [
       "                                            sentence             author\n",
       "0   EUGENIE GRANDET By Honore De Balzac Translate...  Balzac, Honoré de\n",
       "1  May your name, that of one whose portrait is t...  Balzac, Honoré de\n",
       "2                                         De Balzac.  Balzac, Honoré de\n",
       "3  EUGENIE GRANDET I There are houses in certain ...  Balzac, Honoré de\n",
       "4  Within these houses there is, perhaps, the sil...  Balzac, Honoré de"
      ]
     },
     "execution_count": 2,
     "metadata": {},
     "output_type": "execute_result"
    }
   ],
   "source": [
    "f = open(\"data/author_sentence.pickle\",\"rb\")\n",
    "df = pickle.load(f)\n",
    "f.close()\n",
    "train = df\n",
    "train.head()"
   ]
  },
  {
   "cell_type": "code",
   "execution_count": 3,
   "metadata": {},
   "outputs": [],
   "source": [
    "# testing model\n",
    "# train = train.sample(int(len(train) / 10))\n",
    "# testing_length = 100\n",
    "# testing_k = 18598\n"
   ]
  },
  {
   "cell_type": "markdown",
   "metadata": {},
   "source": [
    "### Basic Exploratory Data Analysis (EDA)"
   ]
  },
  {
   "cell_type": "code",
   "execution_count": 4,
   "metadata": {},
   "outputs": [
    {
     "data": {
      "text/plain": [
       "Parker, Gilbert                        177943\n",
       "Shakespeare, William                   176265\n",
       "Alger, Horatio, Jr.                    134267\n",
       "Fenn, George Manville                  125575\n",
       "Meredith, George                       109713\n",
       "Dickens, Charles                        88597\n",
       "Kingston, William Henry Giles           86446\n",
       "Twain, Mark                             85641\n",
       "Jacobs, W. W. (William Wymark)          84617\n",
       "Stevenson, Robert Louis                 83999\n",
       "Balzac, Honoré de                       82624\n",
       "Oliphant, Mrs. (Margaret)               81870\n",
       "Ballantyne, R. M. (Robert Michael)      81822\n",
       "Henty, G. A. (George Alfred)            81381\n",
       "Ebers, Georg                            79221\n",
       "Howells, William Dean                   77060\n",
       "Lytton, Edward Bulwer Lytton, Baron     75294\n",
       "Hawthorne, Nathaniel                    70744\n",
       "Motley, John Lothrop                    65628\n",
       "Pepys, Samuel                           56141\n",
       "Name: author, dtype: int64"
      ]
     },
     "execution_count": 4,
     "metadata": {},
     "output_type": "execute_result"
    }
   ],
   "source": [
    "train['author'].value_counts()"
   ]
  },
  {
   "cell_type": "code",
   "execution_count": 5,
   "metadata": {},
   "outputs": [
    {
     "data": {
      "text/html": [
       "<div>\n",
       "<style scoped>\n",
       "    .dataframe tbody tr th:only-of-type {\n",
       "        vertical-align: middle;\n",
       "    }\n",
       "\n",
       "    .dataframe tbody tr th {\n",
       "        vertical-align: top;\n",
       "    }\n",
       "\n",
       "    .dataframe thead th {\n",
       "        text-align: right;\n",
       "    }\n",
       "</style>\n",
       "<table border=\"1\" class=\"dataframe\">\n",
       "  <thead>\n",
       "    <tr style=\"text-align: right;\">\n",
       "      <th></th>\n",
       "      <th>text</th>\n",
       "      <th>author</th>\n",
       "    </tr>\n",
       "  </thead>\n",
       "  <tbody>\n",
       "    <tr>\n",
       "      <th>0</th>\n",
       "      <td>EUGENIE GRANDET By Honore De Balzac Translate...</td>\n",
       "      <td>Balzac, Honoré de</td>\n",
       "    </tr>\n",
       "    <tr>\n",
       "      <th>1</th>\n",
       "      <td>May your name, that of one whose portrait is t...</td>\n",
       "      <td>Balzac, Honoré de</td>\n",
       "    </tr>\n",
       "    <tr>\n",
       "      <th>2</th>\n",
       "      <td>De Balzac.</td>\n",
       "      <td>Balzac, Honoré de</td>\n",
       "    </tr>\n",
       "    <tr>\n",
       "      <th>3</th>\n",
       "      <td>EUGENIE GRANDET I There are houses in certain ...</td>\n",
       "      <td>Balzac, Honoré de</td>\n",
       "    </tr>\n",
       "    <tr>\n",
       "      <th>4</th>\n",
       "      <td>Within these houses there is, perhaps, the sil...</td>\n",
       "      <td>Balzac, Honoré de</td>\n",
       "    </tr>\n",
       "    <tr>\n",
       "      <th>...</th>\n",
       "      <td>...</td>\n",
       "      <td>...</td>\n",
       "    </tr>\n",
       "    <tr>\n",
       "      <th>1904843</th>\n",
       "      <td>But Abdul Jemalee was not a man of observation.</td>\n",
       "      <td>Ballantyne, R. M. (Robert Michael)</td>\n",
       "    </tr>\n",
       "    <tr>\n",
       "      <th>1904844</th>\n",
       "      <td>He did not care a straw for these things, and ...</td>\n",
       "      <td>Ballantyne, R. M. (Robert Michael)</td>\n",
       "    </tr>\n",
       "    <tr>\n",
       "      <th>1904845</th>\n",
       "      <td>There is no necessary antagonism, however, bet...</td>\n",
       "      <td>Ballantyne, R. M. (Robert Michael)</td>\n",
       "    </tr>\n",
       "    <tr>\n",
       "      <th>1904846</th>\n",
       "      <td>Circumstances and men have at present thrown a...</td>\n",
       "      <td>Ballantyne, R. M. (Robert Michael)</td>\n",
       "    </tr>\n",
       "    <tr>\n",
       "      <th>1904847</th>\n",
       "      <td>THE END.</td>\n",
       "      <td>Ballantyne, R. M. (Robert Michael)</td>\n",
       "    </tr>\n",
       "  </tbody>\n",
       "</table>\n",
       "<p>1904848 rows × 2 columns</p>\n",
       "</div>"
      ],
      "text/plain": [
       "                                                      text  \\\n",
       "0         EUGENIE GRANDET By Honore De Balzac Translate...   \n",
       "1        May your name, that of one whose portrait is t...   \n",
       "2                                               De Balzac.   \n",
       "3        EUGENIE GRANDET I There are houses in certain ...   \n",
       "4        Within these houses there is, perhaps, the sil...   \n",
       "...                                                    ...   \n",
       "1904843    But Abdul Jemalee was not a man of observation.   \n",
       "1904844  He did not care a straw for these things, and ...   \n",
       "1904845  There is no necessary antagonism, however, bet...   \n",
       "1904846  Circumstances and men have at present thrown a...   \n",
       "1904847                                           THE END.   \n",
       "\n",
       "                                     author  \n",
       "0                         Balzac, Honoré de  \n",
       "1                         Balzac, Honoré de  \n",
       "2                         Balzac, Honoré de  \n",
       "3                         Balzac, Honoré de  \n",
       "4                         Balzac, Honoré de  \n",
       "...                                     ...  \n",
       "1904843  Ballantyne, R. M. (Robert Michael)  \n",
       "1904844  Ballantyne, R. M. (Robert Michael)  \n",
       "1904845  Ballantyne, R. M. (Robert Michael)  \n",
       "1904846  Ballantyne, R. M. (Robert Michael)  \n",
       "1904847  Ballantyne, R. M. (Robert Michael)  \n",
       "\n",
       "[1904848 rows x 2 columns]"
      ]
     },
     "execution_count": 5,
     "metadata": {},
     "output_type": "execute_result"
    }
   ],
   "source": [
    "# Reanme\n",
    "train.rename(columns = {'sentence':'text'}, inplace = True) \n",
    "train"
   ]
  },
  {
   "cell_type": "markdown",
   "metadata": {},
   "source": [
    "## Data Preprocessing"
   ]
  },
  {
   "cell_type": "markdown",
   "metadata": {},
   "source": [
    "### Removing all notations"
   ]
  },
  {
   "cell_type": "code",
   "execution_count": 6,
   "metadata": {},
   "outputs": [
    {
     "data": {
      "text/plain": [
       "0           EUGENIE GRANDET By Honore De Balzac Translate...\n",
       "1          May your name that of one whose portrait is th...\n",
       "2                                                  De Balzac\n",
       "3          EUGENIE GRANDET I There are houses in certain ...\n",
       "4          Within these houses there is perhaps the silen...\n",
       "                                 ...                        \n",
       "1904843       But Abdul Jemalee was not a man of observation\n",
       "1904844    He did not care a straw for these things and a...\n",
       "1904845    There is no necessary antagonism however betwe...\n",
       "1904846    Circumstances and men have at present thrown a...\n",
       "1904847                                              THE END\n",
       "Name: text, Length: 1904848, dtype: object"
      ]
     },
     "execution_count": 6,
     "metadata": {},
     "output_type": "execute_result"
    }
   ],
   "source": [
    "def data_clearing_combined(text):\n",
    "    \n",
    "    regex = r'([0-9~`!@#$%^&*()\\-_=+\\[\\]{};:\\'\",.<>?\\/\\\\“”‘’|「」【】¥])'\n",
    "    result = re.compile(regex)\n",
    "    return result.sub(r'',text)\n",
    "                                  \n",
    "# Clear training Text\n",
    "train['text'] = train['text'].apply(lambda x : data_clearing_combined(str(x)))\n",
    "train['text']"
   ]
  },
  {
   "cell_type": "markdown",
   "metadata": {},
   "source": [
    "### Removing short text length"
   ]
  },
  {
   "cell_type": "code",
   "execution_count": 7,
   "metadata": {},
   "outputs": [
    {
     "data": {
      "text/plain": [
       "14176"
      ]
     },
     "execution_count": 7,
     "metadata": {},
     "output_type": "execute_result"
    }
   ],
   "source": [
    "max_length = train['text'].map(len).max()\n",
    "max_length"
   ]
  },
  {
   "cell_type": "code",
   "execution_count": 8,
   "metadata": {},
   "outputs": [
    {
     "data": {
      "text/html": [
       "<div>\n",
       "<style scoped>\n",
       "    .dataframe tbody tr th:only-of-type {\n",
       "        vertical-align: middle;\n",
       "    }\n",
       "\n",
       "    .dataframe tbody tr th {\n",
       "        vertical-align: top;\n",
       "    }\n",
       "\n",
       "    .dataframe thead th {\n",
       "        text-align: right;\n",
       "    }\n",
       "</style>\n",
       "<table border=\"1\" class=\"dataframe\">\n",
       "  <thead>\n",
       "    <tr style=\"text-align: right;\">\n",
       "      <th></th>\n",
       "      <th>frequency</th>\n",
       "    </tr>\n",
       "  </thead>\n",
       "  <tbody>\n",
       "    <tr>\n",
       "      <th>0</th>\n",
       "      <td>10655</td>\n",
       "    </tr>\n",
       "    <tr>\n",
       "      <th>1</th>\n",
       "      <td>2282</td>\n",
       "    </tr>\n",
       "    <tr>\n",
       "      <th>2</th>\n",
       "      <td>15766</td>\n",
       "    </tr>\n",
       "    <tr>\n",
       "      <th>3</th>\n",
       "      <td>10341</td>\n",
       "    </tr>\n",
       "    <tr>\n",
       "      <th>4</th>\n",
       "      <td>14869</td>\n",
       "    </tr>\n",
       "    <tr>\n",
       "      <th>...</th>\n",
       "      <td>...</td>\n",
       "    </tr>\n",
       "    <tr>\n",
       "      <th>14172</th>\n",
       "      <td>0</td>\n",
       "    </tr>\n",
       "    <tr>\n",
       "      <th>14173</th>\n",
       "      <td>0</td>\n",
       "    </tr>\n",
       "    <tr>\n",
       "      <th>14174</th>\n",
       "      <td>0</td>\n",
       "    </tr>\n",
       "    <tr>\n",
       "      <th>14175</th>\n",
       "      <td>0</td>\n",
       "    </tr>\n",
       "    <tr>\n",
       "      <th>14176</th>\n",
       "      <td>1</td>\n",
       "    </tr>\n",
       "  </tbody>\n",
       "</table>\n",
       "<p>14177 rows × 1 columns</p>\n",
       "</div>"
      ],
      "text/plain": [
       "       frequency\n",
       "0          10655\n",
       "1           2282\n",
       "2          15766\n",
       "3          10341\n",
       "4          14869\n",
       "...          ...\n",
       "14172          0\n",
       "14173          0\n",
       "14174          0\n",
       "14175          0\n",
       "14176          1\n",
       "\n",
       "[14177 rows x 1 columns]"
      ]
     },
     "execution_count": 8,
     "metadata": {},
     "output_type": "execute_result"
    }
   ],
   "source": [
    "text_len_freq = []\n",
    "\n",
    "for index in range(max_length + 1):\n",
    "    text_len_freq.append(0)\n",
    "\n",
    "for text in train['text']:\n",
    "    text_len_freq[len(text)] += 1\n",
    "\n",
    "text_len_freq = pd.DataFrame(text_len_freq).rename(columns={0:'frequency'})\n",
    "text_len_freq"
   ]
  },
  {
   "cell_type": "code",
   "execution_count": 9,
   "metadata": {},
   "outputs": [],
   "source": [
    "length = 150\n",
    "text_len_freq = []\n",
    "\n",
    "for index in range(length + 1):\n",
    "    text_len_freq.append(0)\n",
    "\n",
    "for text in train['text']:\n",
    "    if len(text) <= length:\n",
    "        text_len_freq[len(text)] += 1\n",
    "\n",
    "text_len_freq = pd.DataFrame(text_len_freq).rename(columns={0:'frequency'})\n",
    "# text_len_freq "
   ]
  },
  {
   "cell_type": "code",
   "execution_count": 10,
   "metadata": {},
   "outputs": [
    {
     "data": {
      "text/plain": [
       "<matplotlib.axes._subplots.AxesSubplot at 0x118979710>"
      ]
     },
     "execution_count": 10,
     "metadata": {},
     "output_type": "execute_result"
    },
    {
     "data": {
      "image/png": "[encoded data removed]",
      "text/plain": [
       "<Figure size 720x720 with 1 Axes>"
      ]
     },
     "metadata": {
      "needs_background": "light"
     },
     "output_type": "display_data"
    }
   ],
   "source": [
    "text_len_freq.plot.bar(figsize=(10,10))"
   ]
  },
  {
   "cell_type": "markdown",
   "metadata": {},
   "source": [
    "### Finding the best cut off length"
   ]
  },
  {
   "cell_type": "code",
   "execution_count": 11,
   "metadata": {},
   "outputs": [
    {
     "data": {
      "text/plain": [
       "[0, 1, 15, 30, 45, 60, 75, 90, 105, 120, 135, 150, 165, 180, 195, 210]"
      ]
     },
     "execution_count": 11,
     "metadata": {},
     "output_type": "execute_result"
    }
   ],
   "source": [
    "k_length = [ precent * 15 for precent in range(1,15)]\n",
    "k_length.insert(0, 1)\n",
    "k_length.insert(0, 0)\n",
    "k_length"
   ]
  },
  {
   "cell_type": "code",
   "execution_count": 12,
   "metadata": {},
   "outputs": [],
   "source": [
    "# Basic model \n",
    "def get_cv_from_basic_model(train):\n",
    "    # Simulate modeling\n",
    "    vectorizer = TfidfVectorizer(use_idf=1,stop_words=stop_word)\n",
    "    vectorizer.fit(sample_text['text'])\n",
    "    X_tfidf = vectorizer.transform(sample_text['text'])\n",
    "    \n",
    "    le = preprocessing.LabelEncoder()\n",
    "    author_encoded = le.fit_transform(sample_text['author'])\n",
    "\n",
    "    X = X_tfidf\n",
    "    Y = author_encoded\n",
    "\n",
    "    X_train, X_test, Y_train, Y_test = train_test_split(X, Y, test_size=0.1, stratify=Y)\n",
    "\n",
    "    model = MultinomialNB(alpha=0.1)\n",
    "    model.fit(X_train, Y_train)\n",
    "    predict = model.predict_proba(X_test)\n",
    "\n",
    "    cv = np.mean(cross_val_score(model, X_train, Y_train, cv=10))\n",
    "    return cv"
   ]
  },
  {
   "cell_type": "code",
   "execution_count": 13,
   "metadata": {},
   "outputs": [
    {
     "name": "stdout",
     "output_type": "stream",
     "text": [
      "length: 0\n",
      "cv:  0.5903677384892376\n",
      "length: 1\n",
      "cv:  0.5910717042522385\n",
      "length: 15\n",
      "cv:  0.6012391567106428\n",
      "length: 30\n",
      "cv:  0.6245332507240061\n",
      "length: 45\n",
      "cv:  0.6472338145087242\n",
      "length: 60\n",
      "cv:  0.6666050103194961\n",
      "length: 75\n",
      "cv:  0.6839632356888077\n",
      "length: 90\n",
      "cv:  0.6982955884072349\n",
      "length: 105\n",
      "cv:  0.7096217081410017\n",
      "length: 120\n",
      "cv:  0.7205289245753603\n",
      "length: 135\n",
      "cv:  0.7290484965645926\n",
      "length: 150\n",
      "cv:  0.735562316758663\n",
      "length: 165\n",
      "cv:  0.7413879031416861\n",
      "length: 180\n",
      "cv:  0.7445547539152773\n",
      "length: 195\n",
      "cv:  0.7472534493801848\n",
      "length: 210\n",
      "cv:  0.7486527033664764\n"
     ]
    }
   ],
   "source": [
    "cv_history = []\n",
    "for length in k_length:\n",
    "    \n",
    "    sample_text = pd.DataFrame(train)\n",
    "    \n",
    "    indexNames = []\n",
    "    for key in sample_text['text'].keys():\n",
    "        if len(sample_text['text'][key]) <= length:\n",
    "            indexNames.append(key)\n",
    "    sample_text.drop(indexNames , inplace=True)\n",
    "    \n",
    "    cv = get_cv_from_basic_model(sample_text)\n",
    "    \n",
    "    print('length:' , length)\n",
    "    print(\"cv: \", cv)\n",
    "    cv_history.append(cv)\n"
   ]
  },
  {
   "cell_type": "code",
   "execution_count": 14,
   "metadata": {},
   "outputs": [
    {
     "data": {
      "image/png": "[encoded data removed]",
      "text/plain": [
       "<Figure size 432x288 with 1 Axes>"
      ]
     },
     "metadata": {
      "needs_background": "light"
     },
     "output_type": "display_data"
    }
   ],
   "source": [
    "plt.title('Length-Value vs cross_val_score')\n",
    "plt.plot(k_length, cv_history, marker='o', color='red');\n",
    "plt.xlabel('Length-Value')\n",
    "plt.ylabel('cross_val_score');\n",
    "plt.show();"
   ]
  },
  {
   "cell_type": "code",
   "execution_count": 15,
   "metadata": {},
   "outputs": [
    {
     "name": "stdout",
     "output_type": "stream",
     "text": [
      "Data size before removing outlines:  1904848\n",
      "Data size after removing outlines:  442861\n"
     ]
    }
   ],
   "source": [
    "length = 150\n",
    "\n",
    "# uncommented it for testing\n",
    "# length = testing_length\n",
    "\n",
    "# Drop outlines\n",
    "print(\"Data size before removing outlines: \", len(train))\n",
    "indexNames = []\n",
    "for key in train['text'].keys():\n",
    "    if len(train['text'][key]) <= length:\n",
    "        indexNames.append(key)\n",
    "train.drop(indexNames , inplace=True)\n",
    "print(\"Data size after removing outlines: \", len(train))"
   ]
  },
  {
   "cell_type": "markdown",
   "metadata": {},
   "source": [
    "### Sampling for author Pepys Samuel"
   ]
  },
  {
   "cell_type": "code",
   "execution_count": 16,
   "metadata": {},
   "outputs": [
    {
     "data": {
      "text/html": [
       "<div>\n",
       "<style scoped>\n",
       "    .dataframe tbody tr th:only-of-type {\n",
       "        vertical-align: middle;\n",
       "    }\n",
       "\n",
       "    .dataframe tbody tr th {\n",
       "        vertical-align: top;\n",
       "    }\n",
       "\n",
       "    .dataframe thead th {\n",
       "        text-align: right;\n",
       "    }\n",
       "</style>\n",
       "<table border=\"1\" class=\"dataframe\">\n",
       "  <thead>\n",
       "    <tr style=\"text-align: right;\">\n",
       "      <th></th>\n",
       "      <th>text</th>\n",
       "      <th>author</th>\n",
       "    </tr>\n",
       "  </thead>\n",
       "  <tbody>\n",
       "    <tr>\n",
       "      <th>258891</th>\n",
       "      <td>CLERK OF THE ACTS AND SECRETARY TO THE ADMIRAL...</td>\n",
       "      <td>Pepys, Samuel</td>\n",
       "    </tr>\n",
       "    <tr>\n",
       "      <th>258896</th>\n",
       "      <td>Lay very long in bed discoursing with Mr Hill ...</td>\n",
       "      <td>Pepys, Samuel</td>\n",
       "    </tr>\n",
       "    <tr>\n",
       "      <th>258897</th>\n",
       "      <td>At last up and it being a very foule day for r...</td>\n",
       "      <td>Pepys, Samuel</td>\n",
       "    </tr>\n",
       "    <tr>\n",
       "      <th>258898</th>\n",
       "      <td>However I dined well and after dinner all on s...</td>\n",
       "      <td>Pepys, Samuel</td>\n",
       "    </tr>\n",
       "    <tr>\n",
       "      <th>258899</th>\n",
       "      <td>But by and by Sir W Batten and I took coach an...</td>\n",
       "      <td>Pepys, Samuel</td>\n",
       "    </tr>\n",
       "    <tr>\n",
       "      <th>...</th>\n",
       "      <td>...</td>\n",
       "      <td>...</td>\n",
       "    </tr>\n",
       "    <tr>\n",
       "      <th>315023</th>\n",
       "      <td>Had the umbles of it for dinner Hates to have ...</td>\n",
       "      <td>Pepys, Samuel</td>\n",
       "    </tr>\n",
       "    <tr>\n",
       "      <th>315024</th>\n",
       "      <td>Hugged it being cold now in the mornings Hunt ...</td>\n",
       "      <td>Pepys, Samuel</td>\n",
       "    </tr>\n",
       "    <tr>\n",
       "      <th>315027</th>\n",
       "      <td>Stewards face Night the Dutch burned our ships...</td>\n",
       "      <td>Pepys, Samuel</td>\n",
       "    </tr>\n",
       "    <tr>\n",
       "      <th>315028</th>\n",
       "      <td>They want where to set their feet to begin to ...</td>\n",
       "      <td>Pepys, Samuel</td>\n",
       "    </tr>\n",
       "    <tr>\n",
       "      <th>315029</th>\n",
       "      <td>Who continues so ill as not to be troubled wit...</td>\n",
       "      <td>Pepys, Samuel</td>\n",
       "    </tr>\n",
       "  </tbody>\n",
       "</table>\n",
       "<p>26337 rows × 2 columns</p>\n",
       "</div>"
      ],
      "text/plain": [
       "                                                     text         author\n",
       "258891  CLERK OF THE ACTS AND SECRETARY TO THE ADMIRAL...  Pepys, Samuel\n",
       "258896  Lay very long in bed discoursing with Mr Hill ...  Pepys, Samuel\n",
       "258897  At last up and it being a very foule day for r...  Pepys, Samuel\n",
       "258898  However I dined well and after dinner all on s...  Pepys, Samuel\n",
       "258899  But by and by Sir W Batten and I took coach an...  Pepys, Samuel\n",
       "...                                                   ...            ...\n",
       "315023  Had the umbles of it for dinner Hates to have ...  Pepys, Samuel\n",
       "315024  Hugged it being cold now in the mornings Hunt ...  Pepys, Samuel\n",
       "315027  Stewards face Night the Dutch burned our ships...  Pepys, Samuel\n",
       "315028  They want where to set their feet to begin to ...  Pepys, Samuel\n",
       "315029  Who continues so ill as not to be troubled wit...  Pepys, Samuel\n",
       "\n",
       "[26337 rows x 2 columns]"
      ]
     },
     "execution_count": 16,
     "metadata": {},
     "output_type": "execute_result"
    }
   ],
   "source": [
    "Pepys_Samuel = train[ train['author'] == 'Pepys, Samuel' ]\n",
    "Pepys_Samuel"
   ]
  },
  {
   "cell_type": "code",
   "execution_count": 17,
   "metadata": {},
   "outputs": [],
   "source": [
    "Pepys_Samuel_text = []\n",
    "Pepys_Samuel_text.append(\" \".join(Pepys_Samuel['text']))\n",
    "# Pepys_Samuel_text"
   ]
  },
  {
   "cell_type": "code",
   "execution_count": 18,
   "metadata": {},
   "outputs": [
    {
     "data": {
      "text/plain": [
       "<1x20663 sparse matrix of type '<class 'numpy.int64'>'\n",
       "\twith 20663 stored elements in Compressed Sparse Row format>"
      ]
     },
     "execution_count": 18,
     "metadata": {},
     "output_type": "execute_result"
    }
   ],
   "source": [
    "cv = CountVectorizer(stop_words=stop_word)\n",
    " \n",
    "# this steps generates word counts for the words in your docs\n",
    "word_count_vector = cv.fit_transform(Pepys_Samuel_text)\n",
    "word_count_vector"
   ]
  },
  {
   "cell_type": "code",
   "execution_count": 19,
   "metadata": {},
   "outputs": [
    {
     "data": {
      "text/html": [
       "<div>\n",
       "<style scoped>\n",
       "    .dataframe tbody tr th:only-of-type {\n",
       "        vertical-align: middle;\n",
       "    }\n",
       "\n",
       "    .dataframe tbody tr th {\n",
       "        vertical-align: top;\n",
       "    }\n",
       "\n",
       "    .dataframe thead th {\n",
       "        text-align: right;\n",
       "    }\n",
       "</style>\n",
       "<table border=\"1\" class=\"dataframe\">\n",
       "  <thead>\n",
       "    <tr style=\"text-align: right;\">\n",
       "      <th></th>\n",
       "      <th>TF-IDF</th>\n",
       "    </tr>\n",
       "  </thead>\n",
       "  <tbody>\n",
       "    <tr>\n",
       "      <th>sir</th>\n",
       "      <td>7885</td>\n",
       "    </tr>\n",
       "    <tr>\n",
       "      <th>home</th>\n",
       "      <td>7632</td>\n",
       "    </tr>\n",
       "    <tr>\n",
       "      <th>mr</th>\n",
       "      <td>6392</td>\n",
       "    </tr>\n",
       "    <tr>\n",
       "      <th>lord</th>\n",
       "      <td>5956</td>\n",
       "    </tr>\n",
       "    <tr>\n",
       "      <th>great</th>\n",
       "      <td>5522</td>\n",
       "    </tr>\n",
       "    <tr>\n",
       "      <th>wife</th>\n",
       "      <td>5466</td>\n",
       "    </tr>\n",
       "    <tr>\n",
       "      <th>office</th>\n",
       "      <td>5072</td>\n",
       "    </tr>\n",
       "    <tr>\n",
       "      <th>come</th>\n",
       "      <td>4718</td>\n",
       "    </tr>\n",
       "    <tr>\n",
       "      <th>business</th>\n",
       "      <td>4703</td>\n",
       "    </tr>\n",
       "    <tr>\n",
       "      <th>good</th>\n",
       "      <td>4644</td>\n",
       "    </tr>\n",
       "  </tbody>\n",
       "</table>\n",
       "</div>"
      ],
      "text/plain": [
       "          TF-IDF\n",
       "sir         7885\n",
       "home        7632\n",
       "mr          6392\n",
       "lord        5956\n",
       "great       5522\n",
       "wife        5466\n",
       "office      5072\n",
       "come        4718\n",
       "business    4703\n",
       "good        4644"
      ]
     },
     "execution_count": 19,
     "metadata": {},
     "output_type": "execute_result"
    }
   ],
   "source": [
    "# print TF-IDF values\n",
    "df = pd.DataFrame(word_count_vector.T.todense(), index=cv.get_feature_names(), columns=[\"TF-IDF\"])\n",
    "\n",
    "# sort descending\n",
    "df = df.sort_values(by=[\"TF-IDF\"], ascending=False)\n",
    "df = df[df['TF-IDF'] > 0]\n",
    "df.head(10)"
   ]
  },
  {
   "cell_type": "markdown",
   "metadata": {},
   "source": [
    "### Sampling of TF-IDF"
   ]
  },
  {
   "cell_type": "code",
   "execution_count": 20,
   "metadata": {},
   "outputs": [],
   "source": [
    "vectorizer = TfidfVectorizer(use_idf=1,stop_words=stop_word)\n",
    "vectorizer.fit(train['text'])\n",
    "X_tfidf = vectorizer.transform(Pepys_Samuel_text)"
   ]
  },
  {
   "cell_type": "code",
   "execution_count": 21,
   "metadata": {},
   "outputs": [
    {
     "data": {
      "text/plain": [
       "<1x204034 sparse matrix of type '<class 'numpy.float64'>'\n",
       "\twith 20663 stored elements in Compressed Sparse Row format>"
      ]
     },
     "execution_count": 21,
     "metadata": {},
     "output_type": "execute_result"
    }
   ],
   "source": [
    "X_tfidf"
   ]
  },
  {
   "cell_type": "code",
   "execution_count": 22,
   "metadata": {},
   "outputs": [
    {
     "data": {
      "text/html": [
       "<div>\n",
       "<style scoped>\n",
       "    .dataframe tbody tr th:only-of-type {\n",
       "        vertical-align: middle;\n",
       "    }\n",
       "\n",
       "    .dataframe tbody tr th {\n",
       "        vertical-align: top;\n",
       "    }\n",
       "\n",
       "    .dataframe thead th {\n",
       "        text-align: right;\n",
       "    }\n",
       "</style>\n",
       "<table border=\"1\" class=\"dataframe\">\n",
       "  <thead>\n",
       "    <tr style=\"text-align: right;\">\n",
       "      <th></th>\n",
       "      <th>TF-IDF</th>\n",
       "    </tr>\n",
       "  </thead>\n",
       "  <tbody>\n",
       "    <tr>\n",
       "      <th>sir</th>\n",
       "      <td>0.239361</td>\n",
       "    </tr>\n",
       "    <tr>\n",
       "      <th>home</th>\n",
       "      <td>0.229838</td>\n",
       "    </tr>\n",
       "    <tr>\n",
       "      <th>lord</th>\n",
       "      <td>0.191707</td>\n",
       "    </tr>\n",
       "    <tr>\n",
       "      <th>office</th>\n",
       "      <td>0.178870</td>\n",
       "    </tr>\n",
       "    <tr>\n",
       "      <th>wife</th>\n",
       "      <td>0.173776</td>\n",
       "    </tr>\n",
       "    <tr>\n",
       "      <th>...</th>\n",
       "      <td>...</td>\n",
       "    </tr>\n",
       "    <tr>\n",
       "      <th>exclaimed</th>\n",
       "      <td>0.000046</td>\n",
       "    </tr>\n",
       "    <tr>\n",
       "      <th>stream</th>\n",
       "      <td>0.000044</td>\n",
       "    </tr>\n",
       "    <tr>\n",
       "      <th>caught</th>\n",
       "      <td>0.000041</td>\n",
       "    </tr>\n",
       "    <tr>\n",
       "      <th>im</th>\n",
       "      <td>0.000040</td>\n",
       "    </tr>\n",
       "    <tr>\n",
       "      <th>dont</th>\n",
       "      <td>0.000035</td>\n",
       "    </tr>\n",
       "  </tbody>\n",
       "</table>\n",
       "<p>20663 rows × 1 columns</p>\n",
       "</div>"
      ],
      "text/plain": [
       "             TF-IDF\n",
       "sir        0.239361\n",
       "home       0.229838\n",
       "lord       0.191707\n",
       "office     0.178870\n",
       "wife       0.173776\n",
       "...             ...\n",
       "exclaimed  0.000046\n",
       "stream     0.000044\n",
       "caught     0.000041\n",
       "im         0.000040\n",
       "dont       0.000035\n",
       "\n",
       "[20663 rows x 1 columns]"
      ]
     },
     "execution_count": 22,
     "metadata": {},
     "output_type": "execute_result"
    }
   ],
   "source": [
    "X_tfidf_sample = X_tfidf\n",
    "X_tfidf_sample = pd.DataFrame(X_tfidf_sample.T.todense(), index=vectorizer.get_feature_names(), columns=['TF-IDF'])\n",
    "\n",
    "# Sort TF-IDF by descending\n",
    "X_tfidf_sample = X_tfidf_sample.sort_values(by=[\"TF-IDF\"],ascending=False)\n",
    "\n",
    "# Drop TF-IDF value less than 0\n",
    "X_tfidf_sample = X_tfidf_sample[X_tfidf_sample['TF-IDF'] > 0]\n",
    "X_tfidf_sample"
   ]
  },
  {
   "cell_type": "code",
   "execution_count": 23,
   "metadata": {},
   "outputs": [
    {
     "data": {
      "text/plain": [
       "20"
      ]
     },
     "execution_count": 23,
     "metadata": {},
     "output_type": "execute_result"
    }
   ],
   "source": [
    "X_tfidf = vectorizer.transform(train['text'])\n",
    "\n",
    "le = preprocessing.LabelEncoder()\n",
    "author_encoded = le.fit_transform(train['author'])\n",
    "len(le.classes_)"
   ]
  },
  {
   "cell_type": "markdown",
   "metadata": {},
   "source": [
    "## Dimensionality reduction"
   ]
  },
  {
   "cell_type": "markdown",
   "metadata": {},
   "source": [
    "### Feature Selection based on F-Score"
   ]
  },
  {
   "cell_type": "code",
   "execution_count": 24,
   "metadata": {},
   "outputs": [
    {
     "data": {
      "text/plain": [
       "[10201, 20403, 30605, 40806, 51008, 61210, 71411, 81613, 91815, 102017]"
      ]
     },
     "execution_count": 24,
     "metadata": {},
     "output_type": "execute_result"
    }
   ],
   "source": [
    "k_value = [int(X_tfidf.shape[1] * 0.05 * k) for k in range(1, 11)]\n",
    "k_value"
   ]
  },
  {
   "cell_type": "markdown",
   "metadata": {},
   "source": [
    "### Finding the best K value"
   ]
  },
  {
   "cell_type": "code",
   "execution_count": 25,
   "metadata": {},
   "outputs": [
    {
     "name": "stdout",
     "output_type": "stream",
     "text": [
      "k: 10201\n",
      "cv:  0.6545609367769394\n",
      "k: 20403\n",
      "cv:  0.7016989585037969\n",
      "k: 30605\n",
      "cv:  0.721555003885607\n",
      "k: 40806\n",
      "cv:  0.7313371619732667\n",
      "k: 51008\n",
      "cv:  0.7378126992182816\n",
      "k: 61210\n",
      "cv:  0.7413253651062108\n",
      "k: 71411\n",
      "cv:  0.7423288201878188\n",
      "k: 81613\n",
      "cv:  0.7435430557545557\n",
      "k: 91815\n",
      "cv:  0.7449355919142178\n",
      "k: 102017\n",
      "cv:  0.7439521664245646\n"
     ]
    }
   ],
   "source": [
    "cv_history = []\n",
    "for k in k_value:\n",
    "    \n",
    "    \n",
    "\n",
    "    k_feature = SelectKBest(f_classif, k=k)\n",
    "    X_tfidf_final = k_feature.fit_transform(X_tfidf, author_encoded)\n",
    "\n",
    "    X = X_tfidf_final\n",
    "    Y = author_encoded\n",
    "\n",
    "    X_train, X_test, Y_train, Y_test = train_test_split(X, Y, test_size=0.1, stratify=Y)\n",
    "\n",
    "    model = MultinomialNB(alpha=0.1)\n",
    "    model.fit(X_train, Y_train)\n",
    "    predict = model.predict_proba(X_test)\n",
    "\n",
    "    cv = np.mean(cross_val_score(model, X_train, Y_train, cv=10))\n",
    "    \n",
    "    print('k:' , k)\n",
    "    print(\"cv: \", cv)\n",
    "    cv_history.append(cv)\n"
   ]
  },
  {
   "cell_type": "code",
   "execution_count": 26,
   "metadata": {},
   "outputs": [
    {
     "data": {
      "image/png": "[encoded data removed]",
      "text/plain": [
       "<Figure size 432x288 with 1 Axes>"
      ]
     },
     "metadata": {
      "needs_background": "light"
     },
     "output_type": "display_data"
    }
   ],
   "source": [
    "plt.title('Length-Value vs cross_val_score')\n",
    "plt.plot(k_value, cv_history, marker='o', color='red');\n",
    "plt.xlabel('Length-Value')\n",
    "plt.ylabel('cross_val_score');\n",
    "plt.show();"
   ]
  },
  {
   "cell_type": "code",
   "execution_count": 27,
   "metadata": {},
   "outputs": [],
   "source": [
    "k_value = 105602\n",
    "\n",
    "# uncommented it for testing\n",
    "# k_value = testing_k\n",
    "\n",
    "k_feature = SelectKBest(f_classif, k=k_value)\n",
    "X_tfidf_final = k_feature.fit_transform(X_tfidf, author_encoded)\n"
   ]
  },
  {
   "cell_type": "markdown",
   "metadata": {},
   "source": [
    "### Split training and testing Data"
   ]
  },
  {
   "cell_type": "code",
   "execution_count": 28,
   "metadata": {},
   "outputs": [],
   "source": [
    "X = X_tfidf_final\n",
    "Y = author_encoded\n",
    "\n",
    "X_train, X_test, Y_train, Y_test = train_test_split(X, Y, test_size=0.1, stratify=Y)\n"
   ]
  },
  {
   "cell_type": "code",
   "execution_count": 29,
   "metadata": {},
   "outputs": [
    {
     "name": "stdout",
     "output_type": "stream",
     "text": [
      "(398574, 105602)\n",
      "(44287, 105602)\n",
      "(398574,)\n",
      "(44287,)\n"
     ]
    }
   ],
   "source": [
    "print(X_train.shape)\n",
    "print(X_test.shape)\n",
    "print(Y_train.shape)\n",
    "print(Y_test.shape)"
   ]
  },
  {
   "cell_type": "markdown",
   "metadata": {},
   "source": [
    "### Basic Naive Bayes"
   ]
  },
  {
   "cell_type": "code",
   "execution_count": 30,
   "metadata": {},
   "outputs": [],
   "source": [
    "def multiclass_logloss(actual, predicted, eps=1e-15):\n",
    "    \"\"\"Multi class version of Logarithmic Loss metric.\n",
    "    :param actual: Array containing the actual target classes\n",
    "    :param predicted: Matrix with class predictions, one probability per class\n",
    "    \"\"\"\n",
    "    # Convert 'actual' to a binary array if it's not already:\n",
    "    if len(actual.shape) == 1:\n",
    "        actual2 = np.zeros((actual.shape[0], predicted.shape[1]))\n",
    "        for i, val in enumerate(actual):\n",
    "            actual2[i, val] = 1\n",
    "        actual = actual2\n",
    "\n",
    "    clip = np.clip(predicted, eps, 1 - eps)\n",
    "    rows = actual.shape[0]\n",
    "    vsota = np.sum(actual * np.log(clip))\n",
    "    return -1.0 / rows * vsota\n"
   ]
  },
  {
   "cell_type": "code",
   "execution_count": 31,
   "metadata": {},
   "outputs": [],
   "source": [
    "def evaluate(predictions, Y_test):\n",
    "    log_loss = multiclass_logloss(Y_test, predictions)\n",
    "    accuracy = accuracy_score(predictions.argmax(axis=1), Y_test)\n",
    "    print(\"Logloss: %0.3f \" % log_loss)\n",
    "    print(\"Accuracy: %0.3f \" % accuracy)\n",
    "    \n",
    "    return log_loss, accuracy"
   ]
  },
  {
   "cell_type": "code",
   "execution_count": 32,
   "metadata": {},
   "outputs": [],
   "source": [
    "# Basic Naive Bayes Model\n",
    "model = MultinomialNB()\n",
    "model.fit(X_train, Y_train)\n",
    "predict = model.predict_proba(X_test)\n"
   ]
  },
  {
   "cell_type": "code",
   "execution_count": 33,
   "metadata": {},
   "outputs": [
    {
     "name": "stdout",
     "output_type": "stream",
     "text": [
      "Logloss: 1.466 \n",
      "Accuracy: 0.663 \n"
     ]
    }
   ],
   "source": [
    "# Evaluate Basic Naive Bayes on TF-IDF\n",
    "basic_Naive_Bayes_logloss, basic_Naive_Bayes_accuracy = evaluate(predict, Y_test)"
   ]
  },
  {
   "cell_type": "markdown",
   "metadata": {},
   "source": [
    "### Grid Search"
   ]
  },
  {
   "cell_type": "code",
   "execution_count": 34,
   "metadata": {},
   "outputs": [
    {
     "data": {
      "text/plain": [
       "[20403,\n",
       " 30605,\n",
       " 40806,\n",
       " 51008,\n",
       " 61210,\n",
       " 71411,\n",
       " 81613,\n",
       " 91815,\n",
       " 102017,\n",
       " 112218,\n",
       " 122420,\n",
       " 132622]"
      ]
     },
     "execution_count": 34,
     "metadata": {},
     "output_type": "execute_result"
    }
   ],
   "source": [
    "k_feature = [int(X_tfidf.shape[1] * 5 * precent / 100) for precent in range(2,14)]\n",
    "k_feature"
   ]
  },
  {
   "cell_type": "code",
   "execution_count": 35,
   "metadata": {},
   "outputs": [
    {
     "name": "stdout",
     "output_type": "stream",
     "text": [
      "Performing grid search...\n",
      "pipeline: ['tfidf', 'feature', 'clf']\n",
      "parameters:\n",
      "{'clf__alpha': [0.1],\n",
      " 'feature__k': [20403,\n",
      "                30605,\n",
      "                40806,\n",
      "                51008,\n",
      "                61210,\n",
      "                71411,\n",
      "                81613,\n",
      "                91815,\n",
      "                102017,\n",
      "                112218,\n",
      "                122420,\n",
      "                132622],\n",
      " 'tfidf__smooth_idf': (True, False),\n",
      " 'tfidf__stop_words': ['english'],\n",
      " 'tfidf__sublinear_tf': (True, False),\n",
      " 'tfidf__use_idf': [True]}\n",
      "Fitting 3 folds for each of 48 candidates, totalling 144 fits\n"
     ]
    },
    {
     "name": "stderr",
     "output_type": "stream",
     "text": [
      "//anaconda3/lib/python3.7/site-packages/sklearn/model_selection/_split.py:1978: FutureWarning: The default value of cv will change from 3 to 5 in version 0.22. Specify it explicitly to silence this warning.\n",
      "  warnings.warn(CV_WARNING, FutureWarning)\n",
      "[Parallel(n_jobs=4)]: Using backend LokyBackend with 4 concurrent workers.\n",
      "[Parallel(n_jobs=4)]: Done  42 tasks      | elapsed:  4.9min\n",
      "[Parallel(n_jobs=4)]: Done 144 out of 144 | elapsed: 17.3min finished\n"
     ]
    },
    {
     "name": "stdout",
     "output_type": "stream",
     "text": [
      "done in 1054.185s\n",
      "\n",
      "Best score: 0.715\n",
      "Best parameters set:\n",
      "\tclf__alpha: 0.1\n",
      "\tfeature__k: 81613\n",
      "\ttfidf__smooth_idf: False\n",
      "\ttfidf__stop_words: 'english'\n",
      "\ttfidf__sublinear_tf: True\n",
      "\ttfidf__use_idf: True\n"
     ]
    }
   ],
   "source": [
    "# Reference: https://scikit-learn.org/stable/auto_examples/model_selection/grid_search_text_feature_extraction.html\n",
    "\n",
    "# Define a pipeline combining a text feature extractor with a simple\n",
    "# classifier\n",
    "pipeline = Pipeline([\n",
    "    ('tfidf', TfidfVectorizer()),\n",
    "    ('feature', SelectKBest()),\n",
    "    ('clf', MultinomialNB()),\n",
    "])\n",
    "\n",
    "# uncommenting more parameters will give better exploring power but will\n",
    "# increase processing time in a combinatorial way\n",
    "parameters = {\n",
    "#     'tfidf__analyzer': ('word', 'char', 'char_wb'),\n",
    "    'tfidf__use_idf': [True],\n",
    "#     'tfidf__min_df': (1,2,3),\n",
    "    'tfidf__smooth_idf': (True, False),\n",
    "    'tfidf__stop_words': ['english'],\n",
    "    'tfidf__sublinear_tf': (True, False),\n",
    "    'feature__k': k_feature,\n",
    "    'clf__alpha': [0.1],\n",
    "}\n",
    "\n",
    "# find the best parameters for both the feature extraction and the\n",
    "# classifier\n",
    "grid_search = GridSearchCV(pipeline, parameters, n_jobs=4, verbose=1)\n",
    "\n",
    "\n",
    "X_train, X_test, Y_train, Y_test = train_test_split(train['text'], Y, test_size=0.1, stratify=Y)\n",
    "\n",
    "print(\"Performing grid search...\")\n",
    "print(\"pipeline:\", [name for name, _ in pipeline.steps])\n",
    "print(\"parameters:\")\n",
    "pprint(parameters)\n",
    "t0 = time()\n",
    "grid_search.fit(X_train, Y_train)\n",
    "print(\"done in %0.3fs\" % (time() - t0))\n",
    "print()\n",
    "\n",
    "print(\"Best score: %0.3f\" % grid_search.best_score_)\n",
    "print(\"Best parameters set:\")\n",
    "best_parameters = grid_search.best_estimator_.get_params()\n",
    "for param_name in sorted(parameters.keys()):\n",
    "    print(\"\\t%s: %r\" % (param_name, best_parameters[param_name]))"
   ]
  },
  {
   "cell_type": "code",
   "execution_count": 36,
   "metadata": {},
   "outputs": [
    {
     "name": "stdout",
     "output_type": "stream",
     "text": [
      "Tfidf_best_estimator:  TfidfVectorizer(analyzer='word', binary=False, decode_error='strict',\n",
      "                dtype=<class 'numpy.float64'>, encoding='utf-8',\n",
      "                input='content', lowercase=True, max_df=1.0, max_features=None,\n",
      "                min_df=1, ngram_range=(1, 1), norm='l2', preprocessor=None,\n",
      "                smooth_idf=False, stop_words='english', strip_accents=None,\n",
      "                sublinear_tf=True, token_pattern='(?u)\\\\b\\\\w\\\\w+\\\\b',\n",
      "                tokenizer=None, use_idf=True, vocabulary=None)\n",
      "SelectKBest_best_estimator:  SelectKBest(k=81613, score_func=<function f_classif at 0x1169d07b8>)\n",
      "MultinomialNB_best_estimator:  MultinomialNB(alpha=0.1, class_prior=None, fit_prior=True)\n"
     ]
    }
   ],
   "source": [
    "grid_search.best_estimator_\n",
    "Tfidf_best_estimator = grid_search.best_estimator_[0]\n",
    "print(\"Tfidf_best_estimator: \", Tfidf_best_estimator)\n",
    "SelectKBest_best_estimator = grid_search.best_estimator_[1]\n",
    "print(\"SelectKBest_best_estimator: \", SelectKBest_best_estimator)\n",
    "MultinomialNB_best_estimator = grid_search.best_estimator_[2]\n",
    "print(\"MultinomialNB_best_estimator: \", MultinomialNB_best_estimator)"
   ]
  },
  {
   "cell_type": "markdown",
   "metadata": {},
   "source": [
    "### Naive Bayes after Grid Search"
   ]
  },
  {
   "cell_type": "code",
   "execution_count": 37,
   "metadata": {},
   "outputs": [],
   "source": [
    "vectorizer = TfidfVectorizer(stop_words=stop_word, sublinear_tf=True, use_idf=True, smooth_idf=False)\n",
    "# vectorizer = Tfidf_best_estimator\n",
    "\n",
    "vectorizer.fit(train['text'])\n",
    "X_tfidf = vectorizer.transform(train['text'])"
   ]
  },
  {
   "cell_type": "code",
   "execution_count": 38,
   "metadata": {},
   "outputs": [],
   "source": [
    "k_feature = SelectKBest(f_classif, k=k_value)\n",
    "# k_feature = SelectKBest_best_estimator\n",
    "\n",
    "X_tfidf_final = k_feature.fit_transform(X_tfidf, author_encoded)"
   ]
  },
  {
   "cell_type": "code",
   "execution_count": 39,
   "metadata": {},
   "outputs": [],
   "source": [
    "X = X_tfidf_final\n",
    "Y = author_encoded"
   ]
  },
  {
   "cell_type": "code",
   "execution_count": 40,
   "metadata": {},
   "outputs": [],
   "source": [
    "X_train, X_test, Y_train, Y_test = train_test_split(X, Y, test_size=0.1, stratify=Y)"
   ]
  },
  {
   "cell_type": "code",
   "execution_count": 41,
   "metadata": {},
   "outputs": [],
   "source": [
    "model = MultinomialNB(alpha=0.1)\n",
    "# model = MultinomialNB_best_estimator\n",
    "\n",
    "model.fit(X_train, Y_train)\n",
    "predict = model.predict_proba(X_test)"
   ]
  },
  {
   "cell_type": "code",
   "execution_count": 42,
   "metadata": {},
   "outputs": [
    {
     "name": "stdout",
     "output_type": "stream",
     "text": [
      "Logloss: 1.057 \n",
      "Accuracy: 0.750 \n"
     ]
    }
   ],
   "source": [
    "# Evaluate Basic Naive Bayes on TF-IDF\n",
    "basic_Naive_Bayes_logloss, basic_Naive_Bayes_accuracy = evaluate(predict, Y_test)"
   ]
  },
  {
   "cell_type": "markdown",
   "metadata": {},
   "source": [
    "### Cross Validation"
   ]
  },
  {
   "cell_type": "code",
   "execution_count": 43,
   "metadata": {},
   "outputs": [
    {
     "data": {
      "text/plain": [
       "0.7453297091714922"
      ]
     },
     "execution_count": 43,
     "metadata": {},
     "output_type": "execute_result"
    }
   ],
   "source": [
    "cv = np.mean(cross_val_score(model, X_train, Y_train, cv=10))\n",
    "cv"
   ]
  },
  {
   "cell_type": "code",
   "execution_count": null,
   "metadata": {},
   "outputs": [],
   "source": []
  }
 ],
 "metadata": {
  "kernelspec": {
   "display_name": "Python 3",
   "language": "python",
   "name": "python3"
  },
  "language_info": {
   "codemirror_mode": {
    "name": "ipython",
    "version": 3
   },
   "file_extension": ".py",
   "mimetype": "text/x-python",
   "name": "python",
   "nbconvert_exporter": "python",
   "pygments_lexer": "ipython3",
   "version": "3.7.3"
  }
 },
 "nbformat": 4,
 "nbformat_minor": 4
}
