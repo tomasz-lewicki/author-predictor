{
 "cells": [
  {
   "cell_type": "code",
   "execution_count": 1,
   "metadata": {},
   "outputs": [],
   "source": [
    "# reference: https://www.kaggle.com/abhishek/approaching-almost-any-nlp-problem-on-kaggle/notebook\n",
    "import matplotlib.pyplot as plt\n",
    "import pandas as pd\n",
    "import numpy as np"
   ]
  },
  {
   "cell_type": "code",
   "execution_count": 2,
   "metadata": {},
   "outputs": [
    {
     "data": {
      "text/html": [
       "<div>\n",
       "<style scoped>\n",
       "    .dataframe tbody tr th:only-of-type {\n",
       "        vertical-align: middle;\n",
       "    }\n",
       "\n",
       "    .dataframe tbody tr th {\n",
       "        vertical-align: top;\n",
       "    }\n",
       "\n",
       "    .dataframe thead th {\n",
       "        text-align: right;\n",
       "    }\n",
       "</style>\n",
       "<table border=\"1\" class=\"dataframe\">\n",
       "  <thead>\n",
       "    <tr style=\"text-align: right;\">\n",
       "      <th></th>\n",
       "      <th>sentence</th>\n",
       "      <th>author</th>\n",
       "    </tr>\n",
       "  </thead>\n",
       "  <tbody>\n",
       "    <tr>\n",
       "      <th>0</th>\n",
       "      <td>EUGENIE GRANDET By Honore De Balzac Translate...</td>\n",
       "      <td>Balzac, Honoré de</td>\n",
       "    </tr>\n",
       "    <tr>\n",
       "      <th>1</th>\n",
       "      <td>May your name, that of one whose portrait is t...</td>\n",
       "      <td>Balzac, Honoré de</td>\n",
       "    </tr>\n",
       "    <tr>\n",
       "      <th>2</th>\n",
       "      <td>De Balzac.</td>\n",
       "      <td>Balzac, Honoré de</td>\n",
       "    </tr>\n",
       "    <tr>\n",
       "      <th>3</th>\n",
       "      <td>EUGENIE GRANDET I There are houses in certain ...</td>\n",
       "      <td>Balzac, Honoré de</td>\n",
       "    </tr>\n",
       "    <tr>\n",
       "      <th>4</th>\n",
       "      <td>Within these houses there is, perhaps, the sil...</td>\n",
       "      <td>Balzac, Honoré de</td>\n",
       "    </tr>\n",
       "  </tbody>\n",
       "</table>\n",
       "</div>"
      ],
      "text/plain": [
       "                                            sentence             author\n",
       "0   EUGENIE GRANDET By Honore De Balzac Translate...  Balzac, Honoré de\n",
       "1  May your name, that of one whose portrait is t...  Balzac, Honoré de\n",
       "2                                         De Balzac.  Balzac, Honoré de\n",
       "3  EUGENIE GRANDET I There are houses in certain ...  Balzac, Honoré de\n",
       "4  Within these houses there is, perhaps, the sil...  Balzac, Honoré de"
      ]
     },
     "execution_count": 2,
     "metadata": {},
     "output_type": "execute_result"
    }
   ],
   "source": [
    "import pickle\n",
    "f = open(\"data/author_sentence.pickle\",\"rb\")\n",
    "df = pickle.load(f)\n",
    "f.close()\n",
    "train = df\n",
    "train.head()"
   ]
  },
  {
   "cell_type": "markdown",
   "metadata": {},
   "source": [
    "### Basic Exploratory Data Analysis (EDA)"
   ]
  },
  {
   "cell_type": "code",
   "execution_count": 3,
   "metadata": {},
   "outputs": [
    {
     "data": {
      "text/plain": [
       "Parker, Gilbert                        177943\n",
       "Shakespeare, William                   176265\n",
       "Alger, Horatio, Jr.                    134267\n",
       "Fenn, George Manville                  125575\n",
       "Meredith, George                       109713\n",
       "Dickens, Charles                        88597\n",
       "Kingston, William Henry Giles           86446\n",
       "Twain, Mark                             85641\n",
       "Jacobs, W. W. (William Wymark)          84617\n",
       "Stevenson, Robert Louis                 83999\n",
       "Balzac, Honoré de                       82624\n",
       "Oliphant, Mrs. (Margaret)               81870\n",
       "Ballantyne, R. M. (Robert Michael)      81822\n",
       "Henty, G. A. (George Alfred)            81381\n",
       "Ebers, Georg                            79221\n",
       "Howells, William Dean                   77060\n",
       "Lytton, Edward Bulwer Lytton, Baron     75294\n",
       "Hawthorne, Nathaniel                    70744\n",
       "Motley, John Lothrop                    65628\n",
       "Pepys, Samuel                           56141\n",
       "Name: author, dtype: int64"
      ]
     },
     "execution_count": 3,
     "metadata": {},
     "output_type": "execute_result"
    }
   ],
   "source": [
    "train['author'].value_counts()"
   ]
  },
  {
   "cell_type": "code",
   "execution_count": 4,
   "metadata": {},
   "outputs": [
    {
     "data": {
      "text/html": [
       "<div>\n",
       "<style scoped>\n",
       "    .dataframe tbody tr th:only-of-type {\n",
       "        vertical-align: middle;\n",
       "    }\n",
       "\n",
       "    .dataframe tbody tr th {\n",
       "        vertical-align: top;\n",
       "    }\n",
       "\n",
       "    .dataframe thead th {\n",
       "        text-align: right;\n",
       "    }\n",
       "</style>\n",
       "<table border=\"1\" class=\"dataframe\">\n",
       "  <thead>\n",
       "    <tr style=\"text-align: right;\">\n",
       "      <th></th>\n",
       "      <th>text</th>\n",
       "      <th>author</th>\n",
       "    </tr>\n",
       "  </thead>\n",
       "  <tbody>\n",
       "    <tr>\n",
       "      <th>0</th>\n",
       "      <td>EUGENIE GRANDET By Honore De Balzac Translate...</td>\n",
       "      <td>Balzac, Honoré de</td>\n",
       "    </tr>\n",
       "    <tr>\n",
       "      <th>1</th>\n",
       "      <td>May your name, that of one whose portrait is t...</td>\n",
       "      <td>Balzac, Honoré de</td>\n",
       "    </tr>\n",
       "    <tr>\n",
       "      <th>2</th>\n",
       "      <td>De Balzac.</td>\n",
       "      <td>Balzac, Honoré de</td>\n",
       "    </tr>\n",
       "    <tr>\n",
       "      <th>3</th>\n",
       "      <td>EUGENIE GRANDET I There are houses in certain ...</td>\n",
       "      <td>Balzac, Honoré de</td>\n",
       "    </tr>\n",
       "    <tr>\n",
       "      <th>4</th>\n",
       "      <td>Within these houses there is, perhaps, the sil...</td>\n",
       "      <td>Balzac, Honoré de</td>\n",
       "    </tr>\n",
       "    <tr>\n",
       "      <th>...</th>\n",
       "      <td>...</td>\n",
       "      <td>...</td>\n",
       "    </tr>\n",
       "    <tr>\n",
       "      <th>1904843</th>\n",
       "      <td>But Abdul Jemalee was not a man of observation.</td>\n",
       "      <td>Ballantyne, R. M. (Robert Michael)</td>\n",
       "    </tr>\n",
       "    <tr>\n",
       "      <th>1904844</th>\n",
       "      <td>He did not care a straw for these things, and ...</td>\n",
       "      <td>Ballantyne, R. M. (Robert Michael)</td>\n",
       "    </tr>\n",
       "    <tr>\n",
       "      <th>1904845</th>\n",
       "      <td>There is no necessary antagonism, however, bet...</td>\n",
       "      <td>Ballantyne, R. M. (Robert Michael)</td>\n",
       "    </tr>\n",
       "    <tr>\n",
       "      <th>1904846</th>\n",
       "      <td>Circumstances and men have at present thrown a...</td>\n",
       "      <td>Ballantyne, R. M. (Robert Michael)</td>\n",
       "    </tr>\n",
       "    <tr>\n",
       "      <th>1904847</th>\n",
       "      <td>THE END.</td>\n",
       "      <td>Ballantyne, R. M. (Robert Michael)</td>\n",
       "    </tr>\n",
       "  </tbody>\n",
       "</table>\n",
       "<p>1904848 rows × 2 columns</p>\n",
       "</div>"
      ],
      "text/plain": [
       "                                                      text  \\\n",
       "0         EUGENIE GRANDET By Honore De Balzac Translate...   \n",
       "1        May your name, that of one whose portrait is t...   \n",
       "2                                               De Balzac.   \n",
       "3        EUGENIE GRANDET I There are houses in certain ...   \n",
       "4        Within these houses there is, perhaps, the sil...   \n",
       "...                                                    ...   \n",
       "1904843    But Abdul Jemalee was not a man of observation.   \n",
       "1904844  He did not care a straw for these things, and ...   \n",
       "1904845  There is no necessary antagonism, however, bet...   \n",
       "1904846  Circumstances and men have at present thrown a...   \n",
       "1904847                                           THE END.   \n",
       "\n",
       "                                     author  \n",
       "0                         Balzac, Honoré de  \n",
       "1                         Balzac, Honoré de  \n",
       "2                         Balzac, Honoré de  \n",
       "3                         Balzac, Honoré de  \n",
       "4                         Balzac, Honoré de  \n",
       "...                                     ...  \n",
       "1904843  Ballantyne, R. M. (Robert Michael)  \n",
       "1904844  Ballantyne, R. M. (Robert Michael)  \n",
       "1904845  Ballantyne, R. M. (Robert Michael)  \n",
       "1904846  Ballantyne, R. M. (Robert Michael)  \n",
       "1904847  Ballantyne, R. M. (Robert Michael)  \n",
       "\n",
       "[1904848 rows x 2 columns]"
      ]
     },
     "execution_count": 4,
     "metadata": {},
     "output_type": "execute_result"
    }
   ],
   "source": [
    "# Reanme\n",
    "train.rename(columns = {'sentence':'text'}, inplace = True) \n",
    "train"
   ]
  },
  {
   "cell_type": "markdown",
   "metadata": {},
   "source": [
    "## Data Preprocessing"
   ]
  },
  {
   "cell_type": "markdown",
   "metadata": {},
   "source": [
    "### Removing all notations"
   ]
  },
  {
   "cell_type": "code",
   "execution_count": 5,
   "metadata": {},
   "outputs": [
    {
     "data": {
      "text/plain": [
       "0           EUGENIE GRANDET By Honore De Balzac Translate...\n",
       "1          May your name that of one whose portrait is th...\n",
       "2                                                  De Balzac\n",
       "3          EUGENIE GRANDET I There are houses in certain ...\n",
       "4          Within these houses there is perhaps the silen...\n",
       "                                 ...                        \n",
       "1904843       But Abdul Jemalee was not a man of observation\n",
       "1904844    He did not care a straw for these things and a...\n",
       "1904845    There is no necessary antagonism however betwe...\n",
       "1904846    Circumstances and men have at present thrown a...\n",
       "1904847                                              THE END\n",
       "Name: text, Length: 1904848, dtype: object"
      ]
     },
     "execution_count": 5,
     "metadata": {},
     "output_type": "execute_result"
    }
   ],
   "source": [
    "import re\n",
    "def data_clearing_combined(text):\n",
    "    \n",
    "    regex = r'([0-9~`!@#$%^&*()\\-_=+\\[\\]{};:\\'\",.<>?\\/\\\\“”‘’|「」【】¥])'\n",
    "    result = re.compile(regex)\n",
    "    return result.sub(r'',text)\n",
    "                                  \n",
    "# Clear training Text\n",
    "train['text'] = train['text'].apply(lambda x : data_clearing_combined(str(x)))\n",
    "train['text']"
   ]
  },
  {
   "cell_type": "markdown",
   "metadata": {},
   "source": [
    "### Removing short text length"
   ]
  },
  {
   "cell_type": "code",
   "execution_count": 6,
   "metadata": {},
   "outputs": [
    {
     "data": {
      "text/plain": [
       "14176"
      ]
     },
     "execution_count": 6,
     "metadata": {},
     "output_type": "execute_result"
    }
   ],
   "source": [
    "max_length = train['text'].map(len).max()\n",
    "max_length"
   ]
  },
  {
   "cell_type": "code",
   "execution_count": 7,
   "metadata": {},
   "outputs": [
    {
     "data": {
      "text/html": [
       "<div>\n",
       "<style scoped>\n",
       "    .dataframe tbody tr th:only-of-type {\n",
       "        vertical-align: middle;\n",
       "    }\n",
       "\n",
       "    .dataframe tbody tr th {\n",
       "        vertical-align: top;\n",
       "    }\n",
       "\n",
       "    .dataframe thead th {\n",
       "        text-align: right;\n",
       "    }\n",
       "</style>\n",
       "<table border=\"1\" class=\"dataframe\">\n",
       "  <thead>\n",
       "    <tr style=\"text-align: right;\">\n",
       "      <th></th>\n",
       "      <th>frequency</th>\n",
       "    </tr>\n",
       "  </thead>\n",
       "  <tbody>\n",
       "    <tr>\n",
       "      <th>0</th>\n",
       "      <td>10655</td>\n",
       "    </tr>\n",
       "    <tr>\n",
       "      <th>1</th>\n",
       "      <td>2282</td>\n",
       "    </tr>\n",
       "    <tr>\n",
       "      <th>2</th>\n",
       "      <td>15766</td>\n",
       "    </tr>\n",
       "    <tr>\n",
       "      <th>3</th>\n",
       "      <td>10341</td>\n",
       "    </tr>\n",
       "    <tr>\n",
       "      <th>4</th>\n",
       "      <td>14869</td>\n",
       "    </tr>\n",
       "    <tr>\n",
       "      <th>...</th>\n",
       "      <td>...</td>\n",
       "    </tr>\n",
       "    <tr>\n",
       "      <th>14172</th>\n",
       "      <td>0</td>\n",
       "    </tr>\n",
       "    <tr>\n",
       "      <th>14173</th>\n",
       "      <td>0</td>\n",
       "    </tr>\n",
       "    <tr>\n",
       "      <th>14174</th>\n",
       "      <td>0</td>\n",
       "    </tr>\n",
       "    <tr>\n",
       "      <th>14175</th>\n",
       "      <td>0</td>\n",
       "    </tr>\n",
       "    <tr>\n",
       "      <th>14176</th>\n",
       "      <td>1</td>\n",
       "    </tr>\n",
       "  </tbody>\n",
       "</table>\n",
       "<p>14177 rows × 1 columns</p>\n",
       "</div>"
      ],
      "text/plain": [
       "       frequency\n",
       "0          10655\n",
       "1           2282\n",
       "2          15766\n",
       "3          10341\n",
       "4          14869\n",
       "...          ...\n",
       "14172          0\n",
       "14173          0\n",
       "14174          0\n",
       "14175          0\n",
       "14176          1\n",
       "\n",
       "[14177 rows x 1 columns]"
      ]
     },
     "execution_count": 7,
     "metadata": {},
     "output_type": "execute_result"
    }
   ],
   "source": [
    "text_len_freq = []\n",
    "\n",
    "for index in range(max_length + 1):\n",
    "    text_len_freq.append(0)\n",
    "\n",
    "for text in train['text']:\n",
    "    text_len_freq[len(text)] += 1\n",
    "\n",
    "text_len_freq = pd.DataFrame(text_len_freq).rename(columns={0:'frequency'})\n",
    "text_len_freq"
   ]
  },
  {
   "cell_type": "code",
   "execution_count": 8,
   "metadata": {},
   "outputs": [],
   "source": [
    "length = 50\n",
    "text_len_freq = []\n",
    "\n",
    "for index in range(length + 1):\n",
    "    text_len_freq.append(0)\n",
    "\n",
    "for text in train['text']:\n",
    "    if len(text) <= length:\n",
    "        text_len_freq[len(text)] += 1\n",
    "\n",
    "text_len_freq = pd.DataFrame(text_len_freq).rename(columns={0:'frequency'})\n",
    "# text_len_freq "
   ]
  },
  {
   "cell_type": "code",
   "execution_count": 9,
   "metadata": {},
   "outputs": [
    {
     "data": {
      "text/plain": [
       "<matplotlib.axes._subplots.AxesSubplot at 0x10857fb00>"
      ]
     },
     "execution_count": 9,
     "metadata": {},
     "output_type": "execute_result"
    },
    {
     "data": {
      "image/png": "[encoded data removed]",
      "text/plain": [
       "<Figure size 720x720 with 1 Axes>"
      ]
     },
     "metadata": {
      "needs_background": "light"
     },
     "output_type": "display_data"
    }
   ],
   "source": [
    "text_len_freq.plot.bar(figsize=(10,10))"
   ]
  },
  {
   "cell_type": "code",
   "execution_count": 10,
   "metadata": {},
   "outputs": [
    {
     "name": "stdout",
     "output_type": "stream",
     "text": [
      "Data size before removing outlines:  1904848\n",
      "Data size after removing outlines:  745971\n"
     ]
    }
   ],
   "source": [
    "length = 100\n",
    "\n",
    "# Drop outlines\n",
    "print(\"Data size before removing outlines: \", len(train))\n",
    "indexNames = []\n",
    "for key in train['text'].keys():\n",
    "    if len(train['text'][key]) <= length:\n",
    "        indexNames.append(key)\n",
    "train.drop(indexNames , inplace=True)\n",
    "print(\"Data size after removing outlines: \", len(train))"
   ]
  },
  {
   "cell_type": "markdown",
   "metadata": {},
   "source": [
    "### Sampling for author Pepys Samuel"
   ]
  },
  {
   "cell_type": "code",
   "execution_count": 11,
   "metadata": {},
   "outputs": [
    {
     "data": {
      "text/html": [
       "<div>\n",
       "<style scoped>\n",
       "    .dataframe tbody tr th:only-of-type {\n",
       "        vertical-align: middle;\n",
       "    }\n",
       "\n",
       "    .dataframe tbody tr th {\n",
       "        vertical-align: top;\n",
       "    }\n",
       "\n",
       "    .dataframe thead th {\n",
       "        text-align: right;\n",
       "    }\n",
       "</style>\n",
       "<table border=\"1\" class=\"dataframe\">\n",
       "  <thead>\n",
       "    <tr style=\"text-align: right;\">\n",
       "      <th></th>\n",
       "      <th>text</th>\n",
       "      <th>author</th>\n",
       "    </tr>\n",
       "  </thead>\n",
       "  <tbody>\n",
       "    <tr>\n",
       "      <th>258891</th>\n",
       "      <td>CLERK OF THE ACTS AND SECRETARY TO THE ADMIRAL...</td>\n",
       "      <td>Pepys, Samuel</td>\n",
       "    </tr>\n",
       "    <tr>\n",
       "      <th>258893</th>\n",
       "      <td>LATE FELLOW AND PRESIDENT OF THE COLLEGE Unabr...</td>\n",
       "      <td>Pepys, Samuel</td>\n",
       "    </tr>\n",
       "    <tr>\n",
       "      <th>258896</th>\n",
       "      <td>Lay very long in bed discoursing with Mr Hill ...</td>\n",
       "      <td>Pepys, Samuel</td>\n",
       "    </tr>\n",
       "    <tr>\n",
       "      <th>258897</th>\n",
       "      <td>At last up and it being a very foule day for r...</td>\n",
       "      <td>Pepys, Samuel</td>\n",
       "    </tr>\n",
       "    <tr>\n",
       "      <th>258898</th>\n",
       "      <td>However I dined well and after dinner all on s...</td>\n",
       "      <td>Pepys, Samuel</td>\n",
       "    </tr>\n",
       "    <tr>\n",
       "      <th>...</th>\n",
       "      <td>...</td>\n",
       "      <td>...</td>\n",
       "    </tr>\n",
       "    <tr>\n",
       "      <th>315024</th>\n",
       "      <td>Hugged it being cold now in the mornings Hunt ...</td>\n",
       "      <td>Pepys, Samuel</td>\n",
       "    </tr>\n",
       "    <tr>\n",
       "      <th>315026</th>\n",
       "      <td>Never while he lives truckle under any body or...</td>\n",
       "      <td>Pepys, Samuel</td>\n",
       "    </tr>\n",
       "    <tr>\n",
       "      <th>315027</th>\n",
       "      <td>Stewards face Night the Dutch burned our ships...</td>\n",
       "      <td>Pepys, Samuel</td>\n",
       "    </tr>\n",
       "    <tr>\n",
       "      <th>315028</th>\n",
       "      <td>They want where to set their feet to begin to ...</td>\n",
       "      <td>Pepys, Samuel</td>\n",
       "    </tr>\n",
       "    <tr>\n",
       "      <th>315029</th>\n",
       "      <td>Who continues so ill as not to be troubled wit...</td>\n",
       "      <td>Pepys, Samuel</td>\n",
       "    </tr>\n",
       "  </tbody>\n",
       "</table>\n",
       "<p>34812 rows × 2 columns</p>\n",
       "</div>"
      ],
      "text/plain": [
       "                                                     text         author\n",
       "258891  CLERK OF THE ACTS AND SECRETARY TO THE ADMIRAL...  Pepys, Samuel\n",
       "258893  LATE FELLOW AND PRESIDENT OF THE COLLEGE Unabr...  Pepys, Samuel\n",
       "258896  Lay very long in bed discoursing with Mr Hill ...  Pepys, Samuel\n",
       "258897  At last up and it being a very foule day for r...  Pepys, Samuel\n",
       "258898  However I dined well and after dinner all on s...  Pepys, Samuel\n",
       "...                                                   ...            ...\n",
       "315024  Hugged it being cold now in the mornings Hunt ...  Pepys, Samuel\n",
       "315026  Never while he lives truckle under any body or...  Pepys, Samuel\n",
       "315027  Stewards face Night the Dutch burned our ships...  Pepys, Samuel\n",
       "315028  They want where to set their feet to begin to ...  Pepys, Samuel\n",
       "315029  Who continues so ill as not to be troubled wit...  Pepys, Samuel\n",
       "\n",
       "[34812 rows x 2 columns]"
      ]
     },
     "execution_count": 11,
     "metadata": {},
     "output_type": "execute_result"
    }
   ],
   "source": [
    "Pepys_Samuel = train[ train['author'] == 'Pepys, Samuel' ]\n",
    "Pepys_Samuel"
   ]
  },
  {
   "cell_type": "code",
   "execution_count": 12,
   "metadata": {},
   "outputs": [],
   "source": [
    "Pepys_Samuel_text = []\n",
    "Pepys_Samuel_text.append(\" \".join(Pepys_Samuel['text']))\n",
    "# Pepys_Samuel_text"
   ]
  },
  {
   "cell_type": "code",
   "execution_count": 13,
   "metadata": {},
   "outputs": [
    {
     "data": {
      "text/plain": [
       "<1x22016 sparse matrix of type '<class 'numpy.int64'>'\n",
       "\twith 22016 stored elements in Compressed Sparse Row format>"
      ]
     },
     "execution_count": 13,
     "metadata": {},
     "output_type": "execute_result"
    }
   ],
   "source": [
    "from sklearn.feature_extraction.text import CountVectorizer\n",
    "from nltk.corpus import stopwords\n",
    "\n",
    "stop_word = set(stopwords.words('english')) \n",
    "\n",
    "#instantiate CountVectorizer()\n",
    "cv = CountVectorizer(stop_words=stop_word)\n",
    " \n",
    "# this steps generates word counts for the words in your docs\n",
    "word_count_vector = cv.fit_transform(Pepys_Samuel_text)\n",
    "word_count_vector"
   ]
  },
  {
   "cell_type": "code",
   "execution_count": 14,
   "metadata": {},
   "outputs": [
    {
     "data": {
      "text/html": [
       "<div>\n",
       "<style scoped>\n",
       "    .dataframe tbody tr th:only-of-type {\n",
       "        vertical-align: middle;\n",
       "    }\n",
       "\n",
       "    .dataframe tbody tr th {\n",
       "        vertical-align: top;\n",
       "    }\n",
       "\n",
       "    .dataframe thead th {\n",
       "        text-align: right;\n",
       "    }\n",
       "</style>\n",
       "<table border=\"1\" class=\"dataframe\">\n",
       "  <thead>\n",
       "    <tr style=\"text-align: right;\">\n",
       "      <th></th>\n",
       "      <th>TF-IDF</th>\n",
       "    </tr>\n",
       "  </thead>\n",
       "  <tbody>\n",
       "    <tr>\n",
       "      <th>home</th>\n",
       "      <td>9326</td>\n",
       "    </tr>\n",
       "    <tr>\n",
       "      <th>sir</th>\n",
       "      <td>8902</td>\n",
       "    </tr>\n",
       "    <tr>\n",
       "      <th>mr</th>\n",
       "      <td>7496</td>\n",
       "    </tr>\n",
       "    <tr>\n",
       "      <th>lord</th>\n",
       "      <td>6798</td>\n",
       "    </tr>\n",
       "    <tr>\n",
       "      <th>wife</th>\n",
       "      <td>6333</td>\n",
       "    </tr>\n",
       "    <tr>\n",
       "      <th>great</th>\n",
       "      <td>6245</td>\n",
       "    </tr>\n",
       "    <tr>\n",
       "      <th>office</th>\n",
       "      <td>6059</td>\n",
       "    </tr>\n",
       "    <tr>\n",
       "      <th>come</th>\n",
       "      <td>5403</td>\n",
       "    </tr>\n",
       "    <tr>\n",
       "      <th>good</th>\n",
       "      <td>5325</td>\n",
       "    </tr>\n",
       "    <tr>\n",
       "      <th>business</th>\n",
       "      <td>5293</td>\n",
       "    </tr>\n",
       "  </tbody>\n",
       "</table>\n",
       "</div>"
      ],
      "text/plain": [
       "          TF-IDF\n",
       "home        9326\n",
       "sir         8902\n",
       "mr          7496\n",
       "lord        6798\n",
       "wife        6333\n",
       "great       6245\n",
       "office      6059\n",
       "come        5403\n",
       "good        5325\n",
       "business    5293"
      ]
     },
     "execution_count": 14,
     "metadata": {},
     "output_type": "execute_result"
    }
   ],
   "source": [
    "# print TF-IDF values\n",
    "df = pd.DataFrame(word_count_vector.T.todense(), index=cv.get_feature_names(), columns=[\"TF-IDF\"])\n",
    "\n",
    "# sort descending\n",
    "df = df.sort_values(by=[\"TF-IDF\"], ascending=False)\n",
    "df = df[df['TF-IDF'] > 0]\n",
    "df.head(10)"
   ]
  },
  {
   "cell_type": "markdown",
   "metadata": {},
   "source": [
    "### Sampling of TF-IDF"
   ]
  },
  {
   "cell_type": "code",
   "execution_count": 15,
   "metadata": {},
   "outputs": [],
   "source": [
    "from sklearn.feature_extraction.text import TfidfVectorizer\n",
    "    \n",
    "vectorizer = TfidfVectorizer(use_idf=1,stop_words=stop_word)\n",
    "vectorizer.fit(train['text'])\n",
    "X_tfidf = vectorizer.transform(Pepys_Samuel_text)"
   ]
  },
  {
   "cell_type": "code",
   "execution_count": 16,
   "metadata": {},
   "outputs": [
    {
     "data": {
      "text/plain": [
       "<1x237926 sparse matrix of type '<class 'numpy.float64'>'\n",
       "\twith 22016 stored elements in Compressed Sparse Row format>"
      ]
     },
     "execution_count": 16,
     "metadata": {},
     "output_type": "execute_result"
    }
   ],
   "source": [
    "X_tfidf"
   ]
  },
  {
   "cell_type": "code",
   "execution_count": 17,
   "metadata": {},
   "outputs": [
    {
     "data": {
      "text/html": [
       "<div>\n",
       "<style scoped>\n",
       "    .dataframe tbody tr th:only-of-type {\n",
       "        vertical-align: middle;\n",
       "    }\n",
       "\n",
       "    .dataframe tbody tr th {\n",
       "        vertical-align: top;\n",
       "    }\n",
       "\n",
       "    .dataframe thead th {\n",
       "        text-align: right;\n",
       "    }\n",
       "</style>\n",
       "<table border=\"1\" class=\"dataframe\">\n",
       "  <thead>\n",
       "    <tr style=\"text-align: right;\">\n",
       "      <th></th>\n",
       "      <th>TF-IDF</th>\n",
       "    </tr>\n",
       "  </thead>\n",
       "  <tbody>\n",
       "    <tr>\n",
       "      <th>home</th>\n",
       "      <td>0.246206</td>\n",
       "    </tr>\n",
       "    <tr>\n",
       "      <th>sir</th>\n",
       "      <td>0.235570</td>\n",
       "    </tr>\n",
       "    <tr>\n",
       "      <th>lord</th>\n",
       "      <td>0.192241</td>\n",
       "    </tr>\n",
       "    <tr>\n",
       "      <th>office</th>\n",
       "      <td>0.187911</td>\n",
       "    </tr>\n",
       "    <tr>\n",
       "      <th>wife</th>\n",
       "      <td>0.176403</td>\n",
       "    </tr>\n",
       "    <tr>\n",
       "      <th>...</th>\n",
       "      <td>...</td>\n",
       "    </tr>\n",
       "    <tr>\n",
       "      <th>laughter</th>\n",
       "      <td>0.000041</td>\n",
       "    </tr>\n",
       "    <tr>\n",
       "      <th>brief</th>\n",
       "      <td>0.000040</td>\n",
       "    </tr>\n",
       "    <tr>\n",
       "      <th>political</th>\n",
       "      <td>0.000040</td>\n",
       "    </tr>\n",
       "    <tr>\n",
       "      <th>stream</th>\n",
       "      <td>0.000039</td>\n",
       "    </tr>\n",
       "    <tr>\n",
       "      <th>exclaimed</th>\n",
       "      <td>0.000038</td>\n",
       "    </tr>\n",
       "  </tbody>\n",
       "</table>\n",
       "<p>22016 rows × 1 columns</p>\n",
       "</div>"
      ],
      "text/plain": [
       "             TF-IDF\n",
       "home       0.246206\n",
       "sir        0.235570\n",
       "lord       0.192241\n",
       "office     0.187911\n",
       "wife       0.176403\n",
       "...             ...\n",
       "laughter   0.000041\n",
       "brief      0.000040\n",
       "political  0.000040\n",
       "stream     0.000039\n",
       "exclaimed  0.000038\n",
       "\n",
       "[22016 rows x 1 columns]"
      ]
     },
     "execution_count": 17,
     "metadata": {},
     "output_type": "execute_result"
    }
   ],
   "source": [
    "X_tfidf_sample = X_tfidf\n",
    "X_tfidf_sample = pd.DataFrame(X_tfidf_sample.T.todense(), index=vectorizer.get_feature_names(), columns=['TF-IDF'])\n",
    "\n",
    "# Sort TF-IDF by descending\n",
    "X_tfidf_sample = X_tfidf_sample.sort_values(by=[\"TF-IDF\"],ascending=False)\n",
    "\n",
    "# Drop TF-IDF value less than 0\n",
    "X_tfidf_sample = X_tfidf_sample[X_tfidf_sample['TF-IDF'] > 0]\n",
    "X_tfidf_sample"
   ]
  },
  {
   "cell_type": "code",
   "execution_count": 18,
   "metadata": {},
   "outputs": [
    {
     "data": {
      "text/plain": [
       "20"
      ]
     },
     "execution_count": 18,
     "metadata": {},
     "output_type": "execute_result"
    }
   ],
   "source": [
    "X_tfidf = vectorizer.transform(train['text'])\n",
    "\n",
    "from sklearn import preprocessing\n",
    "\n",
    "le = preprocessing.LabelEncoder()\n",
    "author_encoded = le.fit_transform(train['author'])\n",
    "len(le.classes_)"
   ]
  },
  {
   "cell_type": "markdown",
   "metadata": {},
   "source": [
    "### Removing low-variance features "
   ]
  },
  {
   "cell_type": "code",
   "execution_count": 19,
   "metadata": {},
   "outputs": [],
   "source": [
    "from sklearn.feature_selection import VarianceThreshold\n",
    "\n",
    "# varThreshold = VarianceThreshold()\n",
    "# X_tfidf_var = varThreshold.fit_transform(X_tfidf)\n",
    "# X_test_var = varThreshold.transform(test)"
   ]
  },
  {
   "cell_type": "markdown",
   "metadata": {},
   "source": [
    "### Feature Selection based on F-Score"
   ]
  },
  {
   "cell_type": "code",
   "execution_count": 20,
   "metadata": {},
   "outputs": [],
   "source": [
    "from sklearn.feature_selection import SelectKBest, f_classif\n",
    "k_value = int(X_tfidf.shape[1] * 0.35)\n",
    "\n",
    "k_feature = SelectKBest(f_classif, k=k_value)\n",
    "X_tfidf_final = k_feature.fit_transform(X_tfidf, author_encoded)\n"
   ]
  },
  {
   "cell_type": "markdown",
   "metadata": {},
   "source": [
    "### Split training and testing Data"
   ]
  },
  {
   "cell_type": "code",
   "execution_count": 21,
   "metadata": {},
   "outputs": [],
   "source": [
    "from sklearn.model_selection import train_test_split\n",
    "\n",
    "X = X_tfidf_final\n",
    "Y = author_encoded\n",
    "\n",
    "X_train, X_test, Y_train, Y_test = train_test_split(X, Y, test_size=0.1, stratify=Y)\n"
   ]
  },
  {
   "cell_type": "code",
   "execution_count": 22,
   "metadata": {},
   "outputs": [
    {
     "name": "stdout",
     "output_type": "stream",
     "text": [
      "(671373, 83274)\n",
      "(74598, 83274)\n",
      "(671373,)\n",
      "(74598,)\n"
     ]
    }
   ],
   "source": [
    "print(X_train.shape)\n",
    "print(X_test.shape)\n",
    "print(Y_train.shape)\n",
    "print(Y_test.shape)"
   ]
  },
  {
   "cell_type": "markdown",
   "metadata": {},
   "source": [
    "### Basic Naive Bayes"
   ]
  },
  {
   "cell_type": "code",
   "execution_count": 23,
   "metadata": {},
   "outputs": [],
   "source": [
    "from sklearn import preprocessing, decomposition, model_selection, metrics, pipeline\n",
    "\n",
    "def multiclass_logloss(actual, predicted, eps=1e-15):\n",
    "    \"\"\"Multi class version of Logarithmic Loss metric.\n",
    "    :param actual: Array containing the actual target classes\n",
    "    :param predicted: Matrix with class predictions, one probability per class\n",
    "    \"\"\"\n",
    "    # Convert 'actual' to a binary array if it's not already:\n",
    "    if len(actual.shape) == 1:\n",
    "        actual2 = np.zeros((actual.shape[0], predicted.shape[1]))\n",
    "        for i, val in enumerate(actual):\n",
    "            actual2[i, val] = 1\n",
    "        actual = actual2\n",
    "\n",
    "    clip = np.clip(predicted, eps, 1 - eps)\n",
    "    rows = actual.shape[0]\n",
    "    vsota = np.sum(actual * np.log(clip))\n",
    "    return -1.0 / rows * vsota"
   ]
  },
  {
   "cell_type": "code",
   "execution_count": 24,
   "metadata": {},
   "outputs": [],
   "source": [
    "from sklearn.metrics import accuracy_score\n",
    "\n",
    "def evaluate(predictions, Y_test):\n",
    "    log_loss = multiclass_logloss(Y_test, predictions)\n",
    "    accuracy = accuracy_score(predictions.argmax(axis=1), Y_test)\n",
    "    print(\"Logloss: %0.3f \" % log_loss)\n",
    "    print(\"Accuracy: %0.3f \" % accuracy)\n",
    "    \n",
    "    return log_loss, accuracy"
   ]
  },
  {
   "cell_type": "code",
   "execution_count": 25,
   "metadata": {},
   "outputs": [],
   "source": [
    "from sklearn.naive_bayes import MultinomialNB\n",
    "\n",
    "# Basic Naive Bayes Model\n",
    "model = MultinomialNB()\n",
    "model.fit(X_train, Y_train)\n",
    "predict = model.predict_proba(X_test)\n"
   ]
  },
  {
   "cell_type": "code",
   "execution_count": 26,
   "metadata": {},
   "outputs": [
    {
     "name": "stdout",
     "output_type": "stream",
     "text": [
      "Logloss: 1.487 \n",
      "Accuracy: 0.663 \n"
     ]
    }
   ],
   "source": [
    "# Evaluate Basic Naive Bayes on TF-IDF\n",
    "basic_Naive_Bayes_logloss, basic_Naive_Bayes_accuracy = evaluate(predict, Y_test)"
   ]
  },
  {
   "cell_type": "markdown",
   "metadata": {},
   "source": [
    "### Grid Search"
   ]
  },
  {
   "cell_type": "code",
   "execution_count": 27,
   "metadata": {},
   "outputs": [
    {
     "data": {
      "text/plain": [
       "[23792,\n",
       " 35688,\n",
       " 47585,\n",
       " 59481,\n",
       " 71377,\n",
       " 83274,\n",
       " 95170,\n",
       " 107066,\n",
       " 118963,\n",
       " 130859,\n",
       " 142755,\n",
       " 154651]"
      ]
     },
     "execution_count": 27,
     "metadata": {},
     "output_type": "execute_result"
    }
   ],
   "source": [
    "k_feature = [int(X_tfidf.shape[1] * 5 * precent / 100) for precent in range(2,14)]\n",
    "k_feature"
   ]
  },
  {
   "cell_type": "code",
   "execution_count": 28,
   "metadata": {},
   "outputs": [],
   "source": [
    "# # # Reference: https://scikit-learn.org/stable/auto_examples/model_selection/grid_search_text_feature_extraction.html\n",
    "\n",
    "# from sklearn.model_selection import GridSearchCV\n",
    "# from sklearn.pipeline import Pipeline\n",
    "# from sklearn.feature_extraction.text import CountVectorizer\n",
    "# from sklearn.feature_extraction.text import TfidfTransformer\n",
    "# from pprint import pprint\n",
    "# from time import time\n",
    "\n",
    "# # Define a pipeline combining a text feature extractor with a simple\n",
    "# # classifier\n",
    "# pipeline = Pipeline([\n",
    "#     ('tfidf', TfidfVectorizer()),\n",
    "#     ('feature', SelectKBest()),\n",
    "#     ('clf', MultinomialNB()),\n",
    "# ])\n",
    "\n",
    "# # uncommenting more parameters will give better exploring power but will\n",
    "# # increase processing time in a combinatorial way\n",
    "# parameters = {\n",
    "# #     'tfidf__analyzer': ('word', 'char', 'char_wb'),\n",
    "#     'tfidf__use_idf': [True],\n",
    "# #     'tfidf__min_df': (1,2,3),\n",
    "#     'tfidf__smooth_idf': (True, False),\n",
    "#     'tfidf__stop_words': ['english'],\n",
    "#     'tfidf__sublinear_tf': (True, False),\n",
    "#     'feature__k': k_feature,\n",
    "#     'clf__alpha': [0.1],\n",
    "# }\n",
    "\n",
    "# # find the best parameters for both the feature extraction and the\n",
    "# # classifier\n",
    "# grid_search = GridSearchCV(pipeline, parameters, n_jobs=4, verbose=1)\n",
    "\n",
    "\n",
    "# X_train, X_test, Y_train, Y_test = train_test_split(train['text'], Y, test_size=0.1, stratify=Y)\n",
    "\n",
    "# print(\"Performing grid search...\")\n",
    "# print(\"pipeline:\", [name for name, _ in pipeline.steps])\n",
    "# print(\"parameters:\")\n",
    "# pprint(parameters)\n",
    "# t0 = time()\n",
    "# grid_search.fit(X_train, Y_train)\n",
    "# print(\"done in %0.3fs\" % (time() - t0))\n",
    "# print()\n",
    "\n",
    "# print(\"Best score: %0.3f\" % grid_search.best_score_)\n",
    "# print(\"Best parameters set:\")\n",
    "# best_parameters = grid_search.best_estimator_.get_params()\n",
    "# for param_name in sorted(parameters.keys()):\n",
    "#     print(\"\\t%s: %r\" % (param_name, best_parameters[param_name]))"
   ]
  },
  {
   "cell_type": "markdown",
   "metadata": {},
   "source": [
    "### Naive Bayes after Grid Search"
   ]
  },
  {
   "cell_type": "code",
   "execution_count": 29,
   "metadata": {},
   "outputs": [],
   "source": [
    "vectorizer = TfidfVectorizer(stop_words=stop_word, use_idf=True, sublinear_tf=True, smooth_idf=False)\n",
    "vectorizer.fit(train['text'])\n",
    "X_tfidf = vectorizer.transform(train['text'])"
   ]
  },
  {
   "cell_type": "code",
   "execution_count": 30,
   "metadata": {},
   "outputs": [],
   "source": [
    "k_value = 154651\n",
    "\n",
    "k_feature = SelectKBest(f_classif, k=k_value)\n",
    "X_tfidf_final = k_feature.fit_transform(X_tfidf, author_encoded)"
   ]
  },
  {
   "cell_type": "code",
   "execution_count": 31,
   "metadata": {},
   "outputs": [],
   "source": [
    "X = X_tfidf_final\n",
    "Y = author_encoded"
   ]
  },
  {
   "cell_type": "code",
   "execution_count": 32,
   "metadata": {},
   "outputs": [],
   "source": [
    "X_train, X_test, Y_train, Y_test = train_test_split(X, Y, test_size=0.1, stratify=Y)"
   ]
  },
  {
   "cell_type": "code",
   "execution_count": 33,
   "metadata": {},
   "outputs": [],
   "source": [
    "model = MultinomialNB(alpha= 0.1)\n",
    "model.fit(X_train, Y_train)\n",
    "predict = model.predict_proba(X_test)"
   ]
  },
  {
   "cell_type": "code",
   "execution_count": 34,
   "metadata": {},
   "outputs": [
    {
     "name": "stdout",
     "output_type": "stream",
     "text": [
      "Logloss: 1.161 \n",
      "Accuracy: 0.715 \n"
     ]
    }
   ],
   "source": [
    "# Evaluate Basic Naive Bayes on TF-IDF\n",
    "basic_Naive_Bayes_logloss, basic_Naive_Bayes_accuracy = evaluate(predict, Y_test)"
   ]
  },
  {
   "cell_type": "markdown",
   "metadata": {},
   "source": [
    "### Cross Validation"
   ]
  },
  {
   "cell_type": "code",
   "execution_count": 35,
   "metadata": {},
   "outputs": [
    {
     "data": {
      "text/plain": [
       "0.7094909047843742"
      ]
     },
     "execution_count": 35,
     "metadata": {},
     "output_type": "execute_result"
    }
   ],
   "source": [
    "from sklearn.model_selection import KFold, cross_val_score\n",
    "cv = np.mean(cross_val_score(model, X_train, Y_train, cv=10))\n",
    "cv"
   ]
  },
  {
   "cell_type": "code",
   "execution_count": null,
   "metadata": {},
   "outputs": [],
   "source": []
  }
 ],
 "metadata": {
  "kernelspec": {
   "display_name": "Python 3",
   "language": "python",
   "name": "python3"
  },
  "language_info": {
   "codemirror_mode": {
    "name": "ipython",
    "version": 3
   },
   "file_extension": ".py",
   "mimetype": "text/x-python",
   "name": "python",
   "nbconvert_exporter": "python",
   "pygments_lexer": "ipython3",
   "version": "3.7.3"
  }
 },
 "nbformat": 4,
 "nbformat_minor": 4
}
