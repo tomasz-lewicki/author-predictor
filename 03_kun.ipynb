{
 "cells": [
  {
   "cell_type": "code",
   "execution_count": 1,
   "metadata": {},
   "outputs": [],
   "source": [
    "# reference: https://www.kaggle.com/abhishek/approaching-almost-any-nlp-problem-on-kaggle/notebook\n",
    "import matplotlib.pyplot as plt\n",
    "import pandas as pd\n",
    "import numpy as np"
   ]
  },
  {
   "cell_type": "code",
   "execution_count": 2,
   "metadata": {},
   "outputs": [
    {
     "data": {
      "text/html": [
       "<div>\n",
       "<style scoped>\n",
       "    .dataframe tbody tr th:only-of-type {\n",
       "        vertical-align: middle;\n",
       "    }\n",
       "\n",
       "    .dataframe tbody tr th {\n",
       "        vertical-align: top;\n",
       "    }\n",
       "\n",
       "    .dataframe thead th {\n",
       "        text-align: right;\n",
       "    }\n",
       "</style>\n",
       "<table border=\"1\" class=\"dataframe\">\n",
       "  <thead>\n",
       "    <tr style=\"text-align: right;\">\n",
       "      <th></th>\n",
       "      <th>sentence</th>\n",
       "      <th>author</th>\n",
       "    </tr>\n",
       "  </thead>\n",
       "  <tbody>\n",
       "    <tr>\n",
       "      <th>0</th>\n",
       "      <td>EUGENIE GRANDET By Honore De Balzac Translate...</td>\n",
       "      <td>Balzac, Honoré de</td>\n",
       "    </tr>\n",
       "    <tr>\n",
       "      <th>1</th>\n",
       "      <td>May your name, that of one whose portrait is t...</td>\n",
       "      <td>Balzac, Honoré de</td>\n",
       "    </tr>\n",
       "    <tr>\n",
       "      <th>2</th>\n",
       "      <td>De Balzac.</td>\n",
       "      <td>Balzac, Honoré de</td>\n",
       "    </tr>\n",
       "    <tr>\n",
       "      <th>3</th>\n",
       "      <td>EUGENIE GRANDET I There are houses in certain ...</td>\n",
       "      <td>Balzac, Honoré de</td>\n",
       "    </tr>\n",
       "    <tr>\n",
       "      <th>4</th>\n",
       "      <td>Within these houses there is, perhaps, the sil...</td>\n",
       "      <td>Balzac, Honoré de</td>\n",
       "    </tr>\n",
       "  </tbody>\n",
       "</table>\n",
       "</div>"
      ],
      "text/plain": [
       "                                            sentence             author\n",
       "0   EUGENIE GRANDET By Honore De Balzac Translate...  Balzac, Honoré de\n",
       "1  May your name, that of one whose portrait is t...  Balzac, Honoré de\n",
       "2                                         De Balzac.  Balzac, Honoré de\n",
       "3  EUGENIE GRANDET I There are houses in certain ...  Balzac, Honoré de\n",
       "4  Within these houses there is, perhaps, the sil...  Balzac, Honoré de"
      ]
     },
     "execution_count": 2,
     "metadata": {},
     "output_type": "execute_result"
    }
   ],
   "source": [
    "import pickle\n",
    "f = open(\"data/author_sentence.pickle\",\"rb\")\n",
    "df = pickle.load(f)\n",
    "f.close()\n",
    "train = df\n",
    "train.head()"
   ]
  },
  {
   "cell_type": "code",
   "execution_count": 3,
   "metadata": {},
   "outputs": [],
   "source": [
    "train = train.sample(int(len(train) / 10))"
   ]
  },
  {
   "cell_type": "markdown",
   "metadata": {},
   "source": [
    "### Basic Exploratory Data Analysis (EDA)"
   ]
  },
  {
   "cell_type": "code",
   "execution_count": 4,
   "metadata": {},
   "outputs": [
    {
     "data": {
      "text/plain": [
       "Shakespeare, William                   17627\n",
       "Parker, Gilbert                        17582\n",
       "Alger, Horatio, Jr.                    13346\n",
       "Fenn, George Manville                  12591\n",
       "Meredith, George                       10737\n",
       "Dickens, Charles                        8769\n",
       "Twain, Mark                             8753\n",
       "Kingston, William Henry Giles           8660\n",
       "Jacobs, W. W. (William Wymark)          8431\n",
       "Balzac, Honoré de                       8409\n",
       "Stevenson, Robert Louis                 8365\n",
       "Oliphant, Mrs. (Margaret)               8207\n",
       "Ballantyne, R. M. (Robert Michael)      8170\n",
       "Henty, G. A. (George Alfred)            8154\n",
       "Ebers, Georg                            8026\n",
       "Lytton, Edward Bulwer Lytton, Baron     7800\n",
       "Howells, William Dean                   7710\n",
       "Hawthorne, Nathaniel                    7130\n",
       "Motley, John Lothrop                    6470\n",
       "Pepys, Samuel                           5547\n",
       "Name: author, dtype: int64"
      ]
     },
     "execution_count": 4,
     "metadata": {},
     "output_type": "execute_result"
    }
   ],
   "source": [
    "train['author'].value_counts()"
   ]
  },
  {
   "cell_type": "code",
   "execution_count": 5,
   "metadata": {},
   "outputs": [
    {
     "data": {
      "text/html": [
       "<div>\n",
       "<style scoped>\n",
       "    .dataframe tbody tr th:only-of-type {\n",
       "        vertical-align: middle;\n",
       "    }\n",
       "\n",
       "    .dataframe tbody tr th {\n",
       "        vertical-align: top;\n",
       "    }\n",
       "\n",
       "    .dataframe thead th {\n",
       "        text-align: right;\n",
       "    }\n",
       "</style>\n",
       "<table border=\"1\" class=\"dataframe\">\n",
       "  <thead>\n",
       "    <tr style=\"text-align: right;\">\n",
       "      <th></th>\n",
       "      <th>text</th>\n",
       "      <th>author</th>\n",
       "    </tr>\n",
       "  </thead>\n",
       "  <tbody>\n",
       "    <tr>\n",
       "      <th>1024267</th>\n",
       "      <td>Abner always seemed so straight.” “Oh, he slop...</td>\n",
       "      <td>Parker, Gilbert</td>\n",
       "    </tr>\n",
       "    <tr>\n",
       "      <th>628717</th>\n",
       "      <td>The terrible events of the last two days had m...</td>\n",
       "      <td>Dickens, Charles</td>\n",
       "    </tr>\n",
       "    <tr>\n",
       "      <th>100674</th>\n",
       "      <td>I found them on a tree.</td>\n",
       "      <td>Shakespeare, William</td>\n",
       "    </tr>\n",
       "    <tr>\n",
       "      <th>1323015</th>\n",
       "      <td>what a wonderful incomprehensible mistake!</td>\n",
       "      <td>Oliphant, Mrs. (Margaret)</td>\n",
       "    </tr>\n",
       "    <tr>\n",
       "      <th>1828939</th>\n",
       "      <td>The heart of Miles gave a bound such as it had...</td>\n",
       "      <td>Ballantyne, R. M. (Robert Michael)</td>\n",
       "    </tr>\n",
       "    <tr>\n",
       "      <th>...</th>\n",
       "      <td>...</td>\n",
       "      <td>...</td>\n",
       "    </tr>\n",
       "    <tr>\n",
       "      <th>1713317</th>\n",
       "      <td>\"Thank you, thank you.</td>\n",
       "      <td>Fenn, George Manville</td>\n",
       "    </tr>\n",
       "    <tr>\n",
       "      <th>1339034</th>\n",
       "      <td>The fact is, I'm too old to change so radically.</td>\n",
       "      <td>Howells, William Dean</td>\n",
       "    </tr>\n",
       "    <tr>\n",
       "      <th>533199</th>\n",
       "      <td>There was no call for tears.</td>\n",
       "      <td>Twain, Mark</td>\n",
       "    </tr>\n",
       "    <tr>\n",
       "      <th>426122</th>\n",
       "      <td>or I shall think the world has indeed corrupte...</td>\n",
       "      <td>Lytton, Edward Bulwer Lytton, Baron</td>\n",
       "    </tr>\n",
       "    <tr>\n",
       "      <th>282508</th>\n",
       "      <td>Mrs. Hunt coming to see my wife by chance dine...</td>\n",
       "      <td>Pepys, Samuel</td>\n",
       "    </tr>\n",
       "  </tbody>\n",
       "</table>\n",
       "<p>190484 rows × 2 columns</p>\n",
       "</div>"
      ],
      "text/plain": [
       "                                                      text  \\\n",
       "1024267  Abner always seemed so straight.” “Oh, he slop...   \n",
       "628717   The terrible events of the last two days had m...   \n",
       "100674                             I found them on a tree.   \n",
       "1323015         what a wonderful incomprehensible mistake!   \n",
       "1828939  The heart of Miles gave a bound such as it had...   \n",
       "...                                                    ...   \n",
       "1713317                             \"Thank you, thank you.   \n",
       "1339034   The fact is, I'm too old to change so radically.   \n",
       "533199                        There was no call for tears.   \n",
       "426122   or I shall think the world has indeed corrupte...   \n",
       "282508   Mrs. Hunt coming to see my wife by chance dine...   \n",
       "\n",
       "                                      author  \n",
       "1024267                      Parker, Gilbert  \n",
       "628717                      Dickens, Charles  \n",
       "100674                  Shakespeare, William  \n",
       "1323015            Oliphant, Mrs. (Margaret)  \n",
       "1828939   Ballantyne, R. M. (Robert Michael)  \n",
       "...                                      ...  \n",
       "1713317                Fenn, George Manville  \n",
       "1339034                Howells, William Dean  \n",
       "533199                           Twain, Mark  \n",
       "426122   Lytton, Edward Bulwer Lytton, Baron  \n",
       "282508                         Pepys, Samuel  \n",
       "\n",
       "[190484 rows x 2 columns]"
      ]
     },
     "execution_count": 5,
     "metadata": {},
     "output_type": "execute_result"
    }
   ],
   "source": [
    "# Reanme\n",
    "train.rename(columns = {'sentence':'text'}, inplace = True) \n",
    "train"
   ]
  },
  {
   "cell_type": "markdown",
   "metadata": {},
   "source": [
    "## Data Preprocessing"
   ]
  },
  {
   "cell_type": "markdown",
   "metadata": {},
   "source": [
    "### Removing all notations"
   ]
  },
  {
   "cell_type": "code",
   "execution_count": 6,
   "metadata": {},
   "outputs": [
    {
     "data": {
      "text/plain": [
       "1024267    Abner always seemed so straight Oh he sloped w...\n",
       "628717     The terrible events of the last two days had m...\n",
       "100674                                I found them on a tree\n",
       "1323015            what a wonderful incomprehensible mistake\n",
       "1828939    The heart of Miles gave a bound such as it had...\n",
       "                                 ...                        \n",
       "1713317                                  Thank you thank you\n",
       "1339034        The fact is Im too old to change so radically\n",
       "533199                           There was no call for tears\n",
       "426122     or I shall think the world has indeed corrupte...\n",
       "282508     Mrs Hunt coming to see my wife by chance dined...\n",
       "Name: text, Length: 190484, dtype: object"
      ]
     },
     "execution_count": 6,
     "metadata": {},
     "output_type": "execute_result"
    }
   ],
   "source": [
    "import re\n",
    "def data_clearing_combined(text):\n",
    "    \n",
    "    regex = r'([0-9~`!@#$%^&*()\\-_=+\\[\\]{};:\\'\",.<>?\\/\\\\“”‘’|「」【】¥])'\n",
    "    result = re.compile(regex)\n",
    "    return result.sub(r'',text)\n",
    "                                  \n",
    "# Clear training Text\n",
    "train['text'] = train['text'].apply(lambda x : data_clearing_combined(str(x)))\n",
    "train['text']"
   ]
  },
  {
   "cell_type": "markdown",
   "metadata": {},
   "source": [
    "### Removing short text length"
   ]
  },
  {
   "cell_type": "code",
   "execution_count": 7,
   "metadata": {},
   "outputs": [
    {
     "data": {
      "text/plain": [
       "4386"
      ]
     },
     "execution_count": 7,
     "metadata": {},
     "output_type": "execute_result"
    }
   ],
   "source": [
    "max_length = train['text'].map(len).max()\n",
    "max_length"
   ]
  },
  {
   "cell_type": "code",
   "execution_count": 8,
   "metadata": {},
   "outputs": [
    {
     "data": {
      "text/html": [
       "<div>\n",
       "<style scoped>\n",
       "    .dataframe tbody tr th:only-of-type {\n",
       "        vertical-align: middle;\n",
       "    }\n",
       "\n",
       "    .dataframe tbody tr th {\n",
       "        vertical-align: top;\n",
       "    }\n",
       "\n",
       "    .dataframe thead th {\n",
       "        text-align: right;\n",
       "    }\n",
       "</style>\n",
       "<table border=\"1\" class=\"dataframe\">\n",
       "  <thead>\n",
       "    <tr style=\"text-align: right;\">\n",
       "      <th></th>\n",
       "      <th>frequency</th>\n",
       "    </tr>\n",
       "  </thead>\n",
       "  <tbody>\n",
       "    <tr>\n",
       "      <th>0</th>\n",
       "      <td>1032</td>\n",
       "    </tr>\n",
       "    <tr>\n",
       "      <th>1</th>\n",
       "      <td>236</td>\n",
       "    </tr>\n",
       "    <tr>\n",
       "      <th>2</th>\n",
       "      <td>1611</td>\n",
       "    </tr>\n",
       "    <tr>\n",
       "      <th>3</th>\n",
       "      <td>1015</td>\n",
       "    </tr>\n",
       "    <tr>\n",
       "      <th>4</th>\n",
       "      <td>1492</td>\n",
       "    </tr>\n",
       "    <tr>\n",
       "      <th>...</th>\n",
       "      <td>...</td>\n",
       "    </tr>\n",
       "    <tr>\n",
       "      <th>4382</th>\n",
       "      <td>0</td>\n",
       "    </tr>\n",
       "    <tr>\n",
       "      <th>4383</th>\n",
       "      <td>0</td>\n",
       "    </tr>\n",
       "    <tr>\n",
       "      <th>4384</th>\n",
       "      <td>0</td>\n",
       "    </tr>\n",
       "    <tr>\n",
       "      <th>4385</th>\n",
       "      <td>0</td>\n",
       "    </tr>\n",
       "    <tr>\n",
       "      <th>4386</th>\n",
       "      <td>1</td>\n",
       "    </tr>\n",
       "  </tbody>\n",
       "</table>\n",
       "<p>4387 rows × 1 columns</p>\n",
       "</div>"
      ],
      "text/plain": [
       "      frequency\n",
       "0          1032\n",
       "1           236\n",
       "2          1611\n",
       "3          1015\n",
       "4          1492\n",
       "...         ...\n",
       "4382          0\n",
       "4383          0\n",
       "4384          0\n",
       "4385          0\n",
       "4386          1\n",
       "\n",
       "[4387 rows x 1 columns]"
      ]
     },
     "execution_count": 8,
     "metadata": {},
     "output_type": "execute_result"
    }
   ],
   "source": [
    "text_len_freq = []\n",
    "\n",
    "for index in range(max_length + 1):\n",
    "    text_len_freq.append(0)\n",
    "\n",
    "for text in train['text']:\n",
    "    text_len_freq[len(text)] += 1\n",
    "\n",
    "text_len_freq = pd.DataFrame(text_len_freq).rename(columns={0:'frequency'})\n",
    "text_len_freq"
   ]
  },
  {
   "cell_type": "code",
   "execution_count": 9,
   "metadata": {
    "scrolled": true
   },
   "outputs": [
    {
     "data": {
      "text/plain": [
       "<matplotlib.axes._subplots.AxesSubplot at 0x101f2bfd0>"
      ]
     },
     "execution_count": 9,
     "metadata": {},
     "output_type": "execute_result"
    },
    {
     "data": {
      "image/png": "[encoded data removed]",
      "text/plain": [
       "<Figure size 360x360 with 1 Axes>"
      ]
     },
     "metadata": {
      "needs_background": "light"
     },
     "output_type": "display_data"
    }
   ],
   "source": [
    "# text_len_freq.plot.bar(figsize=(5,5))"
   ]
  },
  {
   "cell_type": "code",
   "execution_count": 10,
   "metadata": {},
   "outputs": [],
   "source": [
    "length = 50\n",
    "text_len_freq = []\n",
    "\n",
    "for index in range(length + 1):\n",
    "    text_len_freq.append(0)\n",
    "\n",
    "for text in train['text']:\n",
    "    if len(text) <= length:\n",
    "        text_len_freq[len(text)] += 1\n",
    "\n",
    "text_len_freq = pd.DataFrame(text_len_freq).rename(columns={0:'frequency'})\n",
    "# text_len_freq "
   ]
  },
  {
   "cell_type": "code",
   "execution_count": 11,
   "metadata": {},
   "outputs": [
    {
     "data": {
      "text/plain": [
       "<matplotlib.axes._subplots.AxesSubplot at 0x12b992048>"
      ]
     },
     "execution_count": 11,
     "metadata": {},
     "output_type": "execute_result"
    },
    {
     "data": {
      "image/png": "[encoded data removed]",
      "text/plain": [
       "<Figure size 720x720 with 1 Axes>"
      ]
     },
     "metadata": {
      "needs_background": "light"
     },
     "output_type": "display_data"
    }
   ],
   "source": [
    "text_len_freq.plot.bar(figsize=(10,10))"
   ]
  },
  {
   "cell_type": "code",
   "execution_count": 12,
   "metadata": {},
   "outputs": [
    {
     "name": "stdout",
     "output_type": "stream",
     "text": [
      "Data size before removing outlines:  190484\n",
      "Data size after removing outlines:  74624\n"
     ]
    }
   ],
   "source": [
    "length = 100\n",
    "\n",
    "# Drop outlines\n",
    "print(\"Data size before removing outlines: \", len(train))\n",
    "indexNames = []\n",
    "for key in train['text'].keys():\n",
    "    if len(train['text'][key]) <= length:\n",
    "        indexNames.append(key)\n",
    "train.drop(indexNames , inplace=True)\n",
    "print(\"Data size after removing outlines: \", len(train))"
   ]
  },
  {
   "cell_type": "markdown",
   "metadata": {},
   "source": [
    "### Sampling for author Pepys Samuel"
   ]
  },
  {
   "cell_type": "code",
   "execution_count": 13,
   "metadata": {},
   "outputs": [
    {
     "data": {
      "text/html": [
       "<div>\n",
       "<style scoped>\n",
       "    .dataframe tbody tr th:only-of-type {\n",
       "        vertical-align: middle;\n",
       "    }\n",
       "\n",
       "    .dataframe tbody tr th {\n",
       "        vertical-align: top;\n",
       "    }\n",
       "\n",
       "    .dataframe thead th {\n",
       "        text-align: right;\n",
       "    }\n",
       "</style>\n",
       "<table border=\"1\" class=\"dataframe\">\n",
       "  <thead>\n",
       "    <tr style=\"text-align: right;\">\n",
       "      <th></th>\n",
       "      <th>text</th>\n",
       "      <th>author</th>\n",
       "    </tr>\n",
       "  </thead>\n",
       "  <tbody>\n",
       "    <tr>\n",
       "      <th>312860</th>\n",
       "      <td>One of these boys is the son of a Montagu of m...</td>\n",
       "      <td>Pepys, Samuel</td>\n",
       "    </tr>\n",
       "    <tr>\n",
       "      <th>262460</th>\n",
       "      <td>Which is very observable the French were at le...</td>\n",
       "      <td>Pepys, Samuel</td>\n",
       "    </tr>\n",
       "    <tr>\n",
       "      <th>308316</th>\n",
       "      <td>Thence Creed and I to Alderman Backewells abou...</td>\n",
       "      <td>Pepys, Samuel</td>\n",
       "    </tr>\n",
       "    <tr>\n",
       "      <th>313017</th>\n",
       "      <td>Sir Thomas Crew yesterday speaking of the King...</td>\n",
       "      <td>Pepys, Samuel</td>\n",
       "    </tr>\n",
       "    <tr>\n",
       "      <th>288593</th>\n",
       "      <td>I answered him sharply that I did not make nor...</td>\n",
       "      <td>Pepys, Samuel</td>\n",
       "    </tr>\n",
       "    <tr>\n",
       "      <th>...</th>\n",
       "      <td>...</td>\n",
       "      <td>...</td>\n",
       "    </tr>\n",
       "    <tr>\n",
       "      <th>275213</th>\n",
       "      <td>Here was Mr Herbert son to Sir Charles Herbert...</td>\n",
       "      <td>Pepys, Samuel</td>\n",
       "    </tr>\n",
       "    <tr>\n",
       "      <th>302334</th>\n",
       "      <td>Up and by coach to Sir W Coventry where with h...</td>\n",
       "      <td>Pepys, Samuel</td>\n",
       "    </tr>\n",
       "    <tr>\n",
       "      <th>273096</th>\n",
       "      <td>So I went ashore at Westminster and to the Hal...</td>\n",
       "      <td>Pepys, Samuel</td>\n",
       "    </tr>\n",
       "    <tr>\n",
       "      <th>289677</th>\n",
       "      <td>Here I saw on a post an invitation to all good...</td>\n",
       "      <td>Pepys, Samuel</td>\n",
       "    </tr>\n",
       "    <tr>\n",
       "      <th>281864</th>\n",
       "      <td>And so I went among them to Leadenhall Street ...</td>\n",
       "      <td>Pepys, Samuel</td>\n",
       "    </tr>\n",
       "  </tbody>\n",
       "</table>\n",
       "<p>3379 rows × 2 columns</p>\n",
       "</div>"
      ],
      "text/plain": [
       "                                                     text         author\n",
       "312860  One of these boys is the son of a Montagu of m...  Pepys, Samuel\n",
       "262460  Which is very observable the French were at le...  Pepys, Samuel\n",
       "308316  Thence Creed and I to Alderman Backewells abou...  Pepys, Samuel\n",
       "313017  Sir Thomas Crew yesterday speaking of the King...  Pepys, Samuel\n",
       "288593  I answered him sharply that I did not make nor...  Pepys, Samuel\n",
       "...                                                   ...            ...\n",
       "275213  Here was Mr Herbert son to Sir Charles Herbert...  Pepys, Samuel\n",
       "302334  Up and by coach to Sir W Coventry where with h...  Pepys, Samuel\n",
       "273096  So I went ashore at Westminster and to the Hal...  Pepys, Samuel\n",
       "289677  Here I saw on a post an invitation to all good...  Pepys, Samuel\n",
       "281864  And so I went among them to Leadenhall Street ...  Pepys, Samuel\n",
       "\n",
       "[3379 rows x 2 columns]"
      ]
     },
     "execution_count": 13,
     "metadata": {},
     "output_type": "execute_result"
    }
   ],
   "source": [
    "Pepys_Samuel = train[ train['author'] == 'Pepys, Samuel' ]\n",
    "Pepys_Samuel"
   ]
  },
  {
   "cell_type": "code",
   "execution_count": 14,
   "metadata": {},
   "outputs": [],
   "source": [
    "Pepys_Samuel_text = []\n",
    "Pepys_Samuel_text.append(\" \".join(Pepys_Samuel['text']))\n",
    "# Pepys_Samuel_text"
   ]
  },
  {
   "cell_type": "code",
   "execution_count": 15,
   "metadata": {},
   "outputs": [
    {
     "data": {
      "text/plain": [
       "<1x8982 sparse matrix of type '<class 'numpy.int64'>'\n",
       "\twith 8982 stored elements in Compressed Sparse Row format>"
      ]
     },
     "execution_count": 15,
     "metadata": {},
     "output_type": "execute_result"
    }
   ],
   "source": [
    "from sklearn.feature_extraction.text import CountVectorizer\n",
    "from nltk.corpus import stopwords\n",
    "\n",
    "stop_word = set(stopwords.words('english')) \n",
    "\n",
    "#instantiate CountVectorizer()\n",
    "cv = CountVectorizer(stop_words=stop_word)\n",
    " \n",
    "# this steps generates word counts for the words in your docs\n",
    "word_count_vector = cv.fit_transform(Pepys_Samuel_text)\n",
    "word_count_vector"
   ]
  },
  {
   "cell_type": "code",
   "execution_count": 16,
   "metadata": {},
   "outputs": [
    {
     "data": {
      "text/html": [
       "<div>\n",
       "<style scoped>\n",
       "    .dataframe tbody tr th:only-of-type {\n",
       "        vertical-align: middle;\n",
       "    }\n",
       "\n",
       "    .dataframe tbody tr th {\n",
       "        vertical-align: top;\n",
       "    }\n",
       "\n",
       "    .dataframe thead th {\n",
       "        text-align: right;\n",
       "    }\n",
       "</style>\n",
       "<table border=\"1\" class=\"dataframe\">\n",
       "  <thead>\n",
       "    <tr style=\"text-align: right;\">\n",
       "      <th></th>\n",
       "      <th>TF-IDF</th>\n",
       "    </tr>\n",
       "  </thead>\n",
       "  <tbody>\n",
       "    <tr>\n",
       "      <th>home</th>\n",
       "      <td>973</td>\n",
       "    </tr>\n",
       "    <tr>\n",
       "      <th>sir</th>\n",
       "      <td>843</td>\n",
       "    </tr>\n",
       "    <tr>\n",
       "      <th>mr</th>\n",
       "      <td>745</td>\n",
       "    </tr>\n",
       "    <tr>\n",
       "      <th>wife</th>\n",
       "      <td>676</td>\n",
       "    </tr>\n",
       "    <tr>\n",
       "      <th>lord</th>\n",
       "      <td>647</td>\n",
       "    </tr>\n",
       "    <tr>\n",
       "      <th>great</th>\n",
       "      <td>609</td>\n",
       "    </tr>\n",
       "    <tr>\n",
       "      <th>office</th>\n",
       "      <td>580</td>\n",
       "    </tr>\n",
       "    <tr>\n",
       "      <th>dinner</th>\n",
       "      <td>521</td>\n",
       "    </tr>\n",
       "    <tr>\n",
       "      <th>business</th>\n",
       "      <td>510</td>\n",
       "    </tr>\n",
       "    <tr>\n",
       "      <th>good</th>\n",
       "      <td>505</td>\n",
       "    </tr>\n",
       "    <tr>\n",
       "      <th>come</th>\n",
       "      <td>463</td>\n",
       "    </tr>\n",
       "    <tr>\n",
       "      <th>upon</th>\n",
       "      <td>454</td>\n",
       "    </tr>\n",
       "    <tr>\n",
       "      <th>house</th>\n",
       "      <td>448</td>\n",
       "    </tr>\n",
       "    <tr>\n",
       "      <th>us</th>\n",
       "      <td>443</td>\n",
       "    </tr>\n",
       "    <tr>\n",
       "      <th>thence</th>\n",
       "      <td>436</td>\n",
       "    </tr>\n",
       "    <tr>\n",
       "      <th>king</th>\n",
       "      <td>410</td>\n",
       "    </tr>\n",
       "    <tr>\n",
       "      <th>one</th>\n",
       "      <td>410</td>\n",
       "    </tr>\n",
       "    <tr>\n",
       "      <th>much</th>\n",
       "      <td>409</td>\n",
       "    </tr>\n",
       "    <tr>\n",
       "      <th>see</th>\n",
       "      <td>401</td>\n",
       "    </tr>\n",
       "    <tr>\n",
       "      <th>duke</th>\n",
       "      <td>395</td>\n",
       "    </tr>\n",
       "  </tbody>\n",
       "</table>\n",
       "</div>"
      ],
      "text/plain": [
       "          TF-IDF\n",
       "home         973\n",
       "sir          843\n",
       "mr           745\n",
       "wife         676\n",
       "lord         647\n",
       "great        609\n",
       "office       580\n",
       "dinner       521\n",
       "business     510\n",
       "good         505\n",
       "come         463\n",
       "upon         454\n",
       "house        448\n",
       "us           443\n",
       "thence       436\n",
       "king         410\n",
       "one          410\n",
       "much         409\n",
       "see          401\n",
       "duke         395"
      ]
     },
     "execution_count": 16,
     "metadata": {},
     "output_type": "execute_result"
    }
   ],
   "source": [
    "# print TF-IDF values\n",
    "df = pd.DataFrame(word_count_vector.T.todense(), index=cv.get_feature_names(), columns=[\"TF-IDF\"])\n",
    "\n",
    "# sort descending\n",
    "df = df.sort_values(by=[\"TF-IDF\"], ascending=False)\n",
    "df = df[df['TF-IDF'] > 0]\n",
    "df.head(20)"
   ]
  },
  {
   "cell_type": "markdown",
   "metadata": {},
   "source": [
    "### Sampling of TF-IDF"
   ]
  },
  {
   "cell_type": "code",
   "execution_count": 17,
   "metadata": {},
   "outputs": [],
   "source": [
    "from sklearn.feature_extraction.text import TfidfVectorizer\n",
    "    \n",
    "vectorizer = TfidfVectorizer(use_idf=1,stop_words=stop_word)\n",
    "vectorizer.fit(train['text'])\n",
    "X_tfidf = vectorizer.transform(Pepys_Samuel_text)"
   ]
  },
  {
   "cell_type": "code",
   "execution_count": 18,
   "metadata": {},
   "outputs": [
    {
     "data": {
      "text/plain": [
       "<1x74479 sparse matrix of type '<class 'numpy.float64'>'\n",
       "\twith 8982 stored elements in Compressed Sparse Row format>"
      ]
     },
     "execution_count": 18,
     "metadata": {},
     "output_type": "execute_result"
    }
   ],
   "source": [
    "X_tfidf"
   ]
  },
  {
   "cell_type": "code",
   "execution_count": 19,
   "metadata": {},
   "outputs": [
    {
     "data": {
      "text/html": [
       "<div>\n",
       "<style scoped>\n",
       "    .dataframe tbody tr th:only-of-type {\n",
       "        vertical-align: middle;\n",
       "    }\n",
       "\n",
       "    .dataframe tbody tr th {\n",
       "        vertical-align: top;\n",
       "    }\n",
       "\n",
       "    .dataframe thead th {\n",
       "        text-align: right;\n",
       "    }\n",
       "</style>\n",
       "<table border=\"1\" class=\"dataframe\">\n",
       "  <thead>\n",
       "    <tr style=\"text-align: right;\">\n",
       "      <th></th>\n",
       "      <th>TF-IDF</th>\n",
       "    </tr>\n",
       "  </thead>\n",
       "  <tbody>\n",
       "    <tr>\n",
       "      <th>home</th>\n",
       "      <td>0.257045</td>\n",
       "    </tr>\n",
       "    <tr>\n",
       "      <th>sir</th>\n",
       "      <td>0.226735</td>\n",
       "    </tr>\n",
       "    <tr>\n",
       "      <th>wife</th>\n",
       "      <td>0.188113</td>\n",
       "    </tr>\n",
       "    <tr>\n",
       "      <th>lord</th>\n",
       "      <td>0.185284</td>\n",
       "    </tr>\n",
       "    <tr>\n",
       "      <th>office</th>\n",
       "      <td>0.182264</td>\n",
       "    </tr>\n",
       "    <tr>\n",
       "      <th>...</th>\n",
       "      <td>...</td>\n",
       "    </tr>\n",
       "    <tr>\n",
       "      <th>across</th>\n",
       "      <td>0.000338</td>\n",
       "    </tr>\n",
       "    <tr>\n",
       "      <th>miss</th>\n",
       "      <td>0.000329</td>\n",
       "    </tr>\n",
       "    <tr>\n",
       "      <th>air</th>\n",
       "      <td>0.000318</td>\n",
       "    </tr>\n",
       "    <tr>\n",
       "      <th>dont</th>\n",
       "      <td>0.000293</td>\n",
       "    </tr>\n",
       "    <tr>\n",
       "      <th>felt</th>\n",
       "      <td>0.000288</td>\n",
       "    </tr>\n",
       "  </tbody>\n",
       "</table>\n",
       "<p>8982 rows × 1 columns</p>\n",
       "</div>"
      ],
      "text/plain": [
       "          TF-IDF\n",
       "home    0.257045\n",
       "sir     0.226735\n",
       "wife    0.188113\n",
       "lord    0.185284\n",
       "office  0.182264\n",
       "...          ...\n",
       "across  0.000338\n",
       "miss    0.000329\n",
       "air     0.000318\n",
       "dont    0.000293\n",
       "felt    0.000288\n",
       "\n",
       "[8982 rows x 1 columns]"
      ]
     },
     "execution_count": 19,
     "metadata": {},
     "output_type": "execute_result"
    }
   ],
   "source": [
    "X_tfidf_sample = X_tfidf\n",
    "X_tfidf_sample = pd.DataFrame(X_tfidf_sample.T.todense(), index=vectorizer.get_feature_names(), columns=['TF-IDF'])\n",
    "\n",
    "# Sort TF-IDF by descending\n",
    "X_tfidf_sample = X_tfidf_sample.sort_values(by=[\"TF-IDF\"],ascending=False)\n",
    "\n",
    "# Drop TF-IDF value less than 0\n",
    "X_tfidf_sample = X_tfidf_sample[X_tfidf_sample['TF-IDF'] > 0]\n",
    "X_tfidf_sample"
   ]
  },
  {
   "cell_type": "code",
   "execution_count": 20,
   "metadata": {},
   "outputs": [
    {
     "data": {
      "text/plain": [
       "20"
      ]
     },
     "execution_count": 20,
     "metadata": {},
     "output_type": "execute_result"
    }
   ],
   "source": [
    "X_tfidf = vectorizer.transform(train['text'])\n",
    "\n",
    "from sklearn import preprocessing\n",
    "\n",
    "le = preprocessing.LabelEncoder()\n",
    "author_encoded = le.fit_transform(train['author'])\n",
    "len(le.classes_)"
   ]
  },
  {
   "cell_type": "markdown",
   "metadata": {},
   "source": [
    "### Removing low-variance features "
   ]
  },
  {
   "cell_type": "code",
   "execution_count": 21,
   "metadata": {},
   "outputs": [],
   "source": [
    "from sklearn.feature_selection import VarianceThreshold\n",
    "\n",
    "# varThreshold = VarianceThreshold()\n",
    "# X_tfidf_var = varThreshold.fit_transform(X_tfidf)\n",
    "# X_test_var = varThreshold.transform(test)"
   ]
  },
  {
   "cell_type": "markdown",
   "metadata": {},
   "source": [
    "### Feature Selection based on F-Score"
   ]
  },
  {
   "cell_type": "code",
   "execution_count": 62,
   "metadata": {},
   "outputs": [],
   "source": [
    "from sklearn.feature_selection import SelectKBest, f_classif\n",
    "k_value = int(X_tfidf.shape[1] * 0.35)\n",
    "\n",
    "k_feature = SelectKBest(f_classif, k=k_value)\n",
    "X_tfidf_final = k_feature.fit_transform(X_tfidf, author_encoded)\n"
   ]
  },
  {
   "cell_type": "markdown",
   "metadata": {},
   "source": [
    "### Split training and testing Data"
   ]
  },
  {
   "cell_type": "code",
   "execution_count": 63,
   "metadata": {},
   "outputs": [],
   "source": [
    "# X_tfidf.shape"
   ]
  },
  {
   "cell_type": "code",
   "execution_count": null,
   "metadata": {},
   "outputs": [],
   "source": []
  },
  {
   "cell_type": "code",
   "execution_count": 64,
   "metadata": {},
   "outputs": [],
   "source": [
    "from sklearn.model_selection import train_test_split\n",
    "\n",
    "X = X_tfidf_final\n",
    "Y = author_encoded\n",
    "\n",
    "X_train, X_test, Y_train, Y_test = train_test_split(X, Y, test_size=0.1, stratify=Y)\n"
   ]
  },
  {
   "cell_type": "code",
   "execution_count": 65,
   "metadata": {},
   "outputs": [
    {
     "name": "stdout",
     "output_type": "stream",
     "text": [
      "(67161, 26067)\n",
      "(7463, 26067)\n",
      "(67161,)\n",
      "(7463,)\n"
     ]
    }
   ],
   "source": [
    "print(X_train.shape)\n",
    "print(X_test.shape)\n",
    "print(Y_train.shape)\n",
    "print(Y_test.shape)"
   ]
  },
  {
   "cell_type": "markdown",
   "metadata": {},
   "source": [
    "### Basic Naive Bayes"
   ]
  },
  {
   "cell_type": "code",
   "execution_count": 66,
   "metadata": {},
   "outputs": [],
   "source": [
    "from sklearn import preprocessing, decomposition, model_selection, metrics, pipeline\n",
    "\n",
    "def multiclass_logloss(actual, predicted, eps=1e-15):\n",
    "    \"\"\"Multi class version of Logarithmic Loss metric.\n",
    "    :param actual: Array containing the actual target classes\n",
    "    :param predicted: Matrix with class predictions, one probability per class\n",
    "    \"\"\"\n",
    "    # Convert 'actual' to a binary array if it's not already:\n",
    "    if len(actual.shape) == 1:\n",
    "        actual2 = np.zeros((actual.shape[0], predicted.shape[1]))\n",
    "        for i, val in enumerate(actual):\n",
    "            actual2[i, val] = 1\n",
    "        actual = actual2\n",
    "\n",
    "    clip = np.clip(predicted, eps, 1 - eps)\n",
    "    rows = actual.shape[0]\n",
    "    vsota = np.sum(actual * np.log(clip))\n",
    "    return -1.0 / rows * vsota"
   ]
  },
  {
   "cell_type": "code",
   "execution_count": 67,
   "metadata": {},
   "outputs": [],
   "source": [
    "from sklearn.metrics import accuracy_score\n",
    "\n",
    "def evaluate(predictions, Y_test):\n",
    "    log_loss = multiclass_logloss(Y_test, predictions)\n",
    "    accuracy = accuracy_score(predictions.argmax(axis=1), Y_test)\n",
    "    print(\"Logloss: %0.3f \" % log_loss)\n",
    "    print(\"Accuracy: %0.3f \" % accuracy)\n",
    "    \n",
    "    return log_loss, accuracy"
   ]
  },
  {
   "cell_type": "code",
   "execution_count": 68,
   "metadata": {},
   "outputs": [],
   "source": [
    "from sklearn.naive_bayes import MultinomialNB\n",
    "\n",
    "# Basic Naive Bayes Model\n",
    "model = MultinomialNB()\n",
    "model.fit(X_train, Y_train)\n",
    "predict = model.predict_proba(X_test)\n"
   ]
  },
  {
   "cell_type": "code",
   "execution_count": 69,
   "metadata": {},
   "outputs": [
    {
     "name": "stdout",
     "output_type": "stream",
     "text": [
      "Logloss: 2.077 \n",
      "Accuracy: 0.505 \n"
     ]
    }
   ],
   "source": [
    "# Evaluate Basic Naive Bayes on TF-IDF\n",
    "basic_Naive_Bayes_logloss, basic_Naive_Bayes_accuracy = evaluate(predict, Y_test)"
   ]
  },
  {
   "cell_type": "markdown",
   "metadata": {},
   "source": [
    "### Grid Search"
   ]
  },
  {
   "cell_type": "code",
   "execution_count": 70,
   "metadata": {},
   "outputs": [],
   "source": [
    "# # Reference: https://scikit-learn.org/stable/auto_examples/model_selection/grid_search_text_feature_extraction.html\n",
    "\n",
    "# from sklearn.pipeline import Pipeline\n",
    "# from sklearn.feature_extraction.text import CountVectorizer\n",
    "# from sklearn.feature_extraction.text import TfidfTransformer\n",
    "# from pprint import pprint\n",
    "# from time import time\n",
    "\n",
    "# X_train, X_test, Y_train, Y_test = train_test_split(train['text'], Y, random_state=255, test_size=0.1, shuffle=True, stratify=Y)\n",
    "\n",
    "# data = pd.DataFrame(train['text'])\n",
    "\n",
    "# # Define a pipeline combining a text feature extractor with a simple\n",
    "# # classifier\n",
    "# pipeline = Pipeline([\n",
    "# #     ('vect', CountVectorizer()),\n",
    "#     ('tfidf', TfidfVectorizer()),\n",
    "#     ('clf', MultinomialNB()),\n",
    "# ])\n",
    "\n",
    "# # uncommenting more parameters will give better exploring power but will\n",
    "# # increase processing time in a combinatorial way\n",
    "# parameters = {\n",
    "#     'tfidf__analyzer': ('word', 'char', 'char_wb'),\n",
    "#     'tfidf__use_idf': [True],\n",
    "#     'tfidf__norm': ('l1', 'l2'),\n",
    "#     'tfidf__min_df': (1,2,3),\n",
    "#     'tfidf__smooth_idf': (True, False),\n",
    "#     'tfidf__stop_words': stop_word,\n",
    "#     'tfidf__sublinear_tf': (True, False),\n",
    "#     'clf__alpha': (0.01, 0.1, 1),\n",
    "# }\n",
    "\n",
    "# # find the best parameters for both the feature extraction and the\n",
    "# # classifier\n",
    "# grid_search = GridSearchCV(pipeline, parameters, n_jobs=4, verbose=1)\n",
    "\n",
    "# print(\"Performing grid search...\")\n",
    "# print(\"pipeline:\", [name for name, _ in pipeline.steps])\n",
    "# print(\"parameters:\")\n",
    "# pprint(parameters)\n",
    "# t0 = time()\n",
    "# grid_search.fit(X_train, Y_train)\n",
    "# print(\"done in %0.3fs\" % (time() - t0))\n",
    "# print()\n",
    "\n",
    "# print(\"Best score: %0.3f\" % grid_search.best_score_)\n",
    "# print(\"Best parameters set:\")\n",
    "# best_parameters = grid_search.best_estimator_.get_params()\n",
    "# for param_name in sorted(parameters.keys()):\n",
    "#     print(\"\\t%s: %r\" % (param_name, best_parameters[param_name]))"
   ]
  },
  {
   "cell_type": "markdown",
   "metadata": {},
   "source": [
    "### Naive Bayes after Grid Search"
   ]
  },
  {
   "cell_type": "code",
   "execution_count": 123,
   "metadata": {},
   "outputs": [],
   "source": [
    "vectorizer = TfidfVectorizer(stop_words=stop_word, use_idf=True)\n",
    "vectorizer.fit(train['text'])\n",
    "X_tfidf = vectorizer.transform(train['text'])"
   ]
  },
  {
   "cell_type": "code",
   "execution_count": 124,
   "metadata": {},
   "outputs": [],
   "source": [
    "k_value = int(X_tfidf.shape[1] * 0.35)\n",
    "\n",
    "k_feature = SelectKBest(f_classif, k=k_value)\n",
    "X_tfidf_final = k_feature.fit_transform(X_tfidf, author_encoded)"
   ]
  },
  {
   "cell_type": "code",
   "execution_count": 125,
   "metadata": {},
   "outputs": [],
   "source": [
    "X = X_tfidf_final\n",
    "Y = author_encoded"
   ]
  },
  {
   "cell_type": "code",
   "execution_count": 132,
   "metadata": {},
   "outputs": [],
   "source": [
    "X_train, X_test, Y_train, Y_test = train_test_split(X, Y, test_size=0.1, stratify=Y)"
   ]
  },
  {
   "cell_type": "code",
   "execution_count": 133,
   "metadata": {},
   "outputs": [],
   "source": [
    "model = MultinomialNB(alpha= 0.1)\n",
    "model.fit(X_train, Y_train)\n",
    "predict = model.predict_proba(X_test)"
   ]
  },
  {
   "cell_type": "code",
   "execution_count": 134,
   "metadata": {},
   "outputs": [
    {
     "name": "stdout",
     "output_type": "stream",
     "text": [
      "Logloss: 1.560 \n",
      "Accuracy: 0.622 \n"
     ]
    }
   ],
   "source": [
    "# Evaluate Basic Naive Bayes on TF-IDF\n",
    "basic_Naive_Bayes_logloss, basic_Naive_Bayes_accuracy = evaluate(predict, Y_test)"
   ]
  },
  {
   "cell_type": "code",
   "execution_count": null,
   "metadata": {},
   "outputs": [],
   "source": []
  },
  {
   "cell_type": "code",
   "execution_count": null,
   "metadata": {},
   "outputs": [],
   "source": []
  }
 ],
 "metadata": {
  "kernelspec": {
   "display_name": "Python 3",
   "language": "python",
   "name": "python3"
  },
  "language_info": {
   "codemirror_mode": {
    "name": "ipython",
    "version": 3
   },
   "file_extension": ".py",
   "mimetype": "text/x-python",
   "name": "python",
   "nbconvert_exporter": "python",
   "pygments_lexer": "ipython3",
   "version": "3.7.3"
  }
 },
 "nbformat": 4,
 "nbformat_minor": 4
}
