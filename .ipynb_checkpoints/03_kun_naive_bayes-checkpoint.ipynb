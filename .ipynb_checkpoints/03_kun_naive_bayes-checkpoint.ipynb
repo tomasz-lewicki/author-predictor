{
 "cells": [
  {
   "cell_type": "code",
   "execution_count": 1,
   "metadata": {},
   "outputs": [],
   "source": [
    "# reference: https://www.kaggle.com/abhishek/approaching-almost-any-nlp-problem-on-kaggle/notebook\n",
    "\n",
    "import pandas as pd\n",
    "import numpy as np\n",
    "\n",
    "train = pd.read_csv('data/train.csv')\n",
    "test = pd.read_csv('data/test.csv')"
   ]
  },
  {
   "cell_type": "markdown",
   "metadata": {},
   "source": [
    "### Basic Exploratory Data Analysis (EDA)"
   ]
  },
  {
   "cell_type": "code",
   "execution_count": 2,
   "metadata": {},
   "outputs": [
    {
     "data": {
      "text/html": [
       "<div>\n",
       "<style scoped>\n",
       "    .dataframe tbody tr th:only-of-type {\n",
       "        vertical-align: middle;\n",
       "    }\n",
       "\n",
       "    .dataframe tbody tr th {\n",
       "        vertical-align: top;\n",
       "    }\n",
       "\n",
       "    .dataframe thead th {\n",
       "        text-align: right;\n",
       "    }\n",
       "</style>\n",
       "<table border=\"1\" class=\"dataframe\">\n",
       "  <thead>\n",
       "    <tr style=\"text-align: right;\">\n",
       "      <th></th>\n",
       "      <th>id</th>\n",
       "      <th>text</th>\n",
       "      <th>author</th>\n",
       "    </tr>\n",
       "  </thead>\n",
       "  <tbody>\n",
       "    <tr>\n",
       "      <th>0</th>\n",
       "      <td>id26305</td>\n",
       "      <td>This process, however, afforded me no means of...</td>\n",
       "      <td>EAP</td>\n",
       "    </tr>\n",
       "    <tr>\n",
       "      <th>1</th>\n",
       "      <td>id17569</td>\n",
       "      <td>It never once occurred to me that the fumbling...</td>\n",
       "      <td>HPL</td>\n",
       "    </tr>\n",
       "    <tr>\n",
       "      <th>2</th>\n",
       "      <td>id11008</td>\n",
       "      <td>In his left hand was a gold snuff box, from wh...</td>\n",
       "      <td>EAP</td>\n",
       "    </tr>\n",
       "    <tr>\n",
       "      <th>3</th>\n",
       "      <td>id27763</td>\n",
       "      <td>How lovely is spring As we looked from Windsor...</td>\n",
       "      <td>MWS</td>\n",
       "    </tr>\n",
       "    <tr>\n",
       "      <th>4</th>\n",
       "      <td>id12958</td>\n",
       "      <td>Finding nothing else, not even gold, the Super...</td>\n",
       "      <td>HPL</td>\n",
       "    </tr>\n",
       "    <tr>\n",
       "      <th>...</th>\n",
       "      <td>...</td>\n",
       "      <td>...</td>\n",
       "      <td>...</td>\n",
       "    </tr>\n",
       "    <tr>\n",
       "      <th>19574</th>\n",
       "      <td>id17718</td>\n",
       "      <td>I could have fancied, while I looked at it, th...</td>\n",
       "      <td>EAP</td>\n",
       "    </tr>\n",
       "    <tr>\n",
       "      <th>19575</th>\n",
       "      <td>id08973</td>\n",
       "      <td>The lids clenched themselves together as if in...</td>\n",
       "      <td>EAP</td>\n",
       "    </tr>\n",
       "    <tr>\n",
       "      <th>19576</th>\n",
       "      <td>id05267</td>\n",
       "      <td>Mais il faut agir that is to say, a Frenchman ...</td>\n",
       "      <td>EAP</td>\n",
       "    </tr>\n",
       "    <tr>\n",
       "      <th>19577</th>\n",
       "      <td>id17513</td>\n",
       "      <td>For an item of news like this, it strikes us i...</td>\n",
       "      <td>EAP</td>\n",
       "    </tr>\n",
       "    <tr>\n",
       "      <th>19578</th>\n",
       "      <td>id00393</td>\n",
       "      <td>He laid a gnarled claw on my shoulder, and it ...</td>\n",
       "      <td>HPL</td>\n",
       "    </tr>\n",
       "  </tbody>\n",
       "</table>\n",
       "<p>19579 rows × 3 columns</p>\n",
       "</div>"
      ],
      "text/plain": [
       "            id                                               text author\n",
       "0      id26305  This process, however, afforded me no means of...    EAP\n",
       "1      id17569  It never once occurred to me that the fumbling...    HPL\n",
       "2      id11008  In his left hand was a gold snuff box, from wh...    EAP\n",
       "3      id27763  How lovely is spring As we looked from Windsor...    MWS\n",
       "4      id12958  Finding nothing else, not even gold, the Super...    HPL\n",
       "...        ...                                                ...    ...\n",
       "19574  id17718  I could have fancied, while I looked at it, th...    EAP\n",
       "19575  id08973  The lids clenched themselves together as if in...    EAP\n",
       "19576  id05267  Mais il faut agir that is to say, a Frenchman ...    EAP\n",
       "19577  id17513  For an item of news like this, it strikes us i...    EAP\n",
       "19578  id00393  He laid a gnarled claw on my shoulder, and it ...    HPL\n",
       "\n",
       "[19579 rows x 3 columns]"
      ]
     },
     "execution_count": 2,
     "metadata": {},
     "output_type": "execute_result"
    }
   ],
   "source": [
    "train"
   ]
  },
  {
   "cell_type": "code",
   "execution_count": 3,
   "metadata": {
    "collapsed": true
   },
   "outputs": [
    {
     "name": "stdout",
     "output_type": "stream",
     "text": [
      "she is undoubtedly in painting what the Venus is in sculpture.\"\n",
      "\n",
      "And yet I am happy; mothers lament their children, wives lose their husbands, while you and my children are left to me.\n",
      "\n",
      "He found my name a good passport to preferment, and he had procured for me the situation of private secretary to the Ambassador at Vienna, where I should enter on my career under the best auspices.\n",
      "\n",
      "As he said this he led the way across the ice; I followed.\n",
      "\n",
      "Among a multitude of opinions upon this delicate point some acute, some learned, some sufficiently the reverse I am able to select nothing which ought to be considered satisfactory.\n",
      "\n",
      "Glass or no glass, I must explore it a little.\n",
      "\n",
      "In the radical theory of reanimation they saw nothing but the immature vagaries of a youthful enthusiast whose slight form, yellow hair, spectacled blue eyes, and soft voice gave no hint of the supernormal almost diabolical power of the cold brain within.\n",
      "\n",
      "\"Have you, then, some other attachment?\" \"None on earth.\n",
      "\n",
      "A murmur of approbation followed Elizabeth's simple and powerful appeal, but it was excited by her generous interference, and not in favour of poor Justine, on whom the public indignation was turned with renewed violence, charging her with the blackest ingratitude.\n",
      "\n",
      "I can recall the scene now the desolate, pitch black garret studio under the eaves with the rain beating down; the ticking of the lone clock; the fancied ticking of our watches as they rested on the dressing table; the creaking of some swaying shutter in a remote part of the house; certain distant city noises muffled by fog and space; and worst of all the deep, steady, sinister breathing of my friend on the couch a rhythmical breathing which seemed to measure moments of supernal fear and agony for his spirit as it wandered in spheres forbidden, unimagined, and hideously remote.\n",
      "\n",
      "Order, comfort, and even health, rose under his influence, as from the touch of a magician's wand.\n",
      "\n",
      "They had devoured, in spite of all my efforts to prevent them, all but a small remnant of the contents of the dish.\n",
      "\n",
      "We soon found ourselves driving out to sea at the rate of not less, certainly, than fifty or sixty miles an hour, so that we came up with Cape Clear, at some forty miles to our North, before we had secured the rod, and had time to think what we were about.\n",
      "\n",
      "Descending to Elwood's room he roused his still sleeping host and began telling of how he had found himself, but Elwood could form no idea of what might really have happened.\n",
      "\n",
      "It were no mighty leap methinks from Calais to Dover.\n",
      "\n",
      "\"There was another circumstance which tended to restore my self possession; and this was the cessation of the wind, which could not reach us in our present situation for, as you saw yourself, the belt of surf is considerably lower than the general bed of the ocean, and this latter now towered above us, a high, black, mountainous ridge.\n",
      "\n",
      "The chances are ten to one, that he who had once eloped with Marie, would again propose an elopement, rather than that she to whom proposals of elopement had been made by one individual, should have them made to her by another.\n",
      "\n",
      "Object there was none.\n",
      "\n",
      "I demand, and most solemnly I demand if in any way I am the cause of your unhappiness.\n",
      "\n",
      "I saw not then what I now clearly perceive, that the acquisitions of Ligeia were gigantic, were astounding; yet I was sufficiently aware of her infinite supremacy to resign myself, with a child like confidence, to her guidance through the chaotic world of metaphysical investigation at which I was most busily occupied during the earlier years of our marriage.\n",
      "\n",
      "There is talk of apportioning Randolph Carter's estate among his heirs, but I shall stand firmly against this course because I do not believe he is dead.\n",
      "\n",
      "Many changes also now occurred in these spontaneous regal elections: depositions and abdications were frequent, while, in the place of the old and prudent, the ardent youth would step forward, eager for action, regardless of danger.\n",
      "\n",
      "The clouds become thin; an arch is formed for ever rising upwards, till, the universal cope being unveiled, the sun pours forth its rays, re animated and fed by the breeze.\n",
      "\n",
      "Glass or no glass, I must explore it a little.\n",
      "\n",
      "Scores of rabbits and guinea pigs had been killed and treated, but their trail was a blind one.\n",
      "\n",
      "Least of all, could it have been that my fancy, shaken from its half slumber, had mistaken the head for that of a living person.\n",
      "\n",
      "To be sure they spoke of confining me in a strait jacket but, good God they never suspected me of having lost my breath.\n",
      "\n",
      "I had no fear, therefore, that any circumstantial evidence could be brought forward strong enough to convict her.\n",
      "\n",
      "It was on the tenth day of July, , a day which the people of this part of the world will never forget for it was one in which blew the most terrible hurricane that ever came out of the heavens.\n",
      "\n",
      "When Idris entered, so far had Raymond forgotten himself, that he asked for my sister; one word, which told of her mysterious disappearance, recalled him.\n",
      "\n",
      "My father was enraptured on finding me freed from the vexations of a criminal charge, that I was again allowed to breathe the fresh atmosphere and permitted to return to my native country.\n",
      "\n",
      "Eliot old Reid was right.\n",
      "\n",
      "She seemed to have formed his mind of that excellence which no dross can tarnish, and his understanding was such that no error could pervert.\n",
      "\n",
      "And the King bade him put away his tattered purple, and clothed him in satin and cloth of gold, with rings of green jade and bracelets of tinted ivory, and lodged him in a gilded and tapestried chamber on a bed of sweet carven wood with canopies and coverlets of flower embroidered silk.\n",
      "\n",
      "West was then a small, slender, spectacled youth with delicate features, yellow hair, pale blue eyes, and a soft voice, and it was uncanny to hear him dwelling on the relative merits of Christchurch Cemetery and the potter's field.\n",
      "\n",
      "These, though in numbers they might form a minority, were the stable element whose constancy might be relied on, and whose cooperation would most firmly bind the province to the Imperium of the Senate and the Roman People.\n",
      "\n",
      "And then down we came with a sweep, a slide, and a plunge, that made me feel sick and dizzy, as if I was falling from some lofty mountain top in a dream.\n",
      "\n",
      "After doing this, I really do not perceive that you can do any more.\n",
      "\n",
      "Adrian, whose health had always been weak, now suffered considerable aggravation of suffering from the effects of his wound.\n",
      "\n",
      "To say the truth, he has something of more importance than a watch to attend to and what that is, I shall presently explain.\n",
      "\n",
      "Has this mind, so replete with ideas, imaginations fanciful and magnificent, which formed a world, whose existence depended on the life of its creator; has this mind perished?\n",
      "\n",
      "Clocks time space infinity and then my fancy reverted to the local as I reflected that even now, beyond the roof and the fog and the rain and the atmosphere, Corona Borealis was rising in the northeast.\n",
      "\n",
      "The disordered earth was covered with blood and human debris bespeaking too vividly the ravages of daemon teeth and talons; yet no visible trail led away from the carnage.\n",
      "\n",
      "With the main result of these colloquies the public is now familiar and I wish, for normality's sake, there were nothing more to tell.\n",
      "\n",
      "When I first saw you, Mr. Bedloe, at Saratoga, it was the miraculous similarity which existed between yourself and the painting which induced me to accost you, to seek your friendship, and to bring about those arrangements which resulted in my becoming your constant companion.\n",
      "\n",
      "He comes; he is coming; there he is \"Who?\n",
      "\n",
      "After listening to them for some time, with thoughtful attention, I at length succeeded perfectly in translating their import.\n",
      "\n",
      "This was a lesson which I took desperately to heart.\n",
      "\n",
      "They and their subconscious residuum had influenced his art profoundly, and he shewed me a morbid statue whose contours almost made me shake with the potency of its black suggestion.\n",
      "\n",
      "This lady died, but her lessons were indelibly impressed on the mind of Safie, who sickened at the prospect of again returning to Asia and being immured within the walls of a harem, allowed only to occupy herself with infantile amusements, ill suited to the temper of her soul, now accustomed to grand ideas and a noble emulation for virtue.\n",
      "\n",
      "A single lightning bolt shot from the purple zenith to the altar stone, and a great tidal wave of viewless force and indescribable stench swept down from the hill to all the countryside.\n",
      "\n",
      "He had, Elwood said, shewed no tendency to talk or rise in his sleep; and meanwhile the landlord was putting rat poison everywhere.\n",
      "\n",
      "Charter Street, it turned out to be, but I was too flustered to notice just where we hit it.\n",
      "\n",
      "In a short time I realised that I must tell my story to someone or break down completely.\n",
      "\n",
      "By means of a crow bar I easily dislodged the bricks, and, having carefully deposited the body against the inner wall, I propped it in that position, while, with little trouble, I re laid the whole structure as it originally stood.\n",
      "\n",
      "The scenes that followed, convinced her that she had not yet fathomed the obscure gulph into which she had plunged.\n",
      "\n",
      "I was overcome by weariness; the solitude depressed my spirits.\n",
      "\n",
      "A trap door on the roof was nailed down very securely did not appear to have been opened for years.\n",
      "\n",
      "What mercy I might gain by returning the thing to its silent, sleeping owner I knew not; but I felt that I must at least try any step conceivably logical.\n",
      "\n",
      "It must exist, I argued; although it may exist in a state of infinite rarefaction.\n",
      "\n",
      "He then proceeded to meet him, and gave the Wellingtons a rub or two with his wool.\n",
      "\n",
      "Who that knows what \"life\" is, would pine for this feverish species of existence?\n",
      "\n",
      "He sat erect and rigid in his chair his teeth chattered, and his eyes were starting from their sockets.\n",
      "\n",
      "One Survivor and Dead Man Found Aboard.\n",
      "\n",
      "For a season all went happily, till without warning the storm burst.\n",
      "\n",
      "I swear to you, by the earth which I inhabit, and by you that made me, that with the companion you bestow I will quit the neighbourhood of man and dwell, as it may chance, in the most savage of places.\n",
      "\n",
      "It was during one of my lonely journeyings, amid a far distant region of mountain locked within mountain, and sad rivers and melancholy tarn writhing or sleeping within all that I chanced upon a certain rivulet and island.\n",
      "\n",
      "From that chamber, and from that mansion, I fled aghast.\n",
      "\n",
      "That is, never no full blooded one.\n",
      "\n",
      "Then it was not done by human agency.\n",
      "\n",
      "My life was spent among tangible realities, hers was a dream.\n",
      "\n",
      "There seemed to be unusual activity in the town, but I judged that the news of my escape from the Gilman had not yet spread.\n",
      "\n",
      "The old tracks crossed River Street at grade, and at once veered off into a region increasingly rural and with less and less of Innsmouth's abhorrent fishy odour.\n",
      "\n",
      "It was on the tenth day of July, , a day which the people of this part of the world will never forget for it was one in which blew the most terrible hurricane that ever came out of the heavens.\n",
      "\n",
      "He was an inferior actor, but truth now made him excellent; as he went on to announce to Macduff the slaughter of his family, he was afraid to speak, trembling from apprehension of a burst of grief from the audience, not from his fellow mime.\n",
      "\n",
      "Business is business, and should be done in a business way.\n",
      "\n",
      "I shuddered; I dared not die even though the cold grave held all I loved; although I might say with Job Where is now my hope?\n",
      "\n",
      "I heard of the division of property, of immense wealth and squalid poverty, of rank, descent, and noble blood.\n",
      "\n",
      "Upon retiring, he had had an unprecedented dream of great Cyclopean cities of titan blocks and sky flung monoliths, all dripping with green ooze and sinister with latent horror.\n",
      "\n",
      "Upon due reflection I frankly admit the propriety of the explanation you suggest.\n",
      "\n",
      "I adjure you, my father, has not an unnatural passion seized upon your heart?\n",
      "\n",
      "We sunk into silence: a silence that drank in the doleful accounts and prognostications of our guest.\n",
      "\n",
      "But, no, my tale must not pause; it must be as rapid as was my fate, I can only describe in short although strong expressions my precipitate and irremediable change from happiness to despair.\n",
      "\n",
      "But then my plan must be laid with art; I would not be left destitute, I must secure some money.\n",
      "\n",
      "Holding a lighted candle at this door, and shifting the position of the whole machine repeatedly at the same time, a bright light is thrown entirely through the cupboard, which is now clearly seen to be full, completely full, of machinery.\n",
      "\n",
      "And then, again, the frog man croaked away as if the salvation of his soul depended upon every note that he uttered.\n",
      "\n",
      "Every cavity, apophysis, and curvature was imitated, and each bone executed its proper movements.\n",
      "\n",
      "This done, a few more of the loops were unfastened from the rim, a farther portion of the cloth introduced, and the disengaged loops then connected with their proper buttons.\n",
      "\n",
      "When he was nineteen his mother died.\n",
      "\n",
      "The old man, I mentioned, was absent in the country.\n",
      "\n",
      "But who and what was this Wilson?\n",
      "\n",
      "So I tried to read, and soon became tremblingly absorbed by something I found in that accursed Necronomicon; a thought and a legend too hideous for sanity or consciousness.\n",
      "\n",
      "I began to feel that the tomb was mine, and to look forward with hot eagerness to the time when I might pass within that stone door and down those slimy stone steps in the dark.\n",
      "\n",
      "She listened to me as she had done to the narration of my adventures, and sometimes took an interest in this species of information; but she did not, as I did, look on it as an integral part of her being, which having obtained, I could no more put off than the universal sense of touch.\n",
      "\n",
      "Thus I stood upon a pinnacle, a sea of evil rolled at my feet; I was about to precipitate myself into it, and rush like a torrent over all obstructions to the object of my wishes when a stranger influence came over the current of my fortunes, and changed their boisterous course to what was in comparison like the gentle meanderings of a meadow encircling streamlet.\n",
      "\n",
      "\"The screw consists of an axis of hollow brass tube, eighteen inches in length, through which, upon a semi spiral inclined at fifteen degrees, pass a series of steel wire radii, two feet long, and thus projecting a foot on either side.\n",
      "\n",
      "The lurking fear dwelt in the shunned and deserted Martense mansion, which crowned the high but gradual eminence whose liability to frequent thunderstorms gave it the name of Tempest Mountain.\n",
      "\n",
      "I knew we must have passed down through the mountain and beneath the earth of Kingsport itself, and I shivered that a town should be so aged and maggoty with subterraneous evil.\n",
      "\n",
      "All these shews of despair struck Perdita with affright.\n",
      "\n",
      "She was too unlike them, too utterly alien to their tastes, for them to find delight in her society, or in the prospect of its continuance, but it gave them pleasure to see her conciliating and kind.\n",
      "\n"
     ]
    }
   ],
   "source": [
    "import random\n",
    "for index in range(100):\n",
    "    random_index = random.randint(0, len(train['text']))\n",
    "    print(train['text'][random_index] + \"\\n\")"
   ]
  },
  {
   "cell_type": "markdown",
   "metadata": {},
   "source": [
    "### Removing punctuations"
   ]
  },
  {
   "cell_type": "code",
   "execution_count": 4,
   "metadata": {},
   "outputs": [
    {
     "name": "stdout",
     "output_type": "stream",
     "text": [
      "To a crown a golden be gemmed crown I hope\n"
     ]
    }
   ],
   "source": [
    "import string\n",
    "def remove_punctuations(text):\n",
    "    table = str.maketrans('','',string.punctuation)\n",
    "    return text.translate(table)\n",
    "\n",
    "example = \"To a crown, a golden be gemmed crown, I hope;\"\n",
    "print(remove_punctuations(example))"
   ]
  },
  {
   "cell_type": "code",
   "execution_count": 5,
   "metadata": {},
   "outputs": [],
   "source": [
    "train['text'] = train['text'].apply(lambda x : remove_punctuations(x))\n",
    "test['text'] = test['text'].apply(lambda x : remove_punctuations(x))"
   ]
  },
  {
   "cell_type": "markdown",
   "metadata": {},
   "source": [
    "### Encoding Features"
   ]
  },
  {
   "cell_type": "code",
   "execution_count": 6,
   "metadata": {},
   "outputs": [
    {
     "data": {
      "text/plain": [
       "array([0, 1, 0, ..., 0, 0, 1])"
      ]
     },
     "execution_count": 6,
     "metadata": {},
     "output_type": "execute_result"
    }
   ],
   "source": [
    "from sklearn import preprocessing\n",
    "\n",
    "le = preprocessing.LabelEncoder()\n",
    "author_encoded = le.fit_transform(train['author'])\n",
    "author_encoded"
   ]
  },
  {
   "cell_type": "markdown",
   "metadata": {},
   "source": [
    "### TF-IDF"
   ]
  },
  {
   "cell_type": "code",
   "execution_count": null,
   "metadata": {},
   "outputs": [],
   "source": [
    "from sklearn.feature_extraction.text import TfidfVectorizer\n",
    "\n",
    "# vectorizer = TfidfVectorizer(use_idf=1,smooth_idf=1,stop_words = 'english')\n",
    "# Result\n",
    "# Logloss improved from 0.597 to 0.446\n",
    "# Accuracy improved from 0.820 to 0.832\n",
    "\n",
    "# vectorizer = TfidfVectorizer(min_df=3, use_idf=1,smooth_idf=1,stop_words = 'english')\n",
    "# Result\n",
    "# Logloss improved from 0.579 to 0.444\n",
    "# Accuracy improved from 0.823 to 0.834\n",
    "\n",
    "vectorizer = TfidfVectorizer(min_df=3,  max_features=None,\n",
    "                             strip_accents='unicode', analyzer='word',token_pattern=r'\\w{1,}',\n",
    "                             ngram_range=(1, 3), use_idf=1,smooth_idf=1,sublinear_tf=1,\n",
    "                             stop_words = 'english')\n",
    "# Result\n",
    "# Logloss improved from 0.576 to 0.429\n",
    "# Accuracy improved from 0.830 to 0.838\n",
    "\n",
    "vectorizer.fit(list(train['text']) + list(test['text']))\n",
    "X_tfidf = vectorizer.transform(train['text']) "
   ]
  },
  {
   "cell_type": "code",
   "execution_count": null,
   "metadata": {},
   "outputs": [],
   "source": [
    "X_tfidf"
   ]
  },
  {
   "cell_type": "markdown",
   "metadata": {},
   "source": [
    "### Sampling of TF-IDF"
   ]
  },
  {
   "cell_type": "code",
   "execution_count": null,
   "metadata": {},
   "outputs": [],
   "source": [
    "X_tfidf_sample = X_tfidf[0]\n",
    "X_tfidf_sample = pd.DataFrame(X_tfidf_sample.T.todense(), index=vectorizer.get_feature_names(), columns=['TF-IDF'])\n",
    "\n",
    "# Sort TF-IDF by descending\n",
    "X_tfidf_sample = X_tfidf_sample.sort_values(by=[\"TF-IDF\"],ascending=False)\n",
    "\n",
    "# Drop TF-IDF value less than 0\n",
    "X_tfidf_sample = X_tfidf_sample[X_tfidf_sample['TF-IDF'] > 0]\n",
    "X_tfidf_sample"
   ]
  },
  {
   "cell_type": "markdown",
   "metadata": {},
   "source": [
    "### CountVectorizer"
   ]
  },
  {
   "cell_type": "code",
   "execution_count": null,
   "metadata": {},
   "outputs": [],
   "source": [
    "from sklearn.feature_extraction.text import CountVectorizer\n",
    "\n",
    "cv = CountVectorizer(stop_words = 'english')\n",
    "\n",
    "# this steps generates word counts for the words in your docs\n",
    "X_countv = cv.fit_transform(train['text'])\n",
    "\n",
    "# Result\n",
    "# Logloss improved from 0.453 to 0.453\n",
    "# Accuracy improved from 0.826 to 0.826"
   ]
  },
  {
   "cell_type": "markdown",
   "metadata": {},
   "source": [
    "### Split training and testing Data"
   ]
  },
  {
   "cell_type": "code",
   "execution_count": null,
   "metadata": {},
   "outputs": [],
   "source": [
    "from sklearn.model_selection import train_test_split\n",
    "\n",
    "X = X_tfidf\n",
    "Y = author_encoded\n",
    "\n",
    "X_train, X_test, Y_train, Y_test = train_test_split(X, Y, random_state=255, test_size=0.1, shuffle=True, stratify=Y)\n"
   ]
  },
  {
   "cell_type": "markdown",
   "metadata": {},
   "source": [
    "### The orignal Kaggle has specified multi-class log-loss as evaluation metric. \n",
    "\n",
    "Here is the source code: https://github.com/dnouri/nolearn/blob/master/nolearn/lasagne/util.py"
   ]
  },
  {
   "cell_type": "code",
   "execution_count": null,
   "metadata": {},
   "outputs": [],
   "source": [
    "from sklearn import preprocessing, decomposition, model_selection, metrics, pipeline\n",
    "\n",
    "def multiclass_logloss(actual, predicted, eps=1e-15):\n",
    "    \"\"\"Multi class version of Logarithmic Loss metric.\n",
    "    :param actual: Array containing the actual target classes\n",
    "    :param predicted: Matrix with class predictions, one probability per class\n",
    "    \"\"\"\n",
    "    # Convert 'actual' to a binary array if it's not already:\n",
    "    if len(actual.shape) == 1:\n",
    "        actual2 = np.zeros((actual.shape[0], predicted.shape[1]))\n",
    "        for i, val in enumerate(actual):\n",
    "            actual2[i, val] = 1\n",
    "        actual = actual2\n",
    "\n",
    "    clip = np.clip(predicted, eps, 1 - eps)\n",
    "    rows = actual.shape[0]\n",
    "    vsota = np.sum(actual * np.log(clip))\n",
    "    return -1.0 / rows * vsota"
   ]
  },
  {
   "cell_type": "code",
   "execution_count": null,
   "metadata": {},
   "outputs": [],
   "source": [
    "from sklearn.metrics import accuracy_score\n",
    "\n",
    "def evaluate(predictions, Y_test):\n",
    "    log_loss = multiclass_logloss(Y_test, predictions)\n",
    "    accuracy = accuracy_score(predictions.argmax(axis=1), Y_test)\n",
    "    print(\"Logloss: %0.3f \" % log_loss)\n",
    "    print(\"Accuracy: %0.3f \" % accuracy)\n",
    "    \n",
    "    return log_loss, accuracy"
   ]
  },
  {
   "cell_type": "markdown",
   "metadata": {},
   "source": [
    "### Basic Naive Bayes"
   ]
  },
  {
   "cell_type": "code",
   "execution_count": null,
   "metadata": {},
   "outputs": [],
   "source": [
    "from sklearn.naive_bayes import MultinomialNB\n",
    "\n",
    "# Basic Naive Bayes Model\n",
    "model = MultinomialNB()\n",
    "model.fit(X_train, Y_train)\n",
    "scores = model.predict_proba(X_test)\n"
   ]
  },
  {
   "cell_type": "code",
   "execution_count": null,
   "metadata": {},
   "outputs": [],
   "source": [
    "# Evaluate Basic Naive Bayes on TF-IDF\n",
    "basic_Naive_Bayes_logloss, basic_Naive_Bayes_accuracy = evaluate(scores, Y_test)"
   ]
  },
  {
   "cell_type": "markdown",
   "metadata": {},
   "source": [
    "### Grid Search"
   ]
  },
  {
   "cell_type": "code",
   "execution_count": null,
   "metadata": {},
   "outputs": [],
   "source": [
    "mll_scorer = metrics.make_scorer(multiclass_logloss, greater_is_better=False, needs_proba=True)"
   ]
  },
  {
   "cell_type": "code",
   "execution_count": null,
   "metadata": {},
   "outputs": [],
   "source": [
    "from sklearn.model_selection import GridSearchCV\n",
    "\n",
    "nb_model = MultinomialNB()\n",
    "\n",
    "# Create the pipeline \n",
    "clf = pipeline.Pipeline([('nb', nb_model)])\n",
    "\n",
    "# parameter grid\n",
    "param_grid = {'nb__alpha': [0.001, 0.01, 0.1, 1, 10, 100]}\n",
    "\n",
    "# Initialize Grid Search Model\n",
    "model = GridSearchCV(estimator=clf, param_grid=param_grid, scoring=mll_scorer,\n",
    "                                 verbose=10, n_jobs=-1, iid=True, refit=True, cv=2)\n",
    "\n",
    "# Fit Grid Search Model\n",
    "model.fit(X_train, Y_train)  # we can use the full data here but im only using xtrain. \n",
    "print(\"Best score: %0.3f\" % model.best_score_)\n",
    "print(\"Best parameters set:\")\n",
    "best_parameters = model.best_estimator_.get_params()\n",
    "for param_name in sorted(param_grid.keys()):\n",
    "    print(\"\\t%s: %r\" % (param_name, best_parameters[param_name]))"
   ]
  },
  {
   "cell_type": "markdown",
   "metadata": {},
   "source": [
    "### Naive Bayes after Grid Search"
   ]
  },
  {
   "cell_type": "code",
   "execution_count": null,
   "metadata": {},
   "outputs": [],
   "source": [
    "model = MultinomialNB(alpha= 0.1)\n",
    "model.fit(X_train, Y_train)\n",
    "scores = model.predict_proba(X_test)\n"
   ]
  },
  {
   "cell_type": "code",
   "execution_count": null,
   "metadata": {},
   "outputs": [],
   "source": [
    "grid_Search_Naive_Bayes_logloss, grid_Search_Naive_Bayes_accuracy = evaluate(scores, Y_test)\n",
    "\n",
    "print(\"Logloss improved from %0.3f to %0.3f\" % (basic_Naive_Bayes_logloss, grid_Search_Naive_Bayes_logloss))\n",
    "print(\"Accuracy improved from %0.3f to %0.3f\" % (basic_Naive_Bayes_accuracy, grid_Search_Naive_Bayes_accuracy))"
   ]
  },
  {
   "cell_type": "code",
   "execution_count": null,
   "metadata": {},
   "outputs": [],
   "source": [
    "test_tfidf = vectorizer.transform(test['text']) \n",
    "prediction = model.predict_proba(test_tfidf)\n",
    "prediction"
   ]
  },
  {
   "cell_type": "code",
   "execution_count": null,
   "metadata": {},
   "outputs": [],
   "source": [
    "import csv\n",
    "with open('data\\result.csv', 'w') as f:\n",
    "    f.write(\"%s,%s,%s,%s\\n\"%('id', le.classes_[0], le.classes_[1], le.classes_[2]))\n",
    "    count = 1\n",
    "    for key in range(len(test['id'])):\n",
    "        col = prediction[key]\n",
    "        f.write(\"%s,%f,%f,%f\\n\"%(test['id'][key], col[0], col[1], col[2]))\n",
    "        count += 1\n",
    "f.close()"
   ]
  },
  {
   "cell_type": "markdown",
   "metadata": {},
   "source": []
  }
 ],
 "metadata": {
  "kernelspec": {
   "display_name": "Python 3",
   "language": "python",
   "name": "python3"
  },
  "language_info": {
   "codemirror_mode": {
    "name": "ipython",
    "version": 3
   },
   "file_extension": ".py",
   "mimetype": "text/x-python",
   "name": "python",
   "nbconvert_exporter": "python",
   "pygments_lexer": "ipython3",
   "version": "3.7.6"
  }
 },
 "nbformat": 4,
 "nbformat_minor": 4
}
