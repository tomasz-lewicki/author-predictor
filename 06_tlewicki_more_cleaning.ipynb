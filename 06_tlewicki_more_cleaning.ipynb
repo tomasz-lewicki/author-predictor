{
 "cells": [
  {
   "cell_type": "code",
   "execution_count": 2,
   "metadata": {},
   "outputs": [],
   "source": [
    "import utils.preprocessing "
   ]
  },
  {
   "cell_type": "code",
   "execution_count": 169,
   "metadata": {},
   "outputs": [],
   "source": [
    "df = utils.preprocessing.get_clean_dataframe()"
   ]
  },
  {
   "cell_type": "code",
   "execution_count": 186,
   "metadata": {},
   "outputs": [],
   "source": [
    "df = df.astype({\"author\": \"string\", \"language\": \"object\", \"authoryearofbirth\": \"float32\", \"downloads\": \"int32\"})"
   ]
  },
  {
   "cell_type": "code",
   "execution_count": 172,
   "metadata": {},
   "outputs": [],
   "source": [
    "df['is_english'] = df.language.apply(lambda x: str(x)).astype('string') == \"['en']\"\n",
    "non_english_idx = df[df['is_english'] == False].index\n",
    "df = df.drop(non_english_idx)"
   ]
  },
  {
   "cell_type": "code",
   "execution_count": 195,
   "metadata": {},
   "outputs": [],
   "source": [
    "AUTHORS_TO_DROP = ['Various', 'Unknown', 'Anonymous']\n",
    "\n",
    "for a in AUTHORS_TO_DROP:\n",
    "    idx_to_drop = (df[df.author == a]).index\n",
    "    df.drop(idx_to_drop, inplace=True)"
   ]
  },
  {
   "cell_type": "code",
   "execution_count": 196,
   "metadata": {},
   "outputs": [
    {
     "data": {
      "text/plain": [
       "Lytton, Edward Bulwer Lytton, Baron    216\n",
       "Twain, Mark                            204\n",
       "Shakespeare, William                   193\n",
       "Ebers, Georg                           164\n",
       "Dickens, Charles                       145\n",
       "Parker, Gilbert                        134\n",
       "Kingston, William Henry Giles          133\n",
       "Fenn, George Manville                  128\n",
       "Balzac, Honoré de                      125\n",
       "Meredith, George                       111\n",
       "Name: author, dtype: Int64"
      ]
     },
     "execution_count": 196,
     "metadata": {},
     "output_type": "execute_result"
    }
   ],
   "source": [
    "df.author.value_counts()[:10]"
   ]
  },
  {
   "cell_type": "code",
   "execution_count": 198,
   "metadata": {},
   "outputs": [
    {
     "data": {
      "text/plain": [
       "['Lytton, Edward Bulwer Lytton, Baron',\n",
       " 'Twain, Mark',\n",
       " 'Shakespeare, William',\n",
       " 'Ebers, Georg',\n",
       " 'Dickens, Charles',\n",
       " 'Parker, Gilbert',\n",
       " 'Kingston, William Henry Giles',\n",
       " 'Fenn, George Manville',\n",
       " 'Balzac, Honoré de',\n",
       " 'Meredith, George',\n",
       " 'Jacobs, W. W. (William Wymark)',\n",
       " 'Henty, G. A. (George Alfred)',\n",
       " 'Doyle, Arthur Conan',\n",
       " 'Alger, Horatio, Jr.',\n",
       " 'Howells, William Dean',\n",
       " 'Motley, John Lothrop',\n",
       " 'Oliphant, Mrs. (Margaret)',\n",
       " 'Ballantyne, R. M. (Robert Michael)',\n",
       " 'Hawthorne, Nathaniel',\n",
       " 'Baum, L. Frank (Lyman Frank)']"
      ]
     },
     "execution_count": 198,
     "metadata": {},
     "output_type": "execute_result"
    }
   ],
   "source": [
    "top_authors = list(df.author.value_counts()[:20].index)\n",
    "top_authors"
   ]
  },
  {
   "cell_type": "code",
   "execution_count": 203,
   "metadata": {},
   "outputs": [
    {
     "data": {
      "text/html": [
       "<div>\n",
       "<style scoped>\n",
       "    .dataframe tbody tr th:only-of-type {\n",
       "        vertical-align: middle;\n",
       "    }\n",
       "\n",
       "    .dataframe tbody tr th {\n",
       "        vertical-align: top;\n",
       "    }\n",
       "\n",
       "    .dataframe thead th {\n",
       "        text-align: right;\n",
       "    }\n",
       "</style>\n",
       "<table border=\"1\" class=\"dataframe\">\n",
       "  <thead>\n",
       "    <tr style=\"text-align: right;\">\n",
       "      <th></th>\n",
       "      <th>authoryearofbirth</th>\n",
       "      <th>language</th>\n",
       "      <th>title</th>\n",
       "      <th>authoryearofdeath</th>\n",
       "      <th>downloads</th>\n",
       "      <th>author</th>\n",
       "      <th>subjects</th>\n",
       "      <th>LCC</th>\n",
       "      <th>formats</th>\n",
       "      <th>type</th>\n",
       "      <th>is_english</th>\n",
       "    </tr>\n",
       "    <tr>\n",
       "      <th>id</th>\n",
       "      <th></th>\n",
       "      <th></th>\n",
       "      <th></th>\n",
       "      <th></th>\n",
       "      <th></th>\n",
       "      <th></th>\n",
       "      <th></th>\n",
       "      <th></th>\n",
       "      <th></th>\n",
       "      <th></th>\n",
       "      <th></th>\n",
       "    </tr>\n",
       "  </thead>\n",
       "  <tbody>\n",
       "    <tr>\n",
       "      <th>1</th>\n",
       "      <td>1743.0</td>\n",
       "      <td>[en]</td>\n",
       "      <td>The Declaration of Independence of the United ...</td>\n",
       "      <td>1826.0</td>\n",
       "      <td>430</td>\n",
       "      <td>Jefferson, Thomas</td>\n",
       "      <td>{United States -- History -- Revolution, 1775-...</td>\n",
       "      <td>{JK, E201}</td>\n",
       "      <td>{'image/jpeg': 'http://www.gutenberg.org/cache...</td>\n",
       "      <td>Text</td>\n",
       "      <td>True</td>\n",
       "    </tr>\n",
       "    <tr>\n",
       "      <th>2</th>\n",
       "      <td>NaN</td>\n",
       "      <td>[en]</td>\n",
       "      <td>The United States Bill of Rights: The Ten Orig...</td>\n",
       "      <td>NaN</td>\n",
       "      <td>193</td>\n",
       "      <td>United States</td>\n",
       "      <td>{Civil rights -- United States -- Sources, Uni...</td>\n",
       "      <td>{JK, KF}</td>\n",
       "      <td>{'image/jpeg': 'http://www.gutenberg.org/cache...</td>\n",
       "      <td>Text</td>\n",
       "      <td>True</td>\n",
       "    </tr>\n",
       "    <tr>\n",
       "      <th>3</th>\n",
       "      <td>1917.0</td>\n",
       "      <td>[en]</td>\n",
       "      <td>John F. Kennedy's Inaugural Address</td>\n",
       "      <td>1963.0</td>\n",
       "      <td>44</td>\n",
       "      <td>Kennedy, John F. (John Fitzgerald)</td>\n",
       "      <td>{Presidents -- United States -- Inaugural addr...</td>\n",
       "      <td>{E838}</td>\n",
       "      <td>{'image/jpeg': 'http://www.gutenberg.org/cache...</td>\n",
       "      <td>Text</td>\n",
       "      <td>True</td>\n",
       "    </tr>\n",
       "    <tr>\n",
       "      <th>4</th>\n",
       "      <td>1809.0</td>\n",
       "      <td>[en]</td>\n",
       "      <td>Lincoln's Gettysburg Address: Given November 1...</td>\n",
       "      <td>1865.0</td>\n",
       "      <td>117</td>\n",
       "      <td>Lincoln, Abraham</td>\n",
       "      <td>{Soldiers' National Cemetery (Gettysburg, Pa.)...</td>\n",
       "      <td>{E456}</td>\n",
       "      <td>{'image/jpeg': 'http://www.gutenberg.org/cache...</td>\n",
       "      <td>Text</td>\n",
       "      <td>True</td>\n",
       "    </tr>\n",
       "    <tr>\n",
       "      <th>5</th>\n",
       "      <td>NaN</td>\n",
       "      <td>[en]</td>\n",
       "      <td>The United States Constitution</td>\n",
       "      <td>NaN</td>\n",
       "      <td>251</td>\n",
       "      <td>United States</td>\n",
       "      <td>{United States. Constitution, United States --...</td>\n",
       "      <td>{JK, KF}</td>\n",
       "      <td>{'application/x-mobipocket-ebook': 'http://www...</td>\n",
       "      <td>Text</td>\n",
       "      <td>True</td>\n",
       "    </tr>\n",
       "  </tbody>\n",
       "</table>\n",
       "</div>"
      ],
      "text/plain": [
       "    authoryearofbirth language  \\\n",
       "id                               \n",
       "1              1743.0     [en]   \n",
       "2                 NaN     [en]   \n",
       "3              1917.0     [en]   \n",
       "4              1809.0     [en]   \n",
       "5                 NaN     [en]   \n",
       "\n",
       "                                                title  authoryearofdeath  \\\n",
       "id                                                                         \n",
       "1   The Declaration of Independence of the United ...             1826.0   \n",
       "2   The United States Bill of Rights: The Ten Orig...                NaN   \n",
       "3                 John F. Kennedy's Inaugural Address             1963.0   \n",
       "4   Lincoln's Gettysburg Address: Given November 1...             1865.0   \n",
       "5                      The United States Constitution                NaN   \n",
       "\n",
       "    downloads                              author  \\\n",
       "id                                                  \n",
       "1         430                   Jefferson, Thomas   \n",
       "2         193                       United States   \n",
       "3          44  Kennedy, John F. (John Fitzgerald)   \n",
       "4         117                    Lincoln, Abraham   \n",
       "5         251                       United States   \n",
       "\n",
       "                                             subjects         LCC  \\\n",
       "id                                                                  \n",
       "1   {United States -- History -- Revolution, 1775-...  {JK, E201}   \n",
       "2   {Civil rights -- United States -- Sources, Uni...    {JK, KF}   \n",
       "3   {Presidents -- United States -- Inaugural addr...      {E838}   \n",
       "4   {Soldiers' National Cemetery (Gettysburg, Pa.)...      {E456}   \n",
       "5   {United States. Constitution, United States --...    {JK, KF}   \n",
       "\n",
       "                                              formats  type  is_english  \n",
       "id                                                                       \n",
       "1   {'image/jpeg': 'http://www.gutenberg.org/cache...  Text        True  \n",
       "2   {'image/jpeg': 'http://www.gutenberg.org/cache...  Text        True  \n",
       "3   {'image/jpeg': 'http://www.gutenberg.org/cache...  Text        True  \n",
       "4   {'image/jpeg': 'http://www.gutenberg.org/cache...  Text        True  \n",
       "5   {'application/x-mobipocket-ebook': 'http://www...  Text        True  "
      ]
     },
     "execution_count": 203,
     "metadata": {},
     "output_type": "execute_result"
    }
   ],
   "source": [
    "df.head()"
   ]
  },
  {
   "cell_type": "code",
   "execution_count": 202,
   "metadata": {},
   "outputs": [
    {
     "data": {
      "text/html": [
       "<div>\n",
       "<style scoped>\n",
       "    .dataframe tbody tr th:only-of-type {\n",
       "        vertical-align: middle;\n",
       "    }\n",
       "\n",
       "    .dataframe tbody tr th {\n",
       "        vertical-align: top;\n",
       "    }\n",
       "\n",
       "    .dataframe thead th {\n",
       "        text-align: right;\n",
       "    }\n",
       "</style>\n",
       "<table border=\"1\" class=\"dataframe\">\n",
       "  <thead>\n",
       "    <tr style=\"text-align: right;\">\n",
       "      <th></th>\n",
       "      <th>authoryearofbirth</th>\n",
       "      <th>language</th>\n",
       "      <th>title</th>\n",
       "      <th>authoryearofdeath</th>\n",
       "      <th>downloads</th>\n",
       "      <th>author</th>\n",
       "      <th>subjects</th>\n",
       "      <th>LCC</th>\n",
       "      <th>formats</th>\n",
       "      <th>type</th>\n",
       "      <th>is_english</th>\n",
       "    </tr>\n",
       "    <tr>\n",
       "      <th>id</th>\n",
       "      <th></th>\n",
       "      <th></th>\n",
       "      <th></th>\n",
       "      <th></th>\n",
       "      <th></th>\n",
       "      <th></th>\n",
       "      <th></th>\n",
       "      <th></th>\n",
       "      <th></th>\n",
       "      <th></th>\n",
       "      <th></th>\n",
       "    </tr>\n",
       "  </thead>\n",
       "  <tbody>\n",
       "    <tr>\n",
       "      <th>100</th>\n",
       "      <td>1564.0</td>\n",
       "      <td>[en]</td>\n",
       "      <td>The Complete Works of William Shakespeare</td>\n",
       "      <td>1616.0</td>\n",
       "      <td>6857</td>\n",
       "      <td>Shakespeare, William</td>\n",
       "      <td>{English drama -- Early modern and Elizabethan...</td>\n",
       "      <td>{PR}</td>\n",
       "      <td>{'image/jpeg': 'http://www.gutenberg.org/cache...</td>\n",
       "      <td>Text</td>\n",
       "      <td>True</td>\n",
       "    </tr>\n",
       "    <tr>\n",
       "      <th>1041</th>\n",
       "      <td>1564.0</td>\n",
       "      <td>[en]</td>\n",
       "      <td>Shakespeare's Sonnets</td>\n",
       "      <td>1616.0</td>\n",
       "      <td>2582</td>\n",
       "      <td>Shakespeare, William</td>\n",
       "      <td>{Sonnets, English, English poetry}</td>\n",
       "      <td>{PR}</td>\n",
       "      <td>{'image/jpeg': 'http://www.gutenberg.org/cache...</td>\n",
       "      <td>Text</td>\n",
       "      <td>True</td>\n",
       "    </tr>\n",
       "    <tr>\n",
       "      <th>1045</th>\n",
       "      <td>1564.0</td>\n",
       "      <td>[en]</td>\n",
       "      <td>Venus and Adonis</td>\n",
       "      <td>1616.0</td>\n",
       "      <td>426</td>\n",
       "      <td>Shakespeare, William</td>\n",
       "      <td>{Adonis (Greek deity) -- Poetry, Venus (Roman ...</td>\n",
       "      <td>{PR}</td>\n",
       "      <td>{'image/jpeg': 'http://www.gutenberg.org/cache...</td>\n",
       "      <td>Text</td>\n",
       "      <td>True</td>\n",
       "    </tr>\n",
       "    <tr>\n",
       "      <th>1100</th>\n",
       "      <td>1564.0</td>\n",
       "      <td>[en]</td>\n",
       "      <td>The First Part of Henry the Sixth</td>\n",
       "      <td>1616.0</td>\n",
       "      <td>28</td>\n",
       "      <td>Shakespeare, William</td>\n",
       "      <td>{Henry VI, King of England, 1421-1471 -- Drama...</td>\n",
       "      <td>{PR}</td>\n",
       "      <td>{'image/jpeg': 'http://www.gutenberg.org/cache...</td>\n",
       "      <td>Text</td>\n",
       "      <td>True</td>\n",
       "    </tr>\n",
       "    <tr>\n",
       "      <th>1101</th>\n",
       "      <td>1564.0</td>\n",
       "      <td>[en]</td>\n",
       "      <td>The Second Part of King Henry the Sixth</td>\n",
       "      <td>1616.0</td>\n",
       "      <td>25</td>\n",
       "      <td>Shakespeare, William</td>\n",
       "      <td>{Henry VI, King of England, 1421-1471 -- Drama...</td>\n",
       "      <td>{PR}</td>\n",
       "      <td>{'image/jpeg': 'http://www.gutenberg.org/cache...</td>\n",
       "      <td>Text</td>\n",
       "      <td>True</td>\n",
       "    </tr>\n",
       "  </tbody>\n",
       "</table>\n",
       "</div>"
      ],
      "text/plain": [
       "      authoryearofbirth language                                      title  \\\n",
       "id                                                                            \n",
       "100              1564.0     [en]  The Complete Works of William Shakespeare   \n",
       "1041             1564.0     [en]                      Shakespeare's Sonnets   \n",
       "1045             1564.0     [en]                           Venus and Adonis   \n",
       "1100             1564.0     [en]          The First Part of Henry the Sixth   \n",
       "1101             1564.0     [en]    The Second Part of King Henry the Sixth   \n",
       "\n",
       "      authoryearofdeath  downloads                author  \\\n",
       "id                                                         \n",
       "100              1616.0       6857  Shakespeare, William   \n",
       "1041             1616.0       2582  Shakespeare, William   \n",
       "1045             1616.0        426  Shakespeare, William   \n",
       "1100             1616.0         28  Shakespeare, William   \n",
       "1101             1616.0         25  Shakespeare, William   \n",
       "\n",
       "                                               subjects   LCC  \\\n",
       "id                                                              \n",
       "100   {English drama -- Early modern and Elizabethan...  {PR}   \n",
       "1041                 {Sonnets, English, English poetry}  {PR}   \n",
       "1045  {Adonis (Greek deity) -- Poetry, Venus (Roman ...  {PR}   \n",
       "1100  {Henry VI, King of England, 1421-1471 -- Drama...  {PR}   \n",
       "1101  {Henry VI, King of England, 1421-1471 -- Drama...  {PR}   \n",
       "\n",
       "                                                formats  type  is_english  \n",
       "id                                                                         \n",
       "100   {'image/jpeg': 'http://www.gutenberg.org/cache...  Text        True  \n",
       "1041  {'image/jpeg': 'http://www.gutenberg.org/cache...  Text        True  \n",
       "1045  {'image/jpeg': 'http://www.gutenberg.org/cache...  Text        True  \n",
       "1100  {'image/jpeg': 'http://www.gutenberg.org/cache...  Text        True  \n",
       "1101  {'image/jpeg': 'http://www.gutenberg.org/cache...  Text        True  "
      ]
     },
     "execution_count": 202,
     "metadata": {},
     "output_type": "execute_result"
    }
   ],
   "source": [
    "import numpy as np\n",
    "authors_works = np.array(df[df.author.str.contains('Shakespeare')].index)\n",
    "df[df.author.str.contains('Shakespeare')].head()"
   ]
  },
  {
   "cell_type": "code",
   "execution_count": 204,
   "metadata": {},
   "outputs": [
    {
     "data": {
      "text/plain": [
       "Text           43095\n",
       "Sound            936\n",
       "Dataset           86\n",
       "Image             32\n",
       "StillImage         3\n",
       "MovingImage        3\n",
       "Name: type, dtype: int64"
      ]
     },
     "execution_count": 204,
     "metadata": {},
     "output_type": "execute_result"
    }
   ],
   "source": [
    "df.type.value_counts()"
   ]
  },
  {
   "cell_type": "code",
   "execution_count": 205,
   "metadata": {},
   "outputs": [],
   "source": [
    "# Drop all non-text entries (audio)\n",
    "df = df.drop(df[df.type != 'Text'].index)"
   ]
  },
  {
   "cell_type": "code",
   "execution_count": 206,
   "metadata": {},
   "outputs": [
    {
     "data": {
      "text/plain": [
       "Text    43095\n",
       "Name: type, dtype: int64"
      ]
     },
     "execution_count": 206,
     "metadata": {},
     "output_type": "execute_result"
    }
   ],
   "source": [
    "df.type.value_counts()"
   ]
  }
 ],
 "metadata": {
  "kernelspec": {
   "display_name": "255-data-mining",
   "language": "python",
   "name": "255-data-mining"
  },
  "language_info": {
   "codemirror_mode": {
    "name": "ipython",
    "version": 3
   },
   "file_extension": ".py",
   "mimetype": "text/x-python",
   "name": "python",
   "nbconvert_exporter": "python",
   "pygments_lexer": "ipython3",
   "version": "3.6.9"
  }
 },
 "nbformat": 4,
 "nbformat_minor": 2
}
